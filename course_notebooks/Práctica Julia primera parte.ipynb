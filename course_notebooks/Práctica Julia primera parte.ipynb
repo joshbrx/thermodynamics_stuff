{
 "cells": [
  {
   "cell_type": "markdown",
   "id": "b2b582e6",
   "metadata": {},
   "source": [
    "# Notebook de práctica parte 1\n",
    "\n",
    "Este notebook es sólo para que agarren práctica en Julia. No cuenta para la calificación, pero les servirá como una primera práctica. Luego subo un notebook más.  \n",
    "\n",
    "Si se sienten ya expertos en Julia, tómenlo como un auto-test ;-)!!"
   ]
  },
  {
   "cell_type": "markdown",
   "id": "7c03bcd0",
   "metadata": {},
   "source": [
    "# Operaciones básicas\n",
    "\n",
    "Esta sección se trata de usar Julia como una calculadora. Notarás que con un poco de ingenio, sin usar nada tan especial puedes hacer cálculos bastante sofisticados. \n",
    "\n",
    "Haz los siguientes ejercicios **sin usar ciclos, condicionales, funciones, ni paqueterías excepto LinearAlgebra.** \n",
    "\n",
    "[1] Comienza por hacer varias operaciones sencillas. Suma, resta, multiplica, divide y saca potencias de números flotantes, números complejos, fracciones, etc... También prueba qué pasa con funciones trigonométricas, la exponencial, etc. "
   ]
  },
  {
   "cell_type": "code",
   "execution_count": null,
   "id": "23c844a1",
   "metadata": {},
   "outputs": [],
   "source": []
  },
  {
   "cell_type": "markdown",
   "id": "9fbd078e",
   "metadata": {},
   "source": [
    "[2] Ahora prueba hacer las mismas operaciones, pero con listas de números y con matrices en vez de con números. Utiliza \".\" para poder mapear la operación sobre todos los valores de las listas. Compara qué sucede si no se utiliza el \".\". \n",
    "\n",
    "¿Cuál es la diferencia entre sin.(A) y sin(A) si A es una matriz?"
   ]
  },
  {
   "cell_type": "code",
   "execution_count": null,
   "id": "cab12e27",
   "metadata": {},
   "outputs": [],
   "source": []
  },
  {
   "cell_type": "code",
   "execution_count": null,
   "id": "cc2d9b63",
   "metadata": {},
   "outputs": [],
   "source": []
  },
  {
   "cell_type": "markdown",
   "id": "3308d665",
   "metadata": {},
   "source": [
    "[3] Obtén el valor de $$ \\sum_{i = 0}^{10,000,000} \\frac{4(-1)^i}{2i+1}$$ ¿Lo reconoces? "
   ]
  },
  {
   "cell_type": "code",
   "execution_count": null,
   "id": "aa2234a0",
   "metadata": {},
   "outputs": [],
   "source": []
  },
  {
   "cell_type": "markdown",
   "id": "5f7a753a",
   "metadata": {},
   "source": [
    "[4] Resuelve el siguiente sistema de ecuaciones lineales: \n",
    "\n",
    "$$ 2x+y-z = 5 $$\n",
    "$$ x-y+z = 3 $$\n",
    "$$ -x-y-z = 0 $$\n",
    "\n",
    "usa la paquetería **LinearAlgebra**\n",
    "\n",
    "hint: Hay varias formas de resolver el sistema, la más eficiente es usar el operador \"\\ \"."
   ]
  },
  {
   "cell_type": "code",
   "execution_count": null,
   "id": "466b6ca0",
   "metadata": {},
   "outputs": [],
   "source": []
  },
  {
   "cell_type": "markdown",
   "id": "83ed96ef",
   "metadata": {},
   "source": [
    "[5] Descompon la matriz del sistema de ecuaciones anteriores en valores singulares (si no sabes qué es eso revisa: https://en.wikipedia.org/wiki/Singular_value_decomposition). \n",
    "\n",
    "Obtén además los eigenvectores de las matrices unitarias de la descomposición (¿Qué representan los eigenvectores que se forman de sólo valores reales?)"
   ]
  },
  {
   "cell_type": "code",
   "execution_count": null,
   "id": "7740dbd1",
   "metadata": {},
   "outputs": [],
   "source": []
  },
  {
   "cell_type": "code",
   "execution_count": null,
   "id": "bf12acc6",
   "metadata": {},
   "outputs": [],
   "source": []
  },
  {
   "cell_type": "code",
   "execution_count": null,
   "id": "f9cad8ed",
   "metadata": {},
   "outputs": [],
   "source": []
  },
  {
   "cell_type": "markdown",
   "id": "9c16e59d",
   "metadata": {},
   "source": [
    "[6] Los números duales son de la forma $x = a + b\\epsilon$ donde $\\epsilon$ es un número (no real) con la propiedad $\\epsilon^2 = 0$. Algo similar a lo que sucede con los números complejos, donde cada número complejo se puede escribir de la forma $a+bi$ donde $i$ tiene la propiedad $i^2 = -1$. \n",
    "\n",
    "Por lo tanto $x^2 = a^2+ 2ab\\epsilon$ y en general $x^n = a^n + na^{n-1} b \\epsilon$, pues todas las potencias mayores a $1$ de $\\epsilon$ se vuelven 0. Esto implica que un polinomio $P_n(x) = p_n x^n+\\dots + p_1 x + p_0 = p_n (a^n + na^{n-1} b \\epsilon)+\\dots+ p_1 (a + b\\epsilon) + p_0 = P_n(a)+P'_n(b)\\epsilon$. Es decir, cualquier polinomio (y por lo tanto cualquier función que se pueda descomponer en su polinomio de Tylor) aplicado a un número dual nos arroja un número dual conformado por el polinomio (función) aplicado a la parte real del número + la diferencial del polinomio (función) aplicado a la parte diferencial del número multiplicado por $\\epsilon$. \n",
    "\n",
    "Podemos ver los números duales como matrices de la forma:\n",
    "\n",
    "$$\n",
    "x = \n",
    "\\begin{pmatrix}\n",
    "a & b\\\\\n",
    "0 & a\n",
    "\\end{pmatrix}\n",
    "$$\n",
    "\n",
    "donde $a$ representa la parte real y $b$ la parte diferencial. Al elevar al cuadrado $x$, tendremos en la diagonal $a^2$ y en la esquina superior derecha $2ab$, cumpliendo con la regla de diferenciación. Por lo tanto, podemos obtener la derivada de una función evaluada en $a$, aplicando la función a la matriz:\n",
    "\n",
    "$$\n",
    "x = \n",
    "\\begin{pmatrix}\n",
    "a & 1\\\\\n",
    "0 & a\n",
    "\\end{pmatrix}\n",
    "$$\n",
    "\n",
    "y quedándonos con el valor de la esquina superior derecha de la matriz. \n",
    "\n",
    "Usando esto, obtén la derivada (automática) de $\\sin(x)$ evaluado en 1.5, $\\tan(\\exp(1/x))$ evaluado en 2 y $\\frac{x^3-\\sinh(x)}{\\sqrt{\\cos^2(x)-\\sec(x)}}$ evaluado en 3\n",
    "\n",
    "\n"
   ]
  },
  {
   "cell_type": "code",
   "execution_count": null,
   "id": "f3ef1bd7",
   "metadata": {},
   "outputs": [],
   "source": []
  },
  {
   "cell_type": "code",
   "execution_count": null,
   "id": "bb8fe67c",
   "metadata": {},
   "outputs": [],
   "source": []
  },
  {
   "cell_type": "code",
   "execution_count": null,
   "id": "c003e232",
   "metadata": {},
   "outputs": [],
   "source": []
  },
  {
   "cell_type": "markdown",
   "id": "66909387",
   "metadata": {},
   "source": [
    "[7] Usa notación compacta (es decir, de la forma [i^2 for i in 1:100] para escribir el conjunto $\\{i^2 | i \\in \\{1,2,\\dots, 100\\}\\}$) para hacer un arreglo de $10^6$ elementos, de $0$'s y $1$'s, donde el elemento $i$ del arrego sea 1 si $i$ es un número primo o $1$ y $0$ en otro caso. No puedes crear funciones y debe ser una sola línea de código.\n",
    "\n",
    "Obtén (en otra línea) con este resultado cuántos números primos hay entre uno y un millón.  "
   ]
  },
  {
   "cell_type": "code",
   "execution_count": null,
   "id": "c544b791",
   "metadata": {},
   "outputs": [],
   "source": []
  },
  {
   "cell_type": "code",
   "execution_count": null,
   "id": "183b52f3",
   "metadata": {},
   "outputs": [],
   "source": []
  },
  {
   "cell_type": "markdown",
   "id": "7e00d07c",
   "metadata": {},
   "source": [
    "# Funciones  y condicionales\n",
    "\n",
    "Julia se compone de objetos (sugetos de las oraciones) y funciones (los verbos). Más adelante veremos cómo hacer objetos, por ahora utilizaremos los que tiene pre-existentes Julia para hacer funciones que los operen. \n",
    "\n",
    "En general, a la hora de programar, conviene tener funciones pequeñas (1-20 líneas). Hay algunas excepciones, pero si una función tienen más de 20 líneas es probablemente porque debían descomponerla en varias funciones más pequeñas. Parte de la elegancia al programar, es justamente descomponer todo en funciones pequeñas. Así que cada vez que tengan más de 20 líneas de código en una función, pregúntense si no pueden descomponerla en varias funciones con menos código.\n",
    "\n",
    "En esta sección practicarán el hacer varias funciones. En lo que sigue **eviten utilizar ciclos para sus definiciones**, eso vendrá en la siguiente sección. \n",
    "\n",
    "[1] Haz una función que calcule el número de primos menores que $x$, con $x$ un número real cualquiera. Utiliza lo que hiciste en el ejercicio 7."
   ]
  },
  {
   "cell_type": "code",
   "execution_count": null,
   "id": "f83cd6b0",
   "metadata": {},
   "outputs": [],
   "source": []
  },
  {
   "cell_type": "markdown",
   "id": "3e6aefa8",
   "metadata": {},
   "source": [
    "[2] Haz una función que calcule el número de primos relativos a $i$ y menores que $i$, donde $i$ es un número entero positivo. Es decir, haz la función $\\phi$ de Euler de los números primos. "
   ]
  },
  {
   "cell_type": "code",
   "execution_count": null,
   "id": "9dd55d1f",
   "metadata": {},
   "outputs": [],
   "source": []
  },
  {
   "cell_type": "markdown",
   "id": "34ac7b81",
   "metadata": {},
   "source": [
    "[3] Haz una función que tenga como argumentos una función $f$ y un valor real $x$ y que usando los números duales calcule  $\\frac{df(x)}{dx}$. "
   ]
  },
  {
   "cell_type": "code",
   "execution_count": null,
   "id": "6c4cb957",
   "metadata": {},
   "outputs": [],
   "source": []
  },
  {
   "cell_type": "markdown",
   "id": "17fc5c27",
   "metadata": {},
   "source": [
    "[4] Utiliza la función anterior para obtener la derivada parcial de una función vectorial con respecto a una variable. También obten el Jacobiano y el gradiente. "
   ]
  },
  {
   "cell_type": "code",
   "execution_count": null,
   "id": "3289bcef",
   "metadata": {},
   "outputs": [],
   "source": [
    "    "
   ]
  },
  {
   "cell_type": "code",
   "execution_count": null,
   "id": "ff0bc4b9",
   "metadata": {},
   "outputs": [],
   "source": []
  },
  {
   "cell_type": "code",
   "execution_count": null,
   "id": "4d0bb4f4",
   "metadata": {},
   "outputs": [],
   "source": []
  },
  {
   "cell_type": "markdown",
   "id": "7eb35837",
   "metadata": {},
   "source": [
    "[5] (en este ejercicio usarás el condicional if) Una forma efectiva (la más efectiva) de aproximar los números irracionales es mediante fracciones continuas, es decir, fracciones de la forma $x = a_0+\\frac{1}{a_1+\\frac{1}{a_2 +\\dots}}$. Así, estas fracciones se pueden escribir usando la lista de los $a_i$. En el caso de los números irracionales, esta lista es infinita, pero se puede aproximar por los primeros $n$ elementos y con ello obtener una fracción que aproxime bien al irracional. Por ejemplo, $\\sqrt{2} = [1,2,2,2,2,2,\\dots]\\sim [1,2,2,2] = \\frac{17/12} \\sim 1.41667$. \n",
    " \n",
    "Para obtener la fracción continua, notemos que al restar el valor de $a_0$, que es simplemente la parte entera del número, al número del que queremos obtener su fracción continua, tenemos una fracción de la froma $\\frac{1}{a_1+\\frac{1}{a_2+\\dots}}$. Al sacar el inverso de esto tenemos otra vez una fracción de la forma $a_1+\\frac{1}{a_2+\\frac{1}{a_3 +\\dots}}$, así que podemos volver a obtener $a_1$ simplemente con la parte entera. Repitiendo esto $n$ veces, podemos obtener los primeros $n$ elementos de la fracción continua. \n",
    "\n",
    "Haz una función que dado un número, el número y el número de iteraciones, arroje la fracción continua aproximada (la lista de $a$'s) con $n$ valores. También haz una función que dada la lista, regrese la fracción reducida correspondiente a la fracción continua aproximada (utiliza racionales).  \n",
    "\n",
    "Con estas funciones obtén las primeras 10 aproximaciones (en formato de fracción) a $\\pi$ (utiliza notación compacta para obtenerlas). "
   ]
  },
  {
   "cell_type": "code",
   "execution_count": null,
   "id": "0876ed8d",
   "metadata": {},
   "outputs": [],
   "source": []
  },
  {
   "cell_type": "code",
   "execution_count": null,
   "id": "16f87cd9",
   "metadata": {},
   "outputs": [],
   "source": []
  },
  {
   "cell_type": "markdown",
   "id": "af743232",
   "metadata": {},
   "source": [
    "[6] Un mapeo es una función tal que $f:I\\rightarrow I$. Entre los mapeos en los reales, es interesante encontrar tanto puntos fijos, como ciclos límite. Por ejemplo, en el mapeo logístico $f(x) = rx(1-x)$ que va del intervalo $[0,1]$ al intervalo $[0,1]$ si $r\\in [0,4]$, nos interesa saber a qué valores se llega después de aplicar muchas veces el mapeo, es decir queremos responde ¿$f^\\inf(x)$ exite? y si existe ¿qué valor es? (¿depende de x?). Para algunos valores de $r$ este valor existe y es \"casi\" independiente de $x$, para otros valores no existe, pero en cambio existe un ciclo límite, es decir, después de muchas iteraciones, los valores de $f^n(x)$ se repiten cada $m$ iteraciones. \n",
    "\n",
    "Haz una función que dado $n$, $r$ y $x$, obtenga $f^n(x)$ con $f$ el mapeo logístico."
   ]
  },
  {
   "cell_type": "code",
   "execution_count": null,
   "id": "3ee4c553",
   "metadata": {},
   "outputs": [],
   "source": []
  },
  {
   "cell_type": "markdown",
   "id": "36b63693",
   "metadata": {},
   "source": [
    "[7] Como vimos en el ejercicio anterior, algunos mapeos se pueden iterar para obtener la solución de la ecuación $f(x) = x$, que es un punto fijo de dicho mapeo. Esta propiedad se puede usar para generar un algoritmo que resuelva cualquier ecuación algebráica de la forma $f(x) = 0$. El truco para encontrar el mapeo adecuado consiste en aproximar la función $f$ al rededor de $x$ por su recta tangente. Encontrar la solución de la intersección de una recta con el eje $x$ es sencillo (y lo podemos hacer analíticamente), así que como una primera aproximación a la solución de $f(x) = 0$ obtenemos esa intersección, lo que nos acercará (normalmente) al valor de la solución real. El mapeo que obtiene la recta tangente a $f$ al rededor de $x$ y que después obtiene la intersección con el eje $x$ es el mapeo que buscamos. Iterando este mapeo, podemos llegar a un punto fijo $x_\\inf$ que es justamente una solución a $f(x) = 0$. Este es el algoritmo Newton-Raphson. \n",
    "\n",
    "Utiliza esta idea para hacer una función que obtenga la solución de la ecuación $f(x) = 0$, dado $f$, una adivinanza inicial $x = x_0$ y una tolerancia, prefijada en $0.001$. La tolerancia representa la distancia entre la solución a la ecuación y el valor obtenido. "
   ]
  },
  {
   "cell_type": "code",
   "execution_count": null,
   "id": "bd97437b",
   "metadata": {},
   "outputs": [],
   "source": []
  },
  {
   "cell_type": "markdown",
   "id": "13bbe13b",
   "metadata": {},
   "source": [
    "[8] Generaliza la función anterior para que tu solucionador pueda resolver sistemas de ecuaciones algebráicas no lineales.  "
   ]
  },
  {
   "cell_type": "code",
   "execution_count": null,
   "id": "065962c7",
   "metadata": {},
   "outputs": [],
   "source": []
  }
 ],
 "metadata": {
  "kernelspec": {
   "display_name": "Julia 1.7.2",
   "language": "julia",
   "name": "julia-1.7"
  },
  "language_info": {
   "file_extension": ".jl",
   "mimetype": "application/julia",
   "name": "julia",
   "version": "1.7.2"
  }
 },
 "nbformat": 4,
 "nbformat_minor": 5
}
