{
 "cells": [
  {
   "cell_type": "markdown",
   "id": "b2b582e6",
   "metadata": {},
   "source": [
    "# Notebook de práctica parte 1\n",
    "\n",
    "Este notebook es sólo para que agarren práctica en Julia. No cuenta para la calificación, pero les servirá como una primera práctica. Luego subo un notebook más.  \n",
    "\n",
    "Si se sienten ya expertos en Julia, tómenlo como un auto-test ;-)!!"
   ]
  },
  {
   "cell_type": "markdown",
   "id": "7c03bcd0",
   "metadata": {},
   "source": [
    "# Operaciones básicas\n",
    "\n",
    "Esta sección se trata de usar Julia como una calculadora. Notarás que con un poco de ingenio, sin usar nada tan especial puedes hacer cálculos bastante sofisticados. \n",
    "\n",
    "Haz los siguientes ejercicios **sin usar ciclos, condicionales, funciones, ni paqueterías excepto LinearAlgebra.** \n",
    "\n",
    "[1] Comienza por hacer varias operaciones sencillas. Suma, resta, multiplica, divide y saca potencias de números flotantes, números complejos, fracciones, etc... También prueba qué pasa con funciones trigonométricas, la exponencial, etc. "
   ]
  },
  {
   "cell_type": "code",
   "execution_count": 1,
   "id": "23c844a1",
   "metadata": {},
   "outputs": [
    {
     "data": {
      "text/plain": [
       "(3, 1.5, 81, -14 + 4im)"
      ]
     },
     "execution_count": 1,
     "metadata": {},
     "output_type": "execute_result"
    }
   ],
   "source": [
    "1+2, 3/2, 9*9, (2 +7im)*2im"
   ]
  },
  {
   "cell_type": "markdown",
   "id": "9fbd078e",
   "metadata": {},
   "source": [
    "[2] Ahora prueba hacer las mismas operaciones, pero con listas de números y con matrices en vez de con números. Utiliza \".\" para poder mapear la operación sobre todos los valores de las listas. Compara qué sucede si no se utiliza el \".\". \n",
    "\n",
    "¿Cuál es la diferencia entre sin.(A) y sin(A) si A es una matriz?"
   ]
  },
  {
   "cell_type": "code",
   "execution_count": 2,
   "id": "cab12e27",
   "metadata": {},
   "outputs": [
    {
     "data": {
      "text/plain": [
       "3×3 Matrix{Int64}:\n",
       " 1  2  3\n",
       " 4  5  6\n",
       " 7  8  9"
      ]
     },
     "execution_count": 2,
     "metadata": {},
     "output_type": "execute_result"
    }
   ],
   "source": [
    "A = [1 2 3; 4 5 6; 7 8 9]"
   ]
  },
  {
   "cell_type": "code",
   "execution_count": 3,
   "id": "cc2d9b63",
   "metadata": {},
   "outputs": [
    {
     "data": {
      "text/plain": [
       "3×3 Matrix{Float64}:\n",
       " -0.692791  -0.23059     0.231611\n",
       " -0.172432  -0.143353   -0.114274\n",
       "  0.347927  -0.0561161  -0.460159"
      ]
     },
     "execution_count": 3,
     "metadata": {},
     "output_type": "execute_result"
    }
   ],
   "source": [
    "sin(A)"
   ]
  },
  {
   "cell_type": "code",
   "execution_count": 4,
   "id": "d0d924df",
   "metadata": {},
   "outputs": [
    {
     "data": {
      "text/plain": [
       "3×3 Matrix{Float64}:\n",
       "  0.841471   0.909297   0.14112\n",
       " -0.756802  -0.958924  -0.279415\n",
       "  0.656987   0.989358   0.412118"
      ]
     },
     "execution_count": 4,
     "metadata": {},
     "output_type": "execute_result"
    }
   ],
   "source": [
    "sin.(A)"
   ]
  },
  {
   "cell_type": "markdown",
   "id": "3308d665",
   "metadata": {},
   "source": [
    "[3] Obtén el valor de $$ \\sum_{i = 0}^{10,000,000} \\frac{4(-1)^i}{2i+1}$$ ¿Lo reconoces? "
   ]
  },
  {
   "cell_type": "code",
   "execution_count": 5,
   "id": "820fc726",
   "metadata": {},
   "outputs": [],
   "source": [
    "using LinearAlgebra, Plots"
   ]
  },
  {
   "cell_type": "code",
   "execution_count": 6,
   "id": "aa2234a0",
   "metadata": {},
   "outputs": [
    {
     "data": {
      "text/plain": [
       "100000001-element Vector{Int64}:\n",
       "         0\n",
       "         1\n",
       "         2\n",
       "         3\n",
       "         4\n",
       "         5\n",
       "         6\n",
       "         7\n",
       "         8\n",
       "         9\n",
       "        10\n",
       "        11\n",
       "        12\n",
       "         ⋮\n",
       "  99999989\n",
       "  99999990\n",
       "  99999991\n",
       "  99999992\n",
       "  99999993\n",
       "  99999994\n",
       "  99999995\n",
       "  99999996\n",
       "  99999997\n",
       "  99999998\n",
       "  99999999\n",
       " 100000000"
      ]
     },
     "execution_count": 6,
     "metadata": {},
     "output_type": "execute_result"
    }
   ],
   "source": [
    "arr = collect(0:1:10^8)"
   ]
  },
  {
   "cell_type": "code",
   "execution_count": 7,
   "id": "461fc6cc",
   "metadata": {},
   "outputs": [
    {
     "data": {
      "text/plain": [
       "my_sum (generic function with 2 methods)"
      ]
     },
     "execution_count": 7,
     "metadata": {},
     "output_type": "execute_result"
    }
   ],
   "source": [
    "function my_sum(x::Int)\n",
    "    s1 = 4*(-1)^(x % 2)\n",
    "    s2 = 2*x + 1\n",
    "    s3 = s1/s2\n",
    "end\n",
    "\n",
    "function my_sum(x::Vector{Int})\n",
    "    sum(my_sum.(x))\n",
    "end"
   ]
  },
  {
   "cell_type": "code",
   "execution_count": 8,
   "id": "6a4c2666",
   "metadata": {},
   "outputs": [
    {
     "data": {
      "text/plain": [
       "3.141592663589793"
      ]
     },
     "execution_count": 8,
     "metadata": {},
     "output_type": "execute_result"
    }
   ],
   "source": [
    "my_sum(arr)"
   ]
  },
  {
   "cell_type": "code",
   "execution_count": 9,
   "id": "05854b98",
   "metadata": {},
   "outputs": [
    {
     "data": {
      "text/plain": [
       "π = 3.1415926535897..."
      ]
     },
     "execution_count": 9,
     "metadata": {},
     "output_type": "execute_result"
    }
   ],
   "source": [
    "π"
   ]
  },
  {
   "cell_type": "code",
   "execution_count": 10,
   "id": "8a403344",
   "metadata": {},
   "outputs": [
    {
     "data": {
      "text/plain": [
       "0"
      ]
     },
     "execution_count": 10,
     "metadata": {},
     "output_type": "execute_result"
    }
   ],
   "source": [
    "8 % 2"
   ]
  },
  {
   "cell_type": "markdown",
   "id": "5f7a753a",
   "metadata": {},
   "source": [
    "[4] Resuelve el siguiente sistema de ecuaciones lineales: \n",
    "\n",
    "$$ 2x+y-z = 5 $$\n",
    "$$ x-y+z = 3 $$\n",
    "$$ -x-y-z = 0 $$\n",
    "\n",
    "usa la paquetería **LinearAlgebra**\n",
    "\n",
    "hint: Hay varias formas de resolver el sistema, la más eficiente es usar el operador \"\\ \"."
   ]
  },
  {
   "cell_type": "code",
   "execution_count": 11,
   "id": "466b6ca0",
   "metadata": {},
   "outputs": [
    {
     "data": {
      "text/plain": [
       "3-element Vector{Rational{Int64}}:\n",
       "  8//3\n",
       " -3//2\n",
       " -7//6"
      ]
     },
     "execution_count": 11,
     "metadata": {},
     "output_type": "execute_result"
    }
   ],
   "source": [
    "B = [2  1 -1; \n",
    "     1 -1  1; \n",
    "    -1 -1 -1//1]\n",
    "c = [5, 3, 0//1]\n",
    "B\\c"
   ]
  },
  {
   "cell_type": "markdown",
   "id": "83ed96ef",
   "metadata": {},
   "source": [
    "[5] Descompon la matriz del sistema de ecuaciones anteriores en valores singulares (si no sabes qué es eso revisa: https://en.wikipedia.org/wiki/Singular_value_decomposition). \n",
    "\n",
    "Obtén además los eigenvectores de las matrices unitarias de la descomposición (¿Qué representan los eigenvectores que se forman de sólo valores reales?)"
   ]
  },
  {
   "cell_type": "code",
   "execution_count": 12,
   "id": "ecad254d",
   "metadata": {},
   "outputs": [
    {
     "name": "stdout",
     "output_type": "stream",
     "text": [
      "search: \u001b[0m\u001b[1ms\u001b[22m\u001b[0m\u001b[1mv\u001b[22m\u001b[0m\u001b[1md\u001b[22m \u001b[0m\u001b[1ms\u001b[22m\u001b[0m\u001b[1mv\u001b[22m\u001b[0m\u001b[1md\u001b[22m! \u001b[0m\u001b[1mS\u001b[22m\u001b[0m\u001b[1mV\u001b[22m\u001b[0m\u001b[1mD\u001b[22m \u001b[0m\u001b[1ms\u001b[22m\u001b[0m\u001b[1mv\u001b[22m\u001b[0m\u001b[1md\u001b[22mvals \u001b[0m\u001b[1ms\u001b[22m\u001b[0m\u001b[1mv\u001b[22m\u001b[0m\u001b[1md\u001b[22mvals! Generalized\u001b[0m\u001b[1mS\u001b[22m\u001b[0m\u001b[1mV\u001b[22m\u001b[0m\u001b[1mD\u001b[22m i\u001b[0m\u001b[1ms\u001b[22m\u001b[0m\u001b[1mv\u001b[22mali\u001b[0m\u001b[1md\u001b[22m Chole\u001b[0m\u001b[1ms\u001b[22mkyPi\u001b[0m\u001b[1mv\u001b[22mote\u001b[0m\u001b[1md\u001b[22m\n",
      "\n"
     ]
    },
    {
     "data": {
      "text/latex": [
       "\\begin{verbatim}\n",
       "svd(A; full::Bool = false, alg::Algorithm = default_svd_alg(A)) -> SVD\n",
       "\\end{verbatim}\n",
       "Compute the singular value decomposition (SVD) of \\texttt{A} and return an \\texttt{SVD} object.\n",
       "\n",
       "\\texttt{U}, \\texttt{S}, \\texttt{V} and \\texttt{Vt} can be obtained from the factorization \\texttt{F} with \\texttt{F.U}, \\texttt{F.S}, \\texttt{F.V} and \\texttt{F.Vt}, such that \\texttt{A = U * Diagonal(S) * Vt}. The algorithm produces \\texttt{Vt} and hence \\texttt{Vt} is more efficient to extract than \\texttt{V}. The singular values in \\texttt{S} are sorted in descending order.\n",
       "\n",
       "Iterating the decomposition produces the components \\texttt{U}, \\texttt{S}, and \\texttt{V}.\n",
       "\n",
       "If \\texttt{full = false} (default), a \"thin\" SVD is returned. For an $M \\times N$ matrix \\texttt{A}, in the full factorization \\texttt{U} is $M \\times M$ and \\texttt{V} is $N \\times N$, while in the thin factorization \\texttt{U} is $M \\times K$ and \\texttt{V} is $N \\times K$, where $K = \\min(M,N)$ is the number of singular values.\n",
       "\n",
       "If \\texttt{alg = DivideAndConquer()} a divide-and-conquer algorithm is used to calculate the SVD. Another (typically slower but more accurate) option is \\texttt{alg = QRIteration()}.\n",
       "\n",
       "\\begin{quote}\n",
       "\\textbf{compat}\n",
       "\n",
       "Julia 1.3\n",
       "\n",
       "The \\texttt{alg} keyword argument requires Julia 1.3 or later.\n",
       "\n",
       "\\end{quote}\n",
       "\\section{Examples}\n",
       "\\begin{verbatim}\n",
       "julia> A = rand(4,3);\n",
       "\n",
       "julia> F = svd(A); # Store the Factorization Object\n",
       "\n",
       "julia> A ≈ F.U * Diagonal(F.S) * F.Vt\n",
       "true\n",
       "\n",
       "julia> U, S, V = F; # destructuring via iteration\n",
       "\n",
       "julia> A ≈ U * Diagonal(S) * V'\n",
       "true\n",
       "\n",
       "julia> Uonly, = svd(A); # Store U only\n",
       "\n",
       "julia> Uonly == U\n",
       "true\n",
       "\\end{verbatim}\n",
       "\\rule{\\textwidth}{1pt}\n",
       "\\begin{verbatim}\n",
       "svd(A, B) -> GeneralizedSVD\n",
       "\\end{verbatim}\n",
       "Compute the generalized SVD of \\texttt{A} and \\texttt{B}, returning a \\texttt{GeneralizedSVD} factorization object \\texttt{F} such that \\texttt{[A;B] = [F.U * F.D1; F.V * F.D2] * F.R0 * F.Q'}\n",
       "\n",
       "\\begin{itemize}\n",
       "\\item \\texttt{U} is a M-by-M orthogonal matrix,\n",
       "\n",
       "\n",
       "\\item \\texttt{V} is a P-by-P orthogonal matrix,\n",
       "\n",
       "\n",
       "\\item \\texttt{Q} is a N-by-N orthogonal matrix,\n",
       "\n",
       "\n",
       "\\item \\texttt{D1} is a M-by-(K+L) diagonal matrix with 1s in the first K entries,\n",
       "\n",
       "\n",
       "\\item \\texttt{D2} is a P-by-(K+L) matrix whose top right L-by-L block is diagonal,\n",
       "\n",
       "\n",
       "\\item \\texttt{R0} is a (K+L)-by-N matrix whose rightmost (K+L)-by-(K+L) block is          nonsingular upper block triangular,\n",
       "\n",
       "\\end{itemize}\n",
       "\\texttt{K+L} is the effective numerical rank of the matrix \\texttt{[A; B]}.\n",
       "\n",
       "Iterating the decomposition produces the components \\texttt{U}, \\texttt{V}, \\texttt{Q}, \\texttt{D1}, \\texttt{D2}, and \\texttt{R0}.\n",
       "\n",
       "The generalized SVD is used in applications such as when one wants to compare how much belongs to \\texttt{A} vs. how much belongs to \\texttt{B}, as in human vs yeast genome, or signal vs noise, or between clusters vs within clusters. (See Edelman and Wang for discussion: https://arxiv.org/abs/1901.00485)\n",
       "\n",
       "It decomposes \\texttt{[A; B]} into \\texttt{[UC; VS]H}, where \\texttt{[UC; VS]} is a natural orthogonal basis for the column space of \\texttt{[A; B]}, and \\texttt{H = RQ'} is a natural non-orthogonal basis for the rowspace of \\texttt{[A;B]}, where the top rows are most closely attributed to the \\texttt{A} matrix, and the bottom to the \\texttt{B} matrix. The multi-cosine/sine matrices \\texttt{C} and \\texttt{S} provide a multi-measure of how much \\texttt{A} vs how much \\texttt{B}, and \\texttt{U} and \\texttt{V} provide directions in which these are measured.\n",
       "\n",
       "\\section{Examples}\n",
       "\\begin{verbatim}\n",
       "julia> A = randn(3,2); B=randn(4,2);\n",
       "\n",
       "julia> F = svd(A, B);\n",
       "\n",
       "julia> U,V,Q,C,S,R = F;\n",
       "\n",
       "julia> H = R*Q';\n",
       "\n",
       "julia> [A; B] ≈ [U*C; V*S]*H\n",
       "true\n",
       "\n",
       "julia> [A; B] ≈ [F.U*F.D1; F.V*F.D2]*F.R0*F.Q'\n",
       "true\n",
       "\n",
       "julia> Uonly, = svd(A,B);\n",
       "\n",
       "julia> U == Uonly\n",
       "true\n",
       "\\end{verbatim}\n"
      ],
      "text/markdown": [
       "```\n",
       "svd(A; full::Bool = false, alg::Algorithm = default_svd_alg(A)) -> SVD\n",
       "```\n",
       "\n",
       "Compute the singular value decomposition (SVD) of `A` and return an `SVD` object.\n",
       "\n",
       "`U`, `S`, `V` and `Vt` can be obtained from the factorization `F` with `F.U`, `F.S`, `F.V` and `F.Vt`, such that `A = U * Diagonal(S) * Vt`. The algorithm produces `Vt` and hence `Vt` is more efficient to extract than `V`. The singular values in `S` are sorted in descending order.\n",
       "\n",
       "Iterating the decomposition produces the components `U`, `S`, and `V`.\n",
       "\n",
       "If `full = false` (default), a \"thin\" SVD is returned. For an $M \\times N$ matrix `A`, in the full factorization `U` is $M \\times M$ and `V` is $N \\times N$, while in the thin factorization `U` is $M \\times K$ and `V` is $N \\times K$, where $K = \\min(M,N)$ is the number of singular values.\n",
       "\n",
       "If `alg = DivideAndConquer()` a divide-and-conquer algorithm is used to calculate the SVD. Another (typically slower but more accurate) option is `alg = QRIteration()`.\n",
       "\n",
       "!!! compat \"Julia 1.3\"\n",
       "    The `alg` keyword argument requires Julia 1.3 or later.\n",
       "\n",
       "\n",
       "# Examples\n",
       "\n",
       "```jldoctest\n",
       "julia> A = rand(4,3);\n",
       "\n",
       "julia> F = svd(A); # Store the Factorization Object\n",
       "\n",
       "julia> A ≈ F.U * Diagonal(F.S) * F.Vt\n",
       "true\n",
       "\n",
       "julia> U, S, V = F; # destructuring via iteration\n",
       "\n",
       "julia> A ≈ U * Diagonal(S) * V'\n",
       "true\n",
       "\n",
       "julia> Uonly, = svd(A); # Store U only\n",
       "\n",
       "julia> Uonly == U\n",
       "true\n",
       "```\n",
       "\n",
       "---\n",
       "\n",
       "```\n",
       "svd(A, B) -> GeneralizedSVD\n",
       "```\n",
       "\n",
       "Compute the generalized SVD of `A` and `B`, returning a `GeneralizedSVD` factorization object `F` such that `[A;B] = [F.U * F.D1; F.V * F.D2] * F.R0 * F.Q'`\n",
       "\n",
       "  * `U` is a M-by-M orthogonal matrix,\n",
       "  * `V` is a P-by-P orthogonal matrix,\n",
       "  * `Q` is a N-by-N orthogonal matrix,\n",
       "  * `D1` is a M-by-(K+L) diagonal matrix with 1s in the first K entries,\n",
       "  * `D2` is a P-by-(K+L) matrix whose top right L-by-L block is diagonal,\n",
       "  * `R0` is a (K+L)-by-N matrix whose rightmost (K+L)-by-(K+L) block is          nonsingular upper block triangular,\n",
       "\n",
       "`K+L` is the effective numerical rank of the matrix `[A; B]`.\n",
       "\n",
       "Iterating the decomposition produces the components `U`, `V`, `Q`, `D1`, `D2`, and `R0`.\n",
       "\n",
       "The generalized SVD is used in applications such as when one wants to compare how much belongs to `A` vs. how much belongs to `B`, as in human vs yeast genome, or signal vs noise, or between clusters vs within clusters. (See Edelman and Wang for discussion: https://arxiv.org/abs/1901.00485)\n",
       "\n",
       "It decomposes `[A; B]` into `[UC; VS]H`, where `[UC; VS]` is a natural orthogonal basis for the column space of `[A; B]`, and `H = RQ'` is a natural non-orthogonal basis for the rowspace of `[A;B]`, where the top rows are most closely attributed to the `A` matrix, and the bottom to the `B` matrix. The multi-cosine/sine matrices `C` and `S` provide a multi-measure of how much `A` vs how much `B`, and `U` and `V` provide directions in which these are measured.\n",
       "\n",
       "# Examples\n",
       "\n",
       "```jldoctest\n",
       "julia> A = randn(3,2); B=randn(4,2);\n",
       "\n",
       "julia> F = svd(A, B);\n",
       "\n",
       "julia> U,V,Q,C,S,R = F;\n",
       "\n",
       "julia> H = R*Q';\n",
       "\n",
       "julia> [A; B] ≈ [U*C; V*S]*H\n",
       "true\n",
       "\n",
       "julia> [A; B] ≈ [F.U*F.D1; F.V*F.D2]*F.R0*F.Q'\n",
       "true\n",
       "\n",
       "julia> Uonly, = svd(A,B);\n",
       "\n",
       "julia> U == Uonly\n",
       "true\n",
       "```\n"
      ],
      "text/plain": [
       "\u001b[36m  svd(A; full::Bool = false, alg::Algorithm = default_svd_alg(A)) -> SVD\u001b[39m\n",
       "\n",
       "  Compute the singular value decomposition (SVD) of \u001b[36mA\u001b[39m and return an \u001b[36mSVD\u001b[39m\n",
       "  object.\n",
       "\n",
       "  \u001b[36mU\u001b[39m, \u001b[36mS\u001b[39m, \u001b[36mV\u001b[39m and \u001b[36mVt\u001b[39m can be obtained from the factorization \u001b[36mF\u001b[39m with \u001b[36mF.U\u001b[39m, \u001b[36mF.S\u001b[39m, \u001b[36mF.V\u001b[39m\n",
       "  and \u001b[36mF.Vt\u001b[39m, such that \u001b[36mA = U * Diagonal(S) * Vt\u001b[39m. The algorithm produces \u001b[36mVt\u001b[39m and\n",
       "  hence \u001b[36mVt\u001b[39m is more efficient to extract than \u001b[36mV\u001b[39m. The singular values in \u001b[36mS\u001b[39m are\n",
       "  sorted in descending order.\n",
       "\n",
       "  Iterating the decomposition produces the components \u001b[36mU\u001b[39m, \u001b[36mS\u001b[39m, and \u001b[36mV\u001b[39m.\n",
       "\n",
       "  If \u001b[36mfull = false\u001b[39m (default), a \"thin\" SVD is returned. For an \u001b[35mM \\times N\u001b[39m\n",
       "  matrix \u001b[36mA\u001b[39m, in the full factorization \u001b[36mU\u001b[39m is \u001b[35mM \\times M\u001b[39m and \u001b[36mV\u001b[39m is \u001b[35mN \\times N\u001b[39m,\n",
       "  while in the thin factorization \u001b[36mU\u001b[39m is \u001b[35mM \\times K\u001b[39m and \u001b[36mV\u001b[39m is \u001b[35mN \\times K\u001b[39m, where \u001b[35mK\n",
       "  = \\min(M,N)\u001b[39m is the number of singular values.\n",
       "\n",
       "  If \u001b[36malg = DivideAndConquer()\u001b[39m a divide-and-conquer algorithm is used to\n",
       "  calculate the SVD. Another (typically slower but more accurate) option is\n",
       "  \u001b[36malg = QRIteration()\u001b[39m.\n",
       "\n",
       "\u001b[39m\u001b[1m  │ \u001b[22m\u001b[39m\u001b[1mJulia 1.3\u001b[22m\n",
       "\u001b[39m\u001b[1m  │\u001b[22m\n",
       "\u001b[39m\u001b[1m  │\u001b[22m  The \u001b[36malg\u001b[39m keyword argument requires Julia 1.3 or later.\n",
       "\n",
       "\u001b[1m  Examples\u001b[22m\n",
       "\u001b[1m  ≡≡≡≡≡≡≡≡≡≡\u001b[22m\n",
       "\n",
       "\u001b[36m  julia> A = rand(4,3);\u001b[39m\n",
       "\u001b[36m  \u001b[39m\n",
       "\u001b[36m  julia> F = svd(A); # Store the Factorization Object\u001b[39m\n",
       "\u001b[36m  \u001b[39m\n",
       "\u001b[36m  julia> A ≈ F.U * Diagonal(F.S) * F.Vt\u001b[39m\n",
       "\u001b[36m  true\u001b[39m\n",
       "\u001b[36m  \u001b[39m\n",
       "\u001b[36m  julia> U, S, V = F; # destructuring via iteration\u001b[39m\n",
       "\u001b[36m  \u001b[39m\n",
       "\u001b[36m  julia> A ≈ U * Diagonal(S) * V'\u001b[39m\n",
       "\u001b[36m  true\u001b[39m\n",
       "\u001b[36m  \u001b[39m\n",
       "\u001b[36m  julia> Uonly, = svd(A); # Store U only\u001b[39m\n",
       "\u001b[36m  \u001b[39m\n",
       "\u001b[36m  julia> Uonly == U\u001b[39m\n",
       "\u001b[36m  true\u001b[39m\n",
       "\n",
       "  ────────────────────────────────────────────────────────────────────────────\n",
       "\n",
       "\u001b[36m  svd(A, B) -> GeneralizedSVD\u001b[39m\n",
       "\n",
       "  Compute the generalized SVD of \u001b[36mA\u001b[39m and \u001b[36mB\u001b[39m, returning a \u001b[36mGeneralizedSVD\u001b[39m\n",
       "  factorization object \u001b[36mF\u001b[39m such that \u001b[36m[A;B] = [F.U * F.D1; F.V * F.D2] * F.R0 *\n",
       "  F.Q'\u001b[39m\n",
       "\n",
       "    •  \u001b[36mU\u001b[39m is a M-by-M orthogonal matrix,\n",
       "\n",
       "    •  \u001b[36mV\u001b[39m is a P-by-P orthogonal matrix,\n",
       "\n",
       "    •  \u001b[36mQ\u001b[39m is a N-by-N orthogonal matrix,\n",
       "\n",
       "    •  \u001b[36mD1\u001b[39m is a M-by-(K+L) diagonal matrix with 1s in the first K entries,\n",
       "\n",
       "    •  \u001b[36mD2\u001b[39m is a P-by-(K+L) matrix whose top right L-by-L block is\n",
       "       diagonal,\n",
       "\n",
       "    •  \u001b[36mR0\u001b[39m is a (K+L)-by-N matrix whose rightmost (K+L)-by-(K+L) block is\n",
       "       nonsingular upper block triangular,\n",
       "\n",
       "  \u001b[36mK+L\u001b[39m is the effective numerical rank of the matrix \u001b[36m[A; B]\u001b[39m.\n",
       "\n",
       "  Iterating the decomposition produces the components \u001b[36mU\u001b[39m, \u001b[36mV\u001b[39m, \u001b[36mQ\u001b[39m, \u001b[36mD1\u001b[39m, \u001b[36mD2\u001b[39m, and \u001b[36mR0\u001b[39m.\n",
       "\n",
       "  The generalized SVD is used in applications such as when one wants to\n",
       "  compare how much belongs to \u001b[36mA\u001b[39m vs. how much belongs to \u001b[36mB\u001b[39m, as in human vs\n",
       "  yeast genome, or signal vs noise, or between clusters vs within clusters.\n",
       "  (See Edelman and Wang for discussion: https://arxiv.org/abs/1901.00485)\n",
       "\n",
       "  It decomposes \u001b[36m[A; B]\u001b[39m into \u001b[36m[UC; VS]H\u001b[39m, where \u001b[36m[UC; VS]\u001b[39m is a natural orthogonal\n",
       "  basis for the column space of \u001b[36m[A; B]\u001b[39m, and \u001b[36mH = RQ'\u001b[39m is a natural\n",
       "  non-orthogonal basis for the rowspace of \u001b[36m[A;B]\u001b[39m, where the top rows are most\n",
       "  closely attributed to the \u001b[36mA\u001b[39m matrix, and the bottom to the \u001b[36mB\u001b[39m matrix. The\n",
       "  multi-cosine/sine matrices \u001b[36mC\u001b[39m and \u001b[36mS\u001b[39m provide a multi-measure of how much \u001b[36mA\u001b[39m vs\n",
       "  how much \u001b[36mB\u001b[39m, and \u001b[36mU\u001b[39m and \u001b[36mV\u001b[39m provide directions in which these are measured.\n",
       "\n",
       "\u001b[1m  Examples\u001b[22m\n",
       "\u001b[1m  ≡≡≡≡≡≡≡≡≡≡\u001b[22m\n",
       "\n",
       "\u001b[36m  julia> A = randn(3,2); B=randn(4,2);\u001b[39m\n",
       "\u001b[36m  \u001b[39m\n",
       "\u001b[36m  julia> F = svd(A, B);\u001b[39m\n",
       "\u001b[36m  \u001b[39m\n",
       "\u001b[36m  julia> U,V,Q,C,S,R = F;\u001b[39m\n",
       "\u001b[36m  \u001b[39m\n",
       "\u001b[36m  julia> H = R*Q';\u001b[39m\n",
       "\u001b[36m  \u001b[39m\n",
       "\u001b[36m  julia> [A; B] ≈ [U*C; V*S]*H\u001b[39m\n",
       "\u001b[36m  true\u001b[39m\n",
       "\u001b[36m  \u001b[39m\n",
       "\u001b[36m  julia> [A; B] ≈ [F.U*F.D1; F.V*F.D2]*F.R0*F.Q'\u001b[39m\n",
       "\u001b[36m  true\u001b[39m\n",
       "\u001b[36m  \u001b[39m\n",
       "\u001b[36m  julia> Uonly, = svd(A,B);\u001b[39m\n",
       "\u001b[36m  \u001b[39m\n",
       "\u001b[36m  julia> U == Uonly\u001b[39m\n",
       "\u001b[36m  true\u001b[39m"
      ]
     },
     "execution_count": 12,
     "metadata": {},
     "output_type": "execute_result"
    }
   ],
   "source": [
    "?svd"
   ]
  },
  {
   "cell_type": "code",
   "execution_count": 13,
   "id": "7740dbd1",
   "metadata": {},
   "outputs": [
    {
     "data": {
      "text/plain": [
       "SVD{Float64, Float64, Matrix{Float64}, Vector{Float64}}\n",
       "U factor:\n",
       "3×3 Matrix{Float64}:\n",
       " -0.879367  -0.326451  -0.346619\n",
       " -0.114102   0.851235  -0.51223\n",
       "  0.462272  -0.410888  -0.785797\n",
       "singular values:\n",
       "3-element Vector{Float64}:\n",
       " 2.6554423815498307\n",
       " 1.8661982625090223\n",
       " 1.2107558809591914\n",
       "Vt factor:\n",
       "3×3 Matrix{Float64}:\n",
       " -0.879367  -0.462272  0.114102\n",
       "  0.326451  -0.410888  0.851235\n",
       " -0.346619   0.785797  0.51223"
      ]
     },
     "execution_count": 13,
     "metadata": {},
     "output_type": "execute_result"
    }
   ],
   "source": [
    "F = svd(B)"
   ]
  },
  {
   "cell_type": "code",
   "execution_count": 14,
   "id": "e5c18a8e",
   "metadata": {},
   "outputs": [
    {
     "data": {
      "text/plain": [
       "3×3 Matrix{ComplexF64}:\n",
       " -0.702-0.0im    -0.702+0.0im     -0.12+0.0im\n",
       " -0.082-0.18im   -0.082+0.18im     0.96+0.0im\n",
       "  0.022-0.684im   0.022+0.684im  -0.252+0.0im"
      ]
     },
     "execution_count": 14,
     "metadata": {},
     "output_type": "execute_result"
    }
   ],
   "source": [
    "U, S, V = F; # destructuring via iteration\n",
    "round.(eigen(U).vectors; digits=3)"
   ]
  },
  {
   "cell_type": "code",
   "execution_count": 15,
   "id": "7bf9add6",
   "metadata": {},
   "outputs": [
    {
     "data": {
      "text/plain": [
       "3×3 Matrix{ComplexF64}:\n",
       " 0.705-0.0im    0.705+0.0im    -0.071+0.0im\n",
       " 0.025-0.611im  0.025+0.611im   0.503+0.0im\n",
       " 0.044+0.357im  0.044-0.357im   0.861+0.0im"
      ]
     },
     "execution_count": 15,
     "metadata": {},
     "output_type": "execute_result"
    }
   ],
   "source": [
    "round.(eigen(V).vectors; digits=3)"
   ]
  },
  {
   "cell_type": "markdown",
   "id": "a8155d61",
   "metadata": {},
   "source": [
    "Obtén además los eigenvectores de las matrices unitarias de la descomposición (¿Qué representan los eigenvectores que se forman de sólo valores reales?)"
   ]
  },
  {
   "cell_type": "markdown",
   "id": "18681c3b",
   "metadata": {},
   "source": [
    "#### Los eigenvectores de valores únicamente reales representan una rotación $\\theta$ respecto al origen."
   ]
  },
  {
   "cell_type": "markdown",
   "id": "047cf9a3",
   "metadata": {},
   "source": [
    "____________________"
   ]
  },
  {
   "cell_type": "markdown",
   "id": "9c16e59d",
   "metadata": {},
   "source": [
    "[6] Los números duales son de la forma $x = a + b\\epsilon$ donde $\\epsilon$ es un número (no real) con la propiedad $\\epsilon^2 = 0$. Algo similar a lo que sucede con los números complejos, donde cada número complejo se puede escribir de la forma $a+bi$ donde $i$ tiene la propiedad $i^2 = -1$. \n",
    "\n",
    "Por lo tanto $x^2 = a^2+ 2ab\\epsilon$ y en general $x^n = a^n + na^{n-1} b \\epsilon$, pues todas las potencias mayores a $1$ de $\\epsilon$ se vuelven 0. Esto implica que un polinomio $P_n(x) = p_n x^n+\\dots + p_1 x + p_0 = p_n (a^n + na^{n-1} b \\epsilon)+\\dots+ p_1 (a + b\\epsilon) + p_0 = P_n(a)+P'_n(b)\\epsilon$. Es decir, cualquier polinomio (y por lo tanto cualquier función que se pueda descomponer en su polinomio de Tylor) aplicado a un número dual nos arroja un número dual conformado por el polinomio (función) aplicado a la parte real del número + la diferencial del polinomio (función) aplicado a la parte diferencial del número multiplicado por $\\epsilon$. \n",
    "\n",
    "Podemos ver los números duales como matrices de la forma:\n",
    "\n",
    "$$\n",
    "x = \n",
    "\\begin{pmatrix}\n",
    "a & b\\\\\n",
    "0 & a\n",
    "\\end{pmatrix}\n",
    "$$\n",
    "\n",
    "donde $a$ representa la parte real y $b$ la parte diferencial. Al elevar al cuadrado $x$, tendremos en la diagonal $a^2$ y en la esquina superior derecha $2ab$, cumpliendo con la regla de diferenciación. Por lo tanto, podemos obtener la derivada de una función evaluada en $a$, aplicando la función a la matriz:\n",
    "\n",
    "$$\n",
    "\\dot{x}(a) = \n",
    "\\begin{pmatrix}\n",
    "a & 1\\\\\n",
    "0 & a\n",
    "\\end{pmatrix}\n",
    "$$\n",
    "\n",
    "y quedándonos con el valor de la esquina superior derecha de la matriz. \n",
    "\n",
    "Usando esto, obtén la derivada (automática) de $\\sin(x)$ evaluado en 1.5, $\\tan(\\exp(1/x))$ evaluado en 2 y $\\frac{x^3-\\sinh(x)}{\\sqrt{\\cos^2(x)-\\sec(x)}}$ evaluado en 3\n",
    "\n",
    "\n"
   ]
  },
  {
   "cell_type": "code",
   "execution_count": 16,
   "id": "f3ef1bd7",
   "metadata": {},
   "outputs": [],
   "source": [
    "# using Pkg\n",
    "# Pkg.add(\"TaylorSeries\")"
   ]
  },
  {
   "cell_type": "code",
   "execution_count": 17,
   "id": "bb8fe67c",
   "metadata": {},
   "outputs": [],
   "source": [
    "using TaylorSeries\n",
    "x = Taylor1(6)\n",
    "dx = Taylor1(2)\n",
    "a, b = set_variables(\"a b\", order=10)\n",
    "\n",
    "displayBigO(false);"
   ]
  },
  {
   "cell_type": "code",
   "execution_count": 18,
   "id": "c003e232",
   "metadata": {},
   "outputs": [
    {
     "data": {
      "text/plain": [
       "20"
      ]
     },
     "execution_count": 18,
     "metadata": {},
     "output_type": "execute_result"
    }
   ],
   "source": [
    "function epsilon()\n",
    "    [0 1 ; 0 0]\n",
    "end\n",
    "\n",
    "function dual(a::Number,b::Number)\n",
    "    a*I(2) + b*epsilon()\n",
    "end \n",
    "\n",
    "function diff_dual(d)\n",
    "    t = d[1,2]\n",
    "end\n",
    "\n",
    "diff_dual(dual(10,1)^2)\n",
    "(dual(10,1)^2)[1,2]"
   ]
  },
  {
   "cell_type": "markdown",
   "id": "833aeee3",
   "metadata": {},
   "source": [
    "### Primera función: \n",
    "$$ f_1(x)=\\sin(x),\\qquad\\ x=1.5$$"
   ]
  },
  {
   "cell_type": "code",
   "execution_count": 19,
   "id": "972158c4",
   "metadata": {},
   "outputs": [
    {
     "data": {
      "image/svg+xml": [
       "<?xml version=\"1.0\" encoding=\"utf-8\"?>\n",
       "<svg xmlns=\"http://www.w3.org/2000/svg\" xmlns:xlink=\"http://www.w3.org/1999/xlink\" width=\"600\" height=\"400\" viewBox=\"0 0 2400 1600\">\n",
       "<defs>\n",
       "  <clipPath id=\"clip140\">\n",
       "    <rect x=\"0\" y=\"0\" width=\"2400\" height=\"1600\"/>\n",
       "  </clipPath>\n",
       "</defs>\n",
       "<path clip-path=\"url(#clip140)\" d=\"M0 1600 L2400 1600 L2400 0 L0 0  Z\" fill=\"#ffffff\" fill-rule=\"evenodd\" fill-opacity=\"1\"/>\n",
       "<defs>\n",
       "  <clipPath id=\"clip141\">\n",
       "    <rect x=\"480\" y=\"0\" width=\"1681\" height=\"1600\"/>\n",
       "  </clipPath>\n",
       "</defs>\n",
       "<path clip-path=\"url(#clip140)\" d=\"M193.936 1486.45 L2352.76 1486.45 L2352.76 47.2441 L193.936 47.2441  Z\" fill=\"#ffffff\" fill-rule=\"evenodd\" fill-opacity=\"1\"/>\n",
       "<defs>\n",
       "  <clipPath id=\"clip142\">\n",
       "    <rect x=\"193\" y=\"47\" width=\"2160\" height=\"1440\"/>\n",
       "  </clipPath>\n",
       "</defs>\n",
       "<polyline clip-path=\"url(#clip142)\" style=\"stroke:#000000; stroke-linecap:round; stroke-linejoin:round; stroke-width:2; stroke-opacity:0.1; fill:none\" points=\"255.035,1486.45 255.035,47.2441 \"/>\n",
       "<polyline clip-path=\"url(#clip142)\" style=\"stroke:#000000; stroke-linecap:round; stroke-linejoin:round; stroke-width:2; stroke-opacity:0.1; fill:none\" points=\"903.641,1486.45 903.641,47.2441 \"/>\n",
       "<polyline clip-path=\"url(#clip142)\" style=\"stroke:#000000; stroke-linecap:round; stroke-linejoin:round; stroke-width:2; stroke-opacity:0.1; fill:none\" points=\"1552.25,1486.45 1552.25,47.2441 \"/>\n",
       "<polyline clip-path=\"url(#clip142)\" style=\"stroke:#000000; stroke-linecap:round; stroke-linejoin:round; stroke-width:2; stroke-opacity:0.1; fill:none\" points=\"2200.85,1486.45 2200.85,47.2441 \"/>\n",
       "<polyline clip-path=\"url(#clip140)\" style=\"stroke:#000000; stroke-linecap:round; stroke-linejoin:round; stroke-width:4; stroke-opacity:1; fill:none\" points=\"193.936,1486.45 2352.76,1486.45 \"/>\n",
       "<polyline clip-path=\"url(#clip140)\" style=\"stroke:#000000; stroke-linecap:round; stroke-linejoin:round; stroke-width:4; stroke-opacity:1; fill:none\" points=\"255.035,1486.45 255.035,1467.55 \"/>\n",
       "<polyline clip-path=\"url(#clip140)\" style=\"stroke:#000000; stroke-linecap:round; stroke-linejoin:round; stroke-width:4; stroke-opacity:1; fill:none\" points=\"903.641,1486.45 903.641,1467.55 \"/>\n",
       "<polyline clip-path=\"url(#clip140)\" style=\"stroke:#000000; stroke-linecap:round; stroke-linejoin:round; stroke-width:4; stroke-opacity:1; fill:none\" points=\"1552.25,1486.45 1552.25,1467.55 \"/>\n",
       "<polyline clip-path=\"url(#clip140)\" style=\"stroke:#000000; stroke-linecap:round; stroke-linejoin:round; stroke-width:4; stroke-opacity:1; fill:none\" points=\"2200.85,1486.45 2200.85,1467.55 \"/>\n",
       "<path clip-path=\"url(#clip140)\" d=\"M255.035 1517.37 Q251.424 1517.37 249.595 1520.93 Q247.789 1524.47 247.789 1531.6 Q247.789 1538.71 249.595 1542.27 Q251.424 1545.82 255.035 1545.82 Q258.669 1545.82 260.474 1542.27 Q262.303 1538.71 262.303 1531.6 Q262.303 1524.47 260.474 1520.93 Q258.669 1517.37 255.035 1517.37 M255.035 1513.66 Q260.845 1513.66 263.9 1518.27 Q266.979 1522.85 266.979 1531.6 Q266.979 1540.33 263.9 1544.94 Q260.845 1549.52 255.035 1549.52 Q249.225 1549.52 246.146 1544.94 Q243.09 1540.33 243.09 1531.6 Q243.09 1522.85 246.146 1518.27 Q249.225 1513.66 255.035 1513.66 Z\" fill=\"#000000\" fill-rule=\"evenodd\" fill-opacity=\"1\" /><path clip-path=\"url(#clip140)\" d=\"M894.023 1544.91 L901.661 1544.91 L901.661 1518.55 L893.351 1520.21 L893.351 1515.95 L901.615 1514.29 L906.291 1514.29 L906.291 1544.91 L913.93 1544.91 L913.93 1548.85 L894.023 1548.85 L894.023 1544.91 Z\" fill=\"#000000\" fill-rule=\"evenodd\" fill-opacity=\"1\" /><path clip-path=\"url(#clip140)\" d=\"M1546.9 1544.91 L1563.22 1544.91 L1563.22 1548.85 L1541.27 1548.85 L1541.27 1544.91 Q1543.94 1542.16 1548.52 1537.53 Q1553.13 1532.88 1554.31 1531.53 Q1556.55 1529.01 1557.43 1527.27 Q1558.33 1525.51 1558.33 1523.82 Q1558.33 1521.07 1556.39 1519.33 Q1554.47 1517.6 1551.37 1517.6 Q1549.17 1517.6 1546.71 1518.36 Q1544.28 1519.13 1541.51 1520.68 L1541.51 1515.95 Q1544.33 1514.82 1546.78 1514.24 Q1549.24 1513.66 1551.27 1513.66 Q1556.64 1513.66 1559.84 1516.35 Q1563.03 1519.03 1563.03 1523.52 Q1563.03 1525.65 1562.22 1527.57 Q1561.44 1529.47 1559.33 1532.07 Q1558.75 1532.74 1555.65 1535.95 Q1552.55 1539.15 1546.9 1544.91 Z\" fill=\"#000000\" fill-rule=\"evenodd\" fill-opacity=\"1\" /><path clip-path=\"url(#clip140)\" d=\"M2205.1 1530.21 Q2208.46 1530.93 2210.33 1533.2 Q2212.23 1535.47 2212.23 1538.8 Q2212.23 1543.92 2208.71 1546.72 Q2205.19 1549.52 2198.71 1549.52 Q2196.54 1549.52 2194.22 1549.08 Q2191.93 1548.66 2189.48 1547.81 L2189.48 1543.29 Q2191.42 1544.43 2193.73 1545.01 Q2196.05 1545.58 2198.57 1545.58 Q2202.97 1545.58 2205.26 1543.85 Q2207.58 1542.11 2207.58 1538.8 Q2207.58 1535.75 2205.42 1534.03 Q2203.29 1532.3 2199.48 1532.3 L2195.45 1532.3 L2195.45 1528.45 L2199.66 1528.45 Q2203.11 1528.45 2204.94 1527.09 Q2206.77 1525.7 2206.77 1523.11 Q2206.77 1520.45 2204.87 1519.03 Q2202.99 1517.6 2199.48 1517.6 Q2197.55 1517.6 2195.35 1518.01 Q2193.16 1518.43 2190.52 1519.31 L2190.52 1515.14 Q2193.18 1514.4 2195.49 1514.03 Q2197.83 1513.66 2199.89 1513.66 Q2205.22 1513.66 2208.32 1516.09 Q2211.42 1518.5 2211.42 1522.62 Q2211.42 1525.49 2209.78 1527.48 Q2208.13 1529.45 2205.1 1530.21 Z\" fill=\"#000000\" fill-rule=\"evenodd\" fill-opacity=\"1\" /><polyline clip-path=\"url(#clip142)\" style=\"stroke:#000000; stroke-linecap:round; stroke-linejoin:round; stroke-width:2; stroke-opacity:0.1; fill:none\" points=\"193.936,1445.72 2352.76,1445.72 \"/>\n",
       "<polyline clip-path=\"url(#clip142)\" style=\"stroke:#000000; stroke-linecap:round; stroke-linejoin:round; stroke-width:2; stroke-opacity:0.1; fill:none\" points=\"193.936,1106.28 2352.76,1106.28 \"/>\n",
       "<polyline clip-path=\"url(#clip142)\" style=\"stroke:#000000; stroke-linecap:round; stroke-linejoin:round; stroke-width:2; stroke-opacity:0.1; fill:none\" points=\"193.936,766.846 2352.76,766.846 \"/>\n",
       "<polyline clip-path=\"url(#clip142)\" style=\"stroke:#000000; stroke-linecap:round; stroke-linejoin:round; stroke-width:2; stroke-opacity:0.1; fill:none\" points=\"193.936,427.411 2352.76,427.411 \"/>\n",
       "<polyline clip-path=\"url(#clip142)\" style=\"stroke:#000000; stroke-linecap:round; stroke-linejoin:round; stroke-width:2; stroke-opacity:0.1; fill:none\" points=\"193.936,87.9763 2352.76,87.9763 \"/>\n",
       "<polyline clip-path=\"url(#clip140)\" style=\"stroke:#000000; stroke-linecap:round; stroke-linejoin:round; stroke-width:4; stroke-opacity:1; fill:none\" points=\"193.936,1486.45 193.936,47.2441 \"/>\n",
       "<polyline clip-path=\"url(#clip140)\" style=\"stroke:#000000; stroke-linecap:round; stroke-linejoin:round; stroke-width:4; stroke-opacity:1; fill:none\" points=\"193.936,1445.72 212.834,1445.72 \"/>\n",
       "<polyline clip-path=\"url(#clip140)\" style=\"stroke:#000000; stroke-linecap:round; stroke-linejoin:round; stroke-width:4; stroke-opacity:1; fill:none\" points=\"193.936,1106.28 212.834,1106.28 \"/>\n",
       "<polyline clip-path=\"url(#clip140)\" style=\"stroke:#000000; stroke-linecap:round; stroke-linejoin:round; stroke-width:4; stroke-opacity:1; fill:none\" points=\"193.936,766.846 212.834,766.846 \"/>\n",
       "<polyline clip-path=\"url(#clip140)\" style=\"stroke:#000000; stroke-linecap:round; stroke-linejoin:round; stroke-width:4; stroke-opacity:1; fill:none\" points=\"193.936,427.411 212.834,427.411 \"/>\n",
       "<polyline clip-path=\"url(#clip140)\" style=\"stroke:#000000; stroke-linecap:round; stroke-linejoin:round; stroke-width:4; stroke-opacity:1; fill:none\" points=\"193.936,87.9763 212.834,87.9763 \"/>\n",
       "<path clip-path=\"url(#clip140)\" d=\"M50.9921 1446.17 L80.6679 1446.17 L80.6679 1450.1 L50.9921 1450.1 L50.9921 1446.17 Z\" fill=\"#000000\" fill-rule=\"evenodd\" fill-opacity=\"1\" /><path clip-path=\"url(#clip140)\" d=\"M91.5706 1459.06 L99.2095 1459.06 L99.2095 1432.7 L90.8993 1434.36 L90.8993 1430.1 L99.1632 1428.44 L103.839 1428.44 L103.839 1459.06 L111.478 1459.06 L111.478 1463 L91.5706 1463 L91.5706 1459.06 Z\" fill=\"#000000\" fill-rule=\"evenodd\" fill-opacity=\"1\" /><path clip-path=\"url(#clip140)\" d=\"M120.922 1457.12 L125.807 1457.12 L125.807 1463 L120.922 1463 L120.922 1457.12 Z\" fill=\"#000000\" fill-rule=\"evenodd\" fill-opacity=\"1\" /><path clip-path=\"url(#clip140)\" d=\"M145.992 1431.52 Q142.381 1431.52 140.552 1435.08 Q138.746 1438.62 138.746 1445.75 Q138.746 1452.86 140.552 1456.42 Q142.381 1459.96 145.992 1459.96 Q149.626 1459.96 151.431 1456.42 Q153.26 1452.86 153.26 1445.75 Q153.26 1438.62 151.431 1435.08 Q149.626 1431.52 145.992 1431.52 M145.992 1427.81 Q151.802 1427.81 154.857 1432.42 Q157.936 1437 157.936 1445.75 Q157.936 1454.48 154.857 1459.08 Q151.802 1463.67 145.992 1463.67 Q140.181 1463.67 137.103 1459.08 Q134.047 1454.48 134.047 1445.75 Q134.047 1437 137.103 1432.42 Q140.181 1427.81 145.992 1427.81 Z\" fill=\"#000000\" fill-rule=\"evenodd\" fill-opacity=\"1\" /><path clip-path=\"url(#clip140)\" d=\"M51.9875 1106.73 L81.6633 1106.73 L81.6633 1110.67 L51.9875 1110.67 L51.9875 1106.73 Z\" fill=\"#000000\" fill-rule=\"evenodd\" fill-opacity=\"1\" /><path clip-path=\"url(#clip140)\" d=\"M101.756 1092.08 Q98.1447 1092.08 96.316 1095.64 Q94.5104 1099.19 94.5104 1106.32 Q94.5104 1113.42 96.316 1116.99 Q98.1447 1120.53 101.756 1120.53 Q105.39 1120.53 107.196 1116.99 Q109.024 1113.42 109.024 1106.32 Q109.024 1099.19 107.196 1095.64 Q105.39 1092.08 101.756 1092.08 M101.756 1088.38 Q107.566 1088.38 110.621 1092.98 Q113.7 1097.57 113.7 1106.32 Q113.7 1115.04 110.621 1119.65 Q107.566 1124.23 101.756 1124.23 Q95.9456 1124.23 92.8669 1119.65 Q89.8114 1115.04 89.8114 1106.32 Q89.8114 1097.57 92.8669 1092.98 Q95.9456 1088.38 101.756 1088.38 Z\" fill=\"#000000\" fill-rule=\"evenodd\" fill-opacity=\"1\" /><path clip-path=\"url(#clip140)\" d=\"M121.918 1117.68 L126.802 1117.68 L126.802 1123.56 L121.918 1123.56 L121.918 1117.68 Z\" fill=\"#000000\" fill-rule=\"evenodd\" fill-opacity=\"1\" /><path clip-path=\"url(#clip140)\" d=\"M137.033 1089 L155.39 1089 L155.39 1092.94 L141.316 1092.94 L141.316 1101.41 Q142.334 1101.06 143.353 1100.9 Q144.371 1100.71 145.39 1100.71 Q151.177 1100.71 154.556 1103.89 Q157.936 1107.06 157.936 1112.47 Q157.936 1118.05 154.464 1121.15 Q150.992 1124.23 144.672 1124.23 Q142.496 1124.23 140.228 1123.86 Q137.982 1123.49 135.575 1122.75 L135.575 1118.05 Q137.658 1119.19 139.881 1119.74 Q142.103 1120.3 144.58 1120.3 Q148.584 1120.3 150.922 1118.19 Q153.26 1116.08 153.26 1112.47 Q153.26 1108.86 150.922 1106.76 Q148.584 1104.65 144.58 1104.65 Q142.705 1104.65 140.83 1105.07 Q138.978 1105.48 137.033 1106.36 L137.033 1089 Z\" fill=\"#000000\" fill-rule=\"evenodd\" fill-opacity=\"1\" /><path clip-path=\"url(#clip140)\" d=\"M100.76 752.645 Q97.1493 752.645 95.3206 756.21 Q93.515 759.752 93.515 766.881 Q93.515 773.988 95.3206 777.552 Q97.1493 781.094 100.76 781.094 Q104.395 781.094 106.2 777.552 Q108.029 773.988 108.029 766.881 Q108.029 759.752 106.2 756.21 Q104.395 752.645 100.76 752.645 M100.76 748.941 Q106.571 748.941 109.626 753.548 Q112.705 758.131 112.705 766.881 Q112.705 775.608 109.626 780.214 Q106.571 784.798 100.76 784.798 Q94.9502 784.798 91.8715 780.214 Q88.816 775.608 88.816 766.881 Q88.816 758.131 91.8715 753.548 Q94.9502 748.941 100.76 748.941 Z\" fill=\"#000000\" fill-rule=\"evenodd\" fill-opacity=\"1\" /><path clip-path=\"url(#clip140)\" d=\"M120.922 778.247 L125.807 778.247 L125.807 784.126 L120.922 784.126 L120.922 778.247 Z\" fill=\"#000000\" fill-rule=\"evenodd\" fill-opacity=\"1\" /><path clip-path=\"url(#clip140)\" d=\"M145.992 752.645 Q142.381 752.645 140.552 756.21 Q138.746 759.752 138.746 766.881 Q138.746 773.988 140.552 777.552 Q142.381 781.094 145.992 781.094 Q149.626 781.094 151.431 777.552 Q153.26 773.988 153.26 766.881 Q153.26 759.752 151.431 756.21 Q149.626 752.645 145.992 752.645 M145.992 748.941 Q151.802 748.941 154.857 753.548 Q157.936 758.131 157.936 766.881 Q157.936 775.608 154.857 780.214 Q151.802 784.798 145.992 784.798 Q140.181 784.798 137.103 780.214 Q134.047 775.608 134.047 766.881 Q134.047 758.131 137.103 753.548 Q140.181 748.941 145.992 748.941 Z\" fill=\"#000000\" fill-rule=\"evenodd\" fill-opacity=\"1\" /><path clip-path=\"url(#clip140)\" d=\"M101.756 413.21 Q98.1447 413.21 96.316 416.775 Q94.5104 420.316 94.5104 427.446 Q94.5104 434.553 96.316 438.117 Q98.1447 441.659 101.756 441.659 Q105.39 441.659 107.196 438.117 Q109.024 434.553 109.024 427.446 Q109.024 420.316 107.196 416.775 Q105.39 413.21 101.756 413.21 M101.756 409.506 Q107.566 409.506 110.621 414.113 Q113.7 418.696 113.7 427.446 Q113.7 436.173 110.621 440.779 Q107.566 445.363 101.756 445.363 Q95.9456 445.363 92.8669 440.779 Q89.8114 436.173 89.8114 427.446 Q89.8114 418.696 92.8669 414.113 Q95.9456 409.506 101.756 409.506 Z\" fill=\"#000000\" fill-rule=\"evenodd\" fill-opacity=\"1\" /><path clip-path=\"url(#clip140)\" d=\"M121.918 438.812 L126.802 438.812 L126.802 444.691 L121.918 444.691 L121.918 438.812 Z\" fill=\"#000000\" fill-rule=\"evenodd\" fill-opacity=\"1\" /><path clip-path=\"url(#clip140)\" d=\"M137.033 410.131 L155.39 410.131 L155.39 414.067 L141.316 414.067 L141.316 422.539 Q142.334 422.191 143.353 422.029 Q144.371 421.844 145.39 421.844 Q151.177 421.844 154.556 425.016 Q157.936 428.187 157.936 433.603 Q157.936 439.182 154.464 442.284 Q150.992 445.363 144.672 445.363 Q142.496 445.363 140.228 444.992 Q137.982 444.622 135.575 443.881 L135.575 439.182 Q137.658 440.316 139.881 440.872 Q142.103 441.427 144.58 441.427 Q148.584 441.427 150.922 439.321 Q153.26 437.215 153.26 433.603 Q153.26 429.992 150.922 427.886 Q148.584 425.779 144.58 425.779 Q142.705 425.779 140.83 426.196 Q138.978 426.613 137.033 427.492 L137.033 410.131 Z\" fill=\"#000000\" fill-rule=\"evenodd\" fill-opacity=\"1\" /><path clip-path=\"url(#clip140)\" d=\"M91.5706 101.321 L99.2095 101.321 L99.2095 74.9555 L90.8993 76.6222 L90.8993 72.3629 L99.1632 70.6963 L103.839 70.6963 L103.839 101.321 L111.478 101.321 L111.478 105.256 L91.5706 105.256 L91.5706 101.321 Z\" fill=\"#000000\" fill-rule=\"evenodd\" fill-opacity=\"1\" /><path clip-path=\"url(#clip140)\" d=\"M120.922 99.3767 L125.807 99.3767 L125.807 105.256 L120.922 105.256 L120.922 99.3767 Z\" fill=\"#000000\" fill-rule=\"evenodd\" fill-opacity=\"1\" /><path clip-path=\"url(#clip140)\" d=\"M145.992 73.775 Q142.381 73.775 140.552 77.3398 Q138.746 80.8814 138.746 88.011 Q138.746 95.1174 140.552 98.6822 Q142.381 102.224 145.992 102.224 Q149.626 102.224 151.431 98.6822 Q153.26 95.1174 153.26 88.011 Q153.26 80.8814 151.431 77.3398 Q149.626 73.775 145.992 73.775 M145.992 70.0713 Q151.802 70.0713 154.857 74.6777 Q157.936 79.261 157.936 88.011 Q157.936 96.7378 154.857 101.344 Q151.802 105.928 145.992 105.928 Q140.181 105.928 137.103 101.344 Q134.047 96.7378 134.047 88.011 Q134.047 79.261 137.103 74.6777 Q140.181 70.0713 145.992 70.0713 Z\" fill=\"#000000\" fill-rule=\"evenodd\" fill-opacity=\"1\" /><polyline clip-path=\"url(#clip142)\" style=\"stroke:#009af9; stroke-linecap:round; stroke-linejoin:round; stroke-width:4; stroke-opacity:1; fill:none\" points=\"255.035,766.846 261.521,760.058 268.007,753.27 274.493,746.483 280.979,739.699 287.465,732.917 293.951,726.139 300.437,719.364 306.923,712.595 313.409,705.831 319.895,699.072 326.381,692.321 332.867,685.577 339.353,678.842 345.84,672.115 352.326,665.397 358.812,658.69 365.298,651.994 371.784,645.309 378.27,638.636 384.756,631.976 391.242,625.329 397.728,618.697 404.214,612.079 410.7,605.477 417.186,598.891 423.672,592.322 430.158,585.77 436.644,579.237 443.13,572.722 449.616,566.227 456.103,559.751 462.589,553.297 469.075,546.863 475.561,540.452 482.047,534.063 488.533,527.698 495.019,521.356 501.505,515.04 507.991,508.748 514.477,502.482 520.963,496.242 527.449,490.03 533.935,483.845 540.421,477.689 546.907,471.561 553.393,465.463 559.879,459.395 566.366,453.358 572.852,447.353 579.338,441.379 585.824,435.437 592.31,429.529 598.796,423.655 605.282,417.815 611.768,412.01 618.254,406.24 624.74,400.506 631.226,394.809 637.712,389.15 644.198,383.528 650.684,377.944 657.17,372.399 663.656,366.894 670.142,361.428 676.629,356.003 683.115,350.62 689.601,345.278 696.087,339.978 702.573,334.72 709.059,329.506 715.545,324.336 722.031,319.21 728.517,314.129 735.003,309.092 741.489,304.102 747.975,299.158 754.461,294.261 760.947,289.411 767.433,284.609 773.919,279.855 780.405,275.149 786.892,270.493 793.378,265.887 799.864,261.33 806.35,256.825 812.836,252.37 819.322,247.966 825.808,243.615 832.294,239.316 838.78,235.069 845.266,230.876 851.752,226.736 858.238,222.651 864.724,218.619 871.21,214.643 877.696,210.722 884.182,206.856 890.668,203.047 897.155,199.293 903.641,195.597 910.127,191.958 916.613,188.376 923.099,184.852 929.585,181.386 936.071,177.979 942.557,174.63 949.043,171.341 955.529,168.112 962.015,164.942 968.501,161.832 974.987,158.783 981.473,155.795 987.959,152.868 994.445,150.002 1000.93,147.198 1007.42,144.456 1013.9,141.776 1020.39,139.159 1026.88,136.604 1033.36,134.113 1039.85,131.685 1046.33,129.32 1052.82,127.019 1059.31,124.782 1065.79,122.609 1072.28,120.501 1078.76,118.457 1085.25,116.478 1091.74,114.564 1098.22,112.716 1104.71,110.932 1111.19,109.215 1117.68,107.563 1124.17,105.977 1130.65,104.457 1137.14,103.003 1143.62,101.616 1150.11,100.295 1156.6,99.0413 1163.08,97.854 1169.57,96.7336 1176.06,95.6803 1182.54,94.694 1189.03,93.7749 1195.51,92.9232 1202,92.1389 1208.49,91.422 1214.97,90.7726 1221.46,90.1909 1227.94,89.6769 1234.43,89.2305 1240.92,88.8519 1247.4,88.5411 1253.89,88.2982 1260.37,88.1231 1266.86,88.0158 1273.35,87.9765 1279.83,88.005 1286.32,88.1015 1292.8,88.2657 1299.29,88.4979 1305.78,88.7979 1312.26,89.1657 1318.75,89.6012 1325.23,90.1045 1331.72,90.6755 1338.21,91.314 1344.69,92.0202 1351.18,92.7938 1357.66,93.6348 1364.15,94.5431 1370.64,95.5187 1377.12,96.5614 1383.61,97.6711 1390.1,98.8477 1396.58,100.091 1403.07,101.401 1409.55,102.778 1416.04,104.221 1422.53,105.73 1429.01,107.306 1435.5,108.947 1441.98,110.654 1448.47,112.427 1454.96,114.265 1461.44,116.169 1467.93,118.137 1474.41,120.171 1480.9,122.269 1487.39,124.432 1493.87,126.658 1500.36,128.949 1506.84,131.304 1513.33,133.722 1519.82,136.203 1526.3,138.748 1532.79,141.355 1539.27,144.025 1545.76,146.757 1552.25,149.552 1558.73,152.407 1565.22,155.325 1571.7,158.303 1578.19,161.343 1584.68,164.443 1591.16,167.603 1597.65,170.823 1604.13,174.103 1610.62,177.441 1617.11,180.839 1623.59,184.296 1630.08,187.811 1636.57,191.383 1643.05,195.013 1649.54,198.701 1656.02,202.445 1662.51,206.246 1669,210.102 1675.48,214.015 1681.97,217.982 1688.45,222.005 1694.94,226.082 1701.43,230.213 1707.91,234.398 1714.4,238.636 1720.88,242.927 1727.37,247.27 1733.86,251.665 1740.34,256.112 1746.83,260.609 1753.31,265.158 1759.8,269.756 1766.29,274.405 1772.77,279.102 1779.26,283.848 1785.74,288.643 1792.23,293.485 1798.72,298.375 1805.2,303.312 1811.69,308.295 1818.17,313.323 1824.66,318.398 1831.15,323.517 1837.63,328.68 1844.12,333.887 1850.61,339.137 1857.09,344.431 1863.58,349.766 1870.06,355.143 1876.55,360.562 1883.04,366.02 1889.52,371.52 1896.01,377.058 1902.49,382.636 1908.98,388.252 1915.47,393.905 1921.95,399.597 1928.44,405.324 1934.92,411.088 1941.41,416.888 1947.9,422.722 1954.38,428.591 1960.87,434.494 1967.35,440.43 1973.84,446.399 1980.33,452.4 1986.81,458.432 1993.3,464.495 1999.78,470.588 2006.27,476.711 2012.76,482.863 2019.24,489.043 2025.73,495.251 2032.21,501.486 2038.7,507.748 2045.19,514.036 2051.67,520.349 2058.16,526.686 2064.65,533.048 2071.13,539.433 2077.62,545.841 2084.1,552.271 2090.59,558.722 2097.08,565.194 2103.56,571.686 2110.05,578.198 2116.53,584.729 2123.02,591.277 2129.51,597.844 2135.99,604.427 2142.48,611.027 2148.96,617.642 2155.45,624.272 2161.94,630.916 2168.42,637.574 2174.91,644.245 2181.39,650.928 2187.88,657.623 2194.37,664.328 2200.85,671.044 2207.34,677.77 2213.82,684.504 2220.31,691.247 2226.8,697.997 2233.28,704.754 2239.77,711.517 2246.25,718.286 2252.74,725.059 2259.23,731.837 2265.71,738.619 2272.2,745.403 2278.69,752.189 2285.17,758.977 2291.66,765.765 \"/>\n",
       "<polyline clip-path=\"url(#clip142)\" style=\"stroke:#e26f46; stroke-linecap:round; stroke-linejoin:round; stroke-width:4; stroke-opacity:1; fill:none\" points=\"255.035,87.9763 261.521,88.0102 268.007,88.112 274.493,88.2817 280.979,88.5193 287.465,88.8247 293.951,89.1979 300.437,89.6388 306.923,90.1475 313.409,90.7238 319.895,91.3678 326.381,92.0793 332.867,92.8583 339.353,93.7047 345.84,94.6183 352.326,95.5993 358.812,96.6473 365.298,97.7623 371.784,98.9443 378.27,100.193 384.756,101.508 391.242,102.89 397.728,104.339 404.214,105.853 410.7,107.434 417.186,109.081 423.672,110.793 430.158,112.571 436.644,114.415 443.13,116.323 449.616,118.297 456.103,120.336 462.589,122.439 469.075,124.607 475.561,126.838 482.047,129.134 488.533,131.494 495.019,133.917 501.505,136.404 507.991,138.953 514.477,141.566 520.963,144.24 527.449,146.978 533.935,149.777 540.421,152.638 546.907,155.56 553.393,158.543 559.879,161.587 566.366,164.692 572.852,167.857 579.338,171.082 585.824,174.366 592.31,177.71 598.796,181.112 605.282,184.574 611.768,188.093 618.254,191.67 624.74,195.305 631.226,198.997 637.712,202.746 644.198,206.551 650.684,210.412 657.17,214.329 663.656,218.301 670.142,222.328 676.629,226.409 683.115,230.544 689.601,234.733 696.087,238.976 702.573,243.271 709.059,247.618 715.545,252.017 722.031,256.468 728.517,260.97 735.003,265.522 741.489,270.125 747.975,274.777 754.461,279.478 760.947,284.228 767.433,289.027 773.919,293.873 780.405,298.767 786.892,303.707 793.378,308.693 799.864,313.726 806.35,318.804 812.836,323.926 819.322,329.093 825.808,334.304 832.294,339.557 838.78,344.854 845.266,350.193 851.752,355.573 858.238,360.995 864.724,366.457 871.21,371.959 877.696,377.501 884.182,383.081 890.668,388.7 897.155,394.357 903.641,400.051 910.127,405.782 916.613,411.549 923.099,417.351 929.585,423.189 936.071,429.06 942.557,434.966 949.043,440.904 955.529,446.876 962.015,452.879 968.501,458.914 974.987,464.979 981.473,471.075 987.959,477.2 994.445,483.354 1000.93,489.536 1007.42,495.747 1013.9,501.984 1020.39,508.248 1026.88,514.538 1033.36,520.853 1039.85,527.192 1046.33,533.556 1052.82,539.942 1059.31,546.352 1065.79,552.783 1072.28,559.236 1078.76,565.71 1085.25,572.204 1091.74,578.717 1098.22,585.249 1104.71,591.8 1111.19,598.368 1117.68,604.952 1124.17,611.553 1130.65,618.169 1137.14,624.801 1143.62,631.446 1150.11,638.105 1156.6,644.777 1163.08,651.461 1169.57,658.156 1176.06,664.863 1182.54,671.579 1189.03,678.306 1195.51,685.041 1202,691.784 1208.49,698.535 1214.97,705.292 1221.46,712.056 1227.94,718.825 1234.43,725.599 1240.92,732.377 1247.4,739.159 1253.89,745.943 1260.37,752.729 1266.86,759.517 1273.35,766.306 1279.83,773.094 1286.32,779.882 1292.8,786.669 1299.29,793.454 1305.78,800.236 1312.26,807.015 1318.75,813.789 1325.23,820.559 1331.72,827.324 1338.21,834.082 1344.69,840.834 1351.18,847.579 1357.66,854.315 1364.15,861.043 1370.64,867.761 1377.12,874.469 1383.61,881.166 1390.1,887.852 1396.58,894.526 1403.07,901.187 1409.55,907.835 1416.04,914.468 1422.53,921.087 1429.01,927.69 1435.5,934.278 1441.98,940.848 1448.47,947.401 1454.96,953.936 1461.44,960.453 1467.93,966.95 1474.41,973.427 1480.9,979.883 1487.39,986.318 1493.87,992.731 1500.36,999.122 1506.84,1005.49 1513.33,1011.83 1519.82,1018.15 1526.3,1024.44 1532.79,1030.71 1539.27,1036.95 1545.76,1043.17 1552.25,1049.36 1558.73,1055.51 1565.22,1061.64 1571.7,1067.75 1578.19,1073.82 1584.68,1079.85 1591.16,1085.86 1597.65,1091.84 1604.13,1097.78 1610.62,1103.69 1617.11,1109.57 1623.59,1115.41 1630.08,1121.22 1636.57,1126.99 1643.05,1132.73 1649.54,1138.43 1656.02,1144.09 1662.51,1149.72 1669,1155.31 1675.48,1160.85 1681.97,1166.36 1688.45,1171.83 1694.94,1177.26 1701.43,1182.65 1707.91,1187.99 1714.4,1193.29 1720.88,1198.56 1727.37,1203.77 1733.86,1208.95 1740.34,1214.08 1746.83,1219.16 1753.31,1224.2 1759.8,1229.19 1766.29,1234.14 1772.77,1239.04 1779.26,1243.9 1785.74,1248.7 1792.23,1253.46 1798.72,1258.17 1805.2,1262.83 1811.69,1267.44 1818.17,1272 1824.66,1276.51 1831.15,1280.97 1837.63,1285.38 1844.12,1289.73 1850.61,1294.04 1857.09,1298.29 1863.58,1302.48 1870.06,1306.63 1876.55,1310.72 1883.04,1314.75 1889.52,1318.74 1896.01,1322.66 1902.49,1326.53 1908.98,1330.34 1915.47,1334.1 1921.95,1337.8 1928.44,1341.45 1934.92,1345.03 1941.41,1348.56 1947.9,1352.03 1954.38,1355.44 1960.87,1358.8 1967.35,1362.09 1973.84,1365.33 1980.33,1368.5 1986.81,1371.62 1993.3,1374.67 1999.78,1377.66 2006.27,1380.59 2012.76,1383.46 2019.24,1386.27 2025.73,1389.02 2032.21,1391.71 2038.7,1394.33 2045.19,1396.89 2051.67,1399.38 2058.16,1401.82 2064.65,1404.19 2071.13,1406.49 2077.62,1408.74 2084.1,1410.91 2090.59,1413.03 2097.08,1415.08 2103.56,1417.06 2110.05,1418.98 2116.53,1420.83 2123.02,1422.62 2129.51,1424.34 2135.99,1426 2142.48,1427.59 2148.96,1429.12 2155.45,1430.58 2161.94,1431.97 2168.42,1433.29 2174.91,1434.55 2181.39,1435.75 2187.88,1436.87 2194.37,1437.93 2200.85,1438.92 2207.34,1439.85 2213.82,1440.7 2220.31,1441.49 2226.8,1442.22 2233.28,1442.87 2239.77,1443.46 2246.25,1443.98 2252.74,1444.43 2259.23,1444.81 2265.71,1445.13 2272.2,1445.38 2278.69,1445.56 2285.17,1445.67 2291.66,1445.72 \"/>\n",
       "<circle clip-path=\"url(#clip142)\" cx=\"1227.94\" cy=\"89.6769\" r=\"14.4\" fill=\"#3da44d\" fill-rule=\"evenodd\" fill-opacity=\"1\" stroke=\"#000000\" stroke-opacity=\"1\" stroke-width=\"3.2\"/>\n",
       "<circle clip-path=\"url(#clip142)\" cx=\"1227.94\" cy=\"718.825\" r=\"14.4\" fill=\"#3da44d\" fill-rule=\"evenodd\" fill-opacity=\"1\" stroke=\"#000000\" stroke-opacity=\"1\" stroke-width=\"3.2\"/>\n",
       "<path clip-path=\"url(#clip140)\" d=\"M265.897 1438.47 L534.788 1438.47 L534.788 1231.11 L265.897 1231.11  Z\" fill=\"#ffffff\" fill-rule=\"evenodd\" fill-opacity=\"1\"/>\n",
       "<polyline clip-path=\"url(#clip140)\" style=\"stroke:#000000; stroke-linecap:round; stroke-linejoin:round; stroke-width:4; stroke-opacity:1; fill:none\" points=\"265.897,1438.47 534.788,1438.47 534.788,1231.11 265.897,1231.11 265.897,1438.47 \"/>\n",
       "<polyline clip-path=\"url(#clip140)\" style=\"stroke:#009af9; stroke-linecap:round; stroke-linejoin:round; stroke-width:4; stroke-opacity:1; fill:none\" points=\"289.884,1282.95 433.805,1282.95 \"/>\n",
       "<path clip-path=\"url(#clip140)\" d=\"M471.634 1302.64 Q469.829 1307.27 468.116 1308.68 Q466.403 1310.1 463.532 1310.1 L460.13 1310.1 L460.13 1306.53 L462.63 1306.53 Q464.389 1306.53 465.361 1305.7 Q466.333 1304.86 467.514 1301.76 L468.278 1299.82 L457.792 1274.31 L462.306 1274.31 L470.407 1294.59 L478.509 1274.31 L483.023 1274.31 L471.634 1302.64 Z\" fill=\"#000000\" fill-rule=\"evenodd\" fill-opacity=\"1\" /><path clip-path=\"url(#clip140)\" d=\"M490.315 1296.3 L497.954 1296.3 L497.954 1269.93 L489.643 1271.6 L489.643 1267.34 L497.907 1265.67 L502.583 1265.67 L502.583 1296.3 L510.222 1296.3 L510.222 1300.23 L490.315 1300.23 L490.315 1296.3 Z\" fill=\"#000000\" fill-rule=\"evenodd\" fill-opacity=\"1\" /><polyline clip-path=\"url(#clip140)\" style=\"stroke:#e26f46; stroke-linecap:round; stroke-linejoin:round; stroke-width:4; stroke-opacity:1; fill:none\" points=\"289.884,1334.79 433.805,1334.79 \"/>\n",
       "<path clip-path=\"url(#clip140)\" d=\"M471.634 1354.48 Q469.829 1359.11 468.116 1360.52 Q466.403 1361.94 463.532 1361.94 L460.13 1361.94 L460.13 1358.37 L462.63 1358.37 Q464.389 1358.37 465.361 1357.54 Q466.333 1356.7 467.514 1353.6 L468.278 1351.66 L457.792 1326.15 L462.306 1326.15 L470.407 1346.43 L478.509 1326.15 L483.023 1326.15 L471.634 1354.48 Z\" fill=\"#000000\" fill-rule=\"evenodd\" fill-opacity=\"1\" /><path clip-path=\"url(#clip140)\" d=\"M493.532 1348.14 L509.852 1348.14 L509.852 1352.07 L487.907 1352.07 L487.907 1348.14 Q490.569 1345.38 495.153 1340.76 Q499.759 1336.1 500.94 1334.76 Q503.185 1332.24 504.065 1330.5 Q504.967 1328.74 504.967 1327.05 Q504.967 1324.3 503.023 1322.56 Q501.102 1320.82 498 1320.82 Q495.801 1320.82 493.347 1321.59 Q490.917 1322.35 488.139 1323.9 L488.139 1319.18 Q490.963 1318.05 493.417 1317.47 Q495.87 1316.89 497.907 1316.89 Q503.278 1316.89 506.472 1319.57 Q509.666 1322.26 509.666 1326.75 Q509.666 1328.88 508.856 1330.8 Q508.069 1332.7 505.963 1335.29 Q505.384 1335.96 502.282 1339.18 Q499.18 1342.38 493.532 1348.14 Z\" fill=\"#000000\" fill-rule=\"evenodd\" fill-opacity=\"1\" /><circle clip-path=\"url(#clip140)\" cx=\"361.844\" cy=\"1386.63\" r=\"23.04\" fill=\"#3da44d\" fill-rule=\"evenodd\" fill-opacity=\"1\" stroke=\"#000000\" stroke-opacity=\"1\" stroke-width=\"5.12\"/>\n",
       "<path clip-path=\"url(#clip140)\" d=\"M471.634 1406.32 Q469.829 1410.95 468.116 1412.36 Q466.403 1413.78 463.532 1413.78 L460.13 1413.78 L460.13 1410.21 L462.63 1410.21 Q464.389 1410.21 465.361 1409.38 Q466.333 1408.54 467.514 1405.44 L468.278 1403.5 L457.792 1377.99 L462.306 1377.99 L470.407 1398.27 L478.509 1377.99 L483.023 1377.99 L471.634 1406.32 Z\" fill=\"#000000\" fill-rule=\"evenodd\" fill-opacity=\"1\" /><path clip-path=\"url(#clip140)\" d=\"M503.671 1385.28 Q507.028 1386 508.903 1388.27 Q510.801 1390.53 510.801 1393.87 Q510.801 1398.98 507.282 1401.78 Q503.764 1404.59 497.282 1404.59 Q495.106 1404.59 492.792 1404.15 Q490.5 1403.73 488.046 1402.87 L488.046 1398.36 Q489.991 1399.49 492.305 1400.07 Q494.62 1400.65 497.143 1400.65 Q501.542 1400.65 503.833 1398.91 Q506.148 1397.18 506.148 1393.87 Q506.148 1390.81 503.995 1389.1 Q501.866 1387.36 498.046 1387.36 L494.018 1387.36 L494.018 1383.52 L498.231 1383.52 Q501.68 1383.52 503.509 1382.16 Q505.338 1380.77 505.338 1378.17 Q505.338 1375.51 503.44 1374.1 Q501.565 1372.66 498.046 1372.66 Q496.125 1372.66 493.926 1373.08 Q491.727 1373.5 489.088 1374.38 L489.088 1370.21 Q491.75 1369.47 494.065 1369.1 Q496.403 1368.73 498.463 1368.73 Q503.787 1368.73 506.889 1371.16 Q509.991 1373.57 509.991 1377.69 Q509.991 1380.56 508.347 1382.55 Q506.704 1384.52 503.671 1385.28 Z\" fill=\"#000000\" fill-rule=\"evenodd\" fill-opacity=\"1\" /></svg>\n"
      ]
     },
     "execution_count": 19,
     "metadata": {},
     "output_type": "execute_result"
    }
   ],
   "source": [
    "gr()\n",
    "using Plots\n",
    "plot(0:0.01:π, [sin, cos])\n",
    "scatter!([1.5, 1.5], [sin(1.5), cos(1.5)])"
   ]
  },
  {
   "cell_type": "code",
   "execution_count": 20,
   "id": "b27ee5da",
   "metadata": {},
   "outputs": [
    {
     "data": {
      "text/plain": [
       "0.07073720166770286"
      ]
     },
     "execution_count": 20,
     "metadata": {},
     "output_type": "execute_result"
    }
   ],
   "source": [
    "diff_dual(sin(dual(1.5,1)))"
   ]
  },
  {
   "cell_type": "code",
   "execution_count": 21,
   "id": "7a60490d",
   "metadata": {},
   "outputs": [
    {
     "data": {
      "text/plain": [
       "0.0707372016677029"
      ]
     },
     "execution_count": 21,
     "metadata": {},
     "output_type": "execute_result"
    }
   ],
   "source": [
    "cos(1.5)"
   ]
  },
  {
   "cell_type": "code",
   "execution_count": 22,
   "id": "29c0a464",
   "metadata": {},
   "outputs": [
    {
     "data": {
      "text/plain": [
       "0.0707528250558036"
      ]
     },
     "execution_count": 22,
     "metadata": {},
     "output_type": "execute_result"
    }
   ],
   "source": [
    "evaluate(differentiate(sin(a)), [1.5,1])"
   ]
  },
  {
   "cell_type": "markdown",
   "id": "9418cf8c",
   "metadata": {},
   "source": [
    "### Segunda función\n",
    "$$ f_2(x) = \\tan(e^{1/x}),\\qquad\\ x=2$$"
   ]
  },
  {
   "cell_type": "code",
   "execution_count": 23,
   "id": "d2d890df",
   "metadata": {},
   "outputs": [
    {
     "data": {
      "image/svg+xml": [
       "<?xml version=\"1.0\" encoding=\"utf-8\"?>\n",
       "<svg xmlns=\"http://www.w3.org/2000/svg\" xmlns:xlink=\"http://www.w3.org/1999/xlink\" width=\"600\" height=\"400\" viewBox=\"0 0 2400 1600\">\n",
       "<defs>\n",
       "  <clipPath id=\"clip180\">\n",
       "    <rect x=\"0\" y=\"0\" width=\"2400\" height=\"1600\"/>\n",
       "  </clipPath>\n",
       "</defs>\n",
       "<path clip-path=\"url(#clip180)\" d=\"M0 1600 L2400 1600 L2400 0 L0 0  Z\" fill=\"#ffffff\" fill-rule=\"evenodd\" fill-opacity=\"1\"/>\n",
       "<defs>\n",
       "  <clipPath id=\"clip181\">\n",
       "    <rect x=\"480\" y=\"0\" width=\"1681\" height=\"1600\"/>\n",
       "  </clipPath>\n",
       "</defs>\n",
       "<path clip-path=\"url(#clip180)\" d=\"M239.19 1486.45 L2352.76 1486.45 L2352.76 47.2441 L239.19 47.2441  Z\" fill=\"#ffffff\" fill-rule=\"evenodd\" fill-opacity=\"1\"/>\n",
       "<defs>\n",
       "  <clipPath id=\"clip182\">\n",
       "    <rect x=\"239\" y=\"47\" width=\"2115\" height=\"1440\"/>\n",
       "  </clipPath>\n",
       "</defs>\n",
       "<polyline clip-path=\"url(#clip182)\" style=\"stroke:#000000; stroke-linecap:round; stroke-linejoin:round; stroke-width:2; stroke-opacity:0.1; fill:none\" points=\"583.855,1486.45 583.855,47.2441 \"/>\n",
       "<polyline clip-path=\"url(#clip182)\" style=\"stroke:#000000; stroke-linecap:round; stroke-linejoin:round; stroke-width:2; stroke-opacity:0.1; fill:none\" points=\"1153.55,1486.45 1153.55,47.2441 \"/>\n",
       "<polyline clip-path=\"url(#clip182)\" style=\"stroke:#000000; stroke-linecap:round; stroke-linejoin:round; stroke-width:2; stroke-opacity:0.1; fill:none\" points=\"1723.24,1486.45 1723.24,47.2441 \"/>\n",
       "<polyline clip-path=\"url(#clip182)\" style=\"stroke:#000000; stroke-linecap:round; stroke-linejoin:round; stroke-width:2; stroke-opacity:0.1; fill:none\" points=\"2292.94,1486.45 2292.94,47.2441 \"/>\n",
       "<polyline clip-path=\"url(#clip180)\" style=\"stroke:#000000; stroke-linecap:round; stroke-linejoin:round; stroke-width:4; stroke-opacity:1; fill:none\" points=\"239.19,1486.45 2352.76,1486.45 \"/>\n",
       "<polyline clip-path=\"url(#clip180)\" style=\"stroke:#000000; stroke-linecap:round; stroke-linejoin:round; stroke-width:4; stroke-opacity:1; fill:none\" points=\"583.855,1486.45 583.855,1467.55 \"/>\n",
       "<polyline clip-path=\"url(#clip180)\" style=\"stroke:#000000; stroke-linecap:round; stroke-linejoin:round; stroke-width:4; stroke-opacity:1; fill:none\" points=\"1153.55,1486.45 1153.55,1467.55 \"/>\n",
       "<polyline clip-path=\"url(#clip180)\" style=\"stroke:#000000; stroke-linecap:round; stroke-linejoin:round; stroke-width:4; stroke-opacity:1; fill:none\" points=\"1723.24,1486.45 1723.24,1467.55 \"/>\n",
       "<polyline clip-path=\"url(#clip180)\" style=\"stroke:#000000; stroke-linecap:round; stroke-linejoin:round; stroke-width:4; stroke-opacity:1; fill:none\" points=\"2292.94,1486.45 2292.94,1467.55 \"/>\n",
       "<path clip-path=\"url(#clip180)\" d=\"M555.094 1544.91 L571.413 1544.91 L571.413 1548.85 L549.469 1548.85 L549.469 1544.91 Q552.131 1542.16 556.714 1537.53 Q561.321 1532.88 562.501 1531.53 Q564.747 1529.01 565.626 1527.27 Q566.529 1525.51 566.529 1523.82 Q566.529 1521.07 564.585 1519.33 Q562.663 1517.6 559.562 1517.6 Q557.362 1517.6 554.909 1518.36 Q552.478 1519.13 549.7 1520.68 L549.7 1515.95 Q552.525 1514.82 554.978 1514.24 Q557.432 1513.66 559.469 1513.66 Q564.839 1513.66 568.034 1516.35 Q571.228 1519.03 571.228 1523.52 Q571.228 1525.65 570.418 1527.57 Q569.631 1529.47 567.524 1532.07 Q566.946 1532.74 563.844 1535.95 Q560.742 1539.15 555.094 1544.91 Z\" fill=\"#000000\" fill-rule=\"evenodd\" fill-opacity=\"1\" /><path clip-path=\"url(#clip180)\" d=\"M581.228 1542.97 L586.112 1542.97 L586.112 1548.85 L581.228 1548.85 L581.228 1542.97 Z\" fill=\"#000000\" fill-rule=\"evenodd\" fill-opacity=\"1\" /><path clip-path=\"url(#clip180)\" d=\"M606.297 1517.37 Q602.686 1517.37 600.858 1520.93 Q599.052 1524.47 599.052 1531.6 Q599.052 1538.71 600.858 1542.27 Q602.686 1545.82 606.297 1545.82 Q609.932 1545.82 611.737 1542.27 Q613.566 1538.71 613.566 1531.6 Q613.566 1524.47 611.737 1520.93 Q609.932 1517.37 606.297 1517.37 M606.297 1513.66 Q612.108 1513.66 615.163 1518.27 Q618.242 1522.85 618.242 1531.6 Q618.242 1540.33 615.163 1544.94 Q612.108 1549.52 606.297 1549.52 Q600.487 1549.52 597.409 1544.94 Q594.353 1540.33 594.353 1531.6 Q594.353 1522.85 597.409 1518.27 Q600.487 1513.66 606.297 1513.66 Z\" fill=\"#000000\" fill-rule=\"evenodd\" fill-opacity=\"1\" /><path clip-path=\"url(#clip180)\" d=\"M1125.4 1544.91 L1141.72 1544.91 L1141.72 1548.85 L1119.78 1548.85 L1119.78 1544.91 Q1122.44 1542.16 1127.02 1537.53 Q1131.63 1532.88 1132.81 1531.53 Q1135.05 1529.01 1135.93 1527.27 Q1136.84 1525.51 1136.84 1523.82 Q1136.84 1521.07 1134.89 1519.33 Q1132.97 1517.6 1129.87 1517.6 Q1127.67 1517.6 1125.22 1518.36 Q1122.79 1519.13 1120.01 1520.68 L1120.01 1515.95 Q1122.83 1514.82 1125.29 1514.24 Q1127.74 1513.66 1129.78 1513.66 Q1135.15 1513.66 1138.34 1516.35 Q1141.54 1519.03 1141.54 1523.52 Q1141.54 1525.65 1140.73 1527.57 Q1139.94 1529.47 1137.83 1532.07 Q1137.25 1532.74 1134.15 1535.95 Q1131.05 1539.15 1125.4 1544.91 Z\" fill=\"#000000\" fill-rule=\"evenodd\" fill-opacity=\"1\" /><path clip-path=\"url(#clip180)\" d=\"M1151.54 1542.97 L1156.42 1542.97 L1156.42 1548.85 L1151.54 1548.85 L1151.54 1542.97 Z\" fill=\"#000000\" fill-rule=\"evenodd\" fill-opacity=\"1\" /><path clip-path=\"url(#clip180)\" d=\"M1167.42 1544.91 L1175.05 1544.91 L1175.05 1518.55 L1166.74 1520.21 L1166.74 1515.95 L1175.01 1514.29 L1179.68 1514.29 L1179.68 1544.91 L1187.32 1544.91 L1187.32 1548.85 L1167.42 1548.85 L1167.42 1544.91 Z\" fill=\"#000000\" fill-rule=\"evenodd\" fill-opacity=\"1\" /><path clip-path=\"url(#clip180)\" d=\"M1695.28 1544.91 L1711.6 1544.91 L1711.6 1548.85 L1689.66 1548.85 L1689.66 1544.91 Q1692.32 1542.16 1696.9 1537.53 Q1701.51 1532.88 1702.69 1531.53 Q1704.93 1529.01 1705.81 1527.27 Q1706.72 1525.51 1706.72 1523.82 Q1706.72 1521.07 1704.77 1519.33 Q1702.85 1517.6 1699.75 1517.6 Q1697.55 1517.6 1695.1 1518.36 Q1692.67 1519.13 1689.89 1520.68 L1689.89 1515.95 Q1692.71 1514.82 1695.17 1514.24 Q1697.62 1513.66 1699.66 1513.66 Q1705.03 1513.66 1708.22 1516.35 Q1711.42 1519.03 1711.42 1523.52 Q1711.42 1525.65 1710.6 1527.57 Q1709.82 1529.47 1707.71 1532.07 Q1707.13 1532.74 1704.03 1535.95 Q1700.93 1539.15 1695.28 1544.91 Z\" fill=\"#000000\" fill-rule=\"evenodd\" fill-opacity=\"1\" /><path clip-path=\"url(#clip180)\" d=\"M1721.42 1542.97 L1726.3 1542.97 L1726.3 1548.85 L1721.42 1548.85 L1721.42 1542.97 Z\" fill=\"#000000\" fill-rule=\"evenodd\" fill-opacity=\"1\" /><path clip-path=\"url(#clip180)\" d=\"M1740.51 1544.91 L1756.83 1544.91 L1756.83 1548.85 L1734.89 1548.85 L1734.89 1544.91 Q1737.55 1542.16 1742.13 1537.53 Q1746.74 1532.88 1747.92 1531.53 Q1750.16 1529.01 1751.04 1527.27 Q1751.95 1525.51 1751.95 1523.82 Q1751.95 1521.07 1750 1519.33 Q1748.08 1517.6 1744.98 1517.6 Q1742.78 1517.6 1740.33 1518.36 Q1737.9 1519.13 1735.12 1520.68 L1735.12 1515.95 Q1737.94 1514.82 1740.4 1514.24 Q1742.85 1513.66 1744.89 1513.66 Q1750.26 1513.66 1753.45 1516.35 Q1756.65 1519.03 1756.65 1523.52 Q1756.65 1525.65 1755.84 1527.57 Q1755.05 1529.47 1752.94 1532.07 Q1752.36 1532.74 1749.26 1535.95 Q1746.16 1539.15 1740.51 1544.91 Z\" fill=\"#000000\" fill-rule=\"evenodd\" fill-opacity=\"1\" /><path clip-path=\"url(#clip180)\" d=\"M2264.5 1544.91 L2280.82 1544.91 L2280.82 1548.85 L2258.88 1548.85 L2258.88 1544.91 Q2261.54 1542.16 2266.12 1537.53 Q2270.73 1532.88 2271.91 1531.53 Q2274.15 1529.01 2275.03 1527.27 Q2275.94 1525.51 2275.94 1523.82 Q2275.94 1521.07 2273.99 1519.33 Q2272.07 1517.6 2268.97 1517.6 Q2266.77 1517.6 2264.32 1518.36 Q2261.88 1519.13 2259.11 1520.68 L2259.11 1515.95 Q2261.93 1514.82 2264.38 1514.24 Q2266.84 1513.66 2268.88 1513.66 Q2274.25 1513.66 2277.44 1516.35 Q2280.63 1519.03 2280.63 1523.52 Q2280.63 1525.65 2279.82 1527.57 Q2279.04 1529.47 2276.93 1532.07 Q2276.35 1532.74 2273.25 1535.95 Q2270.15 1539.15 2264.5 1544.91 Z\" fill=\"#000000\" fill-rule=\"evenodd\" fill-opacity=\"1\" /><path clip-path=\"url(#clip180)\" d=\"M2290.63 1542.97 L2295.52 1542.97 L2295.52 1548.85 L2290.63 1548.85 L2290.63 1542.97 Z\" fill=\"#000000\" fill-rule=\"evenodd\" fill-opacity=\"1\" /><path clip-path=\"url(#clip180)\" d=\"M2319.87 1530.21 Q2323.23 1530.93 2325.1 1533.2 Q2327 1535.47 2327 1538.8 Q2327 1543.92 2323.48 1546.72 Q2319.96 1549.52 2313.48 1549.52 Q2311.31 1549.52 2308.99 1549.08 Q2306.7 1548.66 2304.25 1547.81 L2304.25 1543.29 Q2306.19 1544.43 2308.51 1545.01 Q2310.82 1545.58 2313.34 1545.58 Q2317.74 1545.58 2320.03 1543.85 Q2322.35 1542.11 2322.35 1538.8 Q2322.35 1535.75 2320.19 1534.03 Q2318.07 1532.3 2314.25 1532.3 L2310.22 1532.3 L2310.22 1528.45 L2314.43 1528.45 Q2317.88 1528.45 2319.71 1527.09 Q2321.54 1525.7 2321.54 1523.11 Q2321.54 1520.45 2319.64 1519.03 Q2317.76 1517.6 2314.25 1517.6 Q2312.32 1517.6 2310.13 1518.01 Q2307.93 1518.43 2305.29 1519.31 L2305.29 1515.14 Q2307.95 1514.4 2310.26 1514.03 Q2312.6 1513.66 2314.66 1513.66 Q2319.99 1513.66 2323.09 1516.09 Q2326.19 1518.5 2326.19 1522.62 Q2326.19 1525.49 2324.55 1527.48 Q2322.9 1529.45 2319.87 1530.21 Z\" fill=\"#000000\" fill-rule=\"evenodd\" fill-opacity=\"1\" /><polyline clip-path=\"url(#clip182)\" style=\"stroke:#000000; stroke-linecap:round; stroke-linejoin:round; stroke-width:2; stroke-opacity:0.1; fill:none\" points=\"239.19,1318.07 2352.76,1318.07 \"/>\n",
       "<polyline clip-path=\"url(#clip182)\" style=\"stroke:#000000; stroke-linecap:round; stroke-linejoin:round; stroke-width:2; stroke-opacity:0.1; fill:none\" points=\"239.19,1104.42 2352.76,1104.42 \"/>\n",
       "<polyline clip-path=\"url(#clip182)\" style=\"stroke:#000000; stroke-linecap:round; stroke-linejoin:round; stroke-width:2; stroke-opacity:0.1; fill:none\" points=\"239.19,890.777 2352.76,890.777 \"/>\n",
       "<polyline clip-path=\"url(#clip182)\" style=\"stroke:#000000; stroke-linecap:round; stroke-linejoin:round; stroke-width:2; stroke-opacity:0.1; fill:none\" points=\"239.19,677.13 2352.76,677.13 \"/>\n",
       "<polyline clip-path=\"url(#clip182)\" style=\"stroke:#000000; stroke-linecap:round; stroke-linejoin:round; stroke-width:2; stroke-opacity:0.1; fill:none\" points=\"239.19,463.483 2352.76,463.483 \"/>\n",
       "<polyline clip-path=\"url(#clip182)\" style=\"stroke:#000000; stroke-linecap:round; stroke-linejoin:round; stroke-width:2; stroke-opacity:0.1; fill:none\" points=\"239.19,249.836 2352.76,249.836 \"/>\n",
       "<polyline clip-path=\"url(#clip180)\" style=\"stroke:#000000; stroke-linecap:round; stroke-linejoin:round; stroke-width:4; stroke-opacity:1; fill:none\" points=\"239.19,1486.45 239.19,47.2441 \"/>\n",
       "<polyline clip-path=\"url(#clip180)\" style=\"stroke:#000000; stroke-linecap:round; stroke-linejoin:round; stroke-width:4; stroke-opacity:1; fill:none\" points=\"239.19,1318.07 258.088,1318.07 \"/>\n",
       "<polyline clip-path=\"url(#clip180)\" style=\"stroke:#000000; stroke-linecap:round; stroke-linejoin:round; stroke-width:4; stroke-opacity:1; fill:none\" points=\"239.19,1104.42 258.088,1104.42 \"/>\n",
       "<polyline clip-path=\"url(#clip180)\" style=\"stroke:#000000; stroke-linecap:round; stroke-linejoin:round; stroke-width:4; stroke-opacity:1; fill:none\" points=\"239.19,890.777 258.088,890.777 \"/>\n",
       "<polyline clip-path=\"url(#clip180)\" style=\"stroke:#000000; stroke-linecap:round; stroke-linejoin:round; stroke-width:4; stroke-opacity:1; fill:none\" points=\"239.19,677.13 258.088,677.13 \"/>\n",
       "<polyline clip-path=\"url(#clip180)\" style=\"stroke:#000000; stroke-linecap:round; stroke-linejoin:round; stroke-width:4; stroke-opacity:1; fill:none\" points=\"239.19,463.483 258.088,463.483 \"/>\n",
       "<polyline clip-path=\"url(#clip180)\" style=\"stroke:#000000; stroke-linecap:round; stroke-linejoin:round; stroke-width:4; stroke-opacity:1; fill:none\" points=\"239.19,249.836 258.088,249.836 \"/>\n",
       "<path clip-path=\"url(#clip180)\" d=\"M50.9921 1318.52 L80.6679 1318.52 L80.6679 1322.46 L50.9921 1322.46 L50.9921 1318.52 Z\" fill=\"#000000\" fill-rule=\"evenodd\" fill-opacity=\"1\" /><path clip-path=\"url(#clip180)\" d=\"M101.339 1316.21 Q98.1909 1316.21 96.3391 1318.36 Q94.5104 1320.51 94.5104 1324.26 Q94.5104 1327.99 96.3391 1330.17 Q98.1909 1332.32 101.339 1332.32 Q104.487 1332.32 106.316 1330.17 Q108.168 1327.99 108.168 1324.26 Q108.168 1320.51 106.316 1318.36 Q104.487 1316.21 101.339 1316.21 M110.621 1301.56 L110.621 1305.81 Q108.862 1304.98 107.057 1304.54 Q105.274 1304.1 103.515 1304.1 Q98.8854 1304.1 96.4317 1307.23 Q94.0012 1310.35 93.6539 1316.67 Q95.0197 1314.66 97.0798 1313.59 Q99.14 1312.5 101.617 1312.5 Q106.825 1312.5 109.834 1315.68 Q112.867 1318.82 112.867 1324.26 Q112.867 1329.59 109.719 1332.81 Q106.571 1336.02 101.339 1336.02 Q95.3437 1336.02 92.1725 1331.44 Q89.0012 1326.83 89.0012 1318.11 Q89.0012 1309.91 92.89 1305.05 Q96.7789 1300.17 103.33 1300.17 Q105.089 1300.17 106.871 1300.51 Q108.677 1300.86 110.621 1301.56 Z\" fill=\"#000000\" fill-rule=\"evenodd\" fill-opacity=\"1\" /><path clip-path=\"url(#clip180)\" d=\"M130.922 1303.87 Q127.311 1303.87 125.482 1307.43 Q123.677 1310.98 123.677 1318.11 Q123.677 1325.21 125.482 1328.78 Q127.311 1332.32 130.922 1332.32 Q134.556 1332.32 136.362 1328.78 Q138.191 1325.21 138.191 1318.11 Q138.191 1310.98 136.362 1307.43 Q134.556 1303.87 130.922 1303.87 M130.922 1300.17 Q136.732 1300.17 139.788 1304.77 Q142.867 1309.36 142.867 1318.11 Q142.867 1326.83 139.788 1331.44 Q136.732 1336.02 130.922 1336.02 Q125.112 1336.02 122.033 1331.44 Q118.978 1326.83 118.978 1318.11 Q118.978 1309.36 122.033 1304.77 Q125.112 1300.17 130.922 1300.17 Z\" fill=\"#000000\" fill-rule=\"evenodd\" fill-opacity=\"1\" /><path clip-path=\"url(#clip180)\" d=\"M161.084 1303.87 Q157.473 1303.87 155.644 1307.43 Q153.839 1310.98 153.839 1318.11 Q153.839 1325.21 155.644 1328.78 Q157.473 1332.32 161.084 1332.32 Q164.718 1332.32 166.524 1328.78 Q168.353 1325.21 168.353 1318.11 Q168.353 1310.98 166.524 1307.43 Q164.718 1303.87 161.084 1303.87 M161.084 1300.17 Q166.894 1300.17 169.95 1304.77 Q173.029 1309.36 173.029 1318.11 Q173.029 1326.83 169.95 1331.44 Q166.894 1336.02 161.084 1336.02 Q155.274 1336.02 152.195 1331.44 Q149.14 1326.83 149.14 1318.11 Q149.14 1309.36 152.195 1304.77 Q155.274 1300.17 161.084 1300.17 Z\" fill=\"#000000\" fill-rule=\"evenodd\" fill-opacity=\"1\" /><path clip-path=\"url(#clip180)\" d=\"M191.246 1303.87 Q187.635 1303.87 185.806 1307.43 Q184.001 1310.98 184.001 1318.11 Q184.001 1325.21 185.806 1328.78 Q187.635 1332.32 191.246 1332.32 Q194.88 1332.32 196.686 1328.78 Q198.514 1325.21 198.514 1318.11 Q198.514 1310.98 196.686 1307.43 Q194.88 1303.87 191.246 1303.87 M191.246 1300.17 Q197.056 1300.17 200.112 1304.77 Q203.19 1309.36 203.19 1318.11 Q203.19 1326.83 200.112 1331.44 Q197.056 1336.02 191.246 1336.02 Q185.436 1336.02 182.357 1331.44 Q179.302 1326.83 179.302 1318.11 Q179.302 1309.36 182.357 1304.77 Q185.436 1300.17 191.246 1300.17 Z\" fill=\"#000000\" fill-rule=\"evenodd\" fill-opacity=\"1\" /><path clip-path=\"url(#clip180)\" d=\"M50.9921 1104.88 L80.6679 1104.88 L80.6679 1108.81 L50.9921 1108.81 L50.9921 1104.88 Z\" fill=\"#000000\" fill-rule=\"evenodd\" fill-opacity=\"1\" /><path clip-path=\"url(#clip180)\" d=\"M103.608 1091.22 L91.8021 1109.67 L103.608 1109.67 L103.608 1091.22 M102.381 1087.14 L108.26 1087.14 L108.26 1109.67 L113.191 1109.67 L113.191 1113.56 L108.26 1113.56 L108.26 1121.7 L103.608 1121.7 L103.608 1113.56 L88.0058 1113.56 L88.0058 1109.04 L102.381 1087.14 Z\" fill=\"#000000\" fill-rule=\"evenodd\" fill-opacity=\"1\" /><path clip-path=\"url(#clip180)\" d=\"M130.922 1090.22 Q127.311 1090.22 125.482 1093.79 Q123.677 1097.33 123.677 1104.46 Q123.677 1111.57 125.482 1115.13 Q127.311 1118.67 130.922 1118.67 Q134.556 1118.67 136.362 1115.13 Q138.191 1111.57 138.191 1104.46 Q138.191 1097.33 136.362 1093.79 Q134.556 1090.22 130.922 1090.22 M130.922 1086.52 Q136.732 1086.52 139.788 1091.13 Q142.867 1095.71 142.867 1104.46 Q142.867 1113.19 139.788 1117.79 Q136.732 1122.38 130.922 1122.38 Q125.112 1122.38 122.033 1117.79 Q118.978 1113.19 118.978 1104.46 Q118.978 1095.71 122.033 1091.13 Q125.112 1086.52 130.922 1086.52 Z\" fill=\"#000000\" fill-rule=\"evenodd\" fill-opacity=\"1\" /><path clip-path=\"url(#clip180)\" d=\"M161.084 1090.22 Q157.473 1090.22 155.644 1093.79 Q153.839 1097.33 153.839 1104.46 Q153.839 1111.57 155.644 1115.13 Q157.473 1118.67 161.084 1118.67 Q164.718 1118.67 166.524 1115.13 Q168.353 1111.57 168.353 1104.46 Q168.353 1097.33 166.524 1093.79 Q164.718 1090.22 161.084 1090.22 M161.084 1086.52 Q166.894 1086.52 169.95 1091.13 Q173.029 1095.71 173.029 1104.46 Q173.029 1113.19 169.95 1117.79 Q166.894 1122.38 161.084 1122.38 Q155.274 1122.38 152.195 1117.79 Q149.14 1113.19 149.14 1104.46 Q149.14 1095.71 152.195 1091.13 Q155.274 1086.52 161.084 1086.52 Z\" fill=\"#000000\" fill-rule=\"evenodd\" fill-opacity=\"1\" /><path clip-path=\"url(#clip180)\" d=\"M191.246 1090.22 Q187.635 1090.22 185.806 1093.79 Q184.001 1097.33 184.001 1104.46 Q184.001 1111.57 185.806 1115.13 Q187.635 1118.67 191.246 1118.67 Q194.88 1118.67 196.686 1115.13 Q198.514 1111.57 198.514 1104.46 Q198.514 1097.33 196.686 1093.79 Q194.88 1090.22 191.246 1090.22 M191.246 1086.52 Q197.056 1086.52 200.112 1091.13 Q203.19 1095.71 203.19 1104.46 Q203.19 1113.19 200.112 1117.79 Q197.056 1122.38 191.246 1122.38 Q185.436 1122.38 182.357 1117.79 Q179.302 1113.19 179.302 1104.46 Q179.302 1095.71 182.357 1091.13 Q185.436 1086.52 191.246 1086.52 Z\" fill=\"#000000\" fill-rule=\"evenodd\" fill-opacity=\"1\" /><path clip-path=\"url(#clip180)\" d=\"M50.9921 891.228 L80.6679 891.228 L80.6679 895.164 L50.9921 895.164 L50.9921 891.228 Z\" fill=\"#000000\" fill-rule=\"evenodd\" fill-opacity=\"1\" /><path clip-path=\"url(#clip180)\" d=\"M94.7882 904.122 L111.108 904.122 L111.108 908.057 L89.1632 908.057 L89.1632 904.122 Q91.8252 901.367 96.4085 896.738 Q101.015 892.085 102.196 890.742 Q104.441 888.219 105.321 886.483 Q106.223 884.724 106.223 883.034 Q106.223 880.279 104.279 878.543 Q102.358 876.807 99.2558 876.807 Q97.0567 876.807 94.603 877.571 Q92.1725 878.335 89.3947 879.886 L89.3947 875.164 Q92.2188 874.03 94.6724 873.451 Q97.1261 872.872 99.1632 872.872 Q104.534 872.872 107.728 875.557 Q110.922 878.242 110.922 882.733 Q110.922 884.863 110.112 886.784 Q109.325 888.682 107.219 891.275 Q106.64 891.946 103.538 895.164 Q100.436 898.358 94.7882 904.122 Z\" fill=\"#000000\" fill-rule=\"evenodd\" fill-opacity=\"1\" /><path clip-path=\"url(#clip180)\" d=\"M130.922 876.576 Q127.311 876.576 125.482 880.141 Q123.677 883.682 123.677 890.812 Q123.677 897.918 125.482 901.483 Q127.311 905.025 130.922 905.025 Q134.556 905.025 136.362 901.483 Q138.191 897.918 138.191 890.812 Q138.191 883.682 136.362 880.141 Q134.556 876.576 130.922 876.576 M130.922 872.872 Q136.732 872.872 139.788 877.479 Q142.867 882.062 142.867 890.812 Q142.867 899.539 139.788 904.145 Q136.732 908.728 130.922 908.728 Q125.112 908.728 122.033 904.145 Q118.978 899.539 118.978 890.812 Q118.978 882.062 122.033 877.479 Q125.112 872.872 130.922 872.872 Z\" fill=\"#000000\" fill-rule=\"evenodd\" fill-opacity=\"1\" /><path clip-path=\"url(#clip180)\" d=\"M161.084 876.576 Q157.473 876.576 155.644 880.141 Q153.839 883.682 153.839 890.812 Q153.839 897.918 155.644 901.483 Q157.473 905.025 161.084 905.025 Q164.718 905.025 166.524 901.483 Q168.353 897.918 168.353 890.812 Q168.353 883.682 166.524 880.141 Q164.718 876.576 161.084 876.576 M161.084 872.872 Q166.894 872.872 169.95 877.479 Q173.029 882.062 173.029 890.812 Q173.029 899.539 169.95 904.145 Q166.894 908.728 161.084 908.728 Q155.274 908.728 152.195 904.145 Q149.14 899.539 149.14 890.812 Q149.14 882.062 152.195 877.479 Q155.274 872.872 161.084 872.872 Z\" fill=\"#000000\" fill-rule=\"evenodd\" fill-opacity=\"1\" /><path clip-path=\"url(#clip180)\" d=\"M191.246 876.576 Q187.635 876.576 185.806 880.141 Q184.001 883.682 184.001 890.812 Q184.001 897.918 185.806 901.483 Q187.635 905.025 191.246 905.025 Q194.88 905.025 196.686 901.483 Q198.514 897.918 198.514 890.812 Q198.514 883.682 196.686 880.141 Q194.88 876.576 191.246 876.576 M191.246 872.872 Q197.056 872.872 200.112 877.479 Q203.19 882.062 203.19 890.812 Q203.19 899.539 200.112 904.145 Q197.056 908.728 191.246 908.728 Q185.436 908.728 182.357 904.145 Q179.302 899.539 179.302 890.812 Q179.302 882.062 182.357 877.479 Q185.436 872.872 191.246 872.872 Z\" fill=\"#000000\" fill-rule=\"evenodd\" fill-opacity=\"1\" /><path clip-path=\"url(#clip180)\" d=\"M191.246 662.929 Q187.635 662.929 185.806 666.493 Q184.001 670.035 184.001 677.165 Q184.001 684.271 185.806 687.836 Q187.635 691.378 191.246 691.378 Q194.88 691.378 196.686 687.836 Q198.514 684.271 198.514 677.165 Q198.514 670.035 196.686 666.493 Q194.88 662.929 191.246 662.929 M191.246 659.225 Q197.056 659.225 200.112 663.831 Q203.19 668.415 203.19 677.165 Q203.19 685.891 200.112 690.498 Q197.056 695.081 191.246 695.081 Q185.436 695.081 182.357 690.498 Q179.302 685.891 179.302 677.165 Q179.302 668.415 182.357 663.831 Q185.436 659.225 191.246 659.225 Z\" fill=\"#000000\" fill-rule=\"evenodd\" fill-opacity=\"1\" /><path clip-path=\"url(#clip180)\" d=\"M94.7882 476.828 L111.108 476.828 L111.108 480.763 L89.1632 480.763 L89.1632 476.828 Q91.8252 474.073 96.4085 469.443 Q101.015 464.791 102.196 463.448 Q104.441 460.925 105.321 459.189 Q106.223 457.43 106.223 455.74 Q106.223 452.985 104.279 451.249 Q102.358 449.513 99.2558 449.513 Q97.0567 449.513 94.603 450.277 Q92.1725 451.041 89.3947 452.592 L89.3947 447.869 Q92.2188 446.735 94.6724 446.156 Q97.1261 445.578 99.1632 445.578 Q104.534 445.578 107.728 448.263 Q110.922 450.948 110.922 455.439 Q110.922 457.568 110.112 459.49 Q109.325 461.388 107.219 463.98 Q106.64 464.652 103.538 467.869 Q100.436 471.064 94.7882 476.828 Z\" fill=\"#000000\" fill-rule=\"evenodd\" fill-opacity=\"1\" /><path clip-path=\"url(#clip180)\" d=\"M130.922 449.281 Q127.311 449.281 125.482 452.846 Q123.677 456.388 123.677 463.517 Q123.677 470.624 125.482 474.189 Q127.311 477.73 130.922 477.73 Q134.556 477.73 136.362 474.189 Q138.191 470.624 138.191 463.517 Q138.191 456.388 136.362 452.846 Q134.556 449.281 130.922 449.281 M130.922 445.578 Q136.732 445.578 139.788 450.184 Q142.867 454.768 142.867 463.517 Q142.867 472.244 139.788 476.851 Q136.732 481.434 130.922 481.434 Q125.112 481.434 122.033 476.851 Q118.978 472.244 118.978 463.517 Q118.978 454.768 122.033 450.184 Q125.112 445.578 130.922 445.578 Z\" fill=\"#000000\" fill-rule=\"evenodd\" fill-opacity=\"1\" /><path clip-path=\"url(#clip180)\" d=\"M161.084 449.281 Q157.473 449.281 155.644 452.846 Q153.839 456.388 153.839 463.517 Q153.839 470.624 155.644 474.189 Q157.473 477.73 161.084 477.73 Q164.718 477.73 166.524 474.189 Q168.353 470.624 168.353 463.517 Q168.353 456.388 166.524 452.846 Q164.718 449.281 161.084 449.281 M161.084 445.578 Q166.894 445.578 169.95 450.184 Q173.029 454.768 173.029 463.517 Q173.029 472.244 169.95 476.851 Q166.894 481.434 161.084 481.434 Q155.274 481.434 152.195 476.851 Q149.14 472.244 149.14 463.517 Q149.14 454.768 152.195 450.184 Q155.274 445.578 161.084 445.578 Z\" fill=\"#000000\" fill-rule=\"evenodd\" fill-opacity=\"1\" /><path clip-path=\"url(#clip180)\" d=\"M191.246 449.281 Q187.635 449.281 185.806 452.846 Q184.001 456.388 184.001 463.517 Q184.001 470.624 185.806 474.189 Q187.635 477.73 191.246 477.73 Q194.88 477.73 196.686 474.189 Q198.514 470.624 198.514 463.517 Q198.514 456.388 196.686 452.846 Q194.88 449.281 191.246 449.281 M191.246 445.578 Q197.056 445.578 200.112 450.184 Q203.19 454.768 203.19 463.517 Q203.19 472.244 200.112 476.851 Q197.056 481.434 191.246 481.434 Q185.436 481.434 182.357 476.851 Q179.302 472.244 179.302 463.517 Q179.302 454.768 182.357 450.184 Q185.436 445.578 191.246 445.578 Z\" fill=\"#000000\" fill-rule=\"evenodd\" fill-opacity=\"1\" /><path clip-path=\"url(#clip180)\" d=\"M103.608 236.63 L91.8021 255.079 L103.608 255.079 L103.608 236.63 M102.381 232.556 L108.26 232.556 L108.26 255.079 L113.191 255.079 L113.191 258.967 L108.26 258.967 L108.26 267.116 L103.608 267.116 L103.608 258.967 L88.0058 258.967 L88.0058 254.454 L102.381 232.556 Z\" fill=\"#000000\" fill-rule=\"evenodd\" fill-opacity=\"1\" /><path clip-path=\"url(#clip180)\" d=\"M130.922 235.634 Q127.311 235.634 125.482 239.199 Q123.677 242.741 123.677 249.87 Q123.677 256.977 125.482 260.542 Q127.311 264.083 130.922 264.083 Q134.556 264.083 136.362 260.542 Q138.191 256.977 138.191 249.87 Q138.191 242.741 136.362 239.199 Q134.556 235.634 130.922 235.634 M130.922 231.931 Q136.732 231.931 139.788 236.537 Q142.867 241.12 142.867 249.87 Q142.867 258.597 139.788 263.204 Q136.732 267.787 130.922 267.787 Q125.112 267.787 122.033 263.204 Q118.978 258.597 118.978 249.87 Q118.978 241.12 122.033 236.537 Q125.112 231.931 130.922 231.931 Z\" fill=\"#000000\" fill-rule=\"evenodd\" fill-opacity=\"1\" /><path clip-path=\"url(#clip180)\" d=\"M161.084 235.634 Q157.473 235.634 155.644 239.199 Q153.839 242.741 153.839 249.87 Q153.839 256.977 155.644 260.542 Q157.473 264.083 161.084 264.083 Q164.718 264.083 166.524 260.542 Q168.353 256.977 168.353 249.87 Q168.353 242.741 166.524 239.199 Q164.718 235.634 161.084 235.634 M161.084 231.931 Q166.894 231.931 169.95 236.537 Q173.029 241.12 173.029 249.87 Q173.029 258.597 169.95 263.204 Q166.894 267.787 161.084 267.787 Q155.274 267.787 152.195 263.204 Q149.14 258.597 149.14 249.87 Q149.14 241.12 152.195 236.537 Q155.274 231.931 161.084 231.931 Z\" fill=\"#000000\" fill-rule=\"evenodd\" fill-opacity=\"1\" /><path clip-path=\"url(#clip180)\" d=\"M191.246 235.634 Q187.635 235.634 185.806 239.199 Q184.001 242.741 184.001 249.87 Q184.001 256.977 185.806 260.542 Q187.635 264.083 191.246 264.083 Q194.88 264.083 196.686 260.542 Q198.514 256.977 198.514 249.87 Q198.514 242.741 196.686 239.199 Q194.88 235.634 191.246 235.634 M191.246 231.931 Q197.056 231.931 200.112 236.537 Q203.19 241.12 203.19 249.87 Q203.19 258.597 200.112 263.204 Q197.056 267.787 191.246 267.787 Q185.436 267.787 182.357 263.204 Q179.302 258.597 179.302 249.87 Q179.302 241.12 182.357 236.537 Q185.436 231.931 191.246 231.931 Z\" fill=\"#000000\" fill-rule=\"evenodd\" fill-opacity=\"1\" /><polyline clip-path=\"url(#clip182)\" style=\"stroke:#009af9; stroke-linecap:round; stroke-linejoin:round; stroke-width:4; stroke-opacity:1; fill:none\" points=\"299.008,678.203 304.705,678.208 310.402,678.213 316.099,678.218 321.796,678.223 327.493,678.228 333.19,678.233 338.887,678.238 344.584,678.243 350.281,678.248 355.978,678.253 361.675,678.258 367.372,678.263 373.069,678.269 378.765,678.274 384.462,678.279 390.159,678.285 395.856,678.29 401.553,678.296 407.25,678.301 412.947,678.307 418.644,678.312 424.341,678.318 430.038,678.324 435.735,678.329 441.432,678.335 447.129,678.341 452.826,678.347 458.523,678.353 464.22,678.359 469.917,678.365 475.613,678.371 481.31,678.377 487.007,678.384 492.704,678.39 498.401,678.396 504.098,678.403 509.795,678.409 515.492,678.415 521.189,678.422 526.886,678.429 532.583,678.435 538.28,678.442 543.977,678.449 549.674,678.456 555.371,678.462 561.068,678.469 566.765,678.477 572.461,678.484 578.158,678.491 583.855,678.498 589.552,678.505 595.249,678.513 600.946,678.52 606.643,678.528 612.34,678.535 618.037,678.543 623.734,678.551 629.431,678.558 635.128,678.566 640.825,678.574 646.522,678.582 652.219,678.59 657.916,678.599 663.613,678.607 669.31,678.615 675.006,678.624 680.703,678.632 686.4,678.641 692.097,678.649 697.794,678.658 703.491,678.667 709.188,678.676 714.885,678.685 720.582,678.694 726.279,678.704 731.976,678.713 737.673,678.722 743.37,678.732 749.067,678.742 754.764,678.751 760.461,678.761 766.158,678.771 771.854,678.781 777.551,678.791 783.248,678.802 788.945,678.812 794.642,678.823 800.339,678.833 806.036,678.844 811.733,678.855 817.43,678.866 823.127,678.877 828.824,678.889 834.521,678.9 840.218,678.912 845.915,678.923 851.612,678.935 857.309,678.947 863.006,678.959 868.702,678.972 874.399,678.984 880.096,678.997 885.793,679.009 891.49,679.022 897.187,679.035 902.884,679.048 908.581,679.062 914.278,679.075 919.975,679.089 925.672,679.103 931.369,679.117 937.066,679.131 942.763,679.146 948.46,679.16 954.157,679.175 959.854,679.19 965.551,679.206 971.247,679.221 976.944,679.237 982.641,679.253 988.338,679.269 994.035,679.285 999.732,679.302 1005.43,679.318 1011.13,679.335 1016.82,679.353 1022.52,679.37 1028.22,679.388 1033.91,679.406 1039.61,679.424 1045.31,679.443 1051,679.462 1056.7,679.481 1062.4,679.501 1068.1,679.52 1073.79,679.54 1079.49,679.561 1085.19,679.582 1090.88,679.603 1096.58,679.624 1102.28,679.646 1107.97,679.668 1113.67,679.69 1119.37,679.713 1125.06,679.736 1130.76,679.76 1136.46,679.784 1142.16,679.808 1147.85,679.833 1153.55,679.858 1159.25,679.884 1164.94,679.91 1170.64,679.937 1176.34,679.964 1182.03,679.991 1187.73,680.02 1193.43,680.048 1199.13,680.077 1204.82,680.107 1210.52,680.137 1216.22,680.168 1221.91,680.2 1227.61,680.232 1233.31,680.265 1239,680.298 1244.7,680.332 1250.4,680.367 1256.09,680.402 1261.79,680.439 1267.49,680.476 1273.19,680.513 1278.88,680.552 1284.58,680.592 1290.28,680.632 1295.97,680.673 1301.67,680.715 1307.37,680.758 1313.06,680.803 1318.76,680.848 1324.46,680.894 1330.15,680.941 1335.85,680.99 1341.55,681.04 1347.25,681.091 1352.94,681.143 1358.64,681.196 1364.34,681.251 1370.03,681.308 1375.73,681.365 1381.43,681.425 1387.12,681.486 1392.82,681.549 1398.52,681.613 1404.22,681.679 1409.91,681.747 1415.61,681.818 1421.31,681.89 1427,681.964 1432.7,682.041 1438.4,682.12 1444.09,682.202 1449.79,682.286 1455.49,682.373 1461.18,682.463 1466.88,682.556 1472.58,682.652 1478.28,682.751 1483.97,682.854 1489.67,682.961 1495.37,683.071 1501.06,683.186 1506.76,683.305 1512.46,683.429 1518.15,683.557 1523.85,683.691 1529.55,683.83 1535.24,683.975 1540.94,684.127 1546.64,684.285 1552.34,684.45 1558.03,684.623 1563.73,684.804 1569.43,684.993 1575.12,685.193 1580.82,685.402 1586.52,685.622 1592.21,685.854 1597.91,686.098 1603.61,686.356 1609.3,686.63 1615,686.919 1620.7,687.227 1626.4,687.554 1632.09,687.903 1637.79,688.275 1643.49,688.673 1649.18,689.101 1654.88,689.561 1660.58,690.057 1666.27,690.593 1671.97,691.176 1677.67,691.81 1683.37,692.504 1689.06,693.265 1694.76,694.105 1700.46,695.036 1706.15,696.074 1711.85,697.238 1717.55,698.552 1723.24,700.049 1728.94,701.769 1734.64,703.766 1740.33,706.112 1746.03,708.907 1751.73,712.295 1757.43,716.486 1763.12,721.806 1768.82,728.778 1774.52,738.317 1780.21,752.159 1785.91,774.063 1791.61,813.967 1797.3,909.534 1803,1445.72 1808.7,87.9763 1814.39,464.023 1820.09,546.994 1825.79,583.434 1831.49,603.913 1837.18,617.034 1842.88,626.158 1848.58,632.87 1854.27,638.015 1859.97,642.085 1865.67,645.384 1871.36,648.113 1877.06,650.407 1882.76,652.364 1888.46,654.051 1894.15,655.522 1899.85,656.815 1905.55,657.961 1911.24,658.984 1916.94,659.902 1922.64,660.73 1928.33,661.482 1934.03,662.168 1939.73,662.795 1945.42,663.371 1951.12,663.902 1956.82,664.393 1962.52,664.848 1968.21,665.272 1973.91,665.666 1979.61,666.035 1985.3,666.381 1991,666.706 1996.7,667.011 2002.39,667.298 2008.09,667.569 2013.79,667.826 2019.48,668.069 2025.18,668.299 2030.88,668.517 2036.58,668.725 2042.27,668.923 2047.97,669.111 2053.67,669.291 2059.36,669.463 2065.06,669.627 2070.76,669.784 2076.45,669.935 2082.15,670.079 2087.85,670.218 2093.55,670.351 2099.24,670.479 2104.94,670.602 2110.64,670.72 2116.33,670.834 2122.03,670.944 2127.73,671.05 2133.42,671.153 2139.12,671.252 2144.82,671.347 2150.51,671.44 2156.21,671.529 2161.91,671.616 2167.61,671.7 2173.3,671.781 2179,671.86 2184.7,671.936 2190.39,672.01 2196.09,672.082 2201.79,672.152 2207.48,672.22 2213.18,672.286 2218.88,672.35 2224.57,672.413 2230.27,672.474 2235.97,672.533 2241.67,672.591 2247.36,672.647 2253.06,672.701 2258.76,672.755 2264.45,672.807 2270.15,672.858 2275.85,672.907 2281.54,672.956 2287.24,673.003 2292.94,673.049 \"/>\n",
       "<circle clip-path=\"url(#clip182)\" cx=\"583.855\" cy=\"678.498\" r=\"14.4\" fill=\"#e26f46\" fill-rule=\"evenodd\" fill-opacity=\"1\" stroke=\"#000000\" stroke-opacity=\"1\" stroke-width=\"3.2\"/>\n",
       "<path clip-path=\"url(#clip180)\" d=\"M1863.45 250.738 L2282.3 250.738 L2282.3 95.2176 L1863.45 95.2176  Z\" fill=\"#ffffff\" fill-rule=\"evenodd\" fill-opacity=\"1\"/>\n",
       "<polyline clip-path=\"url(#clip180)\" style=\"stroke:#000000; stroke-linecap:round; stroke-linejoin:round; stroke-width:4; stroke-opacity:1; fill:none\" points=\"1863.45,250.738 2282.3,250.738 2282.3,95.2176 1863.45,95.2176 1863.45,250.738 \"/>\n",
       "<polyline clip-path=\"url(#clip180)\" style=\"stroke:#009af9; stroke-linecap:round; stroke-linejoin:round; stroke-width:4; stroke-opacity:1; fill:none\" points=\"1886.93,147.058 2027.84,147.058 \"/>\n",
       "<path clip-path=\"url(#clip180)\" d=\"M2065.16 166.745 Q2063.36 171.375 2061.64 172.787 Q2059.93 174.199 2057.06 174.199 L2053.66 174.199 L2053.66 170.634 L2056.16 170.634 Q2057.92 170.634 2058.89 169.8 Q2059.86 168.967 2061.04 165.865 L2061.81 163.921 L2051.32 138.412 L2055.83 138.412 L2063.94 158.689 L2072.04 138.412 L2076.55 138.412 L2065.16 166.745 Z\" fill=\"#000000\" fill-rule=\"evenodd\" fill-opacity=\"1\" /><path clip-path=\"url(#clip180)\" d=\"M2083.84 160.402 L2091.48 160.402 L2091.48 134.037 L2083.17 135.703 L2083.17 131.444 L2091.44 129.778 L2096.11 129.778 L2096.11 160.402 L2103.75 160.402 L2103.75 164.338 L2083.84 164.338 L2083.84 160.402 Z\" fill=\"#000000\" fill-rule=\"evenodd\" fill-opacity=\"1\" /><circle clip-path=\"url(#clip180)\" cx=\"1957.38\" cy=\"198.898\" r=\"23.04\" fill=\"#e26f46\" fill-rule=\"evenodd\" fill-opacity=\"1\" stroke=\"#000000\" stroke-opacity=\"1\" stroke-width=\"5.12\"/>\n",
       "<path clip-path=\"url(#clip180)\" d=\"M2051.32 201.293 L2063.8 201.293 L2063.8 205.09 L2051.32 205.09 L2051.32 201.293 Z\" fill=\"#000000\" fill-rule=\"evenodd\" fill-opacity=\"1\" /><path clip-path=\"url(#clip180)\" d=\"M2071.99 212.242 L2079.63 212.242 L2079.63 185.877 L2071.32 187.543 L2071.32 183.284 L2079.58 181.618 L2084.26 181.618 L2084.26 212.242 L2091.9 212.242 L2091.9 216.178 L2071.99 216.178 L2071.99 212.242 Z\" fill=\"#000000\" fill-rule=\"evenodd\" fill-opacity=\"1\" /><path clip-path=\"url(#clip180)\" d=\"M2105.37 212.242 L2121.69 212.242 L2121.69 216.178 L2099.75 216.178 L2099.75 212.242 Q2102.41 209.488 2106.99 204.858 Q2111.6 200.205 2112.78 198.863 Q2115.02 196.34 2115.9 194.604 Q2116.81 192.844 2116.81 191.155 Q2116.81 188.4 2114.86 186.664 Q2112.94 184.928 2109.84 184.928 Q2107.64 184.928 2105.19 185.692 Q2102.76 186.455 2099.98 188.006 L2099.98 183.284 Q2102.8 182.15 2105.26 181.571 Q2107.71 180.993 2109.75 180.993 Q2115.12 180.993 2118.31 183.678 Q2121.51 186.363 2121.51 190.854 Q2121.51 192.983 2120.7 194.905 Q2119.91 196.803 2117.8 199.395 Q2117.22 200.067 2114.12 203.284 Q2111.02 206.479 2105.37 212.242 Z\" fill=\"#000000\" fill-rule=\"evenodd\" fill-opacity=\"1\" /><path clip-path=\"url(#clip180)\" d=\"M2131.51 210.298 L2136.39 210.298 L2136.39 216.178 L2131.51 216.178 L2131.51 210.298 Z\" fill=\"#000000\" fill-rule=\"evenodd\" fill-opacity=\"1\" /><path clip-path=\"url(#clip180)\" d=\"M2156.57 199.766 Q2153.24 199.766 2151.32 201.548 Q2149.42 203.33 2149.42 206.455 Q2149.42 209.58 2151.32 211.363 Q2153.24 213.145 2156.57 213.145 Q2159.91 213.145 2161.83 211.363 Q2163.75 209.557 2163.75 206.455 Q2163.75 203.33 2161.83 201.548 Q2159.93 199.766 2156.57 199.766 M2151.9 197.775 Q2148.89 197.034 2147.2 194.974 Q2145.53 192.914 2145.53 189.951 Q2145.53 185.807 2148.47 183.4 Q2151.44 180.993 2156.57 180.993 Q2161.74 180.993 2164.68 183.4 Q2167.62 185.807 2167.62 189.951 Q2167.62 192.914 2165.93 194.974 Q2164.26 197.034 2161.27 197.775 Q2164.65 198.562 2166.53 200.854 Q2168.43 203.145 2168.43 206.455 Q2168.43 211.479 2165.35 214.164 Q2162.29 216.849 2156.57 216.849 Q2150.86 216.849 2147.78 214.164 Q2144.72 211.479 2144.72 206.455 Q2144.72 203.145 2146.62 200.854 Q2148.52 198.562 2151.9 197.775 M2150.19 190.391 Q2150.19 193.076 2151.85 194.58 Q2153.54 196.085 2156.57 196.085 Q2159.58 196.085 2161.27 194.58 Q2162.99 193.076 2162.99 190.391 Q2162.99 187.705 2161.27 186.201 Q2159.58 184.696 2156.57 184.696 Q2153.54 184.696 2151.85 186.201 Q2150.19 187.705 2150.19 190.391 Z\" fill=\"#000000\" fill-rule=\"evenodd\" fill-opacity=\"1\" /><path clip-path=\"url(#clip180)\" d=\"M2186.74 184.696 Q2183.13 184.696 2181.3 188.261 Q2179.49 191.803 2179.49 198.932 Q2179.49 206.039 2181.3 209.604 Q2183.13 213.145 2186.74 213.145 Q2190.37 213.145 2192.18 209.604 Q2194.01 206.039 2194.01 198.932 Q2194.01 191.803 2192.18 188.261 Q2190.37 184.696 2186.74 184.696 M2186.74 180.993 Q2192.55 180.993 2195.6 185.599 Q2198.68 190.182 2198.68 198.932 Q2198.68 207.659 2195.6 212.266 Q2192.55 216.849 2186.74 216.849 Q2180.93 216.849 2177.85 212.266 Q2174.79 207.659 2174.79 198.932 Q2174.79 190.182 2177.85 185.599 Q2180.93 180.993 2186.74 180.993 Z\" fill=\"#000000\" fill-rule=\"evenodd\" fill-opacity=\"1\" /><path clip-path=\"url(#clip180)\" d=\"M2217.48 197.034 Q2214.33 197.034 2212.48 199.187 Q2210.65 201.34 2210.65 205.09 Q2210.65 208.816 2212.48 210.992 Q2214.33 213.145 2217.48 213.145 Q2220.63 213.145 2222.45 210.992 Q2224.31 208.816 2224.31 205.09 Q2224.31 201.34 2222.45 199.187 Q2220.63 197.034 2217.48 197.034 M2226.76 182.381 L2226.76 186.641 Q2225 185.807 2223.19 185.368 Q2221.41 184.928 2219.65 184.928 Q2215.02 184.928 2212.57 188.053 Q2210.14 191.178 2209.79 197.497 Q2211.16 195.483 2213.22 194.418 Q2215.28 193.33 2217.76 193.33 Q2222.96 193.33 2225.97 196.502 Q2229.01 199.65 2229.01 205.09 Q2229.01 210.414 2225.86 213.631 Q2222.71 216.849 2217.48 216.849 Q2211.48 216.849 2208.31 212.266 Q2205.14 207.659 2205.14 198.932 Q2205.14 190.738 2209.03 185.877 Q2212.92 180.993 2219.47 180.993 Q2221.23 180.993 2223.01 181.34 Q2224.82 181.687 2226.76 182.381 Z\" fill=\"#000000\" fill-rule=\"evenodd\" fill-opacity=\"1\" /><path clip-path=\"url(#clip180)\" d=\"M2237.2 215.46 L2237.2 211.201 Q2238.96 212.034 2240.76 212.474 Q2242.57 212.914 2244.31 212.914 Q2248.94 212.914 2251.37 209.812 Q2253.82 206.687 2254.17 200.344 Q2252.82 202.335 2250.76 203.4 Q2248.7 204.465 2246.2 204.465 Q2241.02 204.465 2237.99 201.34 Q2234.98 198.192 2234.98 192.752 Q2234.98 187.428 2238.13 184.21 Q2241.27 180.993 2246.5 180.993 Q2252.5 180.993 2255.65 185.599 Q2258.82 190.182 2258.82 198.932 Q2258.82 207.104 2254.93 211.988 Q2251.07 216.849 2244.51 216.849 Q2242.75 216.849 2240.95 216.502 Q2239.14 216.154 2237.2 215.46 M2246.5 200.807 Q2249.65 200.807 2251.48 198.654 Q2253.33 196.502 2253.33 192.752 Q2253.33 189.025 2251.48 186.872 Q2249.65 184.696 2246.5 184.696 Q2243.36 184.696 2241.5 186.872 Q2239.68 189.025 2239.68 192.752 Q2239.68 196.502 2241.5 198.654 Q2243.36 200.807 2246.5 200.807 Z\" fill=\"#000000\" fill-rule=\"evenodd\" fill-opacity=\"1\" /></svg>\n"
      ]
     },
     "execution_count": 23,
     "metadata": {},
     "output_type": "execute_result"
    }
   ],
   "source": [
    "X = 1.95:0.001:2.3\n",
    "Y = tan.(exp.(1 ./X))\n",
    "s = round(tan(exp(1/2)), digits=4)\n",
    "\n",
    "plot(X, Y)\n",
    "scatter!([2], [s], label=\"$s\")"
   ]
  },
  {
   "cell_type": "markdown",
   "id": "07199a06",
   "metadata": {},
   "source": [
    "Debido a que \n",
    "\n",
    "$$\\frac{1}{x} = \\frac{1}{a+b\\varepsilon} = \\frac{1}{a+b\\varepsilon}\\left(\\frac{a-b\\varepsilon}{a-b\\varepsilon}\\right)=  \\frac{a-b\\varepsilon}{a^2} =\\frac{1}{a} - \\frac{b}{a^2}\\varepsilon$$"
   ]
  },
  {
   "cell_type": "markdown",
   "id": "9909e25f",
   "metadata": {},
   "source": [
    "es decir que definimos que\n",
    "\n",
    "$$ x^{-1} = \\frac{1}{a}\\begin{pmatrix}1 & -\\frac{b}{a}\\varepsilon\\\\ 0 & 1\\end{pmatrix}$$"
   ]
  },
  {
   "cell_type": "code",
   "execution_count": 24,
   "id": "830ffbcb",
   "metadata": {},
   "outputs": [
    {
     "data": {
      "text/plain": [
       "div_dual (generic function with 2 methods)"
      ]
     },
     "execution_count": 24,
     "metadata": {},
     "output_type": "execute_result"
    }
   ],
   "source": [
    "function div_dual(x::Matrix, y::Matrix) \n",
    "    a, b = x[1,1], x[1,2]\n",
    "    c, d = y[1,1], y[1,2]\n",
    "    dual(a/c, (b*c - a*d)/c^2)\n",
    "end\n",
    "\n",
    "function div_dual(x::Number, y::Matrix) \n",
    "    c, d = y[1,1], y[1,2]\n",
    "    x*dual(1/c, -d/c^2)\n",
    "end"
   ]
  },
  {
   "cell_type": "code",
   "execution_count": 25,
   "id": "1a476528",
   "metadata": {},
   "outputs": [
    {
     "data": {
      "text/plain": [
       "-68.01637561599418"
      ]
     },
     "execution_count": 25,
     "metadata": {},
     "output_type": "execute_result"
    }
   ],
   "source": [
    "diff_dual(tan(exp(div_dual(1,dual(2, 1)))))"
   ]
  },
  {
   "cell_type": "code",
   "execution_count": 26,
   "id": "8752345e",
   "metadata": {},
   "outputs": [
    {
     "data": {
      "text/plain": [
       "1-element Vector{Float64}:\n",
       " -68.01639038160748"
      ]
     },
     "execution_count": 26,
     "metadata": {},
     "output_type": "execute_result"
    }
   ],
   "source": [
    "diff(tan.(exp.(1 ./[1.9999, 2.0001])))/(2.0001-1.9999)"
   ]
  },
  {
   "cell_type": "markdown",
   "id": "6c63c264",
   "metadata": {},
   "source": [
    "### Tercera función\n",
    "\n",
    "$$f_3(x) = \\frac{x^3-\\sinh(x)}{\\sqrt{\\cos^2(x)-\\sec(x)}},\\qquad\\ x=3$$"
   ]
  },
  {
   "cell_type": "code",
   "execution_count": 27,
   "id": "e33616e5",
   "metadata": {},
   "outputs": [
    {
     "data": {
      "text/plain": [
       "11.592862366164674"
      ]
     },
     "execution_count": 27,
     "metadata": {},
     "output_type": "execute_result"
    }
   ],
   "source": [
    "x = dual(3,1)\n",
    "diff_dual((x^3-sinh(x))/sqrt(cos(x)^2-sec(x)))"
   ]
  },
  {
   "cell_type": "code",
   "execution_count": 28,
   "id": "20956c75",
   "metadata": {},
   "outputs": [
    {
     "data": {
      "text/plain": [
       "1×1 Matrix{Float64}:\n",
       " 11.592862366351477"
      ]
     },
     "execution_count": 28,
     "metadata": {},
     "output_type": "execute_result"
    }
   ],
   "source": [
    "xx = [3-0.00001, 3+0.00001]\n",
    "diff((xx.^3-sinh.(xx)) ./sqrt.(cos.(xx).^2-sec.(xx)))/diff(xx)"
   ]
  },
  {
   "cell_type": "markdown",
   "id": "66909387",
   "metadata": {},
   "source": [
    "[7] Usa notación compacta (es decir, de la forma [i^2 for i in 1:100] para escribir el conjunto $\\{i^2 | i \\in \\{1,2,\\dots, 100\\}\\}$) para hacer un arreglo de $10^6$ elementos, de $0$'s y $1$'s, donde el elemento $i$ del arrego sea 1 si $i$ es un número primo o $1$ y $0$ en otro caso. No puedes crear funciones y debe ser una sola línea de código.\n",
    "\n",
    "Obtén (en otra línea) con este resultado cuántos números primos hay entre uno y un millón.  "
   ]
  },
  {
   "cell_type": "code",
   "execution_count": 29,
   "id": "c544b791",
   "metadata": {},
   "outputs": [
    {
     "data": {
      "text/plain": [
       "1000000-element Vector{Int64}:\n",
       " 0\n",
       " 1\n",
       " 1\n",
       " 0\n",
       " 1\n",
       " 0\n",
       " 1\n",
       " 0\n",
       " 0\n",
       " 0\n",
       " 1\n",
       " 0\n",
       " 1\n",
       " ⋮\n",
       " 0\n",
       " 0\n",
       " 0\n",
       " 0\n",
       " 0\n",
       " 0\n",
       " 0\n",
       " 0\n",
       " 0\n",
       " 0\n",
       " 0\n",
       " 0"
      ]
     },
     "execution_count": 29,
     "metadata": {},
     "output_type": "execute_result"
    }
   ],
   "source": [
    "using Primes; primos = [(isprime(i) ? 1 : 0) for i in 1:10^6]"
   ]
  },
  {
   "cell_type": "code",
   "execution_count": 30,
   "id": "183b52f3",
   "metadata": {},
   "outputs": [
    {
     "data": {
      "text/plain": [
       "78498"
      ]
     },
     "execution_count": 30,
     "metadata": {},
     "output_type": "execute_result"
    }
   ],
   "source": [
    "sum(primos)"
   ]
  },
  {
   "cell_type": "markdown",
   "id": "7e00d07c",
   "metadata": {},
   "source": [
    "# Funciones  y condicionales\n",
    "\n",
    "Julia se compone de objetos (sugetos de las oraciones) y funciones (los verbos). Más adelante veremos cómo hacer objetos, por ahora utilizaremos los que tiene pre-existentes Julia para hacer funciones que los operen. \n",
    "\n",
    "En general, a la hora de programar, conviene tener funciones pequeñas (1-20 líneas). Hay algunas excepciones, pero si una función tienen más de 20 líneas es probablemente porque debían descomponerla en varias funciones más pequeñas. Parte de la elegancia al programar, es justamente descomponer todo en funciones pequeñas. Así que cada vez que tengan más de 20 líneas de código en una función, pregúntense si no pueden descomponerla en varias funciones con menos código.\n",
    "\n",
    "En esta sección practicarán el hacer varias funciones. En lo que sigue **eviten utilizar ciclos para sus definiciones**, eso vendrá en la siguiente sección. \n",
    "\n",
    "[1] Haz una función que calcule el número de primos menores que $x$, con $x$ un número real cualquiera. Utiliza lo que hiciste en el ejercicio 7."
   ]
  },
  {
   "cell_type": "code",
   "execution_count": 31,
   "id": "f83cd6b0",
   "metadata": {},
   "outputs": [
    {
     "data": {
      "text/plain": [
       "primos_menores_que (generic function with 1 method)"
      ]
     },
     "execution_count": 31,
     "metadata": {},
     "output_type": "execute_result"
    }
   ],
   "source": [
    "function primos_menores_que(x::Number)\n",
    "    x = floor(x)\n",
    "    sumita = [(isprime(Int(i)) ? 1 : 0) for i in 1:x] \n",
    "    sum(sumita)\n",
    "end"
   ]
  },
  {
   "cell_type": "code",
   "execution_count": 32,
   "id": "27be6d8b",
   "metadata": {},
   "outputs": [
    {
     "data": {
      "text/plain": [
       "3"
      ]
     },
     "execution_count": 32,
     "metadata": {},
     "output_type": "execute_result"
    }
   ],
   "source": [
    "primos_menores_que(5.9)"
   ]
  },
  {
   "cell_type": "markdown",
   "id": "3e6aefa8",
   "metadata": {},
   "source": [
    "[2] Haz una función que calcule el número de primos relativos a $i$ y menores que $i$, donde $i$ es un número entero positivo. Es decir, haz la función $\\phi$ de Euler de los números primos. "
   ]
  },
  {
   "cell_type": "code",
   "execution_count": 33,
   "id": "9dd55d1f",
   "metadata": {},
   "outputs": [
    {
     "data": {
      "text/plain": [
       "primos_relativos (generic function with 1 method)"
      ]
     },
     "execution_count": 33,
     "metadata": {},
     "output_type": "execute_result"
    }
   ],
   "source": [
    "function primos_relativos(i::Int)\n",
    "    (i<1) ? println(\"No es un número entero positivo\") : \n",
    "    println(\"turip ip ip ip\")\n",
    "end"
   ]
  },
  {
   "cell_type": "code",
   "execution_count": 34,
   "id": "f7ac7e32",
   "metadata": {},
   "outputs": [
    {
     "name": "stdout",
     "output_type": "stream",
     "text": [
      "turip ip ip ip\n"
     ]
    }
   ],
   "source": [
    "primos_relativos(1)"
   ]
  },
  {
   "cell_type": "markdown",
   "id": "34ac7b81",
   "metadata": {},
   "source": [
    "[3] Haz una función que tenga como argumentos una función $f$ y un valor real $x$ y que usando los números duales calcule  $\\frac{df(x)}{dx}$. "
   ]
  },
  {
   "cell_type": "code",
   "execution_count": 35,
   "id": "6c4cb957",
   "metadata": {},
   "outputs": [
    {
     "data": {
      "text/plain": [
       "auto_diff (generic function with 1 method)"
      ]
     },
     "execution_count": 35,
     "metadata": {},
     "output_type": "execute_result"
    }
   ],
   "source": [
    "function auto_diff(f, X, dX)\n",
    "    x, y = X\n",
    "    dx, dy = normalize(dX)\n",
    "    x_dual = dual(x, dx)\n",
    "    y_dual = dual(y, dy)\n",
    "    meow = f(x_dual, y_dual)\n",
    "    meow[1][1,2], meow[2][1,2]\n",
    "end"
   ]
  },
  {
   "cell_type": "markdown",
   "id": "17fc5c27",
   "metadata": {},
   "source": [
    "[4] Utiliza la función anterior para obtener la derivada parcial de una función vectorial con respecto a una variable. También obten el Jacobiano y el gradiente. "
   ]
  },
  {
   "cell_type": "markdown",
   "id": "933085f0",
   "metadata": {},
   "source": [
    "$$ F(x,y) = \\left(\\sin(x)+\\cos(y)\\right)\\hat{i} - \\sqrt{x^2+y^2}\\hat{j} $$"
   ]
  },
  {
   "cell_type": "code",
   "execution_count": 36,
   "id": "fd5088a7",
   "metadata": {},
   "outputs": [],
   "source": [
    "f(x,y) = [sin.(x)+cos.(y), -sqrt.(x .^2+y .^2)];"
   ]
  },
  {
   "cell_type": "code",
   "execution_count": 37,
   "id": "f4681fb5",
   "metadata": {},
   "outputs": [
    {
     "data": {
      "text/plain": [
       "(1.4098815361556927, -1.0)"
      ]
     },
     "execution_count": 37,
     "metadata": {},
     "output_type": "execute_result"
    }
   ],
   "source": [
    "auto_diff(f, [1,1], [0.7071,0.7071])"
   ]
  },
  {
   "cell_type": "code",
   "execution_count": 38,
   "id": "19daa6f2",
   "metadata": {},
   "outputs": [
    {
     "data": {
      "text/plain": [
       "jacobiano (generic function with 1 method)"
      ]
     },
     "execution_count": 38,
     "metadata": {},
     "output_type": "execute_result"
    }
   ],
   "source": [
    "function jacobiano(f, X)\n",
    "    J = [0 0.; 0 0]\n",
    "    J[1,1], J[2,1] = auto_diff(f, X, [1, 0])[1], auto_diff(f, X, [1, 0])[2] \n",
    "    J[1,2], J[2,2] = auto_diff(f, X, [0, 1])[1], auto_diff(f, X, [0, 1])[2]\n",
    "    J\n",
    "end"
   ]
  },
  {
   "cell_type": "code",
   "execution_count": 39,
   "id": "10d4e71d",
   "metadata": {},
   "outputs": [
    {
     "data": {
      "text/plain": [
       "2×2 Matrix{Float64}:\n",
       "  1.84147   0.540302\n",
       " -1.0      -1.0"
      ]
     },
     "execution_count": 39,
     "metadata": {},
     "output_type": "execute_result"
    }
   ],
   "source": [
    "jacobiano(f, [1,1])"
   ]
  },
  {
   "cell_type": "markdown",
   "id": "7eb35837",
   "metadata": {},
   "source": [
    "[5] (en este ejercicio usarás el condicional if) Una forma efectiva (la más efectiva) de aproximar los números irracionales es mediante fracciones continuas, es decir, fracciones de la forma $x = a_0+\\frac{1}{a_1+\\frac{1}{a_2 +\\dots}}$. Así, estas fracciones se pueden escribir usando la lista de los $a_i$. En el caso de los números irracionales, esta lista es infinita, pero se puede aproximar por los primeros $n$ elementos y con ello obtener una fracción que aproxime bien al irracional. Por ejemplo, $\\sqrt{2} = [1,2,2,2,2,2,\\dots]\\sim [1,2,2,2] = \\frac{17}{12} \\sim 1.41667$. \n",
    " \n",
    "Para obtener la fracción continua, notemos que al restar el valor de $a_0$, que es simplemente la parte entera del número, al número del que queremos obtener su fracción continua, tenemos una fracción de la froma $\\frac{1}{a_1+\\frac{1}{a_2+\\dots}}$. Al sacar el inverso de esto tenemos otra vez una fracción de la forma $a_1+\\frac{1}{a_2+\\frac{1}{a_3 +\\dots}}$, así que podemos volver a obtener $a_1$ simplemente con la parte entera. Repitiendo esto $n$ veces, podemos obtener los primeros $n$ elementos de la fracción continua. \n",
    "\n",
    "Haz una función que dado un número, el número y el número de iteraciones, arroje la fracción continua aproximada (la lista de $a$'s) con $n$ valores. También haz una función que dada la lista, regrese la fracción reducida correspondiente a la fracción continua aproximada (utiliza racionales).  \n",
    "\n",
    "Con estas funciones obtén las primeras 10 aproximaciones (en formato de fracción) a $\\pi$ (utiliza notación compacta para obtenerlas). "
   ]
  },
  {
   "cell_type": "code",
   "execution_count": 40,
   "id": "0876ed8d",
   "metadata": {},
   "outputs": [
    {
     "data": {
      "text/plain": [
       "nested_fraction (generic function with 1 method)"
      ]
     },
     "execution_count": 40,
     "metadata": {},
     "output_type": "execute_result"
    }
   ],
   "source": [
    "function nested_fraction(x; iter=10)\n",
    "    array = Vector{Int}()\n",
    "    for i in 1:1:iter\n",
    "        temp = Int(floor(x))\n",
    "        push!(array, temp)\n",
    "        x = (x - temp)^(-1)\n",
    "    end\n",
    "    array\n",
    "end"
   ]
  },
  {
   "cell_type": "code",
   "execution_count": 41,
   "id": "eae489cc",
   "metadata": {},
   "outputs": [
    {
     "data": {
      "text/plain": [
       "π = 3.1415926535897..."
      ]
     },
     "execution_count": 41,
     "metadata": {},
     "output_type": "execute_result"
    }
   ],
   "source": [
    "pi"
   ]
  },
  {
   "cell_type": "code",
   "execution_count": 42,
   "id": "16f87cd9",
   "metadata": {},
   "outputs": [
    {
     "data": {
      "text/plain": [
       "10-element Vector{Int64}:\n",
       "   3\n",
       "   7\n",
       "  15\n",
       "   1\n",
       " 292\n",
       "   1\n",
       "   1\n",
       "   1\n",
       "   2\n",
       "   1"
      ]
     },
     "execution_count": 42,
     "metadata": {},
     "output_type": "execute_result"
    }
   ],
   "source": [
    "nested_fraction(pi; iter =10)"
   ]
  },
  {
   "cell_type": "markdown",
   "id": "af743232",
   "metadata": {},
   "source": [
    "[6] Un mapeo es una función tal que $f:I\\rightarrow I$. Entre los mapeos en los reales, es interesante encontrar tanto puntos fijos, como ciclos límite. Por ejemplo, en el mapeo logístico $f(x) = rx(1-x)$ que va del intervalo $[0,1]$ al intervalo $[0,1]$ si $r\\in [0,4]$, nos interesa saber a qué valores se llega después de aplicar muchas veces el mapeo, es decir queremos responde ¿$f^\\inf(x)$ exite? y si existe ¿qué valor es? (¿depende de x?). Para algunos valores de $r$ este valor existe y es \"casi\" independiente de $x$, para otros valores no existe, pero en cambio existe un ciclo límite, es decir, después de muchas iteraciones, los valores de $f^n(x)$ se repiten cada $m$ iteraciones. \n",
    "\n",
    "Haz una función que dado $n$, $r$ y $x$, obtenga $f^n(x)$ con $f$ el mapeo logístico."
   ]
  },
  {
   "cell_type": "code",
   "execution_count": 43,
   "id": "3ee4c553",
   "metadata": {},
   "outputs": [
    {
     "data": {
      "text/plain": [
       "f_maplog (generic function with 2 methods)"
      ]
     },
     "execution_count": 43,
     "metadata": {},
     "output_type": "execute_result"
    }
   ],
   "source": [
    "function f_maplog(x::Number; r=1, n=1)::Number \n",
    "    for i in 1:1:n\n",
    "        x = r*x*(1-x)\n",
    "    end\n",
    "    x\n",
    "end\n",
    "\n",
    "function f_maplog(x::Matrix; r=1, n=1)::Matrix \n",
    "    for i in 1:1:n\n",
    "        x = r*x*(1 .- x)\n",
    "    end\n",
    "    x\n",
    "end"
   ]
  },
  {
   "cell_type": "code",
   "execution_count": 44,
   "id": "198b5887",
   "metadata": {},
   "outputs": [
    {
     "data": {
      "image/svg+xml": [
       "<?xml version=\"1.0\" encoding=\"utf-8\"?>\n",
       "<svg xmlns=\"http://www.w3.org/2000/svg\" xmlns:xlink=\"http://www.w3.org/1999/xlink\" width=\"600\" height=\"400\" viewBox=\"0 0 2400 1600\">\n",
       "<defs>\n",
       "  <clipPath id=\"clip220\">\n",
       "    <rect x=\"0\" y=\"0\" width=\"2400\" height=\"1600\"/>\n",
       "  </clipPath>\n",
       "</defs>\n",
       "<path clip-path=\"url(#clip220)\" d=\"M0 1600 L2400 1600 L2400 0 L0 0  Z\" fill=\"#ffffff\" fill-rule=\"evenodd\" fill-opacity=\"1\"/>\n",
       "<defs>\n",
       "  <clipPath id=\"clip221\">\n",
       "    <rect x=\"480\" y=\"0\" width=\"1681\" height=\"1600\"/>\n",
       "  </clipPath>\n",
       "</defs>\n",
       "<path clip-path=\"url(#clip220)\" d=\"M156.598 1486.45 L2352.76 1486.45 L2352.76 47.2441 L156.598 47.2441  Z\" fill=\"#ffffff\" fill-rule=\"evenodd\" fill-opacity=\"1\"/>\n",
       "<defs>\n",
       "  <clipPath id=\"clip222\">\n",
       "    <rect x=\"156\" y=\"47\" width=\"2197\" height=\"1440\"/>\n",
       "  </clipPath>\n",
       "</defs>\n",
       "<polyline clip-path=\"url(#clip222)\" style=\"stroke:#000000; stroke-linecap:round; stroke-linejoin:round; stroke-width:2; stroke-opacity:0.1; fill:none\" points=\"208.29,1486.45 208.29,47.2441 \"/>\n",
       "<polyline clip-path=\"url(#clip222)\" style=\"stroke:#000000; stroke-linecap:round; stroke-linejoin:round; stroke-width:2; stroke-opacity:0.1; fill:none\" points=\"731.483,1486.45 731.483,47.2441 \"/>\n",
       "<polyline clip-path=\"url(#clip222)\" style=\"stroke:#000000; stroke-linecap:round; stroke-linejoin:round; stroke-width:2; stroke-opacity:0.1; fill:none\" points=\"1254.68,1486.45 1254.68,47.2441 \"/>\n",
       "<polyline clip-path=\"url(#clip222)\" style=\"stroke:#000000; stroke-linecap:round; stroke-linejoin:round; stroke-width:2; stroke-opacity:0.1; fill:none\" points=\"1777.87,1486.45 1777.87,47.2441 \"/>\n",
       "<polyline clip-path=\"url(#clip222)\" style=\"stroke:#000000; stroke-linecap:round; stroke-linejoin:round; stroke-width:2; stroke-opacity:0.1; fill:none\" points=\"2301.06,1486.45 2301.06,47.2441 \"/>\n",
       "<polyline clip-path=\"url(#clip220)\" style=\"stroke:#000000; stroke-linecap:round; stroke-linejoin:round; stroke-width:4; stroke-opacity:1; fill:none\" points=\"156.598,1486.45 2352.76,1486.45 \"/>\n",
       "<polyline clip-path=\"url(#clip220)\" style=\"stroke:#000000; stroke-linecap:round; stroke-linejoin:round; stroke-width:4; stroke-opacity:1; fill:none\" points=\"208.29,1486.45 208.29,1467.55 \"/>\n",
       "<polyline clip-path=\"url(#clip220)\" style=\"stroke:#000000; stroke-linecap:round; stroke-linejoin:round; stroke-width:4; stroke-opacity:1; fill:none\" points=\"731.483,1486.45 731.483,1467.55 \"/>\n",
       "<polyline clip-path=\"url(#clip220)\" style=\"stroke:#000000; stroke-linecap:round; stroke-linejoin:round; stroke-width:4; stroke-opacity:1; fill:none\" points=\"1254.68,1486.45 1254.68,1467.55 \"/>\n",
       "<polyline clip-path=\"url(#clip220)\" style=\"stroke:#000000; stroke-linecap:round; stroke-linejoin:round; stroke-width:4; stroke-opacity:1; fill:none\" points=\"1777.87,1486.45 1777.87,1467.55 \"/>\n",
       "<polyline clip-path=\"url(#clip220)\" style=\"stroke:#000000; stroke-linecap:round; stroke-linejoin:round; stroke-width:4; stroke-opacity:1; fill:none\" points=\"2301.06,1486.45 2301.06,1467.55 \"/>\n",
       "<path clip-path=\"url(#clip220)\" d=\"M170.593 1517.37 Q166.982 1517.37 165.153 1520.93 Q163.348 1524.47 163.348 1531.6 Q163.348 1538.71 165.153 1542.27 Q166.982 1545.82 170.593 1545.82 Q174.227 1545.82 176.033 1542.27 Q177.862 1538.71 177.862 1531.6 Q177.862 1524.47 176.033 1520.93 Q174.227 1517.37 170.593 1517.37 M170.593 1513.66 Q176.403 1513.66 179.459 1518.27 Q182.538 1522.85 182.538 1531.6 Q182.538 1540.33 179.459 1544.94 Q176.403 1549.52 170.593 1549.52 Q164.783 1549.52 161.704 1544.94 Q158.649 1540.33 158.649 1531.6 Q158.649 1522.85 161.704 1518.27 Q164.783 1513.66 170.593 1513.66 Z\" fill=\"#000000\" fill-rule=\"evenodd\" fill-opacity=\"1\" /><path clip-path=\"url(#clip220)\" d=\"M190.755 1542.97 L195.639 1542.97 L195.639 1548.85 L190.755 1548.85 L190.755 1542.97 Z\" fill=\"#000000\" fill-rule=\"evenodd\" fill-opacity=\"1\" /><path clip-path=\"url(#clip220)\" d=\"M215.824 1517.37 Q212.213 1517.37 210.385 1520.93 Q208.579 1524.47 208.579 1531.6 Q208.579 1538.71 210.385 1542.27 Q212.213 1545.82 215.824 1545.82 Q219.459 1545.82 221.264 1542.27 Q223.093 1538.71 223.093 1531.6 Q223.093 1524.47 221.264 1520.93 Q219.459 1517.37 215.824 1517.37 M215.824 1513.66 Q221.635 1513.66 224.69 1518.27 Q227.769 1522.85 227.769 1531.6 Q227.769 1540.33 224.69 1544.94 Q221.635 1549.52 215.824 1549.52 Q210.014 1549.52 206.936 1544.94 Q203.88 1540.33 203.88 1531.6 Q203.88 1522.85 206.936 1518.27 Q210.014 1513.66 215.824 1513.66 Z\" fill=\"#000000\" fill-rule=\"evenodd\" fill-opacity=\"1\" /><path clip-path=\"url(#clip220)\" d=\"M245.986 1517.37 Q242.375 1517.37 240.547 1520.93 Q238.741 1524.47 238.741 1531.6 Q238.741 1538.71 240.547 1542.27 Q242.375 1545.82 245.986 1545.82 Q249.621 1545.82 251.426 1542.27 Q253.255 1538.71 253.255 1531.6 Q253.255 1524.47 251.426 1520.93 Q249.621 1517.37 245.986 1517.37 M245.986 1513.66 Q251.796 1513.66 254.852 1518.27 Q257.931 1522.85 257.931 1531.6 Q257.931 1540.33 254.852 1544.94 Q251.796 1549.52 245.986 1549.52 Q240.176 1549.52 237.097 1544.94 Q234.042 1540.33 234.042 1531.6 Q234.042 1522.85 237.097 1518.27 Q240.176 1513.66 245.986 1513.66 Z\" fill=\"#000000\" fill-rule=\"evenodd\" fill-opacity=\"1\" /><path clip-path=\"url(#clip220)\" d=\"M694.285 1517.37 Q690.673 1517.37 688.845 1520.93 Q687.039 1524.47 687.039 1531.6 Q687.039 1538.71 688.845 1542.27 Q690.673 1545.82 694.285 1545.82 Q697.919 1545.82 699.724 1542.27 Q701.553 1538.71 701.553 1531.6 Q701.553 1524.47 699.724 1520.93 Q697.919 1517.37 694.285 1517.37 M694.285 1513.66 Q700.095 1513.66 703.15 1518.27 Q706.229 1522.85 706.229 1531.6 Q706.229 1540.33 703.15 1544.94 Q700.095 1549.52 694.285 1549.52 Q688.474 1549.52 685.396 1544.94 Q682.34 1540.33 682.34 1531.6 Q682.34 1522.85 685.396 1518.27 Q688.474 1513.66 694.285 1513.66 Z\" fill=\"#000000\" fill-rule=\"evenodd\" fill-opacity=\"1\" /><path clip-path=\"url(#clip220)\" d=\"M714.446 1542.97 L719.331 1542.97 L719.331 1548.85 L714.446 1548.85 L714.446 1542.97 Z\" fill=\"#000000\" fill-rule=\"evenodd\" fill-opacity=\"1\" /><path clip-path=\"url(#clip220)\" d=\"M733.544 1544.91 L749.863 1544.91 L749.863 1548.85 L727.919 1548.85 L727.919 1544.91 Q730.581 1542.16 735.164 1537.53 Q739.77 1532.88 740.951 1531.53 Q743.196 1529.01 744.076 1527.27 Q744.979 1525.51 744.979 1523.82 Q744.979 1521.07 743.034 1519.33 Q741.113 1517.6 738.011 1517.6 Q735.812 1517.6 733.358 1518.36 Q730.928 1519.13 728.15 1520.68 L728.15 1515.95 Q730.974 1514.82 733.428 1514.24 Q735.882 1513.66 737.919 1513.66 Q743.289 1513.66 746.483 1516.35 Q749.678 1519.03 749.678 1523.52 Q749.678 1525.65 748.868 1527.57 Q748.081 1529.47 745.974 1532.07 Q745.395 1532.74 742.294 1535.95 Q739.192 1539.15 733.544 1544.91 Z\" fill=\"#000000\" fill-rule=\"evenodd\" fill-opacity=\"1\" /><path clip-path=\"url(#clip220)\" d=\"M759.724 1514.29 L778.08 1514.29 L778.08 1518.22 L764.006 1518.22 L764.006 1526.7 Q765.025 1526.35 766.043 1526.19 Q767.062 1526 768.08 1526 Q773.867 1526 777.247 1529.17 Q780.627 1532.34 780.627 1537.76 Q780.627 1543.34 777.154 1546.44 Q773.682 1549.52 767.363 1549.52 Q765.187 1549.52 762.918 1549.15 Q760.673 1548.78 758.266 1548.04 L758.266 1543.34 Q760.349 1544.47 762.571 1545.03 Q764.793 1545.58 767.27 1545.58 Q771.275 1545.58 773.613 1543.48 Q775.951 1541.37 775.951 1537.76 Q775.951 1534.15 773.613 1532.04 Q771.275 1529.94 767.27 1529.94 Q765.395 1529.94 763.52 1530.35 Q761.668 1530.77 759.724 1531.65 L759.724 1514.29 Z\" fill=\"#000000\" fill-rule=\"evenodd\" fill-opacity=\"1\" /><path clip-path=\"url(#clip220)\" d=\"M1216.98 1517.37 Q1213.37 1517.37 1211.54 1520.93 Q1209.74 1524.47 1209.74 1531.6 Q1209.74 1538.71 1211.54 1542.27 Q1213.37 1545.82 1216.98 1545.82 Q1220.61 1545.82 1222.42 1542.27 Q1224.25 1538.71 1224.25 1531.6 Q1224.25 1524.47 1222.42 1520.93 Q1220.61 1517.37 1216.98 1517.37 M1216.98 1513.66 Q1222.79 1513.66 1225.85 1518.27 Q1228.92 1522.85 1228.92 1531.6 Q1228.92 1540.33 1225.85 1544.94 Q1222.79 1549.52 1216.98 1549.52 Q1211.17 1549.52 1208.09 1544.94 Q1205.04 1540.33 1205.04 1531.6 Q1205.04 1522.85 1208.09 1518.27 Q1211.17 1513.66 1216.98 1513.66 Z\" fill=\"#000000\" fill-rule=\"evenodd\" fill-opacity=\"1\" /><path clip-path=\"url(#clip220)\" d=\"M1237.14 1542.97 L1242.03 1542.97 L1242.03 1548.85 L1237.14 1548.85 L1237.14 1542.97 Z\" fill=\"#000000\" fill-rule=\"evenodd\" fill-opacity=\"1\" /><path clip-path=\"url(#clip220)\" d=\"M1252.26 1514.29 L1270.61 1514.29 L1270.61 1518.22 L1256.54 1518.22 L1256.54 1526.7 Q1257.56 1526.35 1258.58 1526.19 Q1259.6 1526 1260.61 1526 Q1266.4 1526 1269.78 1529.17 Q1273.16 1532.34 1273.16 1537.76 Q1273.16 1543.34 1269.69 1546.44 Q1266.22 1549.52 1259.9 1549.52 Q1257.72 1549.52 1255.45 1549.15 Q1253.21 1548.78 1250.8 1548.04 L1250.8 1543.34 Q1252.88 1544.47 1255.11 1545.03 Q1257.33 1545.58 1259.8 1545.58 Q1263.81 1545.58 1266.15 1543.48 Q1268.48 1541.37 1268.48 1537.76 Q1268.48 1534.15 1266.15 1532.04 Q1263.81 1529.94 1259.8 1529.94 Q1257.93 1529.94 1256.05 1530.35 Q1254.2 1530.77 1252.26 1531.65 L1252.26 1514.29 Z\" fill=\"#000000\" fill-rule=\"evenodd\" fill-opacity=\"1\" /><path clip-path=\"url(#clip220)\" d=\"M1292.37 1517.37 Q1288.76 1517.37 1286.93 1520.93 Q1285.13 1524.47 1285.13 1531.6 Q1285.13 1538.71 1286.93 1542.27 Q1288.76 1545.82 1292.37 1545.82 Q1296.01 1545.82 1297.81 1542.27 Q1299.64 1538.71 1299.64 1531.6 Q1299.64 1524.47 1297.81 1520.93 Q1296.01 1517.37 1292.37 1517.37 M1292.37 1513.66 Q1298.18 1513.66 1301.24 1518.27 Q1304.32 1522.85 1304.32 1531.6 Q1304.32 1540.33 1301.24 1544.94 Q1298.18 1549.52 1292.37 1549.52 Q1286.56 1549.52 1283.48 1544.94 Q1280.43 1540.33 1280.43 1531.6 Q1280.43 1522.85 1283.48 1518.27 Q1286.56 1513.66 1292.37 1513.66 Z\" fill=\"#000000\" fill-rule=\"evenodd\" fill-opacity=\"1\" /><path clip-path=\"url(#clip220)\" d=\"M1740.67 1517.37 Q1737.06 1517.37 1735.23 1520.93 Q1733.43 1524.47 1733.43 1531.6 Q1733.43 1538.71 1735.23 1542.27 Q1737.06 1545.82 1740.67 1545.82 Q1744.31 1545.82 1746.11 1542.27 Q1747.94 1538.71 1747.94 1531.6 Q1747.94 1524.47 1746.11 1520.93 Q1744.31 1517.37 1740.67 1517.37 M1740.67 1513.66 Q1746.48 1513.66 1749.54 1518.27 Q1752.62 1522.85 1752.62 1531.6 Q1752.62 1540.33 1749.54 1544.94 Q1746.48 1549.52 1740.67 1549.52 Q1734.86 1549.52 1731.78 1544.94 Q1728.73 1540.33 1728.73 1531.6 Q1728.73 1522.85 1731.78 1518.27 Q1734.86 1513.66 1740.67 1513.66 Z\" fill=\"#000000\" fill-rule=\"evenodd\" fill-opacity=\"1\" /><path clip-path=\"url(#clip220)\" d=\"M1760.83 1542.97 L1765.72 1542.97 L1765.72 1548.85 L1760.83 1548.85 L1760.83 1542.97 Z\" fill=\"#000000\" fill-rule=\"evenodd\" fill-opacity=\"1\" /><path clip-path=\"url(#clip220)\" d=\"M1774.72 1514.29 L1796.94 1514.29 L1796.94 1516.28 L1784.4 1548.85 L1779.51 1548.85 L1791.32 1518.22 L1774.72 1518.22 L1774.72 1514.29 Z\" fill=\"#000000\" fill-rule=\"evenodd\" fill-opacity=\"1\" /><path clip-path=\"url(#clip220)\" d=\"M1806.11 1514.29 L1824.47 1514.29 L1824.47 1518.22 L1810.39 1518.22 L1810.39 1526.7 Q1811.41 1526.35 1812.43 1526.19 Q1813.45 1526 1814.47 1526 Q1820.25 1526 1823.63 1529.17 Q1827.01 1532.34 1827.01 1537.76 Q1827.01 1543.34 1823.54 1546.44 Q1820.07 1549.52 1813.75 1549.52 Q1811.57 1549.52 1809.31 1549.15 Q1807.06 1548.78 1804.65 1548.04 L1804.65 1543.34 Q1806.74 1544.47 1808.96 1545.03 Q1811.18 1545.58 1813.66 1545.58 Q1817.66 1545.58 1820 1543.48 Q1822.34 1541.37 1822.34 1537.76 Q1822.34 1534.15 1820 1532.04 Q1817.66 1529.94 1813.66 1529.94 Q1811.78 1529.94 1809.91 1530.35 Q1808.06 1530.77 1806.11 1531.65 L1806.11 1514.29 Z\" fill=\"#000000\" fill-rule=\"evenodd\" fill-opacity=\"1\" /><path clip-path=\"url(#clip220)\" d=\"M2253.14 1544.91 L2260.78 1544.91 L2260.78 1518.55 L2252.47 1520.21 L2252.47 1515.95 L2260.73 1514.29 L2265.4 1514.29 L2265.4 1544.91 L2273.04 1544.91 L2273.04 1548.85 L2253.14 1548.85 L2253.14 1544.91 Z\" fill=\"#000000\" fill-rule=\"evenodd\" fill-opacity=\"1\" /><path clip-path=\"url(#clip220)\" d=\"M2282.49 1542.97 L2287.37 1542.97 L2287.37 1548.85 L2282.49 1548.85 L2282.49 1542.97 Z\" fill=\"#000000\" fill-rule=\"evenodd\" fill-opacity=\"1\" /><path clip-path=\"url(#clip220)\" d=\"M2307.56 1517.37 Q2303.95 1517.37 2302.12 1520.93 Q2300.31 1524.47 2300.31 1531.6 Q2300.31 1538.71 2302.12 1542.27 Q2303.95 1545.82 2307.56 1545.82 Q2311.19 1545.82 2313 1542.27 Q2314.83 1538.71 2314.83 1531.6 Q2314.83 1524.47 2313 1520.93 Q2311.19 1517.37 2307.56 1517.37 M2307.56 1513.66 Q2313.37 1513.66 2316.42 1518.27 Q2319.5 1522.85 2319.5 1531.6 Q2319.5 1540.33 2316.42 1544.94 Q2313.37 1549.52 2307.56 1549.52 Q2301.75 1549.52 2298.67 1544.94 Q2295.61 1540.33 2295.61 1531.6 Q2295.61 1522.85 2298.67 1518.27 Q2301.75 1513.66 2307.56 1513.66 Z\" fill=\"#000000\" fill-rule=\"evenodd\" fill-opacity=\"1\" /><path clip-path=\"url(#clip220)\" d=\"M2337.72 1517.37 Q2334.11 1517.37 2332.28 1520.93 Q2330.47 1524.47 2330.47 1531.6 Q2330.47 1538.71 2332.28 1542.27 Q2334.11 1545.82 2337.72 1545.82 Q2341.35 1545.82 2343.16 1542.27 Q2344.99 1538.71 2344.99 1531.6 Q2344.99 1524.47 2343.16 1520.93 Q2341.35 1517.37 2337.72 1517.37 M2337.72 1513.66 Q2343.53 1513.66 2346.58 1518.27 Q2349.66 1522.85 2349.66 1531.6 Q2349.66 1540.33 2346.58 1544.94 Q2343.53 1549.52 2337.72 1549.52 Q2331.91 1549.52 2328.83 1544.94 Q2325.77 1540.33 2325.77 1531.6 Q2325.77 1522.85 2328.83 1518.27 Q2331.91 1513.66 2337.72 1513.66 Z\" fill=\"#000000\" fill-rule=\"evenodd\" fill-opacity=\"1\" /><polyline clip-path=\"url(#clip222)\" style=\"stroke:#000000; stroke-linecap:round; stroke-linejoin:round; stroke-width:2; stroke-opacity:0.1; fill:none\" points=\"156.598,1473.28 2352.76,1473.28 \"/>\n",
       "<polyline clip-path=\"url(#clip222)\" style=\"stroke:#000000; stroke-linecap:round; stroke-linejoin:round; stroke-width:2; stroke-opacity:0.1; fill:none\" points=\"156.598,1103.87 2352.76,1103.87 \"/>\n",
       "<polyline clip-path=\"url(#clip222)\" style=\"stroke:#000000; stroke-linecap:round; stroke-linejoin:round; stroke-width:2; stroke-opacity:0.1; fill:none\" points=\"156.598,734.453 2352.76,734.453 \"/>\n",
       "<polyline clip-path=\"url(#clip222)\" style=\"stroke:#000000; stroke-linecap:round; stroke-linejoin:round; stroke-width:2; stroke-opacity:0.1; fill:none\" points=\"156.598,365.038 2352.76,365.038 \"/>\n",
       "<polyline clip-path=\"url(#clip220)\" style=\"stroke:#000000; stroke-linecap:round; stroke-linejoin:round; stroke-width:4; stroke-opacity:1; fill:none\" points=\"156.598,1486.45 156.598,47.2441 \"/>\n",
       "<polyline clip-path=\"url(#clip220)\" style=\"stroke:#000000; stroke-linecap:round; stroke-linejoin:round; stroke-width:4; stroke-opacity:1; fill:none\" points=\"156.598,1473.28 175.496,1473.28 \"/>\n",
       "<polyline clip-path=\"url(#clip220)\" style=\"stroke:#000000; stroke-linecap:round; stroke-linejoin:round; stroke-width:4; stroke-opacity:1; fill:none\" points=\"156.598,1103.87 175.496,1103.87 \"/>\n",
       "<polyline clip-path=\"url(#clip220)\" style=\"stroke:#000000; stroke-linecap:round; stroke-linejoin:round; stroke-width:4; stroke-opacity:1; fill:none\" points=\"156.598,734.453 175.496,734.453 \"/>\n",
       "<polyline clip-path=\"url(#clip220)\" style=\"stroke:#000000; stroke-linecap:round; stroke-linejoin:round; stroke-width:4; stroke-opacity:1; fill:none\" points=\"156.598,365.038 175.496,365.038 \"/>\n",
       "<path clip-path=\"url(#clip220)\" d=\"M63.4226 1459.08 Q59.8115 1459.08 57.9828 1462.65 Q56.1773 1466.19 56.1773 1473.32 Q56.1773 1480.42 57.9828 1483.99 Q59.8115 1487.53 63.4226 1487.53 Q67.0569 1487.53 68.8624 1483.99 Q70.6911 1480.42 70.6911 1473.32 Q70.6911 1466.19 68.8624 1462.65 Q67.0569 1459.08 63.4226 1459.08 M63.4226 1455.38 Q69.2328 1455.38 72.2883 1459.98 Q75.367 1464.57 75.367 1473.32 Q75.367 1482.04 72.2883 1486.65 Q69.2328 1491.23 63.4226 1491.23 Q57.6125 1491.23 54.5338 1486.65 Q51.4782 1482.04 51.4782 1473.32 Q51.4782 1464.57 54.5338 1459.98 Q57.6125 1455.38 63.4226 1455.38 Z\" fill=\"#000000\" fill-rule=\"evenodd\" fill-opacity=\"1\" /><path clip-path=\"url(#clip220)\" d=\"M83.5845 1484.68 L88.4688 1484.68 L88.4688 1490.56 L83.5845 1490.56 L83.5845 1484.68 Z\" fill=\"#000000\" fill-rule=\"evenodd\" fill-opacity=\"1\" /><path clip-path=\"url(#clip220)\" d=\"M108.654 1459.08 Q105.043 1459.08 103.214 1462.65 Q101.409 1466.19 101.409 1473.32 Q101.409 1480.42 103.214 1483.99 Q105.043 1487.53 108.654 1487.53 Q112.288 1487.53 114.094 1483.99 Q115.922 1480.42 115.922 1473.32 Q115.922 1466.19 114.094 1462.65 Q112.288 1459.08 108.654 1459.08 M108.654 1455.38 Q114.464 1455.38 117.52 1459.98 Q120.598 1464.57 120.598 1473.32 Q120.598 1482.04 117.52 1486.65 Q114.464 1491.23 108.654 1491.23 Q102.844 1491.23 99.765 1486.65 Q96.7095 1482.04 96.7095 1473.32 Q96.7095 1464.57 99.765 1459.98 Q102.844 1455.38 108.654 1455.38 Z\" fill=\"#000000\" fill-rule=\"evenodd\" fill-opacity=\"1\" /><path clip-path=\"url(#clip220)\" d=\"M65.0198 1089.67 Q61.4087 1089.67 59.58 1093.23 Q57.7745 1096.77 57.7745 1103.9 Q57.7745 1111.01 59.58 1114.57 Q61.4087 1118.12 65.0198 1118.12 Q68.6541 1118.12 70.4596 1114.57 Q72.2883 1111.01 72.2883 1103.9 Q72.2883 1096.77 70.4596 1093.23 Q68.6541 1089.67 65.0198 1089.67 M65.0198 1085.96 Q70.83 1085.96 73.8855 1090.57 Q76.9642 1095.15 76.9642 1103.9 Q76.9642 1112.63 73.8855 1117.24 Q70.83 1121.82 65.0198 1121.82 Q59.2097 1121.82 56.131 1117.24 Q53.0754 1112.63 53.0754 1103.9 Q53.0754 1095.15 56.131 1090.57 Q59.2097 1085.96 65.0198 1085.96 Z\" fill=\"#000000\" fill-rule=\"evenodd\" fill-opacity=\"1\" /><path clip-path=\"url(#clip220)\" d=\"M85.1818 1115.27 L90.066 1115.27 L90.066 1121.15 L85.1818 1121.15 L85.1818 1115.27 Z\" fill=\"#000000\" fill-rule=\"evenodd\" fill-opacity=\"1\" /><path clip-path=\"url(#clip220)\" d=\"M104.279 1117.21 L120.598 1117.21 L120.598 1121.15 L98.6539 1121.15 L98.6539 1117.21 Q101.316 1114.46 105.899 1109.83 Q110.506 1105.18 111.686 1103.83 Q113.932 1101.31 114.811 1099.57 Q115.714 1097.81 115.714 1096.13 Q115.714 1093.37 113.77 1091.63 Q111.848 1089.9 108.746 1089.9 Q106.547 1089.9 104.094 1090.66 Q101.663 1091.43 98.8854 1092.98 L98.8854 1088.25 Q101.709 1087.12 104.163 1086.54 Q106.617 1085.96 108.654 1085.96 Q114.024 1085.96 117.219 1088.65 Q120.413 1091.33 120.413 1095.82 Q120.413 1097.95 119.603 1099.88 Q118.816 1101.77 116.709 1104.37 Q116.131 1105.04 113.029 1108.25 Q109.927 1111.45 104.279 1117.21 Z\" fill=\"#000000\" fill-rule=\"evenodd\" fill-opacity=\"1\" /><path clip-path=\"url(#clip220)\" d=\"M62.9365 720.252 Q59.3254 720.252 57.4967 723.816 Q55.6912 727.358 55.6912 734.488 Q55.6912 741.594 57.4967 745.159 Q59.3254 748.7 62.9365 748.7 Q66.5707 748.7 68.3763 745.159 Q70.205 741.594 70.205 734.488 Q70.205 727.358 68.3763 723.816 Q66.5707 720.252 62.9365 720.252 M62.9365 716.548 Q68.7467 716.548 71.8022 721.154 Q74.8809 725.738 74.8809 734.488 Q74.8809 743.214 71.8022 747.821 Q68.7467 752.404 62.9365 752.404 Q57.1264 752.404 54.0477 747.821 Q50.9921 743.214 50.9921 734.488 Q50.9921 725.738 54.0477 721.154 Q57.1264 716.548 62.9365 716.548 Z\" fill=\"#000000\" fill-rule=\"evenodd\" fill-opacity=\"1\" /><path clip-path=\"url(#clip220)\" d=\"M83.0984 745.853 L87.9827 745.853 L87.9827 751.733 L83.0984 751.733 L83.0984 745.853 Z\" fill=\"#000000\" fill-rule=\"evenodd\" fill-opacity=\"1\" /><path clip-path=\"url(#clip220)\" d=\"M111.015 721.247 L99.2095 739.696 L111.015 739.696 L111.015 721.247 M109.788 717.173 L115.668 717.173 L115.668 739.696 L120.598 739.696 L120.598 743.585 L115.668 743.585 L115.668 751.733 L111.015 751.733 L111.015 743.585 L95.4132 743.585 L95.4132 739.071 L109.788 717.173 Z\" fill=\"#000000\" fill-rule=\"evenodd\" fill-opacity=\"1\" /><path clip-path=\"url(#clip220)\" d=\"M63.2606 350.836 Q59.6495 350.836 57.8208 354.401 Q56.0152 357.943 56.0152 365.072 Q56.0152 372.179 57.8208 375.744 Q59.6495 379.285 63.2606 379.285 Q66.8948 379.285 68.7004 375.744 Q70.5291 372.179 70.5291 365.072 Q70.5291 357.943 68.7004 354.401 Q66.8948 350.836 63.2606 350.836 M63.2606 347.133 Q69.0707 347.133 72.1263 351.739 Q75.205 356.322 75.205 365.072 Q75.205 373.799 72.1263 378.406 Q69.0707 382.989 63.2606 382.989 Q57.4504 382.989 54.3717 378.406 Q51.3162 373.799 51.3162 365.072 Q51.3162 356.322 54.3717 351.739 Q57.4504 347.133 63.2606 347.133 Z\" fill=\"#000000\" fill-rule=\"evenodd\" fill-opacity=\"1\" /><path clip-path=\"url(#clip220)\" d=\"M83.4225 376.438 L88.3067 376.438 L88.3067 382.318 L83.4225 382.318 L83.4225 376.438 Z\" fill=\"#000000\" fill-rule=\"evenodd\" fill-opacity=\"1\" /><path clip-path=\"url(#clip220)\" d=\"M109.071 363.174 Q105.922 363.174 104.071 365.327 Q102.242 367.48 102.242 371.23 Q102.242 374.957 104.071 377.133 Q105.922 379.285 109.071 379.285 Q112.219 379.285 114.047 377.133 Q115.899 374.957 115.899 371.23 Q115.899 367.48 114.047 365.327 Q112.219 363.174 109.071 363.174 M118.353 348.522 L118.353 352.781 Q116.594 351.947 114.788 351.508 Q113.006 351.068 111.246 351.068 Q106.617 351.068 104.163 354.193 Q101.733 357.318 101.385 363.637 Q102.751 361.623 104.811 360.559 Q106.871 359.471 109.348 359.471 Q114.557 359.471 117.566 362.642 Q120.598 365.79 120.598 371.23 Q120.598 376.554 117.45 379.771 Q114.302 382.989 109.071 382.989 Q103.075 382.989 99.9039 378.406 Q96.7326 373.799 96.7326 365.072 Q96.7326 356.878 100.621 352.017 Q104.51 347.133 111.061 347.133 Q112.82 347.133 114.603 347.48 Q116.408 347.827 118.353 348.522 Z\" fill=\"#000000\" fill-rule=\"evenodd\" fill-opacity=\"1\" /><circle clip-path=\"url(#clip222)\" cx=\"218.754\" cy=\"1445.72\" r=\"14.4\" fill=\"#009af9\" fill-rule=\"evenodd\" fill-opacity=\"1\" stroke=\"#000000\" stroke-opacity=\"1\" stroke-width=\"3.2\"/>\n",
       "<circle clip-path=\"url(#clip222)\" cx=\"229.218\" cy=\"1418.43\" r=\"14.4\" fill=\"#009af9\" fill-rule=\"evenodd\" fill-opacity=\"1\" stroke=\"#000000\" stroke-opacity=\"1\" stroke-width=\"3.2\"/>\n",
       "<circle clip-path=\"url(#clip222)\" cx=\"239.681\" cy=\"1391.41\" r=\"14.4\" fill=\"#009af9\" fill-rule=\"evenodd\" fill-opacity=\"1\" stroke=\"#000000\" stroke-opacity=\"1\" stroke-width=\"3.2\"/>\n",
       "<circle clip-path=\"url(#clip222)\" cx=\"250.145\" cy=\"1364.68\" r=\"14.4\" fill=\"#009af9\" fill-rule=\"evenodd\" fill-opacity=\"1\" stroke=\"#000000\" stroke-opacity=\"1\" stroke-width=\"3.2\"/>\n",
       "<circle clip-path=\"url(#clip222)\" cx=\"260.609\" cy=\"1338.22\" r=\"14.4\" fill=\"#009af9\" fill-rule=\"evenodd\" fill-opacity=\"1\" stroke=\"#000000\" stroke-opacity=\"1\" stroke-width=\"3.2\"/>\n",
       "<circle clip-path=\"url(#clip222)\" cx=\"271.073\" cy=\"1312.03\" r=\"14.4\" fill=\"#009af9\" fill-rule=\"evenodd\" fill-opacity=\"1\" stroke=\"#000000\" stroke-opacity=\"1\" stroke-width=\"3.2\"/>\n",
       "<circle clip-path=\"url(#clip222)\" cx=\"281.537\" cy=\"1286.13\" r=\"14.4\" fill=\"#009af9\" fill-rule=\"evenodd\" fill-opacity=\"1\" stroke=\"#000000\" stroke-opacity=\"1\" stroke-width=\"3.2\"/>\n",
       "<circle clip-path=\"url(#clip222)\" cx=\"292.001\" cy=\"1260.5\" r=\"14.4\" fill=\"#009af9\" fill-rule=\"evenodd\" fill-opacity=\"1\" stroke=\"#000000\" stroke-opacity=\"1\" stroke-width=\"3.2\"/>\n",
       "<circle clip-path=\"url(#clip222)\" cx=\"302.465\" cy=\"1235.15\" r=\"14.4\" fill=\"#009af9\" fill-rule=\"evenodd\" fill-opacity=\"1\" stroke=\"#000000\" stroke-opacity=\"1\" stroke-width=\"3.2\"/>\n",
       "<circle clip-path=\"url(#clip222)\" cx=\"312.928\" cy=\"1210.07\" r=\"14.4\" fill=\"#009af9\" fill-rule=\"evenodd\" fill-opacity=\"1\" stroke=\"#000000\" stroke-opacity=\"1\" stroke-width=\"3.2\"/>\n",
       "<circle clip-path=\"url(#clip222)\" cx=\"323.392\" cy=\"1185.28\" r=\"14.4\" fill=\"#009af9\" fill-rule=\"evenodd\" fill-opacity=\"1\" stroke=\"#000000\" stroke-opacity=\"1\" stroke-width=\"3.2\"/>\n",
       "<circle clip-path=\"url(#clip222)\" cx=\"333.856\" cy=\"1160.76\" r=\"14.4\" fill=\"#009af9\" fill-rule=\"evenodd\" fill-opacity=\"1\" stroke=\"#000000\" stroke-opacity=\"1\" stroke-width=\"3.2\"/>\n",
       "<circle clip-path=\"url(#clip222)\" cx=\"344.32\" cy=\"1136.52\" r=\"14.4\" fill=\"#009af9\" fill-rule=\"evenodd\" fill-opacity=\"1\" stroke=\"#000000\" stroke-opacity=\"1\" stroke-width=\"3.2\"/>\n",
       "<circle clip-path=\"url(#clip222)\" cx=\"354.784\" cy=\"1112.55\" r=\"14.4\" fill=\"#009af9\" fill-rule=\"evenodd\" fill-opacity=\"1\" stroke=\"#000000\" stroke-opacity=\"1\" stroke-width=\"3.2\"/>\n",
       "<circle clip-path=\"url(#clip222)\" cx=\"365.248\" cy=\"1088.86\" r=\"14.4\" fill=\"#009af9\" fill-rule=\"evenodd\" fill-opacity=\"1\" stroke=\"#000000\" stroke-opacity=\"1\" stroke-width=\"3.2\"/>\n",
       "<circle clip-path=\"url(#clip222)\" cx=\"375.712\" cy=\"1065.45\" r=\"14.4\" fill=\"#009af9\" fill-rule=\"evenodd\" fill-opacity=\"1\" stroke=\"#000000\" stroke-opacity=\"1\" stroke-width=\"3.2\"/>\n",
       "<circle clip-path=\"url(#clip222)\" cx=\"386.176\" cy=\"1042.31\" r=\"14.4\" fill=\"#009af9\" fill-rule=\"evenodd\" fill-opacity=\"1\" stroke=\"#000000\" stroke-opacity=\"1\" stroke-width=\"3.2\"/>\n",
       "<circle clip-path=\"url(#clip222)\" cx=\"396.639\" cy=\"1019.46\" r=\"14.4\" fill=\"#009af9\" fill-rule=\"evenodd\" fill-opacity=\"1\" stroke=\"#000000\" stroke-opacity=\"1\" stroke-width=\"3.2\"/>\n",
       "<circle clip-path=\"url(#clip222)\" cx=\"407.103\" cy=\"996.876\" r=\"14.4\" fill=\"#009af9\" fill-rule=\"evenodd\" fill-opacity=\"1\" stroke=\"#000000\" stroke-opacity=\"1\" stroke-width=\"3.2\"/>\n",
       "<circle clip-path=\"url(#clip222)\" cx=\"417.567\" cy=\"974.573\" r=\"14.4\" fill=\"#009af9\" fill-rule=\"evenodd\" fill-opacity=\"1\" stroke=\"#000000\" stroke-opacity=\"1\" stroke-width=\"3.2\"/>\n",
       "<circle clip-path=\"url(#clip222)\" cx=\"428.031\" cy=\"952.546\" r=\"14.4\" fill=\"#009af9\" fill-rule=\"evenodd\" fill-opacity=\"1\" stroke=\"#000000\" stroke-opacity=\"1\" stroke-width=\"3.2\"/>\n",
       "<circle clip-path=\"url(#clip222)\" cx=\"438.495\" cy=\"930.797\" r=\"14.4\" fill=\"#009af9\" fill-rule=\"evenodd\" fill-opacity=\"1\" stroke=\"#000000\" stroke-opacity=\"1\" stroke-width=\"3.2\"/>\n",
       "<circle clip-path=\"url(#clip222)\" cx=\"448.959\" cy=\"909.325\" r=\"14.4\" fill=\"#009af9\" fill-rule=\"evenodd\" fill-opacity=\"1\" stroke=\"#000000\" stroke-opacity=\"1\" stroke-width=\"3.2\"/>\n",
       "<circle clip-path=\"url(#clip222)\" cx=\"459.423\" cy=\"888.13\" r=\"14.4\" fill=\"#009af9\" fill-rule=\"evenodd\" fill-opacity=\"1\" stroke=\"#000000\" stroke-opacity=\"1\" stroke-width=\"3.2\"/>\n",
       "<circle clip-path=\"url(#clip222)\" cx=\"469.887\" cy=\"867.211\" r=\"14.4\" fill=\"#009af9\" fill-rule=\"evenodd\" fill-opacity=\"1\" stroke=\"#000000\" stroke-opacity=\"1\" stroke-width=\"3.2\"/>\n",
       "<circle clip-path=\"url(#clip222)\" cx=\"480.35\" cy=\"846.57\" r=\"14.4\" fill=\"#009af9\" fill-rule=\"evenodd\" fill-opacity=\"1\" stroke=\"#000000\" stroke-opacity=\"1\" stroke-width=\"3.2\"/>\n",
       "<circle clip-path=\"url(#clip222)\" cx=\"490.814\" cy=\"826.206\" r=\"14.4\" fill=\"#009af9\" fill-rule=\"evenodd\" fill-opacity=\"1\" stroke=\"#000000\" stroke-opacity=\"1\" stroke-width=\"3.2\"/>\n",
       "<circle clip-path=\"url(#clip222)\" cx=\"501.278\" cy=\"806.119\" r=\"14.4\" fill=\"#009af9\" fill-rule=\"evenodd\" fill-opacity=\"1\" stroke=\"#000000\" stroke-opacity=\"1\" stroke-width=\"3.2\"/>\n",
       "<circle clip-path=\"url(#clip222)\" cx=\"511.742\" cy=\"786.31\" r=\"14.4\" fill=\"#009af9\" fill-rule=\"evenodd\" fill-opacity=\"1\" stroke=\"#000000\" stroke-opacity=\"1\" stroke-width=\"3.2\"/>\n",
       "<circle clip-path=\"url(#clip222)\" cx=\"522.206\" cy=\"766.777\" r=\"14.4\" fill=\"#009af9\" fill-rule=\"evenodd\" fill-opacity=\"1\" stroke=\"#000000\" stroke-opacity=\"1\" stroke-width=\"3.2\"/>\n",
       "<circle clip-path=\"url(#clip222)\" cx=\"532.67\" cy=\"747.521\" r=\"14.4\" fill=\"#009af9\" fill-rule=\"evenodd\" fill-opacity=\"1\" stroke=\"#000000\" stroke-opacity=\"1\" stroke-width=\"3.2\"/>\n",
       "<circle clip-path=\"url(#clip222)\" cx=\"543.134\" cy=\"728.542\" r=\"14.4\" fill=\"#009af9\" fill-rule=\"evenodd\" fill-opacity=\"1\" stroke=\"#000000\" stroke-opacity=\"1\" stroke-width=\"3.2\"/>\n",
       "<circle clip-path=\"url(#clip222)\" cx=\"553.598\" cy=\"709.841\" r=\"14.4\" fill=\"#009af9\" fill-rule=\"evenodd\" fill-opacity=\"1\" stroke=\"#000000\" stroke-opacity=\"1\" stroke-width=\"3.2\"/>\n",
       "<circle clip-path=\"url(#clip222)\" cx=\"564.061\" cy=\"691.416\" r=\"14.4\" fill=\"#009af9\" fill-rule=\"evenodd\" fill-opacity=\"1\" stroke=\"#000000\" stroke-opacity=\"1\" stroke-width=\"3.2\"/>\n",
       "<circle clip-path=\"url(#clip222)\" cx=\"574.525\" cy=\"673.268\" r=\"14.4\" fill=\"#009af9\" fill-rule=\"evenodd\" fill-opacity=\"1\" stroke=\"#000000\" stroke-opacity=\"1\" stroke-width=\"3.2\"/>\n",
       "<circle clip-path=\"url(#clip222)\" cx=\"584.989\" cy=\"655.398\" r=\"14.4\" fill=\"#009af9\" fill-rule=\"evenodd\" fill-opacity=\"1\" stroke=\"#000000\" stroke-opacity=\"1\" stroke-width=\"3.2\"/>\n",
       "<circle clip-path=\"url(#clip222)\" cx=\"595.453\" cy=\"637.805\" r=\"14.4\" fill=\"#009af9\" fill-rule=\"evenodd\" fill-opacity=\"1\" stroke=\"#000000\" stroke-opacity=\"1\" stroke-width=\"3.2\"/>\n",
       "<circle clip-path=\"url(#clip222)\" cx=\"605.917\" cy=\"620.488\" r=\"14.4\" fill=\"#009af9\" fill-rule=\"evenodd\" fill-opacity=\"1\" stroke=\"#000000\" stroke-opacity=\"1\" stroke-width=\"3.2\"/>\n",
       "<circle clip-path=\"url(#clip222)\" cx=\"616.381\" cy=\"603.449\" r=\"14.4\" fill=\"#009af9\" fill-rule=\"evenodd\" fill-opacity=\"1\" stroke=\"#000000\" stroke-opacity=\"1\" stroke-width=\"3.2\"/>\n",
       "<circle clip-path=\"url(#clip222)\" cx=\"626.845\" cy=\"586.687\" r=\"14.4\" fill=\"#009af9\" fill-rule=\"evenodd\" fill-opacity=\"1\" stroke=\"#000000\" stroke-opacity=\"1\" stroke-width=\"3.2\"/>\n",
       "<circle clip-path=\"url(#clip222)\" cx=\"637.309\" cy=\"570.202\" r=\"14.4\" fill=\"#009af9\" fill-rule=\"evenodd\" fill-opacity=\"1\" stroke=\"#000000\" stroke-opacity=\"1\" stroke-width=\"3.2\"/>\n",
       "<circle clip-path=\"url(#clip222)\" cx=\"647.772\" cy=\"553.994\" r=\"14.4\" fill=\"#009af9\" fill-rule=\"evenodd\" fill-opacity=\"1\" stroke=\"#000000\" stroke-opacity=\"1\" stroke-width=\"3.2\"/>\n",
       "<circle clip-path=\"url(#clip222)\" cx=\"658.236\" cy=\"538.063\" r=\"14.4\" fill=\"#009af9\" fill-rule=\"evenodd\" fill-opacity=\"1\" stroke=\"#000000\" stroke-opacity=\"1\" stroke-width=\"3.2\"/>\n",
       "<circle clip-path=\"url(#clip222)\" cx=\"668.7\" cy=\"522.409\" r=\"14.4\" fill=\"#009af9\" fill-rule=\"evenodd\" fill-opacity=\"1\" stroke=\"#000000\" stroke-opacity=\"1\" stroke-width=\"3.2\"/>\n",
       "<circle clip-path=\"url(#clip222)\" cx=\"679.164\" cy=\"507.032\" r=\"14.4\" fill=\"#009af9\" fill-rule=\"evenodd\" fill-opacity=\"1\" stroke=\"#000000\" stroke-opacity=\"1\" stroke-width=\"3.2\"/>\n",
       "<circle clip-path=\"url(#clip222)\" cx=\"689.628\" cy=\"491.932\" r=\"14.4\" fill=\"#009af9\" fill-rule=\"evenodd\" fill-opacity=\"1\" stroke=\"#000000\" stroke-opacity=\"1\" stroke-width=\"3.2\"/>\n",
       "<circle clip-path=\"url(#clip222)\" cx=\"700.092\" cy=\"477.109\" r=\"14.4\" fill=\"#009af9\" fill-rule=\"evenodd\" fill-opacity=\"1\" stroke=\"#000000\" stroke-opacity=\"1\" stroke-width=\"3.2\"/>\n",
       "<circle clip-path=\"url(#clip222)\" cx=\"710.556\" cy=\"462.563\" r=\"14.4\" fill=\"#009af9\" fill-rule=\"evenodd\" fill-opacity=\"1\" stroke=\"#000000\" stroke-opacity=\"1\" stroke-width=\"3.2\"/>\n",
       "<circle clip-path=\"url(#clip222)\" cx=\"721.02\" cy=\"448.295\" r=\"14.4\" fill=\"#009af9\" fill-rule=\"evenodd\" fill-opacity=\"1\" stroke=\"#000000\" stroke-opacity=\"1\" stroke-width=\"3.2\"/>\n",
       "<circle clip-path=\"url(#clip222)\" cx=\"731.483\" cy=\"434.303\" r=\"14.4\" fill=\"#009af9\" fill-rule=\"evenodd\" fill-opacity=\"1\" stroke=\"#000000\" stroke-opacity=\"1\" stroke-width=\"3.2\"/>\n",
       "<circle clip-path=\"url(#clip222)\" cx=\"741.947\" cy=\"420.588\" r=\"14.4\" fill=\"#009af9\" fill-rule=\"evenodd\" fill-opacity=\"1\" stroke=\"#000000\" stroke-opacity=\"1\" stroke-width=\"3.2\"/>\n",
       "<circle clip-path=\"url(#clip222)\" cx=\"752.411\" cy=\"407.151\" r=\"14.4\" fill=\"#009af9\" fill-rule=\"evenodd\" fill-opacity=\"1\" stroke=\"#000000\" stroke-opacity=\"1\" stroke-width=\"3.2\"/>\n",
       "<circle clip-path=\"url(#clip222)\" cx=\"762.875\" cy=\"393.991\" r=\"14.4\" fill=\"#009af9\" fill-rule=\"evenodd\" fill-opacity=\"1\" stroke=\"#000000\" stroke-opacity=\"1\" stroke-width=\"3.2\"/>\n",
       "<circle clip-path=\"url(#clip222)\" cx=\"773.339\" cy=\"381.107\" r=\"14.4\" fill=\"#009af9\" fill-rule=\"evenodd\" fill-opacity=\"1\" stroke=\"#000000\" stroke-opacity=\"1\" stroke-width=\"3.2\"/>\n",
       "<circle clip-path=\"url(#clip222)\" cx=\"783.803\" cy=\"368.501\" r=\"14.4\" fill=\"#009af9\" fill-rule=\"evenodd\" fill-opacity=\"1\" stroke=\"#000000\" stroke-opacity=\"1\" stroke-width=\"3.2\"/>\n",
       "<circle clip-path=\"url(#clip222)\" cx=\"794.267\" cy=\"356.172\" r=\"14.4\" fill=\"#009af9\" fill-rule=\"evenodd\" fill-opacity=\"1\" stroke=\"#000000\" stroke-opacity=\"1\" stroke-width=\"3.2\"/>\n",
       "<circle clip-path=\"url(#clip222)\" cx=\"804.731\" cy=\"344.12\" r=\"14.4\" fill=\"#009af9\" fill-rule=\"evenodd\" fill-opacity=\"1\" stroke=\"#000000\" stroke-opacity=\"1\" stroke-width=\"3.2\"/>\n",
       "<circle clip-path=\"url(#clip222)\" cx=\"815.194\" cy=\"332.344\" r=\"14.4\" fill=\"#009af9\" fill-rule=\"evenodd\" fill-opacity=\"1\" stroke=\"#000000\" stroke-opacity=\"1\" stroke-width=\"3.2\"/>\n",
       "<circle clip-path=\"url(#clip222)\" cx=\"825.658\" cy=\"320.846\" r=\"14.4\" fill=\"#009af9\" fill-rule=\"evenodd\" fill-opacity=\"1\" stroke=\"#000000\" stroke-opacity=\"1\" stroke-width=\"3.2\"/>\n",
       "<circle clip-path=\"url(#clip222)\" cx=\"836.122\" cy=\"309.625\" r=\"14.4\" fill=\"#009af9\" fill-rule=\"evenodd\" fill-opacity=\"1\" stroke=\"#000000\" stroke-opacity=\"1\" stroke-width=\"3.2\"/>\n",
       "<circle clip-path=\"url(#clip222)\" cx=\"846.586\" cy=\"298.681\" r=\"14.4\" fill=\"#009af9\" fill-rule=\"evenodd\" fill-opacity=\"1\" stroke=\"#000000\" stroke-opacity=\"1\" stroke-width=\"3.2\"/>\n",
       "<circle clip-path=\"url(#clip222)\" cx=\"857.05\" cy=\"288.015\" r=\"14.4\" fill=\"#009af9\" fill-rule=\"evenodd\" fill-opacity=\"1\" stroke=\"#000000\" stroke-opacity=\"1\" stroke-width=\"3.2\"/>\n",
       "<circle clip-path=\"url(#clip222)\" cx=\"867.514\" cy=\"277.625\" r=\"14.4\" fill=\"#009af9\" fill-rule=\"evenodd\" fill-opacity=\"1\" stroke=\"#000000\" stroke-opacity=\"1\" stroke-width=\"3.2\"/>\n",
       "<circle clip-path=\"url(#clip222)\" cx=\"877.978\" cy=\"267.512\" r=\"14.4\" fill=\"#009af9\" fill-rule=\"evenodd\" fill-opacity=\"1\" stroke=\"#000000\" stroke-opacity=\"1\" stroke-width=\"3.2\"/>\n",
       "<circle clip-path=\"url(#clip222)\" cx=\"888.442\" cy=\"257.676\" r=\"14.4\" fill=\"#009af9\" fill-rule=\"evenodd\" fill-opacity=\"1\" stroke=\"#000000\" stroke-opacity=\"1\" stroke-width=\"3.2\"/>\n",
       "<circle clip-path=\"url(#clip222)\" cx=\"898.905\" cy=\"248.118\" r=\"14.4\" fill=\"#009af9\" fill-rule=\"evenodd\" fill-opacity=\"1\" stroke=\"#000000\" stroke-opacity=\"1\" stroke-width=\"3.2\"/>\n",
       "<circle clip-path=\"url(#clip222)\" cx=\"909.369\" cy=\"238.836\" r=\"14.4\" fill=\"#009af9\" fill-rule=\"evenodd\" fill-opacity=\"1\" stroke=\"#000000\" stroke-opacity=\"1\" stroke-width=\"3.2\"/>\n",
       "<circle clip-path=\"url(#clip222)\" cx=\"919.833\" cy=\"229.832\" r=\"14.4\" fill=\"#009af9\" fill-rule=\"evenodd\" fill-opacity=\"1\" stroke=\"#000000\" stroke-opacity=\"1\" stroke-width=\"3.2\"/>\n",
       "<circle clip-path=\"url(#clip222)\" cx=\"930.297\" cy=\"221.104\" r=\"14.4\" fill=\"#009af9\" fill-rule=\"evenodd\" fill-opacity=\"1\" stroke=\"#000000\" stroke-opacity=\"1\" stroke-width=\"3.2\"/>\n",
       "<circle clip-path=\"url(#clip222)\" cx=\"940.761\" cy=\"212.654\" r=\"14.4\" fill=\"#009af9\" fill-rule=\"evenodd\" fill-opacity=\"1\" stroke=\"#000000\" stroke-opacity=\"1\" stroke-width=\"3.2\"/>\n",
       "<circle clip-path=\"url(#clip222)\" cx=\"951.225\" cy=\"204.481\" r=\"14.4\" fill=\"#009af9\" fill-rule=\"evenodd\" fill-opacity=\"1\" stroke=\"#000000\" stroke-opacity=\"1\" stroke-width=\"3.2\"/>\n",
       "<circle clip-path=\"url(#clip222)\" cx=\"961.689\" cy=\"196.584\" r=\"14.4\" fill=\"#009af9\" fill-rule=\"evenodd\" fill-opacity=\"1\" stroke=\"#000000\" stroke-opacity=\"1\" stroke-width=\"3.2\"/>\n",
       "<circle clip-path=\"url(#clip222)\" cx=\"972.152\" cy=\"188.965\" r=\"14.4\" fill=\"#009af9\" fill-rule=\"evenodd\" fill-opacity=\"1\" stroke=\"#000000\" stroke-opacity=\"1\" stroke-width=\"3.2\"/>\n",
       "<circle clip-path=\"url(#clip222)\" cx=\"982.616\" cy=\"181.623\" r=\"14.4\" fill=\"#009af9\" fill-rule=\"evenodd\" fill-opacity=\"1\" stroke=\"#000000\" stroke-opacity=\"1\" stroke-width=\"3.2\"/>\n",
       "<circle clip-path=\"url(#clip222)\" cx=\"993.08\" cy=\"174.558\" r=\"14.4\" fill=\"#009af9\" fill-rule=\"evenodd\" fill-opacity=\"1\" stroke=\"#000000\" stroke-opacity=\"1\" stroke-width=\"3.2\"/>\n",
       "<circle clip-path=\"url(#clip222)\" cx=\"1003.54\" cy=\"167.77\" r=\"14.4\" fill=\"#009af9\" fill-rule=\"evenodd\" fill-opacity=\"1\" stroke=\"#000000\" stroke-opacity=\"1\" stroke-width=\"3.2\"/>\n",
       "<circle clip-path=\"url(#clip222)\" cx=\"1014.01\" cy=\"161.259\" r=\"14.4\" fill=\"#009af9\" fill-rule=\"evenodd\" fill-opacity=\"1\" stroke=\"#000000\" stroke-opacity=\"1\" stroke-width=\"3.2\"/>\n",
       "<circle clip-path=\"url(#clip222)\" cx=\"1024.47\" cy=\"155.025\" r=\"14.4\" fill=\"#009af9\" fill-rule=\"evenodd\" fill-opacity=\"1\" stroke=\"#000000\" stroke-opacity=\"1\" stroke-width=\"3.2\"/>\n",
       "<circle clip-path=\"url(#clip222)\" cx=\"1034.94\" cy=\"149.068\" r=\"14.4\" fill=\"#009af9\" fill-rule=\"evenodd\" fill-opacity=\"1\" stroke=\"#000000\" stroke-opacity=\"1\" stroke-width=\"3.2\"/>\n",
       "<circle clip-path=\"url(#clip222)\" cx=\"1045.4\" cy=\"143.389\" r=\"14.4\" fill=\"#009af9\" fill-rule=\"evenodd\" fill-opacity=\"1\" stroke=\"#000000\" stroke-opacity=\"1\" stroke-width=\"3.2\"/>\n",
       "<circle clip-path=\"url(#clip222)\" cx=\"1055.86\" cy=\"137.986\" r=\"14.4\" fill=\"#009af9\" fill-rule=\"evenodd\" fill-opacity=\"1\" stroke=\"#000000\" stroke-opacity=\"1\" stroke-width=\"3.2\"/>\n",
       "<circle clip-path=\"url(#clip222)\" cx=\"1066.33\" cy=\"132.86\" r=\"14.4\" fill=\"#009af9\" fill-rule=\"evenodd\" fill-opacity=\"1\" stroke=\"#000000\" stroke-opacity=\"1\" stroke-width=\"3.2\"/>\n",
       "<circle clip-path=\"url(#clip222)\" cx=\"1076.79\" cy=\"128.012\" r=\"14.4\" fill=\"#009af9\" fill-rule=\"evenodd\" fill-opacity=\"1\" stroke=\"#000000\" stroke-opacity=\"1\" stroke-width=\"3.2\"/>\n",
       "<circle clip-path=\"url(#clip222)\" cx=\"1087.26\" cy=\"123.44\" r=\"14.4\" fill=\"#009af9\" fill-rule=\"evenodd\" fill-opacity=\"1\" stroke=\"#000000\" stroke-opacity=\"1\" stroke-width=\"3.2\"/>\n",
       "<circle clip-path=\"url(#clip222)\" cx=\"1097.72\" cy=\"119.146\" r=\"14.4\" fill=\"#009af9\" fill-rule=\"evenodd\" fill-opacity=\"1\" stroke=\"#000000\" stroke-opacity=\"1\" stroke-width=\"3.2\"/>\n",
       "<circle clip-path=\"url(#clip222)\" cx=\"1108.18\" cy=\"115.128\" r=\"14.4\" fill=\"#009af9\" fill-rule=\"evenodd\" fill-opacity=\"1\" stroke=\"#000000\" stroke-opacity=\"1\" stroke-width=\"3.2\"/>\n",
       "<circle clip-path=\"url(#clip222)\" cx=\"1118.65\" cy=\"111.388\" r=\"14.4\" fill=\"#009af9\" fill-rule=\"evenodd\" fill-opacity=\"1\" stroke=\"#000000\" stroke-opacity=\"1\" stroke-width=\"3.2\"/>\n",
       "<circle clip-path=\"url(#clip222)\" cx=\"1129.11\" cy=\"107.925\" r=\"14.4\" fill=\"#009af9\" fill-rule=\"evenodd\" fill-opacity=\"1\" stroke=\"#000000\" stroke-opacity=\"1\" stroke-width=\"3.2\"/>\n",
       "<circle clip-path=\"url(#clip222)\" cx=\"1139.57\" cy=\"104.738\" r=\"14.4\" fill=\"#009af9\" fill-rule=\"evenodd\" fill-opacity=\"1\" stroke=\"#000000\" stroke-opacity=\"1\" stroke-width=\"3.2\"/>\n",
       "<circle clip-path=\"url(#clip222)\" cx=\"1150.04\" cy=\"101.829\" r=\"14.4\" fill=\"#009af9\" fill-rule=\"evenodd\" fill-opacity=\"1\" stroke=\"#000000\" stroke-opacity=\"1\" stroke-width=\"3.2\"/>\n",
       "<circle clip-path=\"url(#clip222)\" cx=\"1160.5\" cy=\"99.1973\" r=\"14.4\" fill=\"#009af9\" fill-rule=\"evenodd\" fill-opacity=\"1\" stroke=\"#000000\" stroke-opacity=\"1\" stroke-width=\"3.2\"/>\n",
       "<circle clip-path=\"url(#clip222)\" cx=\"1170.97\" cy=\"96.8422\" r=\"14.4\" fill=\"#009af9\" fill-rule=\"evenodd\" fill-opacity=\"1\" stroke=\"#000000\" stroke-opacity=\"1\" stroke-width=\"3.2\"/>\n",
       "<circle clip-path=\"url(#clip222)\" cx=\"1181.43\" cy=\"94.7643\" r=\"14.4\" fill=\"#009af9\" fill-rule=\"evenodd\" fill-opacity=\"1\" stroke=\"#000000\" stroke-opacity=\"1\" stroke-width=\"3.2\"/>\n",
       "<circle clip-path=\"url(#clip222)\" cx=\"1191.89\" cy=\"92.9634\" r=\"14.4\" fill=\"#009af9\" fill-rule=\"evenodd\" fill-opacity=\"1\" stroke=\"#000000\" stroke-opacity=\"1\" stroke-width=\"3.2\"/>\n",
       "<circle clip-path=\"url(#clip222)\" cx=\"1202.36\" cy=\"91.4395\" r=\"14.4\" fill=\"#009af9\" fill-rule=\"evenodd\" fill-opacity=\"1\" stroke=\"#000000\" stroke-opacity=\"1\" stroke-width=\"3.2\"/>\n",
       "<circle clip-path=\"url(#clip222)\" cx=\"1212.82\" cy=\"90.1928\" r=\"14.4\" fill=\"#009af9\" fill-rule=\"evenodd\" fill-opacity=\"1\" stroke=\"#000000\" stroke-opacity=\"1\" stroke-width=\"3.2\"/>\n",
       "<circle clip-path=\"url(#clip222)\" cx=\"1223.29\" cy=\"89.2231\" r=\"14.4\" fill=\"#009af9\" fill-rule=\"evenodd\" fill-opacity=\"1\" stroke=\"#000000\" stroke-opacity=\"1\" stroke-width=\"3.2\"/>\n",
       "<circle clip-path=\"url(#clip222)\" cx=\"1233.75\" cy=\"88.5304\" r=\"14.4\" fill=\"#009af9\" fill-rule=\"evenodd\" fill-opacity=\"1\" stroke=\"#000000\" stroke-opacity=\"1\" stroke-width=\"3.2\"/>\n",
       "<circle clip-path=\"url(#clip222)\" cx=\"1244.21\" cy=\"88.1148\" r=\"14.4\" fill=\"#009af9\" fill-rule=\"evenodd\" fill-opacity=\"1\" stroke=\"#000000\" stroke-opacity=\"1\" stroke-width=\"3.2\"/>\n",
       "<circle clip-path=\"url(#clip222)\" cx=\"1254.68\" cy=\"87.9763\" r=\"14.4\" fill=\"#009af9\" fill-rule=\"evenodd\" fill-opacity=\"1\" stroke=\"#000000\" stroke-opacity=\"1\" stroke-width=\"3.2\"/>\n",
       "<circle clip-path=\"url(#clip222)\" cx=\"1265.14\" cy=\"88.1148\" r=\"14.4\" fill=\"#009af9\" fill-rule=\"evenodd\" fill-opacity=\"1\" stroke=\"#000000\" stroke-opacity=\"1\" stroke-width=\"3.2\"/>\n",
       "<circle clip-path=\"url(#clip222)\" cx=\"1275.6\" cy=\"88.5304\" r=\"14.4\" fill=\"#009af9\" fill-rule=\"evenodd\" fill-opacity=\"1\" stroke=\"#000000\" stroke-opacity=\"1\" stroke-width=\"3.2\"/>\n",
       "<circle clip-path=\"url(#clip222)\" cx=\"1286.07\" cy=\"89.2231\" r=\"14.4\" fill=\"#009af9\" fill-rule=\"evenodd\" fill-opacity=\"1\" stroke=\"#000000\" stroke-opacity=\"1\" stroke-width=\"3.2\"/>\n",
       "<circle clip-path=\"url(#clip222)\" cx=\"1296.53\" cy=\"90.1928\" r=\"14.4\" fill=\"#009af9\" fill-rule=\"evenodd\" fill-opacity=\"1\" stroke=\"#000000\" stroke-opacity=\"1\" stroke-width=\"3.2\"/>\n",
       "<circle clip-path=\"url(#clip222)\" cx=\"1307\" cy=\"91.4395\" r=\"14.4\" fill=\"#009af9\" fill-rule=\"evenodd\" fill-opacity=\"1\" stroke=\"#000000\" stroke-opacity=\"1\" stroke-width=\"3.2\"/>\n",
       "<circle clip-path=\"url(#clip222)\" cx=\"1317.46\" cy=\"92.9634\" r=\"14.4\" fill=\"#009af9\" fill-rule=\"evenodd\" fill-opacity=\"1\" stroke=\"#000000\" stroke-opacity=\"1\" stroke-width=\"3.2\"/>\n",
       "<circle clip-path=\"url(#clip222)\" cx=\"1327.92\" cy=\"94.7643\" r=\"14.4\" fill=\"#009af9\" fill-rule=\"evenodd\" fill-opacity=\"1\" stroke=\"#000000\" stroke-opacity=\"1\" stroke-width=\"3.2\"/>\n",
       "<circle clip-path=\"url(#clip222)\" cx=\"1338.39\" cy=\"96.8422\" r=\"14.4\" fill=\"#009af9\" fill-rule=\"evenodd\" fill-opacity=\"1\" stroke=\"#000000\" stroke-opacity=\"1\" stroke-width=\"3.2\"/>\n",
       "<circle clip-path=\"url(#clip222)\" cx=\"1348.85\" cy=\"99.1973\" r=\"14.4\" fill=\"#009af9\" fill-rule=\"evenodd\" fill-opacity=\"1\" stroke=\"#000000\" stroke-opacity=\"1\" stroke-width=\"3.2\"/>\n",
       "<circle clip-path=\"url(#clip222)\" cx=\"1359.32\" cy=\"101.829\" r=\"14.4\" fill=\"#009af9\" fill-rule=\"evenodd\" fill-opacity=\"1\" stroke=\"#000000\" stroke-opacity=\"1\" stroke-width=\"3.2\"/>\n",
       "<circle clip-path=\"url(#clip222)\" cx=\"1369.78\" cy=\"104.738\" r=\"14.4\" fill=\"#009af9\" fill-rule=\"evenodd\" fill-opacity=\"1\" stroke=\"#000000\" stroke-opacity=\"1\" stroke-width=\"3.2\"/>\n",
       "<circle clip-path=\"url(#clip222)\" cx=\"1380.24\" cy=\"107.925\" r=\"14.4\" fill=\"#009af9\" fill-rule=\"evenodd\" fill-opacity=\"1\" stroke=\"#000000\" stroke-opacity=\"1\" stroke-width=\"3.2\"/>\n",
       "<circle clip-path=\"url(#clip222)\" cx=\"1390.71\" cy=\"111.388\" r=\"14.4\" fill=\"#009af9\" fill-rule=\"evenodd\" fill-opacity=\"1\" stroke=\"#000000\" stroke-opacity=\"1\" stroke-width=\"3.2\"/>\n",
       "<circle clip-path=\"url(#clip222)\" cx=\"1401.17\" cy=\"115.128\" r=\"14.4\" fill=\"#009af9\" fill-rule=\"evenodd\" fill-opacity=\"1\" stroke=\"#000000\" stroke-opacity=\"1\" stroke-width=\"3.2\"/>\n",
       "<circle clip-path=\"url(#clip222)\" cx=\"1411.64\" cy=\"119.146\" r=\"14.4\" fill=\"#009af9\" fill-rule=\"evenodd\" fill-opacity=\"1\" stroke=\"#000000\" stroke-opacity=\"1\" stroke-width=\"3.2\"/>\n",
       "<circle clip-path=\"url(#clip222)\" cx=\"1422.1\" cy=\"123.44\" r=\"14.4\" fill=\"#009af9\" fill-rule=\"evenodd\" fill-opacity=\"1\" stroke=\"#000000\" stroke-opacity=\"1\" stroke-width=\"3.2\"/>\n",
       "<circle clip-path=\"url(#clip222)\" cx=\"1432.56\" cy=\"128.012\" r=\"14.4\" fill=\"#009af9\" fill-rule=\"evenodd\" fill-opacity=\"1\" stroke=\"#000000\" stroke-opacity=\"1\" stroke-width=\"3.2\"/>\n",
       "<circle clip-path=\"url(#clip222)\" cx=\"1443.03\" cy=\"132.86\" r=\"14.4\" fill=\"#009af9\" fill-rule=\"evenodd\" fill-opacity=\"1\" stroke=\"#000000\" stroke-opacity=\"1\" stroke-width=\"3.2\"/>\n",
       "<circle clip-path=\"url(#clip222)\" cx=\"1453.49\" cy=\"137.986\" r=\"14.4\" fill=\"#009af9\" fill-rule=\"evenodd\" fill-opacity=\"1\" stroke=\"#000000\" stroke-opacity=\"1\" stroke-width=\"3.2\"/>\n",
       "<circle clip-path=\"url(#clip222)\" cx=\"1463.95\" cy=\"143.389\" r=\"14.4\" fill=\"#009af9\" fill-rule=\"evenodd\" fill-opacity=\"1\" stroke=\"#000000\" stroke-opacity=\"1\" stroke-width=\"3.2\"/>\n",
       "<circle clip-path=\"url(#clip222)\" cx=\"1474.42\" cy=\"149.068\" r=\"14.4\" fill=\"#009af9\" fill-rule=\"evenodd\" fill-opacity=\"1\" stroke=\"#000000\" stroke-opacity=\"1\" stroke-width=\"3.2\"/>\n",
       "<circle clip-path=\"url(#clip222)\" cx=\"1484.88\" cy=\"155.025\" r=\"14.4\" fill=\"#009af9\" fill-rule=\"evenodd\" fill-opacity=\"1\" stroke=\"#000000\" stroke-opacity=\"1\" stroke-width=\"3.2\"/>\n",
       "<circle clip-path=\"url(#clip222)\" cx=\"1495.35\" cy=\"161.259\" r=\"14.4\" fill=\"#009af9\" fill-rule=\"evenodd\" fill-opacity=\"1\" stroke=\"#000000\" stroke-opacity=\"1\" stroke-width=\"3.2\"/>\n",
       "<circle clip-path=\"url(#clip222)\" cx=\"1505.81\" cy=\"167.77\" r=\"14.4\" fill=\"#009af9\" fill-rule=\"evenodd\" fill-opacity=\"1\" stroke=\"#000000\" stroke-opacity=\"1\" stroke-width=\"3.2\"/>\n",
       "<circle clip-path=\"url(#clip222)\" cx=\"1516.27\" cy=\"174.558\" r=\"14.4\" fill=\"#009af9\" fill-rule=\"evenodd\" fill-opacity=\"1\" stroke=\"#000000\" stroke-opacity=\"1\" stroke-width=\"3.2\"/>\n",
       "<circle clip-path=\"url(#clip222)\" cx=\"1526.74\" cy=\"181.623\" r=\"14.4\" fill=\"#009af9\" fill-rule=\"evenodd\" fill-opacity=\"1\" stroke=\"#000000\" stroke-opacity=\"1\" stroke-width=\"3.2\"/>\n",
       "<circle clip-path=\"url(#clip222)\" cx=\"1537.2\" cy=\"188.965\" r=\"14.4\" fill=\"#009af9\" fill-rule=\"evenodd\" fill-opacity=\"1\" stroke=\"#000000\" stroke-opacity=\"1\" stroke-width=\"3.2\"/>\n",
       "<circle clip-path=\"url(#clip222)\" cx=\"1547.67\" cy=\"196.584\" r=\"14.4\" fill=\"#009af9\" fill-rule=\"evenodd\" fill-opacity=\"1\" stroke=\"#000000\" stroke-opacity=\"1\" stroke-width=\"3.2\"/>\n",
       "<circle clip-path=\"url(#clip222)\" cx=\"1558.13\" cy=\"204.481\" r=\"14.4\" fill=\"#009af9\" fill-rule=\"evenodd\" fill-opacity=\"1\" stroke=\"#000000\" stroke-opacity=\"1\" stroke-width=\"3.2\"/>\n",
       "<circle clip-path=\"url(#clip222)\" cx=\"1568.59\" cy=\"212.654\" r=\"14.4\" fill=\"#009af9\" fill-rule=\"evenodd\" fill-opacity=\"1\" stroke=\"#000000\" stroke-opacity=\"1\" stroke-width=\"3.2\"/>\n",
       "<circle clip-path=\"url(#clip222)\" cx=\"1579.06\" cy=\"221.104\" r=\"14.4\" fill=\"#009af9\" fill-rule=\"evenodd\" fill-opacity=\"1\" stroke=\"#000000\" stroke-opacity=\"1\" stroke-width=\"3.2\"/>\n",
       "<circle clip-path=\"url(#clip222)\" cx=\"1589.52\" cy=\"229.832\" r=\"14.4\" fill=\"#009af9\" fill-rule=\"evenodd\" fill-opacity=\"1\" stroke=\"#000000\" stroke-opacity=\"1\" stroke-width=\"3.2\"/>\n",
       "<circle clip-path=\"url(#clip222)\" cx=\"1599.98\" cy=\"238.836\" r=\"14.4\" fill=\"#009af9\" fill-rule=\"evenodd\" fill-opacity=\"1\" stroke=\"#000000\" stroke-opacity=\"1\" stroke-width=\"3.2\"/>\n",
       "<circle clip-path=\"url(#clip222)\" cx=\"1610.45\" cy=\"248.118\" r=\"14.4\" fill=\"#009af9\" fill-rule=\"evenodd\" fill-opacity=\"1\" stroke=\"#000000\" stroke-opacity=\"1\" stroke-width=\"3.2\"/>\n",
       "<circle clip-path=\"url(#clip222)\" cx=\"1620.91\" cy=\"257.676\" r=\"14.4\" fill=\"#009af9\" fill-rule=\"evenodd\" fill-opacity=\"1\" stroke=\"#000000\" stroke-opacity=\"1\" stroke-width=\"3.2\"/>\n",
       "<circle clip-path=\"url(#clip222)\" cx=\"1631.38\" cy=\"267.512\" r=\"14.4\" fill=\"#009af9\" fill-rule=\"evenodd\" fill-opacity=\"1\" stroke=\"#000000\" stroke-opacity=\"1\" stroke-width=\"3.2\"/>\n",
       "<circle clip-path=\"url(#clip222)\" cx=\"1641.84\" cy=\"277.625\" r=\"14.4\" fill=\"#009af9\" fill-rule=\"evenodd\" fill-opacity=\"1\" stroke=\"#000000\" stroke-opacity=\"1\" stroke-width=\"3.2\"/>\n",
       "<circle clip-path=\"url(#clip222)\" cx=\"1652.3\" cy=\"288.015\" r=\"14.4\" fill=\"#009af9\" fill-rule=\"evenodd\" fill-opacity=\"1\" stroke=\"#000000\" stroke-opacity=\"1\" stroke-width=\"3.2\"/>\n",
       "<circle clip-path=\"url(#clip222)\" cx=\"1662.77\" cy=\"298.681\" r=\"14.4\" fill=\"#009af9\" fill-rule=\"evenodd\" fill-opacity=\"1\" stroke=\"#000000\" stroke-opacity=\"1\" stroke-width=\"3.2\"/>\n",
       "<circle clip-path=\"url(#clip222)\" cx=\"1673.23\" cy=\"309.625\" r=\"14.4\" fill=\"#009af9\" fill-rule=\"evenodd\" fill-opacity=\"1\" stroke=\"#000000\" stroke-opacity=\"1\" stroke-width=\"3.2\"/>\n",
       "<circle clip-path=\"url(#clip222)\" cx=\"1683.7\" cy=\"320.846\" r=\"14.4\" fill=\"#009af9\" fill-rule=\"evenodd\" fill-opacity=\"1\" stroke=\"#000000\" stroke-opacity=\"1\" stroke-width=\"3.2\"/>\n",
       "<circle clip-path=\"url(#clip222)\" cx=\"1694.16\" cy=\"332.344\" r=\"14.4\" fill=\"#009af9\" fill-rule=\"evenodd\" fill-opacity=\"1\" stroke=\"#000000\" stroke-opacity=\"1\" stroke-width=\"3.2\"/>\n",
       "<circle clip-path=\"url(#clip222)\" cx=\"1704.62\" cy=\"344.12\" r=\"14.4\" fill=\"#009af9\" fill-rule=\"evenodd\" fill-opacity=\"1\" stroke=\"#000000\" stroke-opacity=\"1\" stroke-width=\"3.2\"/>\n",
       "<circle clip-path=\"url(#clip222)\" cx=\"1715.09\" cy=\"356.172\" r=\"14.4\" fill=\"#009af9\" fill-rule=\"evenodd\" fill-opacity=\"1\" stroke=\"#000000\" stroke-opacity=\"1\" stroke-width=\"3.2\"/>\n",
       "<circle clip-path=\"url(#clip222)\" cx=\"1725.55\" cy=\"368.501\" r=\"14.4\" fill=\"#009af9\" fill-rule=\"evenodd\" fill-opacity=\"1\" stroke=\"#000000\" stroke-opacity=\"1\" stroke-width=\"3.2\"/>\n",
       "<circle clip-path=\"url(#clip222)\" cx=\"1736.02\" cy=\"381.107\" r=\"14.4\" fill=\"#009af9\" fill-rule=\"evenodd\" fill-opacity=\"1\" stroke=\"#000000\" stroke-opacity=\"1\" stroke-width=\"3.2\"/>\n",
       "<circle clip-path=\"url(#clip222)\" cx=\"1746.48\" cy=\"393.991\" r=\"14.4\" fill=\"#009af9\" fill-rule=\"evenodd\" fill-opacity=\"1\" stroke=\"#000000\" stroke-opacity=\"1\" stroke-width=\"3.2\"/>\n",
       "<circle clip-path=\"url(#clip222)\" cx=\"1756.94\" cy=\"407.151\" r=\"14.4\" fill=\"#009af9\" fill-rule=\"evenodd\" fill-opacity=\"1\" stroke=\"#000000\" stroke-opacity=\"1\" stroke-width=\"3.2\"/>\n",
       "<circle clip-path=\"url(#clip222)\" cx=\"1767.41\" cy=\"420.588\" r=\"14.4\" fill=\"#009af9\" fill-rule=\"evenodd\" fill-opacity=\"1\" stroke=\"#000000\" stroke-opacity=\"1\" stroke-width=\"3.2\"/>\n",
       "<circle clip-path=\"url(#clip222)\" cx=\"1777.87\" cy=\"434.303\" r=\"14.4\" fill=\"#009af9\" fill-rule=\"evenodd\" fill-opacity=\"1\" stroke=\"#000000\" stroke-opacity=\"1\" stroke-width=\"3.2\"/>\n",
       "<circle clip-path=\"url(#clip222)\" cx=\"1788.33\" cy=\"448.295\" r=\"14.4\" fill=\"#009af9\" fill-rule=\"evenodd\" fill-opacity=\"1\" stroke=\"#000000\" stroke-opacity=\"1\" stroke-width=\"3.2\"/>\n",
       "<circle clip-path=\"url(#clip222)\" cx=\"1798.8\" cy=\"462.563\" r=\"14.4\" fill=\"#009af9\" fill-rule=\"evenodd\" fill-opacity=\"1\" stroke=\"#000000\" stroke-opacity=\"1\" stroke-width=\"3.2\"/>\n",
       "<circle clip-path=\"url(#clip222)\" cx=\"1809.26\" cy=\"477.109\" r=\"14.4\" fill=\"#009af9\" fill-rule=\"evenodd\" fill-opacity=\"1\" stroke=\"#000000\" stroke-opacity=\"1\" stroke-width=\"3.2\"/>\n",
       "<circle clip-path=\"url(#clip222)\" cx=\"1819.73\" cy=\"491.932\" r=\"14.4\" fill=\"#009af9\" fill-rule=\"evenodd\" fill-opacity=\"1\" stroke=\"#000000\" stroke-opacity=\"1\" stroke-width=\"3.2\"/>\n",
       "<circle clip-path=\"url(#clip222)\" cx=\"1830.19\" cy=\"507.032\" r=\"14.4\" fill=\"#009af9\" fill-rule=\"evenodd\" fill-opacity=\"1\" stroke=\"#000000\" stroke-opacity=\"1\" stroke-width=\"3.2\"/>\n",
       "<circle clip-path=\"url(#clip222)\" cx=\"1840.65\" cy=\"522.409\" r=\"14.4\" fill=\"#009af9\" fill-rule=\"evenodd\" fill-opacity=\"1\" stroke=\"#000000\" stroke-opacity=\"1\" stroke-width=\"3.2\"/>\n",
       "<circle clip-path=\"url(#clip222)\" cx=\"1851.12\" cy=\"538.063\" r=\"14.4\" fill=\"#009af9\" fill-rule=\"evenodd\" fill-opacity=\"1\" stroke=\"#000000\" stroke-opacity=\"1\" stroke-width=\"3.2\"/>\n",
       "<circle clip-path=\"url(#clip222)\" cx=\"1861.58\" cy=\"553.994\" r=\"14.4\" fill=\"#009af9\" fill-rule=\"evenodd\" fill-opacity=\"1\" stroke=\"#000000\" stroke-opacity=\"1\" stroke-width=\"3.2\"/>\n",
       "<circle clip-path=\"url(#clip222)\" cx=\"1872.05\" cy=\"570.202\" r=\"14.4\" fill=\"#009af9\" fill-rule=\"evenodd\" fill-opacity=\"1\" stroke=\"#000000\" stroke-opacity=\"1\" stroke-width=\"3.2\"/>\n",
       "<circle clip-path=\"url(#clip222)\" cx=\"1882.51\" cy=\"586.687\" r=\"14.4\" fill=\"#009af9\" fill-rule=\"evenodd\" fill-opacity=\"1\" stroke=\"#000000\" stroke-opacity=\"1\" stroke-width=\"3.2\"/>\n",
       "<circle clip-path=\"url(#clip222)\" cx=\"1892.97\" cy=\"603.449\" r=\"14.4\" fill=\"#009af9\" fill-rule=\"evenodd\" fill-opacity=\"1\" stroke=\"#000000\" stroke-opacity=\"1\" stroke-width=\"3.2\"/>\n",
       "<circle clip-path=\"url(#clip222)\" cx=\"1903.44\" cy=\"620.488\" r=\"14.4\" fill=\"#009af9\" fill-rule=\"evenodd\" fill-opacity=\"1\" stroke=\"#000000\" stroke-opacity=\"1\" stroke-width=\"3.2\"/>\n",
       "<circle clip-path=\"url(#clip222)\" cx=\"1913.9\" cy=\"637.805\" r=\"14.4\" fill=\"#009af9\" fill-rule=\"evenodd\" fill-opacity=\"1\" stroke=\"#000000\" stroke-opacity=\"1\" stroke-width=\"3.2\"/>\n",
       "<circle clip-path=\"url(#clip222)\" cx=\"1924.36\" cy=\"655.398\" r=\"14.4\" fill=\"#009af9\" fill-rule=\"evenodd\" fill-opacity=\"1\" stroke=\"#000000\" stroke-opacity=\"1\" stroke-width=\"3.2\"/>\n",
       "<circle clip-path=\"url(#clip222)\" cx=\"1934.83\" cy=\"673.268\" r=\"14.4\" fill=\"#009af9\" fill-rule=\"evenodd\" fill-opacity=\"1\" stroke=\"#000000\" stroke-opacity=\"1\" stroke-width=\"3.2\"/>\n",
       "<circle clip-path=\"url(#clip222)\" cx=\"1945.29\" cy=\"691.416\" r=\"14.4\" fill=\"#009af9\" fill-rule=\"evenodd\" fill-opacity=\"1\" stroke=\"#000000\" stroke-opacity=\"1\" stroke-width=\"3.2\"/>\n",
       "<circle clip-path=\"url(#clip222)\" cx=\"1955.76\" cy=\"709.841\" r=\"14.4\" fill=\"#009af9\" fill-rule=\"evenodd\" fill-opacity=\"1\" stroke=\"#000000\" stroke-opacity=\"1\" stroke-width=\"3.2\"/>\n",
       "<circle clip-path=\"url(#clip222)\" cx=\"1966.22\" cy=\"728.542\" r=\"14.4\" fill=\"#009af9\" fill-rule=\"evenodd\" fill-opacity=\"1\" stroke=\"#000000\" stroke-opacity=\"1\" stroke-width=\"3.2\"/>\n",
       "<circle clip-path=\"url(#clip222)\" cx=\"1976.68\" cy=\"747.521\" r=\"14.4\" fill=\"#009af9\" fill-rule=\"evenodd\" fill-opacity=\"1\" stroke=\"#000000\" stroke-opacity=\"1\" stroke-width=\"3.2\"/>\n",
       "<circle clip-path=\"url(#clip222)\" cx=\"1987.15\" cy=\"766.777\" r=\"14.4\" fill=\"#009af9\" fill-rule=\"evenodd\" fill-opacity=\"1\" stroke=\"#000000\" stroke-opacity=\"1\" stroke-width=\"3.2\"/>\n",
       "<circle clip-path=\"url(#clip222)\" cx=\"1997.61\" cy=\"786.31\" r=\"14.4\" fill=\"#009af9\" fill-rule=\"evenodd\" fill-opacity=\"1\" stroke=\"#000000\" stroke-opacity=\"1\" stroke-width=\"3.2\"/>\n",
       "<circle clip-path=\"url(#clip222)\" cx=\"2008.08\" cy=\"806.119\" r=\"14.4\" fill=\"#009af9\" fill-rule=\"evenodd\" fill-opacity=\"1\" stroke=\"#000000\" stroke-opacity=\"1\" stroke-width=\"3.2\"/>\n",
       "<circle clip-path=\"url(#clip222)\" cx=\"2018.54\" cy=\"826.206\" r=\"14.4\" fill=\"#009af9\" fill-rule=\"evenodd\" fill-opacity=\"1\" stroke=\"#000000\" stroke-opacity=\"1\" stroke-width=\"3.2\"/>\n",
       "<circle clip-path=\"url(#clip222)\" cx=\"2029\" cy=\"846.57\" r=\"14.4\" fill=\"#009af9\" fill-rule=\"evenodd\" fill-opacity=\"1\" stroke=\"#000000\" stroke-opacity=\"1\" stroke-width=\"3.2\"/>\n",
       "<circle clip-path=\"url(#clip222)\" cx=\"2039.47\" cy=\"867.211\" r=\"14.4\" fill=\"#009af9\" fill-rule=\"evenodd\" fill-opacity=\"1\" stroke=\"#000000\" stroke-opacity=\"1\" stroke-width=\"3.2\"/>\n",
       "<circle clip-path=\"url(#clip222)\" cx=\"2049.93\" cy=\"888.13\" r=\"14.4\" fill=\"#009af9\" fill-rule=\"evenodd\" fill-opacity=\"1\" stroke=\"#000000\" stroke-opacity=\"1\" stroke-width=\"3.2\"/>\n",
       "<circle clip-path=\"url(#clip222)\" cx=\"2060.4\" cy=\"909.325\" r=\"14.4\" fill=\"#009af9\" fill-rule=\"evenodd\" fill-opacity=\"1\" stroke=\"#000000\" stroke-opacity=\"1\" stroke-width=\"3.2\"/>\n",
       "<circle clip-path=\"url(#clip222)\" cx=\"2070.86\" cy=\"930.797\" r=\"14.4\" fill=\"#009af9\" fill-rule=\"evenodd\" fill-opacity=\"1\" stroke=\"#000000\" stroke-opacity=\"1\" stroke-width=\"3.2\"/>\n",
       "<circle clip-path=\"url(#clip222)\" cx=\"2081.32\" cy=\"952.546\" r=\"14.4\" fill=\"#009af9\" fill-rule=\"evenodd\" fill-opacity=\"1\" stroke=\"#000000\" stroke-opacity=\"1\" stroke-width=\"3.2\"/>\n",
       "<circle clip-path=\"url(#clip222)\" cx=\"2091.79\" cy=\"974.573\" r=\"14.4\" fill=\"#009af9\" fill-rule=\"evenodd\" fill-opacity=\"1\" stroke=\"#000000\" stroke-opacity=\"1\" stroke-width=\"3.2\"/>\n",
       "<circle clip-path=\"url(#clip222)\" cx=\"2102.25\" cy=\"996.876\" r=\"14.4\" fill=\"#009af9\" fill-rule=\"evenodd\" fill-opacity=\"1\" stroke=\"#000000\" stroke-opacity=\"1\" stroke-width=\"3.2\"/>\n",
       "<circle clip-path=\"url(#clip222)\" cx=\"2112.71\" cy=\"1019.46\" r=\"14.4\" fill=\"#009af9\" fill-rule=\"evenodd\" fill-opacity=\"1\" stroke=\"#000000\" stroke-opacity=\"1\" stroke-width=\"3.2\"/>\n",
       "<circle clip-path=\"url(#clip222)\" cx=\"2123.18\" cy=\"1042.31\" r=\"14.4\" fill=\"#009af9\" fill-rule=\"evenodd\" fill-opacity=\"1\" stroke=\"#000000\" stroke-opacity=\"1\" stroke-width=\"3.2\"/>\n",
       "<circle clip-path=\"url(#clip222)\" cx=\"2133.64\" cy=\"1065.45\" r=\"14.4\" fill=\"#009af9\" fill-rule=\"evenodd\" fill-opacity=\"1\" stroke=\"#000000\" stroke-opacity=\"1\" stroke-width=\"3.2\"/>\n",
       "<circle clip-path=\"url(#clip222)\" cx=\"2144.11\" cy=\"1088.86\" r=\"14.4\" fill=\"#009af9\" fill-rule=\"evenodd\" fill-opacity=\"1\" stroke=\"#000000\" stroke-opacity=\"1\" stroke-width=\"3.2\"/>\n",
       "<circle clip-path=\"url(#clip222)\" cx=\"2154.57\" cy=\"1112.55\" r=\"14.4\" fill=\"#009af9\" fill-rule=\"evenodd\" fill-opacity=\"1\" stroke=\"#000000\" stroke-opacity=\"1\" stroke-width=\"3.2\"/>\n",
       "<circle clip-path=\"url(#clip222)\" cx=\"2165.03\" cy=\"1136.52\" r=\"14.4\" fill=\"#009af9\" fill-rule=\"evenodd\" fill-opacity=\"1\" stroke=\"#000000\" stroke-opacity=\"1\" stroke-width=\"3.2\"/>\n",
       "<circle clip-path=\"url(#clip222)\" cx=\"2175.5\" cy=\"1160.76\" r=\"14.4\" fill=\"#009af9\" fill-rule=\"evenodd\" fill-opacity=\"1\" stroke=\"#000000\" stroke-opacity=\"1\" stroke-width=\"3.2\"/>\n",
       "<circle clip-path=\"url(#clip222)\" cx=\"2185.96\" cy=\"1185.28\" r=\"14.4\" fill=\"#009af9\" fill-rule=\"evenodd\" fill-opacity=\"1\" stroke=\"#000000\" stroke-opacity=\"1\" stroke-width=\"3.2\"/>\n",
       "<circle clip-path=\"url(#clip222)\" cx=\"2196.43\" cy=\"1210.07\" r=\"14.4\" fill=\"#009af9\" fill-rule=\"evenodd\" fill-opacity=\"1\" stroke=\"#000000\" stroke-opacity=\"1\" stroke-width=\"3.2\"/>\n",
       "<circle clip-path=\"url(#clip222)\" cx=\"2206.89\" cy=\"1235.15\" r=\"14.4\" fill=\"#009af9\" fill-rule=\"evenodd\" fill-opacity=\"1\" stroke=\"#000000\" stroke-opacity=\"1\" stroke-width=\"3.2\"/>\n",
       "<circle clip-path=\"url(#clip222)\" cx=\"2217.35\" cy=\"1260.5\" r=\"14.4\" fill=\"#009af9\" fill-rule=\"evenodd\" fill-opacity=\"1\" stroke=\"#000000\" stroke-opacity=\"1\" stroke-width=\"3.2\"/>\n",
       "<circle clip-path=\"url(#clip222)\" cx=\"2227.82\" cy=\"1286.13\" r=\"14.4\" fill=\"#009af9\" fill-rule=\"evenodd\" fill-opacity=\"1\" stroke=\"#000000\" stroke-opacity=\"1\" stroke-width=\"3.2\"/>\n",
       "<circle clip-path=\"url(#clip222)\" cx=\"2238.28\" cy=\"1312.03\" r=\"14.4\" fill=\"#009af9\" fill-rule=\"evenodd\" fill-opacity=\"1\" stroke=\"#000000\" stroke-opacity=\"1\" stroke-width=\"3.2\"/>\n",
       "<circle clip-path=\"url(#clip222)\" cx=\"2248.75\" cy=\"1338.22\" r=\"14.4\" fill=\"#009af9\" fill-rule=\"evenodd\" fill-opacity=\"1\" stroke=\"#000000\" stroke-opacity=\"1\" stroke-width=\"3.2\"/>\n",
       "<circle clip-path=\"url(#clip222)\" cx=\"2259.21\" cy=\"1364.68\" r=\"14.4\" fill=\"#009af9\" fill-rule=\"evenodd\" fill-opacity=\"1\" stroke=\"#000000\" stroke-opacity=\"1\" stroke-width=\"3.2\"/>\n",
       "<circle clip-path=\"url(#clip222)\" cx=\"2269.67\" cy=\"1391.41\" r=\"14.4\" fill=\"#009af9\" fill-rule=\"evenodd\" fill-opacity=\"1\" stroke=\"#000000\" stroke-opacity=\"1\" stroke-width=\"3.2\"/>\n",
       "<circle clip-path=\"url(#clip222)\" cx=\"2280.14\" cy=\"1418.43\" r=\"14.4\" fill=\"#009af9\" fill-rule=\"evenodd\" fill-opacity=\"1\" stroke=\"#000000\" stroke-opacity=\"1\" stroke-width=\"3.2\"/>\n",
       "<circle clip-path=\"url(#clip222)\" cx=\"2290.6\" cy=\"1445.72\" r=\"14.4\" fill=\"#009af9\" fill-rule=\"evenodd\" fill-opacity=\"1\" stroke=\"#000000\" stroke-opacity=\"1\" stroke-width=\"3.2\"/>\n",
       "<path clip-path=\"url(#clip220)\" d=\"M2007.5 198.898 L2279.55 198.898 L2279.55 95.2176 L2007.5 95.2176  Z\" fill=\"#ffffff\" fill-rule=\"evenodd\" fill-opacity=\"1\"/>\n",
       "<polyline clip-path=\"url(#clip220)\" style=\"stroke:#000000; stroke-linecap:round; stroke-linejoin:round; stroke-width:4; stroke-opacity:1; fill:none\" points=\"2007.5,198.898 2279.55,198.898 2279.55,95.2176 2007.5,95.2176 2007.5,198.898 \"/>\n",
       "<circle clip-path=\"url(#clip220)\" cx=\"2105.11\" cy=\"147.058\" r=\"23.04\" fill=\"#009af9\" fill-rule=\"evenodd\" fill-opacity=\"1\" stroke=\"#000000\" stroke-opacity=\"1\" stroke-width=\"5.12\"/>\n",
       "<path clip-path=\"url(#clip220)\" d=\"M2216.56 166.745 Q2214.76 171.375 2213.04 172.787 Q2211.33 174.199 2208.46 174.199 L2205.06 174.199 L2205.06 170.634 L2207.56 170.634 Q2209.32 170.634 2210.29 169.8 Q2211.26 168.967 2212.44 165.865 L2213.2 163.921 L2202.72 138.412 L2207.23 138.412 L2215.33 158.689 L2223.44 138.412 L2227.95 138.412 L2216.56 166.745 Z\" fill=\"#000000\" fill-rule=\"evenodd\" fill-opacity=\"1\" /><path clip-path=\"url(#clip220)\" d=\"M2235.24 160.402 L2242.88 160.402 L2242.88 134.037 L2234.57 135.703 L2234.57 131.444 L2242.83 129.778 L2247.51 129.778 L2247.51 160.402 L2255.15 160.402 L2255.15 164.338 L2235.24 164.338 L2235.24 160.402 Z\" fill=\"#000000\" fill-rule=\"evenodd\" fill-opacity=\"1\" /></svg>\n"
      ]
     },
     "execution_count": 44,
     "metadata": {},
     "output_type": "execute_result"
    }
   ],
   "source": [
    "x = 0.005:0.005:0.995\n",
    "scatter(x, f_maplog.(x; n=1, r=3.0))"
   ]
  },
  {
   "cell_type": "code",
   "execution_count": 45,
   "id": "47c17aa7",
   "metadata": {},
   "outputs": [
    {
     "data": {
      "image/svg+xml": [
       "<?xml version=\"1.0\" encoding=\"utf-8\"?>\n",
       "<svg xmlns=\"http://www.w3.org/2000/svg\" xmlns:xlink=\"http://www.w3.org/1999/xlink\" width=\"600\" height=\"400\" viewBox=\"0 0 2400 1600\">\n",
       "<defs>\n",
       "  <clipPath id=\"clip260\">\n",
       "    <rect x=\"0\" y=\"0\" width=\"2400\" height=\"1600\"/>\n",
       "  </clipPath>\n",
       "</defs>\n",
       "<path clip-path=\"url(#clip260)\" d=\"M0 1600 L2400 1600 L2400 0 L0 0  Z\" fill=\"#ffffff\" fill-rule=\"evenodd\" fill-opacity=\"1\"/>\n",
       "<defs>\n",
       "  <clipPath id=\"clip261\">\n",
       "    <rect x=\"480\" y=\"0\" width=\"1681\" height=\"1600\"/>\n",
       "  </clipPath>\n",
       "</defs>\n",
       "<path clip-path=\"url(#clip260)\" d=\"M216.598 1486.45 L2352.76 1486.45 L2352.76 47.2441 L216.598 47.2441  Z\" fill=\"#ffffff\" fill-rule=\"evenodd\" fill-opacity=\"1\"/>\n",
       "<defs>\n",
       "  <clipPath id=\"clip262\">\n",
       "    <rect x=\"216\" y=\"47\" width=\"2137\" height=\"1440\"/>\n",
       "  </clipPath>\n",
       "</defs>\n",
       "<polyline clip-path=\"url(#clip262)\" style=\"stroke:#000000; stroke-linecap:round; stroke-linejoin:round; stroke-width:2; stroke-opacity:0.1; fill:none\" points=\"266.877,1486.45 266.877,47.2441 \"/>\n",
       "<polyline clip-path=\"url(#clip262)\" style=\"stroke:#000000; stroke-linecap:round; stroke-linejoin:round; stroke-width:2; stroke-opacity:0.1; fill:none\" points=\"775.777,1486.45 775.777,47.2441 \"/>\n",
       "<polyline clip-path=\"url(#clip262)\" style=\"stroke:#000000; stroke-linecap:round; stroke-linejoin:round; stroke-width:2; stroke-opacity:0.1; fill:none\" points=\"1284.68,1486.45 1284.68,47.2441 \"/>\n",
       "<polyline clip-path=\"url(#clip262)\" style=\"stroke:#000000; stroke-linecap:round; stroke-linejoin:round; stroke-width:2; stroke-opacity:0.1; fill:none\" points=\"1793.58,1486.45 1793.58,47.2441 \"/>\n",
       "<polyline clip-path=\"url(#clip262)\" style=\"stroke:#000000; stroke-linecap:round; stroke-linejoin:round; stroke-width:2; stroke-opacity:0.1; fill:none\" points=\"2302.48,1486.45 2302.48,47.2441 \"/>\n",
       "<polyline clip-path=\"url(#clip260)\" style=\"stroke:#000000; stroke-linecap:round; stroke-linejoin:round; stroke-width:4; stroke-opacity:1; fill:none\" points=\"216.598,1486.45 2352.76,1486.45 \"/>\n",
       "<polyline clip-path=\"url(#clip260)\" style=\"stroke:#000000; stroke-linecap:round; stroke-linejoin:round; stroke-width:4; stroke-opacity:1; fill:none\" points=\"266.877,1486.45 266.877,1467.55 \"/>\n",
       "<polyline clip-path=\"url(#clip260)\" style=\"stroke:#000000; stroke-linecap:round; stroke-linejoin:round; stroke-width:4; stroke-opacity:1; fill:none\" points=\"775.777,1486.45 775.777,1467.55 \"/>\n",
       "<polyline clip-path=\"url(#clip260)\" style=\"stroke:#000000; stroke-linecap:round; stroke-linejoin:round; stroke-width:4; stroke-opacity:1; fill:none\" points=\"1284.68,1486.45 1284.68,1467.55 \"/>\n",
       "<polyline clip-path=\"url(#clip260)\" style=\"stroke:#000000; stroke-linecap:round; stroke-linejoin:round; stroke-width:4; stroke-opacity:1; fill:none\" points=\"1793.58,1486.45 1793.58,1467.55 \"/>\n",
       "<polyline clip-path=\"url(#clip260)\" style=\"stroke:#000000; stroke-linecap:round; stroke-linejoin:round; stroke-width:4; stroke-opacity:1; fill:none\" points=\"2302.48,1486.45 2302.48,1467.55 \"/>\n",
       "<path clip-path=\"url(#clip260)\" d=\"M229.181 1517.37 Q225.57 1517.37 223.741 1520.93 Q221.935 1524.47 221.935 1531.6 Q221.935 1538.71 223.741 1542.27 Q225.57 1545.82 229.181 1545.82 Q232.815 1545.82 234.62 1542.27 Q236.449 1538.71 236.449 1531.6 Q236.449 1524.47 234.62 1520.93 Q232.815 1517.37 229.181 1517.37 M229.181 1513.66 Q234.991 1513.66 238.046 1518.27 Q241.125 1522.85 241.125 1531.6 Q241.125 1540.33 238.046 1544.94 Q234.991 1549.52 229.181 1549.52 Q223.371 1549.52 220.292 1544.94 Q217.236 1540.33 217.236 1531.6 Q217.236 1522.85 220.292 1518.27 Q223.371 1513.66 229.181 1513.66 Z\" fill=\"#000000\" fill-rule=\"evenodd\" fill-opacity=\"1\" /><path clip-path=\"url(#clip260)\" d=\"M249.343 1542.97 L254.227 1542.97 L254.227 1548.85 L249.343 1548.85 L249.343 1542.97 Z\" fill=\"#000000\" fill-rule=\"evenodd\" fill-opacity=\"1\" /><path clip-path=\"url(#clip260)\" d=\"M274.412 1517.37 Q270.801 1517.37 268.972 1520.93 Q267.167 1524.47 267.167 1531.6 Q267.167 1538.71 268.972 1542.27 Q270.801 1545.82 274.412 1545.82 Q278.046 1545.82 279.852 1542.27 Q281.68 1538.71 281.68 1531.6 Q281.68 1524.47 279.852 1520.93 Q278.046 1517.37 274.412 1517.37 M274.412 1513.66 Q280.222 1513.66 283.278 1518.27 Q286.356 1522.85 286.356 1531.6 Q286.356 1540.33 283.278 1544.94 Q280.222 1549.52 274.412 1549.52 Q268.602 1549.52 265.523 1544.94 Q262.468 1540.33 262.468 1531.6 Q262.468 1522.85 265.523 1518.27 Q268.602 1513.66 274.412 1513.66 Z\" fill=\"#000000\" fill-rule=\"evenodd\" fill-opacity=\"1\" /><path clip-path=\"url(#clip260)\" d=\"M304.574 1517.37 Q300.963 1517.37 299.134 1520.93 Q297.328 1524.47 297.328 1531.6 Q297.328 1538.71 299.134 1542.27 Q300.963 1545.82 304.574 1545.82 Q308.208 1545.82 310.014 1542.27 Q311.842 1538.71 311.842 1531.6 Q311.842 1524.47 310.014 1520.93 Q308.208 1517.37 304.574 1517.37 M304.574 1513.66 Q310.384 1513.66 313.439 1518.27 Q316.518 1522.85 316.518 1531.6 Q316.518 1540.33 313.439 1544.94 Q310.384 1549.52 304.574 1549.52 Q298.764 1549.52 295.685 1544.94 Q292.629 1540.33 292.629 1531.6 Q292.629 1522.85 295.685 1518.27 Q298.764 1513.66 304.574 1513.66 Z\" fill=\"#000000\" fill-rule=\"evenodd\" fill-opacity=\"1\" /><path clip-path=\"url(#clip260)\" d=\"M738.578 1517.37 Q734.967 1517.37 733.138 1520.93 Q731.333 1524.47 731.333 1531.6 Q731.333 1538.71 733.138 1542.27 Q734.967 1545.82 738.578 1545.82 Q742.212 1545.82 744.018 1542.27 Q745.847 1538.71 745.847 1531.6 Q745.847 1524.47 744.018 1520.93 Q742.212 1517.37 738.578 1517.37 M738.578 1513.66 Q744.388 1513.66 747.444 1518.27 Q750.523 1522.85 750.523 1531.6 Q750.523 1540.33 747.444 1544.94 Q744.388 1549.52 738.578 1549.52 Q732.768 1549.52 729.689 1544.94 Q726.634 1540.33 726.634 1531.6 Q726.634 1522.85 729.689 1518.27 Q732.768 1513.66 738.578 1513.66 Z\" fill=\"#000000\" fill-rule=\"evenodd\" fill-opacity=\"1\" /><path clip-path=\"url(#clip260)\" d=\"M758.74 1542.97 L763.624 1542.97 L763.624 1548.85 L758.74 1548.85 L758.74 1542.97 Z\" fill=\"#000000\" fill-rule=\"evenodd\" fill-opacity=\"1\" /><path clip-path=\"url(#clip260)\" d=\"M777.837 1544.91 L794.157 1544.91 L794.157 1548.85 L772.212 1548.85 L772.212 1544.91 Q774.874 1542.16 779.458 1537.53 Q784.064 1532.88 785.245 1531.53 Q787.49 1529.01 788.37 1527.27 Q789.272 1525.51 789.272 1523.82 Q789.272 1521.07 787.328 1519.33 Q785.407 1517.6 782.305 1517.6 Q780.106 1517.6 777.652 1518.36 Q775.222 1519.13 772.444 1520.68 L772.444 1515.95 Q775.268 1514.82 777.721 1514.24 Q780.175 1513.66 782.212 1513.66 Q787.583 1513.66 790.777 1516.35 Q793.971 1519.03 793.971 1523.52 Q793.971 1525.65 793.161 1527.57 Q792.374 1529.47 790.268 1532.07 Q789.689 1532.74 786.587 1535.95 Q783.485 1539.15 777.837 1544.91 Z\" fill=\"#000000\" fill-rule=\"evenodd\" fill-opacity=\"1\" /><path clip-path=\"url(#clip260)\" d=\"M804.018 1514.29 L822.374 1514.29 L822.374 1518.22 L808.3 1518.22 L808.3 1526.7 Q809.319 1526.35 810.337 1526.19 Q811.356 1526 812.374 1526 Q818.161 1526 821.541 1529.17 Q824.92 1532.34 824.92 1537.76 Q824.92 1543.34 821.448 1546.44 Q817.976 1549.52 811.657 1549.52 Q809.481 1549.52 807.212 1549.15 Q804.967 1548.78 802.559 1548.04 L802.559 1543.34 Q804.643 1544.47 806.865 1545.03 Q809.087 1545.58 811.564 1545.58 Q815.569 1545.58 817.906 1543.48 Q820.244 1541.37 820.244 1537.76 Q820.244 1534.15 817.906 1532.04 Q815.569 1529.94 811.564 1529.94 Q809.689 1529.94 807.814 1530.35 Q805.962 1530.77 804.018 1531.65 L804.018 1514.29 Z\" fill=\"#000000\" fill-rule=\"evenodd\" fill-opacity=\"1\" /><path clip-path=\"url(#clip260)\" d=\"M1246.98 1517.37 Q1243.37 1517.37 1241.54 1520.93 Q1239.74 1524.47 1239.74 1531.6 Q1239.74 1538.71 1241.54 1542.27 Q1243.37 1545.82 1246.98 1545.82 Q1250.61 1545.82 1252.42 1542.27 Q1254.25 1538.71 1254.25 1531.6 Q1254.25 1524.47 1252.42 1520.93 Q1250.61 1517.37 1246.98 1517.37 M1246.98 1513.66 Q1252.79 1513.66 1255.85 1518.27 Q1258.92 1522.85 1258.92 1531.6 Q1258.92 1540.33 1255.85 1544.94 Q1252.79 1549.52 1246.98 1549.52 Q1241.17 1549.52 1238.09 1544.94 Q1235.04 1540.33 1235.04 1531.6 Q1235.04 1522.85 1238.09 1518.27 Q1241.17 1513.66 1246.98 1513.66 Z\" fill=\"#000000\" fill-rule=\"evenodd\" fill-opacity=\"1\" /><path clip-path=\"url(#clip260)\" d=\"M1267.14 1542.97 L1272.03 1542.97 L1272.03 1548.85 L1267.14 1548.85 L1267.14 1542.97 Z\" fill=\"#000000\" fill-rule=\"evenodd\" fill-opacity=\"1\" /><path clip-path=\"url(#clip260)\" d=\"M1282.26 1514.29 L1300.61 1514.29 L1300.61 1518.22 L1286.54 1518.22 L1286.54 1526.7 Q1287.56 1526.35 1288.58 1526.19 Q1289.6 1526 1290.61 1526 Q1296.4 1526 1299.78 1529.17 Q1303.16 1532.34 1303.16 1537.76 Q1303.16 1543.34 1299.69 1546.44 Q1296.22 1549.52 1289.9 1549.52 Q1287.72 1549.52 1285.45 1549.15 Q1283.21 1548.78 1280.8 1548.04 L1280.8 1543.34 Q1282.88 1544.47 1285.11 1545.03 Q1287.33 1545.58 1289.8 1545.58 Q1293.81 1545.58 1296.15 1543.48 Q1298.48 1541.37 1298.48 1537.76 Q1298.48 1534.15 1296.15 1532.04 Q1293.81 1529.94 1289.8 1529.94 Q1287.93 1529.94 1286.05 1530.35 Q1284.2 1530.77 1282.26 1531.65 L1282.26 1514.29 Z\" fill=\"#000000\" fill-rule=\"evenodd\" fill-opacity=\"1\" /><path clip-path=\"url(#clip260)\" d=\"M1322.37 1517.37 Q1318.76 1517.37 1316.93 1520.93 Q1315.13 1524.47 1315.13 1531.6 Q1315.13 1538.71 1316.93 1542.27 Q1318.76 1545.82 1322.37 1545.82 Q1326.01 1545.82 1327.81 1542.27 Q1329.64 1538.71 1329.64 1531.6 Q1329.64 1524.47 1327.81 1520.93 Q1326.01 1517.37 1322.37 1517.37 M1322.37 1513.66 Q1328.18 1513.66 1331.24 1518.27 Q1334.32 1522.85 1334.32 1531.6 Q1334.32 1540.33 1331.24 1544.94 Q1328.18 1549.52 1322.37 1549.52 Q1316.56 1549.52 1313.48 1544.94 Q1310.43 1540.33 1310.43 1531.6 Q1310.43 1522.85 1313.48 1518.27 Q1316.56 1513.66 1322.37 1513.66 Z\" fill=\"#000000\" fill-rule=\"evenodd\" fill-opacity=\"1\" /><path clip-path=\"url(#clip260)\" d=\"M1756.38 1517.37 Q1752.77 1517.37 1750.94 1520.93 Q1749.13 1524.47 1749.13 1531.6 Q1749.13 1538.71 1750.94 1542.27 Q1752.77 1545.82 1756.38 1545.82 Q1760.01 1545.82 1761.82 1542.27 Q1763.65 1538.71 1763.65 1531.6 Q1763.65 1524.47 1761.82 1520.93 Q1760.01 1517.37 1756.38 1517.37 M1756.38 1513.66 Q1762.19 1513.66 1765.24 1518.27 Q1768.32 1522.85 1768.32 1531.6 Q1768.32 1540.33 1765.24 1544.94 Q1762.19 1549.52 1756.38 1549.52 Q1750.57 1549.52 1747.49 1544.94 Q1744.43 1540.33 1744.43 1531.6 Q1744.43 1522.85 1747.49 1518.27 Q1750.57 1513.66 1756.38 1513.66 Z\" fill=\"#000000\" fill-rule=\"evenodd\" fill-opacity=\"1\" /><path clip-path=\"url(#clip260)\" d=\"M1776.54 1542.97 L1781.42 1542.97 L1781.42 1548.85 L1776.54 1548.85 L1776.54 1542.97 Z\" fill=\"#000000\" fill-rule=\"evenodd\" fill-opacity=\"1\" /><path clip-path=\"url(#clip260)\" d=\"M1790.43 1514.29 L1812.65 1514.29 L1812.65 1516.28 L1800.1 1548.85 L1795.22 1548.85 L1807.03 1518.22 L1790.43 1518.22 L1790.43 1514.29 Z\" fill=\"#000000\" fill-rule=\"evenodd\" fill-opacity=\"1\" /><path clip-path=\"url(#clip260)\" d=\"M1821.82 1514.29 L1840.17 1514.29 L1840.17 1518.22 L1826.1 1518.22 L1826.1 1526.7 Q1827.12 1526.35 1828.14 1526.19 Q1829.16 1526 1830.17 1526 Q1835.96 1526 1839.34 1529.17 Q1842.72 1532.34 1842.72 1537.76 Q1842.72 1543.34 1839.25 1546.44 Q1835.78 1549.52 1829.46 1549.52 Q1827.28 1549.52 1825.01 1549.15 Q1822.77 1548.78 1820.36 1548.04 L1820.36 1543.34 Q1822.44 1544.47 1824.66 1545.03 Q1826.89 1545.58 1829.36 1545.58 Q1833.37 1545.58 1835.71 1543.48 Q1838.04 1541.37 1838.04 1537.76 Q1838.04 1534.15 1835.71 1532.04 Q1833.37 1529.94 1829.36 1529.94 Q1827.49 1529.94 1825.61 1530.35 Q1823.76 1530.77 1821.82 1531.65 L1821.82 1514.29 Z\" fill=\"#000000\" fill-rule=\"evenodd\" fill-opacity=\"1\" /><path clip-path=\"url(#clip260)\" d=\"M2254.55 1544.91 L2262.19 1544.91 L2262.19 1518.55 L2253.88 1520.21 L2253.88 1515.95 L2262.14 1514.29 L2266.82 1514.29 L2266.82 1544.91 L2274.46 1544.91 L2274.46 1548.85 L2254.55 1548.85 L2254.55 1544.91 Z\" fill=\"#000000\" fill-rule=\"evenodd\" fill-opacity=\"1\" /><path clip-path=\"url(#clip260)\" d=\"M2283.9 1542.97 L2288.78 1542.97 L2288.78 1548.85 L2283.9 1548.85 L2283.9 1542.97 Z\" fill=\"#000000\" fill-rule=\"evenodd\" fill-opacity=\"1\" /><path clip-path=\"url(#clip260)\" d=\"M2308.97 1517.37 Q2305.36 1517.37 2303.53 1520.93 Q2301.72 1524.47 2301.72 1531.6 Q2301.72 1538.71 2303.53 1542.27 Q2305.36 1545.82 2308.97 1545.82 Q2312.6 1545.82 2314.41 1542.27 Q2316.24 1538.71 2316.24 1531.6 Q2316.24 1524.47 2314.41 1520.93 Q2312.6 1517.37 2308.97 1517.37 M2308.97 1513.66 Q2314.78 1513.66 2317.84 1518.27 Q2320.91 1522.85 2320.91 1531.6 Q2320.91 1540.33 2317.84 1544.94 Q2314.78 1549.52 2308.97 1549.52 Q2303.16 1549.52 2300.08 1544.94 Q2297.03 1540.33 2297.03 1531.6 Q2297.03 1522.85 2300.08 1518.27 Q2303.16 1513.66 2308.97 1513.66 Z\" fill=\"#000000\" fill-rule=\"evenodd\" fill-opacity=\"1\" /><path clip-path=\"url(#clip260)\" d=\"M2339.13 1517.37 Q2335.52 1517.37 2333.69 1520.93 Q2331.89 1524.47 2331.89 1531.6 Q2331.89 1538.71 2333.69 1542.27 Q2335.52 1545.82 2339.13 1545.82 Q2342.77 1545.82 2344.57 1542.27 Q2346.4 1538.71 2346.4 1531.6 Q2346.4 1524.47 2344.57 1520.93 Q2342.77 1517.37 2339.13 1517.37 M2339.13 1513.66 Q2344.94 1513.66 2348 1518.27 Q2351.08 1522.85 2351.08 1531.6 Q2351.08 1540.33 2348 1544.94 Q2344.94 1549.52 2339.13 1549.52 Q2333.32 1549.52 2330.24 1544.94 Q2327.19 1540.33 2327.19 1531.6 Q2327.19 1522.85 2330.24 1518.27 Q2333.32 1513.66 2339.13 1513.66 Z\" fill=\"#000000\" fill-rule=\"evenodd\" fill-opacity=\"1\" /><polyline clip-path=\"url(#clip262)\" style=\"stroke:#000000; stroke-linecap:round; stroke-linejoin:round; stroke-width:2; stroke-opacity:0.1; fill:none\" points=\"216.598,1444.24 2352.76,1444.24 \"/>\n",
       "<polyline clip-path=\"url(#clip262)\" style=\"stroke:#000000; stroke-linecap:round; stroke-linejoin:round; stroke-width:2; stroke-opacity:0.1; fill:none\" points=\"216.598,1036.78 2352.76,1036.78 \"/>\n",
       "<polyline clip-path=\"url(#clip262)\" style=\"stroke:#000000; stroke-linecap:round; stroke-linejoin:round; stroke-width:2; stroke-opacity:0.1; fill:none\" points=\"216.598,629.329 2352.76,629.329 \"/>\n",
       "<polyline clip-path=\"url(#clip262)\" style=\"stroke:#000000; stroke-linecap:round; stroke-linejoin:round; stroke-width:2; stroke-opacity:0.1; fill:none\" points=\"216.598,221.876 2352.76,221.876 \"/>\n",
       "<polyline clip-path=\"url(#clip260)\" style=\"stroke:#000000; stroke-linecap:round; stroke-linejoin:round; stroke-width:4; stroke-opacity:1; fill:none\" points=\"216.598,1486.45 216.598,47.2441 \"/>\n",
       "<polyline clip-path=\"url(#clip260)\" style=\"stroke:#000000; stroke-linecap:round; stroke-linejoin:round; stroke-width:4; stroke-opacity:1; fill:none\" points=\"216.598,1444.24 235.496,1444.24 \"/>\n",
       "<polyline clip-path=\"url(#clip260)\" style=\"stroke:#000000; stroke-linecap:round; stroke-linejoin:round; stroke-width:4; stroke-opacity:1; fill:none\" points=\"216.598,1036.78 235.496,1036.78 \"/>\n",
       "<polyline clip-path=\"url(#clip260)\" style=\"stroke:#000000; stroke-linecap:round; stroke-linejoin:round; stroke-width:4; stroke-opacity:1; fill:none\" points=\"216.598,629.329 235.496,629.329 \"/>\n",
       "<polyline clip-path=\"url(#clip260)\" style=\"stroke:#000000; stroke-linecap:round; stroke-linejoin:round; stroke-width:4; stroke-opacity:1; fill:none\" points=\"216.598,221.876 235.496,221.876 \"/>\n",
       "<path clip-path=\"url(#clip260)\" d=\"M64.0939 1430.03 Q60.4828 1430.03 58.6541 1433.6 Q56.8486 1437.14 56.8486 1444.27 Q56.8486 1451.38 58.6541 1454.94 Q60.4828 1458.48 64.0939 1458.48 Q67.7281 1458.48 69.5337 1454.94 Q71.3624 1451.38 71.3624 1444.27 Q71.3624 1437.14 69.5337 1433.6 Q67.7281 1430.03 64.0939 1430.03 M64.0939 1426.33 Q69.9041 1426.33 72.9596 1430.94 Q76.0383 1435.52 76.0383 1444.27 Q76.0383 1453 72.9596 1457.6 Q69.9041 1462.19 64.0939 1462.19 Q58.2838 1462.19 55.2051 1457.6 Q52.1495 1453 52.1495 1444.27 Q52.1495 1435.52 55.2051 1430.94 Q58.2838 1426.33 64.0939 1426.33 Z\" fill=\"#000000\" fill-rule=\"evenodd\" fill-opacity=\"1\" /><path clip-path=\"url(#clip260)\" d=\"M84.2558 1455.64 L89.1401 1455.64 L89.1401 1461.52 L84.2558 1461.52 L84.2558 1455.64 Z\" fill=\"#000000\" fill-rule=\"evenodd\" fill-opacity=\"1\" /><path clip-path=\"url(#clip260)\" d=\"M109.904 1442.37 Q106.756 1442.37 104.904 1444.53 Q103.075 1446.68 103.075 1450.43 Q103.075 1454.15 104.904 1456.33 Q106.756 1458.48 109.904 1458.48 Q113.052 1458.48 114.881 1456.33 Q116.733 1454.15 116.733 1450.43 Q116.733 1446.68 114.881 1444.53 Q113.052 1442.37 109.904 1442.37 M119.186 1427.72 L119.186 1431.98 Q117.427 1431.15 115.621 1430.71 Q113.839 1430.27 112.08 1430.27 Q107.45 1430.27 104.996 1433.39 Q102.566 1436.52 102.219 1442.84 Q103.584 1440.82 105.645 1439.76 Q107.705 1438.67 110.182 1438.67 Q115.39 1438.67 118.399 1441.84 Q121.432 1444.99 121.432 1450.43 Q121.432 1455.75 118.283 1458.97 Q115.135 1462.19 109.904 1462.19 Q103.909 1462.19 100.737 1457.6 Q97.566 1453 97.566 1444.27 Q97.566 1436.08 101.455 1431.22 Q105.344 1426.33 111.895 1426.33 Q113.654 1426.33 115.436 1426.68 Q117.242 1427.03 119.186 1427.72 Z\" fill=\"#000000\" fill-rule=\"evenodd\" fill-opacity=\"1\" /><path clip-path=\"url(#clip260)\" d=\"M140.066 1442.37 Q136.918 1442.37 135.066 1444.53 Q133.237 1446.68 133.237 1450.43 Q133.237 1454.15 135.066 1456.33 Q136.918 1458.48 140.066 1458.48 Q143.214 1458.48 145.043 1456.33 Q146.894 1454.15 146.894 1450.43 Q146.894 1446.68 145.043 1444.53 Q143.214 1442.37 140.066 1442.37 M149.348 1427.72 L149.348 1431.98 Q147.589 1431.15 145.783 1430.71 Q144.001 1430.27 142.242 1430.27 Q137.612 1430.27 135.158 1433.39 Q132.728 1436.52 132.381 1442.84 Q133.746 1440.82 135.806 1439.76 Q137.867 1438.67 140.343 1438.67 Q145.552 1438.67 148.561 1441.84 Q151.593 1444.99 151.593 1450.43 Q151.593 1455.75 148.445 1458.97 Q145.297 1462.19 140.066 1462.19 Q134.07 1462.19 130.899 1457.6 Q127.728 1453 127.728 1444.27 Q127.728 1436.08 131.617 1431.22 Q135.506 1426.33 142.056 1426.33 Q143.816 1426.33 145.598 1426.68 Q147.404 1427.03 149.348 1427.72 Z\" fill=\"#000000\" fill-rule=\"evenodd\" fill-opacity=\"1\" /><path clip-path=\"url(#clip260)\" d=\"M159.695 1426.96 L178.052 1426.96 L178.052 1430.89 L163.978 1430.89 L163.978 1439.36 Q164.996 1439.02 166.015 1438.85 Q167.033 1438.67 168.052 1438.67 Q173.839 1438.67 177.218 1441.84 Q180.598 1445.01 180.598 1450.43 Q180.598 1456.01 177.126 1459.11 Q173.654 1462.19 167.334 1462.19 Q165.158 1462.19 162.89 1461.82 Q160.644 1461.45 158.237 1460.71 L158.237 1456.01 Q160.32 1457.14 162.542 1457.7 Q164.765 1458.25 167.242 1458.25 Q171.246 1458.25 173.584 1456.15 Q175.922 1454.04 175.922 1450.43 Q175.922 1446.82 173.584 1444.71 Q171.246 1442.6 167.242 1442.6 Q165.367 1442.6 163.492 1443.02 Q161.64 1443.44 159.695 1444.32 L159.695 1426.96 Z\" fill=\"#000000\" fill-rule=\"evenodd\" fill-opacity=\"1\" /><path clip-path=\"url(#clip260)\" d=\"M62.9365 1022.58 Q59.3254 1022.58 57.4967 1026.15 Q55.6912 1029.69 55.6912 1036.82 Q55.6912 1043.92 57.4967 1047.49 Q59.3254 1051.03 62.9365 1051.03 Q66.5707 1051.03 68.3763 1047.49 Q70.205 1043.92 70.205 1036.82 Q70.205 1029.69 68.3763 1026.15 Q66.5707 1022.58 62.9365 1022.58 M62.9365 1018.88 Q68.7467 1018.88 71.8022 1023.48 Q74.8809 1028.07 74.8809 1036.82 Q74.8809 1045.54 71.8022 1050.15 Q68.7467 1054.73 62.9365 1054.73 Q57.1264 1054.73 54.0477 1050.15 Q50.9921 1045.54 50.9921 1036.82 Q50.9921 1028.07 54.0477 1023.48 Q57.1264 1018.88 62.9365 1018.88 Z\" fill=\"#000000\" fill-rule=\"evenodd\" fill-opacity=\"1\" /><path clip-path=\"url(#clip260)\" d=\"M83.0984 1048.18 L87.9827 1048.18 L87.9827 1054.06 L83.0984 1054.06 L83.0984 1048.18 Z\" fill=\"#000000\" fill-rule=\"evenodd\" fill-opacity=\"1\" /><path clip-path=\"url(#clip260)\" d=\"M108.746 1034.92 Q105.598 1034.92 103.746 1037.07 Q101.918 1039.22 101.918 1042.97 Q101.918 1046.7 103.746 1048.88 Q105.598 1051.03 108.746 1051.03 Q111.895 1051.03 113.723 1048.88 Q115.575 1046.7 115.575 1042.97 Q115.575 1039.22 113.723 1037.07 Q111.895 1034.92 108.746 1034.92 M118.029 1020.27 L118.029 1024.53 Q116.27 1023.69 114.464 1023.25 Q112.682 1022.81 110.922 1022.81 Q106.293 1022.81 103.839 1025.94 Q101.409 1029.06 101.061 1035.38 Q102.427 1033.37 104.487 1032.3 Q106.547 1031.22 109.024 1031.22 Q114.233 1031.22 117.242 1034.39 Q120.274 1037.53 120.274 1042.97 Q120.274 1048.3 117.126 1051.52 Q113.978 1054.73 108.746 1054.73 Q102.751 1054.73 99.5798 1050.15 Q96.4085 1045.54 96.4085 1036.82 Q96.4085 1028.62 100.297 1023.76 Q104.186 1018.88 110.737 1018.88 Q112.496 1018.88 114.279 1019.22 Q116.084 1019.57 118.029 1020.27 Z\" fill=\"#000000\" fill-rule=\"evenodd\" fill-opacity=\"1\" /><path clip-path=\"url(#clip260)\" d=\"M138.908 1034.92 Q135.76 1034.92 133.908 1037.07 Q132.08 1039.22 132.08 1042.97 Q132.08 1046.7 133.908 1048.88 Q135.76 1051.03 138.908 1051.03 Q142.056 1051.03 143.885 1048.88 Q145.737 1046.7 145.737 1042.97 Q145.737 1039.22 143.885 1037.07 Q142.056 1034.92 138.908 1034.92 M148.191 1020.27 L148.191 1024.53 Q146.431 1023.69 144.626 1023.25 Q142.843 1022.81 141.084 1022.81 Q136.455 1022.81 134.001 1025.94 Q131.57 1029.06 131.223 1035.38 Q132.589 1033.37 134.649 1032.3 Q136.709 1031.22 139.186 1031.22 Q144.394 1031.22 147.404 1034.39 Q150.436 1037.53 150.436 1042.97 Q150.436 1048.3 147.288 1051.52 Q144.14 1054.73 138.908 1054.73 Q132.913 1054.73 129.742 1050.15 Q126.57 1045.54 126.57 1036.82 Q126.57 1028.62 130.459 1023.76 Q134.348 1018.88 140.899 1018.88 Q142.658 1018.88 144.441 1019.22 Q146.246 1019.57 148.191 1020.27 Z\" fill=\"#000000\" fill-rule=\"evenodd\" fill-opacity=\"1\" /><path clip-path=\"url(#clip260)\" d=\"M169.07 1034.92 Q165.922 1034.92 164.07 1037.07 Q162.242 1039.22 162.242 1042.97 Q162.242 1046.7 164.07 1048.88 Q165.922 1051.03 169.07 1051.03 Q172.218 1051.03 174.047 1048.88 Q175.899 1046.7 175.899 1042.97 Q175.899 1039.22 174.047 1037.07 Q172.218 1034.92 169.07 1034.92 M178.353 1020.27 L178.353 1024.53 Q176.593 1023.69 174.788 1023.25 Q173.005 1022.81 171.246 1022.81 Q166.617 1022.81 164.163 1025.94 Q161.732 1029.06 161.385 1035.38 Q162.751 1033.37 164.811 1032.3 Q166.871 1031.22 169.348 1031.22 Q174.556 1031.22 177.566 1034.39 Q180.598 1037.53 180.598 1042.97 Q180.598 1048.3 177.45 1051.52 Q174.302 1054.73 169.07 1054.73 Q163.075 1054.73 159.904 1050.15 Q156.732 1045.54 156.732 1036.82 Q156.732 1028.62 160.621 1023.76 Q164.51 1018.88 171.061 1018.88 Q172.82 1018.88 174.603 1019.22 Q176.408 1019.57 178.353 1020.27 Z\" fill=\"#000000\" fill-rule=\"evenodd\" fill-opacity=\"1\" /><path clip-path=\"url(#clip260)\" d=\"M64.0013 615.128 Q60.3902 615.128 58.5615 618.692 Q56.756 622.234 56.756 629.364 Q56.756 636.47 58.5615 640.035 Q60.3902 643.577 64.0013 643.577 Q67.6356 643.577 69.4411 640.035 Q71.2698 636.47 71.2698 629.364 Q71.2698 622.234 69.4411 618.692 Q67.6356 615.128 64.0013 615.128 M64.0013 611.424 Q69.8115 611.424 72.867 616.03 Q75.9457 620.614 75.9457 629.364 Q75.9457 638.091 72.867 642.697 Q69.8115 647.28 64.0013 647.28 Q58.1912 647.28 55.1125 642.697 Q52.0569 638.091 52.0569 629.364 Q52.0569 620.614 55.1125 616.03 Q58.1912 611.424 64.0013 611.424 Z\" fill=\"#000000\" fill-rule=\"evenodd\" fill-opacity=\"1\" /><path clip-path=\"url(#clip260)\" d=\"M84.1632 640.729 L89.0475 640.729 L89.0475 646.609 L84.1632 646.609 L84.1632 640.729 Z\" fill=\"#000000\" fill-rule=\"evenodd\" fill-opacity=\"1\" /><path clip-path=\"url(#clip260)\" d=\"M109.811 627.466 Q106.663 627.466 104.811 629.618 Q102.983 631.771 102.983 635.521 Q102.983 639.248 104.811 641.424 Q106.663 643.577 109.811 643.577 Q112.959 643.577 114.788 641.424 Q116.64 639.248 116.64 635.521 Q116.64 631.771 114.788 629.618 Q112.959 627.466 109.811 627.466 M119.094 612.813 L119.094 617.072 Q117.334 616.239 115.529 615.799 Q113.746 615.359 111.987 615.359 Q107.358 615.359 104.904 618.484 Q102.473 621.609 102.126 627.929 Q103.492 625.915 105.552 624.85 Q107.612 623.762 110.089 623.762 Q115.297 623.762 118.307 626.933 Q121.339 630.081 121.339 635.521 Q121.339 640.845 118.191 644.063 Q115.043 647.28 109.811 647.28 Q103.816 647.28 100.645 642.697 Q97.4734 638.091 97.4734 629.364 Q97.4734 621.169 101.362 616.308 Q105.251 611.424 111.802 611.424 Q113.561 611.424 115.344 611.771 Q117.149 612.118 119.094 612.813 Z\" fill=\"#000000\" fill-rule=\"evenodd\" fill-opacity=\"1\" /><path clip-path=\"url(#clip260)\" d=\"M139.973 627.466 Q136.825 627.466 134.973 629.618 Q133.144 631.771 133.144 635.521 Q133.144 639.248 134.973 641.424 Q136.825 643.577 139.973 643.577 Q143.121 643.577 144.95 641.424 Q146.802 639.248 146.802 635.521 Q146.802 631.771 144.95 629.618 Q143.121 627.466 139.973 627.466 M149.255 612.813 L149.255 617.072 Q147.496 616.239 145.691 615.799 Q143.908 615.359 142.149 615.359 Q137.519 615.359 135.066 618.484 Q132.635 621.609 132.288 627.929 Q133.654 625.915 135.714 624.85 Q137.774 623.762 140.251 623.762 Q145.459 623.762 148.468 626.933 Q151.501 630.081 151.501 635.521 Q151.501 640.845 148.353 644.063 Q145.205 647.28 139.973 647.28 Q133.978 647.28 130.807 642.697 Q127.635 638.091 127.635 629.364 Q127.635 621.169 131.524 616.308 Q135.413 611.424 141.964 611.424 Q143.723 611.424 145.506 611.771 Q147.311 612.118 149.255 612.813 Z\" fill=\"#000000\" fill-rule=\"evenodd\" fill-opacity=\"1\" /><path clip-path=\"url(#clip260)\" d=\"M158.376 612.049 L180.598 612.049 L180.598 614.04 L168.052 646.609 L163.167 646.609 L174.973 615.984 L158.376 615.984 L158.376 612.049 Z\" fill=\"#000000\" fill-rule=\"evenodd\" fill-opacity=\"1\" /><path clip-path=\"url(#clip260)\" d=\"M63.1911 207.674 Q59.58 207.674 57.7513 211.239 Q55.9458 214.781 55.9458 221.91 Q55.9458 229.017 57.7513 232.582 Q59.58 236.123 63.1911 236.123 Q66.8254 236.123 68.6309 232.582 Q70.4596 229.017 70.4596 221.91 Q70.4596 214.781 68.6309 211.239 Q66.8254 207.674 63.1911 207.674 M63.1911 203.971 Q69.0013 203.971 72.0568 208.577 Q75.1355 213.16 75.1355 221.91 Q75.1355 230.637 72.0568 235.244 Q69.0013 239.827 63.1911 239.827 Q57.381 239.827 54.3023 235.244 Q51.2468 230.637 51.2468 221.91 Q51.2468 213.16 54.3023 208.577 Q57.381 203.971 63.1911 203.971 Z\" fill=\"#000000\" fill-rule=\"evenodd\" fill-opacity=\"1\" /><path clip-path=\"url(#clip260)\" d=\"M83.3531 233.276 L88.2373 233.276 L88.2373 239.156 L83.3531 239.156 L83.3531 233.276 Z\" fill=\"#000000\" fill-rule=\"evenodd\" fill-opacity=\"1\" /><path clip-path=\"url(#clip260)\" d=\"M109.001 220.012 Q105.853 220.012 104.001 222.165 Q102.172 224.318 102.172 228.068 Q102.172 231.794 104.001 233.97 Q105.853 236.123 109.001 236.123 Q112.149 236.123 113.978 233.97 Q115.83 231.794 115.83 228.068 Q115.83 224.318 113.978 222.165 Q112.149 220.012 109.001 220.012 M118.283 205.359 L118.283 209.619 Q116.524 208.785 114.719 208.346 Q112.936 207.906 111.177 207.906 Q106.547 207.906 104.094 211.031 Q101.663 214.156 101.316 220.475 Q102.682 218.461 104.742 217.396 Q106.802 216.308 109.279 216.308 Q114.487 216.308 117.496 219.48 Q120.529 222.628 120.529 228.068 Q120.529 233.392 117.381 236.609 Q114.233 239.827 109.001 239.827 Q103.006 239.827 99.8345 235.244 Q96.6632 230.637 96.6632 221.91 Q96.6632 213.716 100.552 208.855 Q104.441 203.971 110.992 203.971 Q112.751 203.971 114.533 204.318 Q116.339 204.665 118.283 205.359 Z\" fill=\"#000000\" fill-rule=\"evenodd\" fill-opacity=\"1\" /><path clip-path=\"url(#clip260)\" d=\"M139.163 220.012 Q136.015 220.012 134.163 222.165 Q132.334 224.318 132.334 228.068 Q132.334 231.794 134.163 233.97 Q136.015 236.123 139.163 236.123 Q142.311 236.123 144.14 233.97 Q145.992 231.794 145.992 228.068 Q145.992 224.318 144.14 222.165 Q142.311 220.012 139.163 220.012 M148.445 205.359 L148.445 209.619 Q146.686 208.785 144.881 208.346 Q143.098 207.906 141.339 207.906 Q136.709 207.906 134.256 211.031 Q131.825 214.156 131.478 220.475 Q132.844 218.461 134.904 217.396 Q136.964 216.308 139.441 216.308 Q144.649 216.308 147.658 219.48 Q150.691 222.628 150.691 228.068 Q150.691 233.392 147.543 236.609 Q144.394 239.827 139.163 239.827 Q133.168 239.827 129.996 235.244 Q126.825 230.637 126.825 221.91 Q126.825 213.716 130.714 208.855 Q134.603 203.971 141.154 203.971 Q142.913 203.971 144.695 204.318 Q146.501 204.665 148.445 205.359 Z\" fill=\"#000000\" fill-rule=\"evenodd\" fill-opacity=\"1\" /><path clip-path=\"url(#clip260)\" d=\"M168.746 222.744 Q165.413 222.744 163.492 224.526 Q161.593 226.308 161.593 229.433 Q161.593 232.558 163.492 234.341 Q165.413 236.123 168.746 236.123 Q172.079 236.123 174.001 234.341 Q175.922 232.535 175.922 229.433 Q175.922 226.308 174.001 224.526 Q172.103 222.744 168.746 222.744 M164.07 220.753 Q161.061 220.012 159.371 217.952 Q157.705 215.892 157.705 212.929 Q157.705 208.785 160.644 206.378 Q163.607 203.971 168.746 203.971 Q173.908 203.971 176.848 206.378 Q179.788 208.785 179.788 212.929 Q179.788 215.892 178.098 217.952 Q176.431 220.012 173.445 220.753 Q176.825 221.54 178.7 223.832 Q180.598 226.123 180.598 229.433 Q180.598 234.457 177.519 237.142 Q174.464 239.827 168.746 239.827 Q163.029 239.827 159.95 237.142 Q156.894 234.457 156.894 229.433 Q156.894 226.123 158.792 223.832 Q160.691 221.54 164.07 220.753 M162.357 213.369 Q162.357 216.054 164.024 217.558 Q165.714 219.063 168.746 219.063 Q171.755 219.063 173.445 217.558 Q175.158 216.054 175.158 213.369 Q175.158 210.684 173.445 209.179 Q171.755 207.674 168.746 207.674 Q165.714 207.674 164.024 209.179 Q162.357 210.684 162.357 213.369 Z\" fill=\"#000000\" fill-rule=\"evenodd\" fill-opacity=\"1\" /><circle clip-path=\"url(#clip262)\" cx=\"277.055\" cy=\"257.772\" r=\"14.4\" fill=\"#009af9\" fill-rule=\"evenodd\" fill-opacity=\"1\" stroke=\"#000000\" stroke-opacity=\"1\" stroke-width=\"3.2\"/>\n",
       "<circle clip-path=\"url(#clip262)\" cx=\"287.233\" cy=\"1445.72\" r=\"14.4\" fill=\"#009af9\" fill-rule=\"evenodd\" fill-opacity=\"1\" stroke=\"#000000\" stroke-opacity=\"1\" stroke-width=\"3.2\"/>\n",
       "<circle clip-path=\"url(#clip262)\" cx=\"297.411\" cy=\"974.543\" r=\"14.4\" fill=\"#009af9\" fill-rule=\"evenodd\" fill-opacity=\"1\" stroke=\"#000000\" stroke-opacity=\"1\" stroke-width=\"3.2\"/>\n",
       "<circle clip-path=\"url(#clip262)\" cx=\"307.589\" cy=\"88.057\" r=\"14.4\" fill=\"#009af9\" fill-rule=\"evenodd\" fill-opacity=\"1\" stroke=\"#000000\" stroke-opacity=\"1\" stroke-width=\"3.2\"/>\n",
       "<circle clip-path=\"url(#clip262)\" cx=\"317.767\" cy=\"87.9763\" r=\"14.4\" fill=\"#009af9\" fill-rule=\"evenodd\" fill-opacity=\"1\" stroke=\"#000000\" stroke-opacity=\"1\" stroke-width=\"3.2\"/>\n",
       "<circle clip-path=\"url(#clip262)\" cx=\"327.945\" cy=\"87.9906\" r=\"14.4\" fill=\"#009af9\" fill-rule=\"evenodd\" fill-opacity=\"1\" stroke=\"#000000\" stroke-opacity=\"1\" stroke-width=\"3.2\"/>\n",
       "<circle clip-path=\"url(#clip262)\" cx=\"338.123\" cy=\"88.102\" r=\"14.4\" fill=\"#009af9\" fill-rule=\"evenodd\" fill-opacity=\"1\" stroke=\"#000000\" stroke-opacity=\"1\" stroke-width=\"3.2\"/>\n",
       "<circle clip-path=\"url(#clip262)\" cx=\"348.301\" cy=\"88.9824\" r=\"14.4\" fill=\"#009af9\" fill-rule=\"evenodd\" fill-opacity=\"1\" stroke=\"#000000\" stroke-opacity=\"1\" stroke-width=\"3.2\"/>\n",
       "<circle clip-path=\"url(#clip262)\" cx=\"358.479\" cy=\"1381.49\" r=\"14.4\" fill=\"#009af9\" fill-rule=\"evenodd\" fill-opacity=\"1\" stroke=\"#000000\" stroke-opacity=\"1\" stroke-width=\"3.2\"/>\n",
       "<circle clip-path=\"url(#clip262)\" cx=\"368.657\" cy=\"1444.89\" r=\"14.4\" fill=\"#009af9\" fill-rule=\"evenodd\" fill-opacity=\"1\" stroke=\"#000000\" stroke-opacity=\"1\" stroke-width=\"3.2\"/>\n",
       "<circle clip-path=\"url(#clip262)\" cx=\"378.835\" cy=\"1445.5\" r=\"14.4\" fill=\"#009af9\" fill-rule=\"evenodd\" fill-opacity=\"1\" stroke=\"#000000\" stroke-opacity=\"1\" stroke-width=\"3.2\"/>\n",
       "<circle clip-path=\"url(#clip262)\" cx=\"389.013\" cy=\"1445.63\" r=\"14.4\" fill=\"#009af9\" fill-rule=\"evenodd\" fill-opacity=\"1\" stroke=\"#000000\" stroke-opacity=\"1\" stroke-width=\"3.2\"/>\n",
       "<circle clip-path=\"url(#clip262)\" cx=\"399.191\" cy=\"1445.67\" r=\"14.4\" fill=\"#009af9\" fill-rule=\"evenodd\" fill-opacity=\"1\" stroke=\"#000000\" stroke-opacity=\"1\" stroke-width=\"3.2\"/>\n",
       "<circle clip-path=\"url(#clip262)\" cx=\"409.369\" cy=\"1445.69\" r=\"14.4\" fill=\"#009af9\" fill-rule=\"evenodd\" fill-opacity=\"1\" stroke=\"#000000\" stroke-opacity=\"1\" stroke-width=\"3.2\"/>\n",
       "<circle clip-path=\"url(#clip262)\" cx=\"419.547\" cy=\"1445.69\" r=\"14.4\" fill=\"#009af9\" fill-rule=\"evenodd\" fill-opacity=\"1\" stroke=\"#000000\" stroke-opacity=\"1\" stroke-width=\"3.2\"/>\n",
       "<circle clip-path=\"url(#clip262)\" cx=\"429.725\" cy=\"1445.69\" r=\"14.4\" fill=\"#009af9\" fill-rule=\"evenodd\" fill-opacity=\"1\" stroke=\"#000000\" stroke-opacity=\"1\" stroke-width=\"3.2\"/>\n",
       "<circle clip-path=\"url(#clip262)\" cx=\"439.903\" cy=\"1445.69\" r=\"14.4\" fill=\"#009af9\" fill-rule=\"evenodd\" fill-opacity=\"1\" stroke=\"#000000\" stroke-opacity=\"1\" stroke-width=\"3.2\"/>\n",
       "<circle clip-path=\"url(#clip262)\" cx=\"450.081\" cy=\"1445.67\" r=\"14.4\" fill=\"#009af9\" fill-rule=\"evenodd\" fill-opacity=\"1\" stroke=\"#000000\" stroke-opacity=\"1\" stroke-width=\"3.2\"/>\n",
       "<circle clip-path=\"url(#clip262)\" cx=\"460.259\" cy=\"1445.64\" r=\"14.4\" fill=\"#009af9\" fill-rule=\"evenodd\" fill-opacity=\"1\" stroke=\"#000000\" stroke-opacity=\"1\" stroke-width=\"3.2\"/>\n",
       "<circle clip-path=\"url(#clip262)\" cx=\"470.437\" cy=\"1445.59\" r=\"14.4\" fill=\"#009af9\" fill-rule=\"evenodd\" fill-opacity=\"1\" stroke=\"#000000\" stroke-opacity=\"1\" stroke-width=\"3.2\"/>\n",
       "<circle clip-path=\"url(#clip262)\" cx=\"480.615\" cy=\"1445.49\" r=\"14.4\" fill=\"#009af9\" fill-rule=\"evenodd\" fill-opacity=\"1\" stroke=\"#000000\" stroke-opacity=\"1\" stroke-width=\"3.2\"/>\n",
       "<circle clip-path=\"url(#clip262)\" cx=\"490.793\" cy=\"1445.27\" r=\"14.4\" fill=\"#009af9\" fill-rule=\"evenodd\" fill-opacity=\"1\" stroke=\"#000000\" stroke-opacity=\"1\" stroke-width=\"3.2\"/>\n",
       "<circle clip-path=\"url(#clip262)\" cx=\"500.971\" cy=\"1444.72\" r=\"14.4\" fill=\"#009af9\" fill-rule=\"evenodd\" fill-opacity=\"1\" stroke=\"#000000\" stroke-opacity=\"1\" stroke-width=\"3.2\"/>\n",
       "<circle clip-path=\"url(#clip262)\" cx=\"511.149\" cy=\"1442.57\" r=\"14.4\" fill=\"#009af9\" fill-rule=\"evenodd\" fill-opacity=\"1\" stroke=\"#000000\" stroke-opacity=\"1\" stroke-width=\"3.2\"/>\n",
       "<circle clip-path=\"url(#clip262)\" cx=\"521.327\" cy=\"1413.91\" r=\"14.4\" fill=\"#009af9\" fill-rule=\"evenodd\" fill-opacity=\"1\" stroke=\"#000000\" stroke-opacity=\"1\" stroke-width=\"3.2\"/>\n",
       "<circle clip-path=\"url(#clip262)\" cx=\"531.505\" cy=\"113.128\" r=\"14.4\" fill=\"#009af9\" fill-rule=\"evenodd\" fill-opacity=\"1\" stroke=\"#000000\" stroke-opacity=\"1\" stroke-width=\"3.2\"/>\n",
       "<circle clip-path=\"url(#clip262)\" cx=\"541.683\" cy=\"91.2334\" r=\"14.4\" fill=\"#009af9\" fill-rule=\"evenodd\" fill-opacity=\"1\" stroke=\"#000000\" stroke-opacity=\"1\" stroke-width=\"3.2\"/>\n",
       "<circle clip-path=\"url(#clip262)\" cx=\"551.861\" cy=\"89.1719\" r=\"14.4\" fill=\"#009af9\" fill-rule=\"evenodd\" fill-opacity=\"1\" stroke=\"#000000\" stroke-opacity=\"1\" stroke-width=\"3.2\"/>\n",
       "<circle clip-path=\"url(#clip262)\" cx=\"562.039\" cy=\"88.5834\" r=\"14.4\" fill=\"#009af9\" fill-rule=\"evenodd\" fill-opacity=\"1\" stroke=\"#000000\" stroke-opacity=\"1\" stroke-width=\"3.2\"/>\n",
       "<circle clip-path=\"url(#clip262)\" cx=\"572.217\" cy=\"88.3378\" r=\"14.4\" fill=\"#009af9\" fill-rule=\"evenodd\" fill-opacity=\"1\" stroke=\"#000000\" stroke-opacity=\"1\" stroke-width=\"3.2\"/>\n",
       "<circle clip-path=\"url(#clip262)\" cx=\"582.395\" cy=\"88.2131\" r=\"14.4\" fill=\"#009af9\" fill-rule=\"evenodd\" fill-opacity=\"1\" stroke=\"#000000\" stroke-opacity=\"1\" stroke-width=\"3.2\"/>\n",
       "<circle clip-path=\"url(#clip262)\" cx=\"592.573\" cy=\"88.1418\" r=\"14.4\" fill=\"#009af9\" fill-rule=\"evenodd\" fill-opacity=\"1\" stroke=\"#000000\" stroke-opacity=\"1\" stroke-width=\"3.2\"/>\n",
       "<circle clip-path=\"url(#clip262)\" cx=\"602.751\" cy=\"88.0976\" r=\"14.4\" fill=\"#009af9\" fill-rule=\"evenodd\" fill-opacity=\"1\" stroke=\"#000000\" stroke-opacity=\"1\" stroke-width=\"3.2\"/>\n",
       "<circle clip-path=\"url(#clip262)\" cx=\"612.929\" cy=\"88.0688\" r=\"14.4\" fill=\"#009af9\" fill-rule=\"evenodd\" fill-opacity=\"1\" stroke=\"#000000\" stroke-opacity=\"1\" stroke-width=\"3.2\"/>\n",
       "<circle clip-path=\"url(#clip262)\" cx=\"623.107\" cy=\"88.0492\" r=\"14.4\" fill=\"#009af9\" fill-rule=\"evenodd\" fill-opacity=\"1\" stroke=\"#000000\" stroke-opacity=\"1\" stroke-width=\"3.2\"/>\n",
       "<circle clip-path=\"url(#clip262)\" cx=\"633.285\" cy=\"88.0356\" r=\"14.4\" fill=\"#009af9\" fill-rule=\"evenodd\" fill-opacity=\"1\" stroke=\"#000000\" stroke-opacity=\"1\" stroke-width=\"3.2\"/>\n",
       "<circle clip-path=\"url(#clip262)\" cx=\"643.463\" cy=\"88.026\" r=\"14.4\" fill=\"#009af9\" fill-rule=\"evenodd\" fill-opacity=\"1\" stroke=\"#000000\" stroke-opacity=\"1\" stroke-width=\"3.2\"/>\n",
       "<circle clip-path=\"url(#clip262)\" cx=\"653.641\" cy=\"88.0192\" r=\"14.4\" fill=\"#009af9\" fill-rule=\"evenodd\" fill-opacity=\"1\" stroke=\"#000000\" stroke-opacity=\"1\" stroke-width=\"3.2\"/>\n",
       "<circle clip-path=\"url(#clip262)\" cx=\"663.819\" cy=\"88.0145\" r=\"14.4\" fill=\"#009af9\" fill-rule=\"evenodd\" fill-opacity=\"1\" stroke=\"#000000\" stroke-opacity=\"1\" stroke-width=\"3.2\"/>\n",
       "<circle clip-path=\"url(#clip262)\" cx=\"673.997\" cy=\"88.0114\" r=\"14.4\" fill=\"#009af9\" fill-rule=\"evenodd\" fill-opacity=\"1\" stroke=\"#000000\" stroke-opacity=\"1\" stroke-width=\"3.2\"/>\n",
       "<circle clip-path=\"url(#clip262)\" cx=\"684.175\" cy=\"88.0095\" r=\"14.4\" fill=\"#009af9\" fill-rule=\"evenodd\" fill-opacity=\"1\" stroke=\"#000000\" stroke-opacity=\"1\" stroke-width=\"3.2\"/>\n",
       "<circle clip-path=\"url(#clip262)\" cx=\"694.353\" cy=\"88.0088\" r=\"14.4\" fill=\"#009af9\" fill-rule=\"evenodd\" fill-opacity=\"1\" stroke=\"#000000\" stroke-opacity=\"1\" stroke-width=\"3.2\"/>\n",
       "<circle clip-path=\"url(#clip262)\" cx=\"704.531\" cy=\"88.009\" r=\"14.4\" fill=\"#009af9\" fill-rule=\"evenodd\" fill-opacity=\"1\" stroke=\"#000000\" stroke-opacity=\"1\" stroke-width=\"3.2\"/>\n",
       "<circle clip-path=\"url(#clip262)\" cx=\"714.709\" cy=\"88.0102\" r=\"14.4\" fill=\"#009af9\" fill-rule=\"evenodd\" fill-opacity=\"1\" stroke=\"#000000\" stroke-opacity=\"1\" stroke-width=\"3.2\"/>\n",
       "<circle clip-path=\"url(#clip262)\" cx=\"724.887\" cy=\"88.0123\" r=\"14.4\" fill=\"#009af9\" fill-rule=\"evenodd\" fill-opacity=\"1\" stroke=\"#000000\" stroke-opacity=\"1\" stroke-width=\"3.2\"/>\n",
       "<circle clip-path=\"url(#clip262)\" cx=\"735.065\" cy=\"88.0155\" r=\"14.4\" fill=\"#009af9\" fill-rule=\"evenodd\" fill-opacity=\"1\" stroke=\"#000000\" stroke-opacity=\"1\" stroke-width=\"3.2\"/>\n",
       "<circle clip-path=\"url(#clip262)\" cx=\"745.243\" cy=\"88.0199\" r=\"14.4\" fill=\"#009af9\" fill-rule=\"evenodd\" fill-opacity=\"1\" stroke=\"#000000\" stroke-opacity=\"1\" stroke-width=\"3.2\"/>\n",
       "<circle clip-path=\"url(#clip262)\" cx=\"755.421\" cy=\"88.0256\" r=\"14.4\" fill=\"#009af9\" fill-rule=\"evenodd\" fill-opacity=\"1\" stroke=\"#000000\" stroke-opacity=\"1\" stroke-width=\"3.2\"/>\n",
       "<circle clip-path=\"url(#clip262)\" cx=\"765.599\" cy=\"88.033\" r=\"14.4\" fill=\"#009af9\" fill-rule=\"evenodd\" fill-opacity=\"1\" stroke=\"#000000\" stroke-opacity=\"1\" stroke-width=\"3.2\"/>\n",
       "<circle clip-path=\"url(#clip262)\" cx=\"775.777\" cy=\"88.0425\" r=\"14.4\" fill=\"#009af9\" fill-rule=\"evenodd\" fill-opacity=\"1\" stroke=\"#000000\" stroke-opacity=\"1\" stroke-width=\"3.2\"/>\n",
       "<circle clip-path=\"url(#clip262)\" cx=\"785.955\" cy=\"88.0546\" r=\"14.4\" fill=\"#009af9\" fill-rule=\"evenodd\" fill-opacity=\"1\" stroke=\"#000000\" stroke-opacity=\"1\" stroke-width=\"3.2\"/>\n",
       "<circle clip-path=\"url(#clip262)\" cx=\"796.133\" cy=\"88.07\" r=\"14.4\" fill=\"#009af9\" fill-rule=\"evenodd\" fill-opacity=\"1\" stroke=\"#000000\" stroke-opacity=\"1\" stroke-width=\"3.2\"/>\n",
       "<circle clip-path=\"url(#clip262)\" cx=\"806.311\" cy=\"88.0898\" r=\"14.4\" fill=\"#009af9\" fill-rule=\"evenodd\" fill-opacity=\"1\" stroke=\"#000000\" stroke-opacity=\"1\" stroke-width=\"3.2\"/>\n",
       "<circle clip-path=\"url(#clip262)\" cx=\"816.489\" cy=\"88.1154\" r=\"14.4\" fill=\"#009af9\" fill-rule=\"evenodd\" fill-opacity=\"1\" stroke=\"#000000\" stroke-opacity=\"1\" stroke-width=\"3.2\"/>\n",
       "<circle clip-path=\"url(#clip262)\" cx=\"826.667\" cy=\"88.1491\" r=\"14.4\" fill=\"#009af9\" fill-rule=\"evenodd\" fill-opacity=\"1\" stroke=\"#000000\" stroke-opacity=\"1\" stroke-width=\"3.2\"/>\n",
       "<circle clip-path=\"url(#clip262)\" cx=\"836.845\" cy=\"88.1941\" r=\"14.4\" fill=\"#009af9\" fill-rule=\"evenodd\" fill-opacity=\"1\" stroke=\"#000000\" stroke-opacity=\"1\" stroke-width=\"3.2\"/>\n",
       "<circle clip-path=\"url(#clip262)\" cx=\"847.023\" cy=\"88.2553\" r=\"14.4\" fill=\"#009af9\" fill-rule=\"evenodd\" fill-opacity=\"1\" stroke=\"#000000\" stroke-opacity=\"1\" stroke-width=\"3.2\"/>\n",
       "<circle clip-path=\"url(#clip262)\" cx=\"857.201\" cy=\"88.341\" r=\"14.4\" fill=\"#009af9\" fill-rule=\"evenodd\" fill-opacity=\"1\" stroke=\"#000000\" stroke-opacity=\"1\" stroke-width=\"3.2\"/>\n",
       "<circle clip-path=\"url(#clip262)\" cx=\"867.379\" cy=\"88.465\" r=\"14.4\" fill=\"#009af9\" fill-rule=\"evenodd\" fill-opacity=\"1\" stroke=\"#000000\" stroke-opacity=\"1\" stroke-width=\"3.2\"/>\n",
       "<circle clip-path=\"url(#clip262)\" cx=\"877.557\" cy=\"88.6525\" r=\"14.4\" fill=\"#009af9\" fill-rule=\"evenodd\" fill-opacity=\"1\" stroke=\"#000000\" stroke-opacity=\"1\" stroke-width=\"3.2\"/>\n",
       "<circle clip-path=\"url(#clip262)\" cx=\"887.735\" cy=\"88.9528\" r=\"14.4\" fill=\"#009af9\" fill-rule=\"evenodd\" fill-opacity=\"1\" stroke=\"#000000\" stroke-opacity=\"1\" stroke-width=\"3.2\"/>\n",
       "<circle clip-path=\"url(#clip262)\" cx=\"897.913\" cy=\"89.4736\" r=\"14.4\" fill=\"#009af9\" fill-rule=\"evenodd\" fill-opacity=\"1\" stroke=\"#000000\" stroke-opacity=\"1\" stroke-width=\"3.2\"/>\n",
       "<circle clip-path=\"url(#clip262)\" cx=\"908.091\" cy=\"90.4876\" r=\"14.4\" fill=\"#009af9\" fill-rule=\"evenodd\" fill-opacity=\"1\" stroke=\"#000000\" stroke-opacity=\"1\" stroke-width=\"3.2\"/>\n",
       "<circle clip-path=\"url(#clip262)\" cx=\"918.269\" cy=\"92.8602\" r=\"14.4\" fill=\"#009af9\" fill-rule=\"evenodd\" fill-opacity=\"1\" stroke=\"#000000\" stroke-opacity=\"1\" stroke-width=\"3.2\"/>\n",
       "<circle clip-path=\"url(#clip262)\" cx=\"928.447\" cy=\"100.629\" r=\"14.4\" fill=\"#009af9\" fill-rule=\"evenodd\" fill-opacity=\"1\" stroke=\"#000000\" stroke-opacity=\"1\" stroke-width=\"3.2\"/>\n",
       "<circle clip-path=\"url(#clip262)\" cx=\"938.625\" cy=\"158.529\" r=\"14.4\" fill=\"#009af9\" fill-rule=\"evenodd\" fill-opacity=\"1\" stroke=\"#000000\" stroke-opacity=\"1\" stroke-width=\"3.2\"/>\n",
       "<circle clip-path=\"url(#clip262)\" cx=\"948.803\" cy=\"1245.58\" r=\"14.4\" fill=\"#009af9\" fill-rule=\"evenodd\" fill-opacity=\"1\" stroke=\"#000000\" stroke-opacity=\"1\" stroke-width=\"3.2\"/>\n",
       "<circle clip-path=\"url(#clip262)\" cx=\"958.981\" cy=\"1425.11\" r=\"14.4\" fill=\"#009af9\" fill-rule=\"evenodd\" fill-opacity=\"1\" stroke=\"#000000\" stroke-opacity=\"1\" stroke-width=\"3.2\"/>\n",
       "<circle clip-path=\"url(#clip262)\" cx=\"969.159\" cy=\"1438.75\" r=\"14.4\" fill=\"#009af9\" fill-rule=\"evenodd\" fill-opacity=\"1\" stroke=\"#000000\" stroke-opacity=\"1\" stroke-width=\"3.2\"/>\n",
       "<circle clip-path=\"url(#clip262)\" cx=\"979.337\" cy=\"1442.27\" r=\"14.4\" fill=\"#009af9\" fill-rule=\"evenodd\" fill-opacity=\"1\" stroke=\"#000000\" stroke-opacity=\"1\" stroke-width=\"3.2\"/>\n",
       "<circle clip-path=\"url(#clip262)\" cx=\"989.515\" cy=\"1443.68\" r=\"14.4\" fill=\"#009af9\" fill-rule=\"evenodd\" fill-opacity=\"1\" stroke=\"#000000\" stroke-opacity=\"1\" stroke-width=\"3.2\"/>\n",
       "<circle clip-path=\"url(#clip262)\" cx=\"999.693\" cy=\"1444.37\" r=\"14.4\" fill=\"#009af9\" fill-rule=\"evenodd\" fill-opacity=\"1\" stroke=\"#000000\" stroke-opacity=\"1\" stroke-width=\"3.2\"/>\n",
       "<circle clip-path=\"url(#clip262)\" cx=\"1009.87\" cy=\"1444.77\" r=\"14.4\" fill=\"#009af9\" fill-rule=\"evenodd\" fill-opacity=\"1\" stroke=\"#000000\" stroke-opacity=\"1\" stroke-width=\"3.2\"/>\n",
       "<circle clip-path=\"url(#clip262)\" cx=\"1020.05\" cy=\"1445.01\" r=\"14.4\" fill=\"#009af9\" fill-rule=\"evenodd\" fill-opacity=\"1\" stroke=\"#000000\" stroke-opacity=\"1\" stroke-width=\"3.2\"/>\n",
       "<circle clip-path=\"url(#clip262)\" cx=\"1030.23\" cy=\"1445.17\" r=\"14.4\" fill=\"#009af9\" fill-rule=\"evenodd\" fill-opacity=\"1\" stroke=\"#000000\" stroke-opacity=\"1\" stroke-width=\"3.2\"/>\n",
       "<circle clip-path=\"url(#clip262)\" cx=\"1040.4\" cy=\"1445.28\" r=\"14.4\" fill=\"#009af9\" fill-rule=\"evenodd\" fill-opacity=\"1\" stroke=\"#000000\" stroke-opacity=\"1\" stroke-width=\"3.2\"/>\n",
       "<circle clip-path=\"url(#clip262)\" cx=\"1050.58\" cy=\"1445.37\" r=\"14.4\" fill=\"#009af9\" fill-rule=\"evenodd\" fill-opacity=\"1\" stroke=\"#000000\" stroke-opacity=\"1\" stroke-width=\"3.2\"/>\n",
       "<circle clip-path=\"url(#clip262)\" cx=\"1060.76\" cy=\"1445.43\" r=\"14.4\" fill=\"#009af9\" fill-rule=\"evenodd\" fill-opacity=\"1\" stroke=\"#000000\" stroke-opacity=\"1\" stroke-width=\"3.2\"/>\n",
       "<circle clip-path=\"url(#clip262)\" cx=\"1070.94\" cy=\"1445.47\" r=\"14.4\" fill=\"#009af9\" fill-rule=\"evenodd\" fill-opacity=\"1\" stroke=\"#000000\" stroke-opacity=\"1\" stroke-width=\"3.2\"/>\n",
       "<circle clip-path=\"url(#clip262)\" cx=\"1081.12\" cy=\"1445.51\" r=\"14.4\" fill=\"#009af9\" fill-rule=\"evenodd\" fill-opacity=\"1\" stroke=\"#000000\" stroke-opacity=\"1\" stroke-width=\"3.2\"/>\n",
       "<circle clip-path=\"url(#clip262)\" cx=\"1091.29\" cy=\"1445.54\" r=\"14.4\" fill=\"#009af9\" fill-rule=\"evenodd\" fill-opacity=\"1\" stroke=\"#000000\" stroke-opacity=\"1\" stroke-width=\"3.2\"/>\n",
       "<circle clip-path=\"url(#clip262)\" cx=\"1101.47\" cy=\"1445.56\" r=\"14.4\" fill=\"#009af9\" fill-rule=\"evenodd\" fill-opacity=\"1\" stroke=\"#000000\" stroke-opacity=\"1\" stroke-width=\"3.2\"/>\n",
       "<circle clip-path=\"url(#clip262)\" cx=\"1111.65\" cy=\"1445.58\" r=\"14.4\" fill=\"#009af9\" fill-rule=\"evenodd\" fill-opacity=\"1\" stroke=\"#000000\" stroke-opacity=\"1\" stroke-width=\"3.2\"/>\n",
       "<circle clip-path=\"url(#clip262)\" cx=\"1121.83\" cy=\"1445.59\" r=\"14.4\" fill=\"#009af9\" fill-rule=\"evenodd\" fill-opacity=\"1\" stroke=\"#000000\" stroke-opacity=\"1\" stroke-width=\"3.2\"/>\n",
       "<circle clip-path=\"url(#clip262)\" cx=\"1132.01\" cy=\"1445.6\" r=\"14.4\" fill=\"#009af9\" fill-rule=\"evenodd\" fill-opacity=\"1\" stroke=\"#000000\" stroke-opacity=\"1\" stroke-width=\"3.2\"/>\n",
       "<circle clip-path=\"url(#clip262)\" cx=\"1142.18\" cy=\"1445.61\" r=\"14.4\" fill=\"#009af9\" fill-rule=\"evenodd\" fill-opacity=\"1\" stroke=\"#000000\" stroke-opacity=\"1\" stroke-width=\"3.2\"/>\n",
       "<circle clip-path=\"url(#clip262)\" cx=\"1152.36\" cy=\"1445.62\" r=\"14.4\" fill=\"#009af9\" fill-rule=\"evenodd\" fill-opacity=\"1\" stroke=\"#000000\" stroke-opacity=\"1\" stroke-width=\"3.2\"/>\n",
       "<circle clip-path=\"url(#clip262)\" cx=\"1162.54\" cy=\"1445.63\" r=\"14.4\" fill=\"#009af9\" fill-rule=\"evenodd\" fill-opacity=\"1\" stroke=\"#000000\" stroke-opacity=\"1\" stroke-width=\"3.2\"/>\n",
       "<circle clip-path=\"url(#clip262)\" cx=\"1172.72\" cy=\"1445.64\" r=\"14.4\" fill=\"#009af9\" fill-rule=\"evenodd\" fill-opacity=\"1\" stroke=\"#000000\" stroke-opacity=\"1\" stroke-width=\"3.2\"/>\n",
       "<circle clip-path=\"url(#clip262)\" cx=\"1182.9\" cy=\"1445.64\" r=\"14.4\" fill=\"#009af9\" fill-rule=\"evenodd\" fill-opacity=\"1\" stroke=\"#000000\" stroke-opacity=\"1\" stroke-width=\"3.2\"/>\n",
       "<circle clip-path=\"url(#clip262)\" cx=\"1193.07\" cy=\"1445.65\" r=\"14.4\" fill=\"#009af9\" fill-rule=\"evenodd\" fill-opacity=\"1\" stroke=\"#000000\" stroke-opacity=\"1\" stroke-width=\"3.2\"/>\n",
       "<circle clip-path=\"url(#clip262)\" cx=\"1203.25\" cy=\"1445.65\" r=\"14.4\" fill=\"#009af9\" fill-rule=\"evenodd\" fill-opacity=\"1\" stroke=\"#000000\" stroke-opacity=\"1\" stroke-width=\"3.2\"/>\n",
       "<circle clip-path=\"url(#clip262)\" cx=\"1213.43\" cy=\"1445.65\" r=\"14.4\" fill=\"#009af9\" fill-rule=\"evenodd\" fill-opacity=\"1\" stroke=\"#000000\" stroke-opacity=\"1\" stroke-width=\"3.2\"/>\n",
       "<circle clip-path=\"url(#clip262)\" cx=\"1223.61\" cy=\"1445.65\" r=\"14.4\" fill=\"#009af9\" fill-rule=\"evenodd\" fill-opacity=\"1\" stroke=\"#000000\" stroke-opacity=\"1\" stroke-width=\"3.2\"/>\n",
       "<circle clip-path=\"url(#clip262)\" cx=\"1233.79\" cy=\"1445.66\" r=\"14.4\" fill=\"#009af9\" fill-rule=\"evenodd\" fill-opacity=\"1\" stroke=\"#000000\" stroke-opacity=\"1\" stroke-width=\"3.2\"/>\n",
       "<circle clip-path=\"url(#clip262)\" cx=\"1243.96\" cy=\"1445.66\" r=\"14.4\" fill=\"#009af9\" fill-rule=\"evenodd\" fill-opacity=\"1\" stroke=\"#000000\" stroke-opacity=\"1\" stroke-width=\"3.2\"/>\n",
       "<circle clip-path=\"url(#clip262)\" cx=\"1254.14\" cy=\"1445.66\" r=\"14.4\" fill=\"#009af9\" fill-rule=\"evenodd\" fill-opacity=\"1\" stroke=\"#000000\" stroke-opacity=\"1\" stroke-width=\"3.2\"/>\n",
       "<circle clip-path=\"url(#clip262)\" cx=\"1264.32\" cy=\"1445.66\" r=\"14.4\" fill=\"#009af9\" fill-rule=\"evenodd\" fill-opacity=\"1\" stroke=\"#000000\" stroke-opacity=\"1\" stroke-width=\"3.2\"/>\n",
       "<circle clip-path=\"url(#clip262)\" cx=\"1274.5\" cy=\"1445.66\" r=\"14.4\" fill=\"#009af9\" fill-rule=\"evenodd\" fill-opacity=\"1\" stroke=\"#000000\" stroke-opacity=\"1\" stroke-width=\"3.2\"/>\n",
       "<circle clip-path=\"url(#clip262)\" cx=\"1284.68\" cy=\"1445.66\" r=\"14.4\" fill=\"#009af9\" fill-rule=\"evenodd\" fill-opacity=\"1\" stroke=\"#000000\" stroke-opacity=\"1\" stroke-width=\"3.2\"/>\n",
       "<circle clip-path=\"url(#clip262)\" cx=\"1294.85\" cy=\"1445.66\" r=\"14.4\" fill=\"#009af9\" fill-rule=\"evenodd\" fill-opacity=\"1\" stroke=\"#000000\" stroke-opacity=\"1\" stroke-width=\"3.2\"/>\n",
       "<circle clip-path=\"url(#clip262)\" cx=\"1305.03\" cy=\"1445.66\" r=\"14.4\" fill=\"#009af9\" fill-rule=\"evenodd\" fill-opacity=\"1\" stroke=\"#000000\" stroke-opacity=\"1\" stroke-width=\"3.2\"/>\n",
       "<circle clip-path=\"url(#clip262)\" cx=\"1315.21\" cy=\"1445.66\" r=\"14.4\" fill=\"#009af9\" fill-rule=\"evenodd\" fill-opacity=\"1\" stroke=\"#000000\" stroke-opacity=\"1\" stroke-width=\"3.2\"/>\n",
       "<circle clip-path=\"url(#clip262)\" cx=\"1325.39\" cy=\"1445.66\" r=\"14.4\" fill=\"#009af9\" fill-rule=\"evenodd\" fill-opacity=\"1\" stroke=\"#000000\" stroke-opacity=\"1\" stroke-width=\"3.2\"/>\n",
       "<circle clip-path=\"url(#clip262)\" cx=\"1335.57\" cy=\"1445.66\" r=\"14.4\" fill=\"#009af9\" fill-rule=\"evenodd\" fill-opacity=\"1\" stroke=\"#000000\" stroke-opacity=\"1\" stroke-width=\"3.2\"/>\n",
       "<circle clip-path=\"url(#clip262)\" cx=\"1345.74\" cy=\"1445.65\" r=\"14.4\" fill=\"#009af9\" fill-rule=\"evenodd\" fill-opacity=\"1\" stroke=\"#000000\" stroke-opacity=\"1\" stroke-width=\"3.2\"/>\n",
       "<circle clip-path=\"url(#clip262)\" cx=\"1355.92\" cy=\"1445.65\" r=\"14.4\" fill=\"#009af9\" fill-rule=\"evenodd\" fill-opacity=\"1\" stroke=\"#000000\" stroke-opacity=\"1\" stroke-width=\"3.2\"/>\n",
       "<circle clip-path=\"url(#clip262)\" cx=\"1366.1\" cy=\"1445.65\" r=\"14.4\" fill=\"#009af9\" fill-rule=\"evenodd\" fill-opacity=\"1\" stroke=\"#000000\" stroke-opacity=\"1\" stroke-width=\"3.2\"/>\n",
       "<circle clip-path=\"url(#clip262)\" cx=\"1376.28\" cy=\"1445.65\" r=\"14.4\" fill=\"#009af9\" fill-rule=\"evenodd\" fill-opacity=\"1\" stroke=\"#000000\" stroke-opacity=\"1\" stroke-width=\"3.2\"/>\n",
       "<circle clip-path=\"url(#clip262)\" cx=\"1386.46\" cy=\"1445.64\" r=\"14.4\" fill=\"#009af9\" fill-rule=\"evenodd\" fill-opacity=\"1\" stroke=\"#000000\" stroke-opacity=\"1\" stroke-width=\"3.2\"/>\n",
       "<circle clip-path=\"url(#clip262)\" cx=\"1396.63\" cy=\"1445.64\" r=\"14.4\" fill=\"#009af9\" fill-rule=\"evenodd\" fill-opacity=\"1\" stroke=\"#000000\" stroke-opacity=\"1\" stroke-width=\"3.2\"/>\n",
       "<circle clip-path=\"url(#clip262)\" cx=\"1406.81\" cy=\"1445.63\" r=\"14.4\" fill=\"#009af9\" fill-rule=\"evenodd\" fill-opacity=\"1\" stroke=\"#000000\" stroke-opacity=\"1\" stroke-width=\"3.2\"/>\n",
       "<circle clip-path=\"url(#clip262)\" cx=\"1416.99\" cy=\"1445.62\" r=\"14.4\" fill=\"#009af9\" fill-rule=\"evenodd\" fill-opacity=\"1\" stroke=\"#000000\" stroke-opacity=\"1\" stroke-width=\"3.2\"/>\n",
       "<circle clip-path=\"url(#clip262)\" cx=\"1427.17\" cy=\"1445.61\" r=\"14.4\" fill=\"#009af9\" fill-rule=\"evenodd\" fill-opacity=\"1\" stroke=\"#000000\" stroke-opacity=\"1\" stroke-width=\"3.2\"/>\n",
       "<circle clip-path=\"url(#clip262)\" cx=\"1437.35\" cy=\"1445.6\" r=\"14.4\" fill=\"#009af9\" fill-rule=\"evenodd\" fill-opacity=\"1\" stroke=\"#000000\" stroke-opacity=\"1\" stroke-width=\"3.2\"/>\n",
       "<circle clip-path=\"url(#clip262)\" cx=\"1447.52\" cy=\"1445.59\" r=\"14.4\" fill=\"#009af9\" fill-rule=\"evenodd\" fill-opacity=\"1\" stroke=\"#000000\" stroke-opacity=\"1\" stroke-width=\"3.2\"/>\n",
       "<circle clip-path=\"url(#clip262)\" cx=\"1457.7\" cy=\"1445.58\" r=\"14.4\" fill=\"#009af9\" fill-rule=\"evenodd\" fill-opacity=\"1\" stroke=\"#000000\" stroke-opacity=\"1\" stroke-width=\"3.2\"/>\n",
       "<circle clip-path=\"url(#clip262)\" cx=\"1467.88\" cy=\"1445.56\" r=\"14.4\" fill=\"#009af9\" fill-rule=\"evenodd\" fill-opacity=\"1\" stroke=\"#000000\" stroke-opacity=\"1\" stroke-width=\"3.2\"/>\n",
       "<circle clip-path=\"url(#clip262)\" cx=\"1478.06\" cy=\"1445.54\" r=\"14.4\" fill=\"#009af9\" fill-rule=\"evenodd\" fill-opacity=\"1\" stroke=\"#000000\" stroke-opacity=\"1\" stroke-width=\"3.2\"/>\n",
       "<circle clip-path=\"url(#clip262)\" cx=\"1488.24\" cy=\"1445.51\" r=\"14.4\" fill=\"#009af9\" fill-rule=\"evenodd\" fill-opacity=\"1\" stroke=\"#000000\" stroke-opacity=\"1\" stroke-width=\"3.2\"/>\n",
       "<circle clip-path=\"url(#clip262)\" cx=\"1498.41\" cy=\"1445.47\" r=\"14.4\" fill=\"#009af9\" fill-rule=\"evenodd\" fill-opacity=\"1\" stroke=\"#000000\" stroke-opacity=\"1\" stroke-width=\"3.2\"/>\n",
       "<circle clip-path=\"url(#clip262)\" cx=\"1508.59\" cy=\"1445.43\" r=\"14.4\" fill=\"#009af9\" fill-rule=\"evenodd\" fill-opacity=\"1\" stroke=\"#000000\" stroke-opacity=\"1\" stroke-width=\"3.2\"/>\n",
       "<circle clip-path=\"url(#clip262)\" cx=\"1518.77\" cy=\"1445.37\" r=\"14.4\" fill=\"#009af9\" fill-rule=\"evenodd\" fill-opacity=\"1\" stroke=\"#000000\" stroke-opacity=\"1\" stroke-width=\"3.2\"/>\n",
       "<circle clip-path=\"url(#clip262)\" cx=\"1528.95\" cy=\"1445.28\" r=\"14.4\" fill=\"#009af9\" fill-rule=\"evenodd\" fill-opacity=\"1\" stroke=\"#000000\" stroke-opacity=\"1\" stroke-width=\"3.2\"/>\n",
       "<circle clip-path=\"url(#clip262)\" cx=\"1539.13\" cy=\"1445.17\" r=\"14.4\" fill=\"#009af9\" fill-rule=\"evenodd\" fill-opacity=\"1\" stroke=\"#000000\" stroke-opacity=\"1\" stroke-width=\"3.2\"/>\n",
       "<circle clip-path=\"url(#clip262)\" cx=\"1549.3\" cy=\"1445.01\" r=\"14.4\" fill=\"#009af9\" fill-rule=\"evenodd\" fill-opacity=\"1\" stroke=\"#000000\" stroke-opacity=\"1\" stroke-width=\"3.2\"/>\n",
       "<circle clip-path=\"url(#clip262)\" cx=\"1559.48\" cy=\"1444.77\" r=\"14.4\" fill=\"#009af9\" fill-rule=\"evenodd\" fill-opacity=\"1\" stroke=\"#000000\" stroke-opacity=\"1\" stroke-width=\"3.2\"/>\n",
       "<circle clip-path=\"url(#clip262)\" cx=\"1569.66\" cy=\"1444.37\" r=\"14.4\" fill=\"#009af9\" fill-rule=\"evenodd\" fill-opacity=\"1\" stroke=\"#000000\" stroke-opacity=\"1\" stroke-width=\"3.2\"/>\n",
       "<circle clip-path=\"url(#clip262)\" cx=\"1579.84\" cy=\"1443.68\" r=\"14.4\" fill=\"#009af9\" fill-rule=\"evenodd\" fill-opacity=\"1\" stroke=\"#000000\" stroke-opacity=\"1\" stroke-width=\"3.2\"/>\n",
       "<circle clip-path=\"url(#clip262)\" cx=\"1590.02\" cy=\"1442.27\" r=\"14.4\" fill=\"#009af9\" fill-rule=\"evenodd\" fill-opacity=\"1\" stroke=\"#000000\" stroke-opacity=\"1\" stroke-width=\"3.2\"/>\n",
       "<circle clip-path=\"url(#clip262)\" cx=\"1600.19\" cy=\"1438.75\" r=\"14.4\" fill=\"#009af9\" fill-rule=\"evenodd\" fill-opacity=\"1\" stroke=\"#000000\" stroke-opacity=\"1\" stroke-width=\"3.2\"/>\n",
       "<circle clip-path=\"url(#clip262)\" cx=\"1610.37\" cy=\"1425.11\" r=\"14.4\" fill=\"#009af9\" fill-rule=\"evenodd\" fill-opacity=\"1\" stroke=\"#000000\" stroke-opacity=\"1\" stroke-width=\"3.2\"/>\n",
       "<circle clip-path=\"url(#clip262)\" cx=\"1620.55\" cy=\"1245.58\" r=\"14.4\" fill=\"#009af9\" fill-rule=\"evenodd\" fill-opacity=\"1\" stroke=\"#000000\" stroke-opacity=\"1\" stroke-width=\"3.2\"/>\n",
       "<circle clip-path=\"url(#clip262)\" cx=\"1630.73\" cy=\"158.529\" r=\"14.4\" fill=\"#009af9\" fill-rule=\"evenodd\" fill-opacity=\"1\" stroke=\"#000000\" stroke-opacity=\"1\" stroke-width=\"3.2\"/>\n",
       "<circle clip-path=\"url(#clip262)\" cx=\"1640.91\" cy=\"100.629\" r=\"14.4\" fill=\"#009af9\" fill-rule=\"evenodd\" fill-opacity=\"1\" stroke=\"#000000\" stroke-opacity=\"1\" stroke-width=\"3.2\"/>\n",
       "<circle clip-path=\"url(#clip262)\" cx=\"1651.08\" cy=\"92.8602\" r=\"14.4\" fill=\"#009af9\" fill-rule=\"evenodd\" fill-opacity=\"1\" stroke=\"#000000\" stroke-opacity=\"1\" stroke-width=\"3.2\"/>\n",
       "<circle clip-path=\"url(#clip262)\" cx=\"1661.26\" cy=\"90.4876\" r=\"14.4\" fill=\"#009af9\" fill-rule=\"evenodd\" fill-opacity=\"1\" stroke=\"#000000\" stroke-opacity=\"1\" stroke-width=\"3.2\"/>\n",
       "<circle clip-path=\"url(#clip262)\" cx=\"1671.44\" cy=\"89.4736\" r=\"14.4\" fill=\"#009af9\" fill-rule=\"evenodd\" fill-opacity=\"1\" stroke=\"#000000\" stroke-opacity=\"1\" stroke-width=\"3.2\"/>\n",
       "<circle clip-path=\"url(#clip262)\" cx=\"1681.62\" cy=\"88.9528\" r=\"14.4\" fill=\"#009af9\" fill-rule=\"evenodd\" fill-opacity=\"1\" stroke=\"#000000\" stroke-opacity=\"1\" stroke-width=\"3.2\"/>\n",
       "<circle clip-path=\"url(#clip262)\" cx=\"1691.8\" cy=\"88.6525\" r=\"14.4\" fill=\"#009af9\" fill-rule=\"evenodd\" fill-opacity=\"1\" stroke=\"#000000\" stroke-opacity=\"1\" stroke-width=\"3.2\"/>\n",
       "<circle clip-path=\"url(#clip262)\" cx=\"1701.97\" cy=\"88.465\" r=\"14.4\" fill=\"#009af9\" fill-rule=\"evenodd\" fill-opacity=\"1\" stroke=\"#000000\" stroke-opacity=\"1\" stroke-width=\"3.2\"/>\n",
       "<circle clip-path=\"url(#clip262)\" cx=\"1712.15\" cy=\"88.341\" r=\"14.4\" fill=\"#009af9\" fill-rule=\"evenodd\" fill-opacity=\"1\" stroke=\"#000000\" stroke-opacity=\"1\" stroke-width=\"3.2\"/>\n",
       "<circle clip-path=\"url(#clip262)\" cx=\"1722.33\" cy=\"88.2553\" r=\"14.4\" fill=\"#009af9\" fill-rule=\"evenodd\" fill-opacity=\"1\" stroke=\"#000000\" stroke-opacity=\"1\" stroke-width=\"3.2\"/>\n",
       "<circle clip-path=\"url(#clip262)\" cx=\"1732.51\" cy=\"88.1941\" r=\"14.4\" fill=\"#009af9\" fill-rule=\"evenodd\" fill-opacity=\"1\" stroke=\"#000000\" stroke-opacity=\"1\" stroke-width=\"3.2\"/>\n",
       "<circle clip-path=\"url(#clip262)\" cx=\"1742.69\" cy=\"88.1491\" r=\"14.4\" fill=\"#009af9\" fill-rule=\"evenodd\" fill-opacity=\"1\" stroke=\"#000000\" stroke-opacity=\"1\" stroke-width=\"3.2\"/>\n",
       "<circle clip-path=\"url(#clip262)\" cx=\"1752.86\" cy=\"88.1154\" r=\"14.4\" fill=\"#009af9\" fill-rule=\"evenodd\" fill-opacity=\"1\" stroke=\"#000000\" stroke-opacity=\"1\" stroke-width=\"3.2\"/>\n",
       "<circle clip-path=\"url(#clip262)\" cx=\"1763.04\" cy=\"88.0898\" r=\"14.4\" fill=\"#009af9\" fill-rule=\"evenodd\" fill-opacity=\"1\" stroke=\"#000000\" stroke-opacity=\"1\" stroke-width=\"3.2\"/>\n",
       "<circle clip-path=\"url(#clip262)\" cx=\"1773.22\" cy=\"88.07\" r=\"14.4\" fill=\"#009af9\" fill-rule=\"evenodd\" fill-opacity=\"1\" stroke=\"#000000\" stroke-opacity=\"1\" stroke-width=\"3.2\"/>\n",
       "<circle clip-path=\"url(#clip262)\" cx=\"1783.4\" cy=\"88.0546\" r=\"14.4\" fill=\"#009af9\" fill-rule=\"evenodd\" fill-opacity=\"1\" stroke=\"#000000\" stroke-opacity=\"1\" stroke-width=\"3.2\"/>\n",
       "<circle clip-path=\"url(#clip262)\" cx=\"1793.58\" cy=\"88.0425\" r=\"14.4\" fill=\"#009af9\" fill-rule=\"evenodd\" fill-opacity=\"1\" stroke=\"#000000\" stroke-opacity=\"1\" stroke-width=\"3.2\"/>\n",
       "<circle clip-path=\"url(#clip262)\" cx=\"1803.75\" cy=\"88.033\" r=\"14.4\" fill=\"#009af9\" fill-rule=\"evenodd\" fill-opacity=\"1\" stroke=\"#000000\" stroke-opacity=\"1\" stroke-width=\"3.2\"/>\n",
       "<circle clip-path=\"url(#clip262)\" cx=\"1813.93\" cy=\"88.0256\" r=\"14.4\" fill=\"#009af9\" fill-rule=\"evenodd\" fill-opacity=\"1\" stroke=\"#000000\" stroke-opacity=\"1\" stroke-width=\"3.2\"/>\n",
       "<circle clip-path=\"url(#clip262)\" cx=\"1824.11\" cy=\"88.0199\" r=\"14.4\" fill=\"#009af9\" fill-rule=\"evenodd\" fill-opacity=\"1\" stroke=\"#000000\" stroke-opacity=\"1\" stroke-width=\"3.2\"/>\n",
       "<circle clip-path=\"url(#clip262)\" cx=\"1834.29\" cy=\"88.0155\" r=\"14.4\" fill=\"#009af9\" fill-rule=\"evenodd\" fill-opacity=\"1\" stroke=\"#000000\" stroke-opacity=\"1\" stroke-width=\"3.2\"/>\n",
       "<circle clip-path=\"url(#clip262)\" cx=\"1844.47\" cy=\"88.0123\" r=\"14.4\" fill=\"#009af9\" fill-rule=\"evenodd\" fill-opacity=\"1\" stroke=\"#000000\" stroke-opacity=\"1\" stroke-width=\"3.2\"/>\n",
       "<circle clip-path=\"url(#clip262)\" cx=\"1854.64\" cy=\"88.0102\" r=\"14.4\" fill=\"#009af9\" fill-rule=\"evenodd\" fill-opacity=\"1\" stroke=\"#000000\" stroke-opacity=\"1\" stroke-width=\"3.2\"/>\n",
       "<circle clip-path=\"url(#clip262)\" cx=\"1864.82\" cy=\"88.009\" r=\"14.4\" fill=\"#009af9\" fill-rule=\"evenodd\" fill-opacity=\"1\" stroke=\"#000000\" stroke-opacity=\"1\" stroke-width=\"3.2\"/>\n",
       "<circle clip-path=\"url(#clip262)\" cx=\"1875\" cy=\"88.0088\" r=\"14.4\" fill=\"#009af9\" fill-rule=\"evenodd\" fill-opacity=\"1\" stroke=\"#000000\" stroke-opacity=\"1\" stroke-width=\"3.2\"/>\n",
       "<circle clip-path=\"url(#clip262)\" cx=\"1885.18\" cy=\"88.0095\" r=\"14.4\" fill=\"#009af9\" fill-rule=\"evenodd\" fill-opacity=\"1\" stroke=\"#000000\" stroke-opacity=\"1\" stroke-width=\"3.2\"/>\n",
       "<circle clip-path=\"url(#clip262)\" cx=\"1895.36\" cy=\"88.0114\" r=\"14.4\" fill=\"#009af9\" fill-rule=\"evenodd\" fill-opacity=\"1\" stroke=\"#000000\" stroke-opacity=\"1\" stroke-width=\"3.2\"/>\n",
       "<circle clip-path=\"url(#clip262)\" cx=\"1905.53\" cy=\"88.0145\" r=\"14.4\" fill=\"#009af9\" fill-rule=\"evenodd\" fill-opacity=\"1\" stroke=\"#000000\" stroke-opacity=\"1\" stroke-width=\"3.2\"/>\n",
       "<circle clip-path=\"url(#clip262)\" cx=\"1915.71\" cy=\"88.0192\" r=\"14.4\" fill=\"#009af9\" fill-rule=\"evenodd\" fill-opacity=\"1\" stroke=\"#000000\" stroke-opacity=\"1\" stroke-width=\"3.2\"/>\n",
       "<circle clip-path=\"url(#clip262)\" cx=\"1925.89\" cy=\"88.026\" r=\"14.4\" fill=\"#009af9\" fill-rule=\"evenodd\" fill-opacity=\"1\" stroke=\"#000000\" stroke-opacity=\"1\" stroke-width=\"3.2\"/>\n",
       "<circle clip-path=\"url(#clip262)\" cx=\"1936.07\" cy=\"88.0356\" r=\"14.4\" fill=\"#009af9\" fill-rule=\"evenodd\" fill-opacity=\"1\" stroke=\"#000000\" stroke-opacity=\"1\" stroke-width=\"3.2\"/>\n",
       "<circle clip-path=\"url(#clip262)\" cx=\"1946.25\" cy=\"88.0492\" r=\"14.4\" fill=\"#009af9\" fill-rule=\"evenodd\" fill-opacity=\"1\" stroke=\"#000000\" stroke-opacity=\"1\" stroke-width=\"3.2\"/>\n",
       "<circle clip-path=\"url(#clip262)\" cx=\"1956.42\" cy=\"88.0688\" r=\"14.4\" fill=\"#009af9\" fill-rule=\"evenodd\" fill-opacity=\"1\" stroke=\"#000000\" stroke-opacity=\"1\" stroke-width=\"3.2\"/>\n",
       "<circle clip-path=\"url(#clip262)\" cx=\"1966.6\" cy=\"88.0976\" r=\"14.4\" fill=\"#009af9\" fill-rule=\"evenodd\" fill-opacity=\"1\" stroke=\"#000000\" stroke-opacity=\"1\" stroke-width=\"3.2\"/>\n",
       "<circle clip-path=\"url(#clip262)\" cx=\"1976.78\" cy=\"88.1418\" r=\"14.4\" fill=\"#009af9\" fill-rule=\"evenodd\" fill-opacity=\"1\" stroke=\"#000000\" stroke-opacity=\"1\" stroke-width=\"3.2\"/>\n",
       "<circle clip-path=\"url(#clip262)\" cx=\"1986.96\" cy=\"88.2131\" r=\"14.4\" fill=\"#009af9\" fill-rule=\"evenodd\" fill-opacity=\"1\" stroke=\"#000000\" stroke-opacity=\"1\" stroke-width=\"3.2\"/>\n",
       "<circle clip-path=\"url(#clip262)\" cx=\"1997.14\" cy=\"88.3378\" r=\"14.4\" fill=\"#009af9\" fill-rule=\"evenodd\" fill-opacity=\"1\" stroke=\"#000000\" stroke-opacity=\"1\" stroke-width=\"3.2\"/>\n",
       "<circle clip-path=\"url(#clip262)\" cx=\"2007.31\" cy=\"88.5834\" r=\"14.4\" fill=\"#009af9\" fill-rule=\"evenodd\" fill-opacity=\"1\" stroke=\"#000000\" stroke-opacity=\"1\" stroke-width=\"3.2\"/>\n",
       "<circle clip-path=\"url(#clip262)\" cx=\"2017.49\" cy=\"89.1719\" r=\"14.4\" fill=\"#009af9\" fill-rule=\"evenodd\" fill-opacity=\"1\" stroke=\"#000000\" stroke-opacity=\"1\" stroke-width=\"3.2\"/>\n",
       "<circle clip-path=\"url(#clip262)\" cx=\"2027.67\" cy=\"91.2334\" r=\"14.4\" fill=\"#009af9\" fill-rule=\"evenodd\" fill-opacity=\"1\" stroke=\"#000000\" stroke-opacity=\"1\" stroke-width=\"3.2\"/>\n",
       "<circle clip-path=\"url(#clip262)\" cx=\"2037.85\" cy=\"113.128\" r=\"14.4\" fill=\"#009af9\" fill-rule=\"evenodd\" fill-opacity=\"1\" stroke=\"#000000\" stroke-opacity=\"1\" stroke-width=\"3.2\"/>\n",
       "<circle clip-path=\"url(#clip262)\" cx=\"2048.03\" cy=\"1413.91\" r=\"14.4\" fill=\"#009af9\" fill-rule=\"evenodd\" fill-opacity=\"1\" stroke=\"#000000\" stroke-opacity=\"1\" stroke-width=\"3.2\"/>\n",
       "<circle clip-path=\"url(#clip262)\" cx=\"2058.2\" cy=\"1442.57\" r=\"14.4\" fill=\"#009af9\" fill-rule=\"evenodd\" fill-opacity=\"1\" stroke=\"#000000\" stroke-opacity=\"1\" stroke-width=\"3.2\"/>\n",
       "<circle clip-path=\"url(#clip262)\" cx=\"2068.38\" cy=\"1444.72\" r=\"14.4\" fill=\"#009af9\" fill-rule=\"evenodd\" fill-opacity=\"1\" stroke=\"#000000\" stroke-opacity=\"1\" stroke-width=\"3.2\"/>\n",
       "<circle clip-path=\"url(#clip262)\" cx=\"2078.56\" cy=\"1445.27\" r=\"14.4\" fill=\"#009af9\" fill-rule=\"evenodd\" fill-opacity=\"1\" stroke=\"#000000\" stroke-opacity=\"1\" stroke-width=\"3.2\"/>\n",
       "<circle clip-path=\"url(#clip262)\" cx=\"2088.74\" cy=\"1445.49\" r=\"14.4\" fill=\"#009af9\" fill-rule=\"evenodd\" fill-opacity=\"1\" stroke=\"#000000\" stroke-opacity=\"1\" stroke-width=\"3.2\"/>\n",
       "<circle clip-path=\"url(#clip262)\" cx=\"2098.92\" cy=\"1445.59\" r=\"14.4\" fill=\"#009af9\" fill-rule=\"evenodd\" fill-opacity=\"1\" stroke=\"#000000\" stroke-opacity=\"1\" stroke-width=\"3.2\"/>\n",
       "<circle clip-path=\"url(#clip262)\" cx=\"2109.09\" cy=\"1445.64\" r=\"14.4\" fill=\"#009af9\" fill-rule=\"evenodd\" fill-opacity=\"1\" stroke=\"#000000\" stroke-opacity=\"1\" stroke-width=\"3.2\"/>\n",
       "<circle clip-path=\"url(#clip262)\" cx=\"2119.27\" cy=\"1445.67\" r=\"14.4\" fill=\"#009af9\" fill-rule=\"evenodd\" fill-opacity=\"1\" stroke=\"#000000\" stroke-opacity=\"1\" stroke-width=\"3.2\"/>\n",
       "<circle clip-path=\"url(#clip262)\" cx=\"2129.45\" cy=\"1445.69\" r=\"14.4\" fill=\"#009af9\" fill-rule=\"evenodd\" fill-opacity=\"1\" stroke=\"#000000\" stroke-opacity=\"1\" stroke-width=\"3.2\"/>\n",
       "<circle clip-path=\"url(#clip262)\" cx=\"2139.63\" cy=\"1445.69\" r=\"14.4\" fill=\"#009af9\" fill-rule=\"evenodd\" fill-opacity=\"1\" stroke=\"#000000\" stroke-opacity=\"1\" stroke-width=\"3.2\"/>\n",
       "<circle clip-path=\"url(#clip262)\" cx=\"2149.81\" cy=\"1445.69\" r=\"14.4\" fill=\"#009af9\" fill-rule=\"evenodd\" fill-opacity=\"1\" stroke=\"#000000\" stroke-opacity=\"1\" stroke-width=\"3.2\"/>\n",
       "<circle clip-path=\"url(#clip262)\" cx=\"2159.98\" cy=\"1445.69\" r=\"14.4\" fill=\"#009af9\" fill-rule=\"evenodd\" fill-opacity=\"1\" stroke=\"#000000\" stroke-opacity=\"1\" stroke-width=\"3.2\"/>\n",
       "<circle clip-path=\"url(#clip262)\" cx=\"2170.16\" cy=\"1445.67\" r=\"14.4\" fill=\"#009af9\" fill-rule=\"evenodd\" fill-opacity=\"1\" stroke=\"#000000\" stroke-opacity=\"1\" stroke-width=\"3.2\"/>\n",
       "<circle clip-path=\"url(#clip262)\" cx=\"2180.34\" cy=\"1445.63\" r=\"14.4\" fill=\"#009af9\" fill-rule=\"evenodd\" fill-opacity=\"1\" stroke=\"#000000\" stroke-opacity=\"1\" stroke-width=\"3.2\"/>\n",
       "<circle clip-path=\"url(#clip262)\" cx=\"2190.52\" cy=\"1445.5\" r=\"14.4\" fill=\"#009af9\" fill-rule=\"evenodd\" fill-opacity=\"1\" stroke=\"#000000\" stroke-opacity=\"1\" stroke-width=\"3.2\"/>\n",
       "<circle clip-path=\"url(#clip262)\" cx=\"2200.7\" cy=\"1444.89\" r=\"14.4\" fill=\"#009af9\" fill-rule=\"evenodd\" fill-opacity=\"1\" stroke=\"#000000\" stroke-opacity=\"1\" stroke-width=\"3.2\"/>\n",
       "<circle clip-path=\"url(#clip262)\" cx=\"2210.87\" cy=\"1381.49\" r=\"14.4\" fill=\"#009af9\" fill-rule=\"evenodd\" fill-opacity=\"1\" stroke=\"#000000\" stroke-opacity=\"1\" stroke-width=\"3.2\"/>\n",
       "<circle clip-path=\"url(#clip262)\" cx=\"2221.05\" cy=\"88.9824\" r=\"14.4\" fill=\"#009af9\" fill-rule=\"evenodd\" fill-opacity=\"1\" stroke=\"#000000\" stroke-opacity=\"1\" stroke-width=\"3.2\"/>\n",
       "<circle clip-path=\"url(#clip262)\" cx=\"2231.23\" cy=\"88.102\" r=\"14.4\" fill=\"#009af9\" fill-rule=\"evenodd\" fill-opacity=\"1\" stroke=\"#000000\" stroke-opacity=\"1\" stroke-width=\"3.2\"/>\n",
       "<circle clip-path=\"url(#clip262)\" cx=\"2241.41\" cy=\"87.9906\" r=\"14.4\" fill=\"#009af9\" fill-rule=\"evenodd\" fill-opacity=\"1\" stroke=\"#000000\" stroke-opacity=\"1\" stroke-width=\"3.2\"/>\n",
       "<circle clip-path=\"url(#clip262)\" cx=\"2251.59\" cy=\"87.9763\" r=\"14.4\" fill=\"#009af9\" fill-rule=\"evenodd\" fill-opacity=\"1\" stroke=\"#000000\" stroke-opacity=\"1\" stroke-width=\"3.2\"/>\n",
       "<circle clip-path=\"url(#clip262)\" cx=\"2261.76\" cy=\"88.057\" r=\"14.4\" fill=\"#009af9\" fill-rule=\"evenodd\" fill-opacity=\"1\" stroke=\"#000000\" stroke-opacity=\"1\" stroke-width=\"3.2\"/>\n",
       "<circle clip-path=\"url(#clip262)\" cx=\"2271.94\" cy=\"974.543\" r=\"14.4\" fill=\"#009af9\" fill-rule=\"evenodd\" fill-opacity=\"1\" stroke=\"#000000\" stroke-opacity=\"1\" stroke-width=\"3.2\"/>\n",
       "<circle clip-path=\"url(#clip262)\" cx=\"2282.12\" cy=\"1445.72\" r=\"14.4\" fill=\"#009af9\" fill-rule=\"evenodd\" fill-opacity=\"1\" stroke=\"#000000\" stroke-opacity=\"1\" stroke-width=\"3.2\"/>\n",
       "<circle clip-path=\"url(#clip262)\" cx=\"2292.3\" cy=\"257.772\" r=\"14.4\" fill=\"#009af9\" fill-rule=\"evenodd\" fill-opacity=\"1\" stroke=\"#000000\" stroke-opacity=\"1\" stroke-width=\"3.2\"/>\n",
       "<path clip-path=\"url(#clip260)\" d=\"M2015.5 198.898 L2281.55 198.898 L2281.55 95.2176 L2015.5 95.2176  Z\" fill=\"#ffffff\" fill-rule=\"evenodd\" fill-opacity=\"1\"/>\n",
       "<polyline clip-path=\"url(#clip260)\" style=\"stroke:#000000; stroke-linecap:round; stroke-linejoin:round; stroke-width:4; stroke-opacity:1; fill:none\" points=\"2015.5,198.898 2281.55,198.898 2281.55,95.2176 2015.5,95.2176 2015.5,198.898 \"/>\n",
       "<circle clip-path=\"url(#clip260)\" cx=\"2110.44\" cy=\"147.058\" r=\"23.04\" fill=\"#009af9\" fill-rule=\"evenodd\" fill-opacity=\"1\" stroke=\"#000000\" stroke-opacity=\"1\" stroke-width=\"5.12\"/>\n",
       "<path clip-path=\"url(#clip260)\" d=\"M2219.23 166.745 Q2217.42 171.375 2215.71 172.787 Q2214 174.199 2211.13 174.199 L2207.72 174.199 L2207.72 170.634 L2210.22 170.634 Q2211.98 170.634 2212.95 169.8 Q2213.93 168.967 2215.11 165.865 L2215.87 163.921 L2205.39 138.412 L2209.9 138.412 L2218 158.689 L2226.1 138.412 L2230.62 138.412 L2219.23 166.745 Z\" fill=\"#000000\" fill-rule=\"evenodd\" fill-opacity=\"1\" /><path clip-path=\"url(#clip260)\" d=\"M2237.91 160.402 L2245.55 160.402 L2245.55 134.037 L2237.24 135.703 L2237.24 131.444 L2245.5 129.778 L2250.18 129.778 L2250.18 160.402 L2257.82 160.402 L2257.82 164.338 L2237.91 164.338 L2237.91 160.402 Z\" fill=\"#000000\" fill-rule=\"evenodd\" fill-opacity=\"1\" /></svg>\n"
      ]
     },
     "execution_count": 45,
     "metadata": {},
     "output_type": "execute_result"
    }
   ],
   "source": [
    "x = 0.005:0.005:0.995\n",
    "scatter(x, f_maplog.(x; n=20000, r=3.0))"
   ]
  },
  {
   "cell_type": "markdown",
   "id": "36b63693",
   "metadata": {},
   "source": [
    "[7] Como vimos en el ejercicio anterior, algunos mapeos se pueden iterar para obtener la solución de la ecuación $f(x) = x$, que es un punto fijo de dicho mapeo. Esta propiedad se puede usar para generar un algoritmo que resuelva cualquier ecuación algebráica de la forma $f(x) = 0$. El truco para encontrar el mapeo adecuado consiste en aproximar la función $f$ al rededor de $x$ por su recta tangente. Encontrar la solución de la intersección de una recta con el eje $x$ es sencillo (y lo podemos hacer analíticamente), así que como una primera aproximación a la solución de $f(x) = 0$ obtenemos esa intersección, lo que nos acercará (normalmente) al valor de la solución real. El mapeo que obtiene la recta tangente a $f$ al rededor de $x$ y que después obtiene la intersección con el eje $x$ es el mapeo que buscamos. Iterando este mapeo, podemos llegar a un punto fijo $x_\\inf$ que es justamente una solución a $f(x) = 0$. Este es el algoritmo Newton-Raphson. \n",
    "\n",
    "Utiliza esta idea para hacer una función que obtenga la solución de la ecuación $f(x) = 0$, dado $f$, una adivinanza inicial $x = x_0$ y una tolerancia, prefijada en $0.001$. La tolerancia representa la distancia entre la solución a la ecuación y el valor obtenido. "
   ]
  },
  {
   "cell_type": "markdown",
   "id": "756aad10",
   "metadata": {},
   "source": [
    "________\n",
    "En este caso queremos que $rx(1-x)=x$ por lo que definimos la función $f$ tal que \n",
    "\n",
    "$$f(x)=rx(1-x) - x.$$"
   ]
  },
  {
   "cell_type": "code",
   "execution_count": 67,
   "id": "4ac922ad",
   "metadata": {},
   "outputs": [
    {
     "data": {
      "text/plain": [
       "false"
      ]
     },
     "execution_count": 67,
     "metadata": {},
     "output_type": "execute_result"
    }
   ],
   "source": [
    "1>1"
   ]
  },
  {
   "cell_type": "code",
   "execution_count": 85,
   "id": "c12ed08d",
   "metadata": {},
   "outputs": [
    {
     "data": {
      "text/plain": [
       "newton_raphson (generic function with 1 method)"
      ]
     },
     "execution_count": 85,
     "metadata": {},
     "output_type": "execute_result"
    }
   ],
   "source": [
    "function newton_raphson(f, x_0; tol=0.001, _args=nothing)\n",
    "    dx = 1\n",
    "    if _args != nothing\n",
    "        f1 = x -> f(x; n=_args[1], r=_args[2]) - x\n",
    "    else\n",
    "        f1 = x -> f(x) - x\n",
    "    end\n",
    "    while abs(dx) > tol \n",
    "        x = dual(x_0, 1)\n",
    "        dx = f1(x_0)/diff_dual(f1(x))\n",
    "#         println(\"x_0 = \",round(x_0, sigdigits=3), \",\\t dx = \",round(dx, sigdigits=5))\n",
    "        x_0 -= dx\n",
    "    end\n",
    "    x_0\n",
    "end"
   ]
  },
  {
   "cell_type": "code",
   "execution_count": 95,
   "id": "41fd9a63",
   "metadata": {},
   "outputs": [
    {
     "data": {
      "text/plain": [
       "0.004948785582106851"
      ]
     },
     "execution_count": 95,
     "metadata": {},
     "output_type": "execute_result"
    }
   ],
   "source": [
    "x_0 = 0.09; \n",
    "_args = [2, 1];  # n, r\n",
    "newton_raphson(f_maplog, x_0; tol=10e-3, _args=_args)"
   ]
  },
  {
   "cell_type": "markdown",
   "id": "13bbe13b",
   "metadata": {},
   "source": [
    "[8] Generaliza la función anterior para que tu solucionador pueda resolver sistemas de ecuaciones algebráicas no lineales.  "
   ]
  },
  {
   "cell_type": "code",
   "execution_count": 49,
   "id": "065962c7",
   "metadata": {},
   "outputs": [
    {
     "data": {
      "text/plain": [
       "g (generic function with 1 method)"
      ]
     },
     "execution_count": 49,
     "metadata": {},
     "output_type": "execute_result"
    }
   ],
   "source": [
    "g(x) = x ^2 \n",
    "# newton_raphson(g, 10; tol=0.0001)"
   ]
  },
  {
   "cell_type": "markdown",
   "id": "9aed985c",
   "metadata": {},
   "source": []
  }
 ],
 "metadata": {
  "kernelspec": {
   "display_name": "Julia 1.8.5",
   "language": "julia",
   "name": "julia-1.8"
  },
  "language_info": {
   "file_extension": ".jl",
   "mimetype": "application/julia",
   "name": "julia",
   "version": "1.8.5"
  },
  "latex_envs": {
   "LaTeX_envs_menu_present": true,
   "autoclose": false,
   "autocomplete": false,
   "bibliofile": "biblio.bib",
   "cite_by": "apalike",
   "current_citInitial": 1,
   "eqLabelWithNumbers": true,
   "eqNumInitial": 1,
   "hotkeys": {
    "equation": "Ctrl-E",
    "itemize": "Ctrl-I"
   },
   "labels_anchors": false,
   "latex_user_defs": false,
   "report_style_numbering": true,
   "user_envs_cfg": true
  },
  "varInspector": {
   "cols": {
    "lenName": 16,
    "lenType": 16,
    "lenVar": 40
   },
   "kernels_config": {
    "python": {
     "delete_cmd_postfix": "",
     "delete_cmd_prefix": "del ",
     "library": "var_list.py",
     "varRefreshCmd": "print(var_dic_list())"
    },
    "r": {
     "delete_cmd_postfix": ") ",
     "delete_cmd_prefix": "rm(",
     "library": "var_list.r",
     "varRefreshCmd": "cat(var_dic_list()) "
    }
   },
   "types_to_exclude": [
    "module",
    "function",
    "builtin_function_or_method",
    "instance",
    "_Feature"
   ],
   "window_display": false
  }
 },
 "nbformat": 4,
 "nbformat_minor": 5
}
