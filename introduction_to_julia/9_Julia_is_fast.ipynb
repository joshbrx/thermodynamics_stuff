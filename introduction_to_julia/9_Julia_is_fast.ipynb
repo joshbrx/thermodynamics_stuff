{
 "cells": [
  {
   "cell_type": "markdown",
   "id": "b0d2d02a",
   "metadata": {},
   "source": [
    "# Julia is fast"
   ]
  },
  {
   "cell_type": "markdown",
   "id": "5bf62335",
   "metadata": {},
   "source": [
    "Very often, benchmarks are used to compare languages. These benchmarks can lead to long discussions, first as to exactly what is being benchmarked and secondly what explains the differences. These simple questions can sometimes get more complicated than you at first might imagine.\n",
    "\n",
    "The purpose of this notebook is for you to see a simple benchmark for yourself. One can read the notebook and see what happened on the author's Macbook Pro with a 4-core Intel Core I7, or run the notebook yourself.\n",
    "\n",
    "(This material began life as a wonderful lecture by Steven Johnson at MIT: https://github.com/stevengj/18S096/blob/master/lectures/lecture1/Boxes-and-registers.ipynb.)\n",
    "\n",
    "## Outline of this notebook\n",
    "1. Define the sum function\n",
    "2. Implementations & benchmarking of sum in...\n",
    "    - C (hand-written)\n",
    "    - C (hand-written with -ffast-math)\n",
    "    - python (built-in)\n",
    "    - python (numpy)\n",
    "    - python (hand-written)\n",
    "    - Julia (built-in)\n",
    "    - Julia (hand-written)\n",
    "    - Julia (hand-written with SIMD)\n",
    "3. Summary of benchmarks\n",
    "\n",
    "---------"
   ]
  },
  {
   "cell_type": "markdown",
   "id": "fa8bc05d",
   "metadata": {},
   "source": [
    "## ``sum``: An easy enough function to understand\n",
    "Consider the sum function ``sum(a)``, which computes\n",
    "\n",
    "\\begin{align}\n",
    "\\text{sum}(a) = \\sum_{i=1}^{n} a_i\n",
    "\\end{align}\n",
    "\n",
    "where $n$ is the length of ``a``."
   ]
  },
  {
   "cell_type": "code",
   "execution_count": 1,
   "id": "5c801489",
   "metadata": {},
   "outputs": [
    {
     "data": {
      "text/plain": [
       "10000000-element Vector{Float64}:\n",
       " 0.8480230254780928\n",
       " 0.7494819452021777\n",
       " 0.9871116429048478\n",
       " 0.02713219249974297\n",
       " 0.3089717648531326\n",
       " 0.00031268753634361435\n",
       " 0.17935912519018504\n",
       " 0.8097015461946862\n",
       " 0.5865204552607233\n",
       " 0.6465751470261549\n",
       " 0.66289009313373\n",
       " 0.09943835033173909\n",
       " 0.3367208520900331\n",
       " ⋮\n",
       " 0.6983292789701314\n",
       " 0.6510544565777115\n",
       " 0.9590308417862617\n",
       " 0.5442499294052464\n",
       " 0.07425524191109356\n",
       " 0.38117695374183136\n",
       " 0.7851617024914284\n",
       " 0.26688096960805696\n",
       " 0.16552942929494896\n",
       " 0.2129604917088963\n",
       " 0.9870863450731623\n",
       " 0.16115524216476074"
      ]
     },
     "execution_count": 1,
     "metadata": {},
     "output_type": "execute_result"
    }
   ],
   "source": [
    "a = rand(10^7) # 1D vector of random numbers, uniform on [0,1)"
   ]
  },
  {
   "cell_type": "code",
   "execution_count": 2,
   "id": "9989a1b6",
   "metadata": {},
   "outputs": [
    {
     "data": {
      "text/plain": [
       "5.000021249925878e6"
      ]
     },
     "execution_count": 2,
     "metadata": {},
     "output_type": "execute_result"
    }
   ],
   "source": [
    "sum(a)"
   ]
  },
  {
   "cell_type": "markdown",
   "id": "6af10c1e",
   "metadata": {},
   "source": [
    "The expected result is $0.5 \\times 10^7$, since the mean of each entry is $0.5$"
   ]
  },
  {
   "cell_type": "markdown",
   "id": "5fe2eae4",
   "metadata": {},
   "source": [
    "## Benchmarking a few ways in a few languages"
   ]
  },
  {
   "cell_type": "code",
   "execution_count": null,
   "id": "4e14c533",
   "metadata": {},
   "outputs": [],
   "source": []
  }
 ],
 "metadata": {
  "kernelspec": {
   "display_name": "Julia 1.8.5",
   "language": "julia",
   "name": "julia-1.8"
  },
  "language_info": {
   "file_extension": ".jl",
   "mimetype": "application/julia",
   "name": "julia",
   "version": "1.8.5"
  },
  "latex_envs": {
   "LaTeX_envs_menu_present": true,
   "autoclose": false,
   "autocomplete": false,
   "bibliofile": "biblio.bib",
   "cite_by": "apalike",
   "current_citInitial": 1,
   "eqLabelWithNumbers": true,
   "eqNumInitial": 1,
   "hotkeys": {
    "equation": "Ctrl-E",
    "itemize": "Ctrl-I"
   },
   "labels_anchors": false,
   "latex_user_defs": false,
   "report_style_numbering": true,
   "user_envs_cfg": true
  },
  "varInspector": {
   "cols": {
    "lenName": 16,
    "lenType": 16,
    "lenVar": 40
   },
   "kernels_config": {
    "python": {
     "delete_cmd_postfix": "",
     "delete_cmd_prefix": "del ",
     "library": "var_list.py",
     "varRefreshCmd": "print(var_dic_list())"
    },
    "r": {
     "delete_cmd_postfix": ") ",
     "delete_cmd_prefix": "rm(",
     "library": "var_list.r",
     "varRefreshCmd": "cat(var_dic_list()) "
    }
   },
   "types_to_exclude": [
    "module",
    "function",
    "builtin_function_or_method",
    "instance",
    "_Feature"
   ],
   "window_display": false
  }
 },
 "nbformat": 4,
 "nbformat_minor": 5
}
