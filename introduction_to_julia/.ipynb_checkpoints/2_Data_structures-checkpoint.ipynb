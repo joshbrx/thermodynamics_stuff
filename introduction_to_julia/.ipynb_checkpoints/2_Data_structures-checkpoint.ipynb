{
 "cells": [
  {
   "cell_type": "markdown",
   "id": "434113ea",
   "metadata": {},
   "source": [
    "# Data Structures in Julia language\n",
    "\n",
    "Once we start working with many pieces of data at once, it will be convenient for us to store data in structures like arrays or dictionaries (rather than just relying on variables).\n",
    "\n",
    "Topics covered in this notebook:\n",
    "1. Tuples\n",
    "2. Dictionaries\n",
    "3. Arrays\n",
    "\n",
    "- Some exercises\n",
    "\n",
    "As an overview, tuples and arrays are both ordered sequences of elements (so we can index into them). Dictionaries and arrays are both mutable. We'll explain this more below!\n",
    "\n",
    "------"
   ]
  },
  {
   "cell_type": "markdown",
   "id": "0dfe8734",
   "metadata": {},
   "source": [
    "## Tuples\n",
    "To create a tuple, you can use ``()`` to enclose the ordered data.\n",
    "\n",
    "```julia\n",
    "Sintax: \n",
    "    (item1, item2, ...)\n",
    "```"
   ]
  },
  {
   "cell_type": "code",
   "execution_count": 3,
   "id": "1c792713",
   "metadata": {},
   "outputs": [
    {
     "data": {
      "text/plain": [
       "(\"chickens\", \"squirrels\", \"teporingos\", \"dogs\", \"cats\")"
      ]
     },
     "execution_count": 3,
     "metadata": {},
     "output_type": "execute_result"
    }
   ],
   "source": [
    "top_five_animals = (\"chickens\", \"squirrels\", \"teporingos\", \"dogs\", \"cats\")"
   ]
  },
  {
   "cell_type": "markdown",
   "id": "6df37a71",
   "metadata": {},
   "source": [
    "We can index into this tuple (remember Julia starts everything with 1)"
   ]
  },
  {
   "cell_type": "code",
   "execution_count": 7,
   "id": "c5b6c830",
   "metadata": {},
   "outputs": [
    {
     "data": {
      "text/plain": [
       "\"chickens\""
      ]
     },
     "execution_count": 7,
     "metadata": {},
     "output_type": "execute_result"
    }
   ],
   "source": [
    "top_five_animals[1]"
   ]
  },
  {
   "cell_type": "markdown",
   "id": "c9277a5d",
   "metadata": {},
   "source": [
    "but since tuples are immutable, we can't update it"
   ]
  },
  {
   "cell_type": "code",
   "execution_count": 5,
   "id": "7c3560a3",
   "metadata": {},
   "outputs": [
    {
     "ename": "LoadError",
     "evalue": "MethodError: no method matching setindex!(::NTuple{5, String}, ::String, ::Int64)",
     "output_type": "error",
     "traceback": [
      "MethodError: no method matching setindex!(::NTuple{5, String}, ::String, ::Int64)",
      "",
      "Stacktrace:",
      " [1] top-level scope",
      "   @ In[5]:1"
     ]
    }
   ],
   "source": [
    "top_five_animals[1] = \"pidgeon\""
   ]
  },
  {
   "cell_type": "markdown",
   "id": "41838711",
   "metadata": {},
   "source": [
    "### Named tuples\n",
    "As you might guess, ``NamedTuples`` are just like Tuples except that each element additionally has a name! They have a special syntax using ``=`` inside a tuple:\n",
    "\n",
    "```julia\n",
    "Sintax:\n",
    "    (name1 = item1, name2 = item2, ...)\n",
    "```"
   ]
  },
  {
   "cell_type": "code",
   "execution_count": 8,
   "id": "6aa38a6d",
   "metadata": {},
   "outputs": [
    {
     "data": {
      "text/plain": [
       "(bird = \"chickens\", mammal = \"squirrels\", feline = \"cats\")"
      ]
     },
     "execution_count": 8,
     "metadata": {},
     "output_type": "execute_result"
    }
   ],
   "source": [
    "super_animals = (bird=\"chickens\", mammal=\"squirrels\", feline=\"cats\")"
   ]
  },
  {
   "cell_type": "markdown",
   "id": "d386ea1c",
   "metadata": {},
   "source": [
    "Like regular Tuples, ``NamedTuples`` are ordered, so we can retrieve their elements via indexing:"
   ]
  },
  {
   "cell_type": "code",
   "execution_count": 10,
   "id": "96be54b5",
   "metadata": {},
   "outputs": [
    {
     "data": {
      "text/plain": [
       "\"cats\""
      ]
     },
     "execution_count": 10,
     "metadata": {},
     "output_type": "execute_result"
    }
   ],
   "source": [
    "super_animals[3]"
   ]
  },
  {
   "cell_type": "markdown",
   "id": "9dee3005",
   "metadata": {},
   "source": [
    "They also add the special ability to access values by their name:"
   ]
  },
  {
   "cell_type": "code",
   "execution_count": 12,
   "id": "03e30b20",
   "metadata": {},
   "outputs": [
    {
     "data": {
      "text/plain": [
       "\"cats\""
      ]
     },
     "execution_count": 12,
     "metadata": {},
     "output_type": "execute_result"
    }
   ],
   "source": [
    "super_animals.feline"
   ]
  },
  {
   "cell_type": "markdown",
   "id": "ec47acc1",
   "metadata": {},
   "source": [
    "## Dictionaries\n",
    "If we have sets of data related to one another, we may choose to store that data in a dictionary. We can create a dictionary using the ``Dict()`` function, which we can initialize as an empty dictionary or one storing key, value pairs.\n",
    "\n",
    "```julia\n",
    "Syntax:\n",
    "    Dict(key1 => value1, key2 => value2, ...)\n",
    "```\n",
    "A good example is a contacts list, where we associate names with phone numbers."
   ]
  },
  {
   "cell_type": "code",
   "execution_count": 13,
   "id": "493271e8",
   "metadata": {},
   "outputs": [
    {
     "data": {
      "text/plain": [
       "Dict{String, String} with 2 entries:\n",
       "  \"AMLO\"     => \"555-2368\"\n",
       "  \"El tommy\" => \"867-5309\""
      ]
     },
     "execution_count": 13,
     "metadata": {},
     "output_type": "execute_result"
    }
   ],
   "source": [
    "myphonebook = Dict(\"El tommy\" => \"867-5309\", \"AMLO\" => \"555-2368\")"
   ]
  },
  {
   "cell_type": "markdown",
   "id": "fc2f242a",
   "metadata": {},
   "source": [
    "In this example, each name and number is a \"key\" and \"value\" pair. We can grab Jenny's number (a value) using the associated key"
   ]
  },
  {
   "cell_type": "code",
   "execution_count": 14,
   "id": "4e414cc2",
   "metadata": {},
   "outputs": [
    {
     "data": {
      "text/plain": [
       "\"555-2368\""
      ]
     },
     "execution_count": 14,
     "metadata": {},
     "output_type": "execute_result"
    }
   ],
   "source": [
    "myphonebook[\"AMLO\"]"
   ]
  },
  {
   "cell_type": "markdown",
   "id": "ada096ac",
   "metadata": {},
   "source": [
    "We can add another entry to this dictionary as follows"
   ]
  },
  {
   "cell_type": "code",
   "execution_count": 15,
   "id": "43dfb15e",
   "metadata": {},
   "outputs": [
    {
     "data": {
      "text/plain": [
       "\"555-GOKU\""
      ]
     },
     "execution_count": 15,
     "metadata": {},
     "output_type": "execute_result"
    }
   ],
   "source": [
    "myphonebook[\"Goku\"] = \"555-GOKU\""
   ]
  },
  {
   "cell_type": "markdown",
   "id": "7888ed5f",
   "metadata": {},
   "source": [
    "Let's check what our phonebook looks like now..."
   ]
  },
  {
   "cell_type": "code",
   "execution_count": 16,
   "id": "50613957",
   "metadata": {},
   "outputs": [
    {
     "data": {
      "text/plain": [
       "Dict{String, String} with 3 entries:\n",
       "  \"AMLO\"     => \"555-2368\"\n",
       "  \"Goku\"     => \"555-GOKU\"\n",
       "  \"El tommy\" => \"867-5309\""
      ]
     },
     "execution_count": 16,
     "metadata": {},
     "output_type": "execute_result"
    }
   ],
   "source": [
    "myphonebook"
   ]
  },
  {
   "cell_type": "markdown",
   "id": "2d6a587a",
   "metadata": {},
   "source": [
    "We can delete \"El tommy\" from our contact list - and simultaneously grab his number - by using ``pop!``"
   ]
  },
  {
   "cell_type": "code",
   "execution_count": 18,
   "id": "4d180e21",
   "metadata": {},
   "outputs": [
    {
     "data": {
      "text/plain": [
       "\"867-5309\""
      ]
     },
     "execution_count": 18,
     "metadata": {},
     "output_type": "execute_result"
    }
   ],
   "source": [
    "pop!(myphonebook, \"El tommy\")"
   ]
  },
  {
   "cell_type": "code",
   "execution_count": 19,
   "id": "34ab27fc",
   "metadata": {},
   "outputs": [
    {
     "data": {
      "text/plain": [
       "Dict{String, String} with 2 entries:\n",
       "  \"AMLO\" => \"555-2368\"\n",
       "  \"Goku\" => \"555-GOKU\""
      ]
     },
     "execution_count": 19,
     "metadata": {},
     "output_type": "execute_result"
    }
   ],
   "source": [
    "myphonebook"
   ]
  },
  {
   "cell_type": "markdown",
   "id": "c0f17e76",
   "metadata": {},
   "source": [
    "Unlike tuples and arrays, dictionaries are not ordered. So, we can't index into them."
   ]
  },
  {
   "cell_type": "code",
   "execution_count": 22,
   "id": "fdea3914",
   "metadata": {},
   "outputs": [
    {
     "ename": "LoadError",
     "evalue": "KeyError: key 1 not found",
     "output_type": "error",
     "traceback": [
      "KeyError: key 1 not found",
      "",
      "Stacktrace:",
      " [1] getindex(h::Dict{String, String}, key::Int64)",
      "   @ Base .\\dict.jl:498",
      " [2] top-level scope",
      "   @ In[22]:1"
     ]
    }
   ],
   "source": [
    "myphonebook[1]"
   ]
  },
  {
   "cell_type": "markdown",
   "id": "f366a7ed",
   "metadata": {},
   "source": [
    "In the example above, ``julia`` thinks you're trying to access a value associated with the key 1."
   ]
  },
  {
   "cell_type": "markdown",
   "id": "54e6f107",
   "metadata": {},
   "source": [
    "## Arrays\n",
    "Unlike tuples, arrays are mutable. Unlike dictionaries, arrays contain ordered collections.\n",
    "We can create an array by enclosing this collection in ``[ ]``.\n",
    "\n",
    "\n",
    "```julia\n",
    "Syntax:\n",
    "    [item1, item2, ...]\n",
    "```\n",
    "For example, we might create an array to keep track of my friends"
   ]
  },
  {
   "cell_type": "code",
   "execution_count": 23,
   "id": "5fcb98f0",
   "metadata": {},
   "outputs": [
    {
     "data": {
      "text/plain": [
       "5-element Vector{String}:\n",
       " \"Ted\"\n",
       " \"Robyn\"\n",
       " \"Barney\"\n",
       " \"Lily\"\n",
       " \"Marshall\""
      ]
     },
     "execution_count": 23,
     "metadata": {},
     "output_type": "execute_result"
    }
   ],
   "source": [
    "myfriends = [\"Ted\", \"Robyn\", \"Barney\", \"Lily\", \"Marshall\"]"
   ]
  },
  {
   "cell_type": "markdown",
   "id": "3796015f",
   "metadata": {},
   "source": [
    "The ``1`` in ``Array{String,1}`` means this is a one dimensional vector. An ``Array{String,2}`` would be a 2d matrix, etc. The ``String`` is the type of each element.\n",
    "\n",
    "Or to store a sequence of numbers"
   ]
  },
  {
   "cell_type": "code",
   "execution_count": 24,
   "id": "cbcf0a64",
   "metadata": {},
   "outputs": [
    {
     "data": {
      "text/plain": [
       "7-element Vector{Int64}:\n",
       "  1\n",
       "  1\n",
       "  2\n",
       "  3\n",
       "  5\n",
       "  8\n",
       " 13"
      ]
     },
     "execution_count": 24,
     "metadata": {},
     "output_type": "execute_result"
    }
   ],
   "source": [
    "fibonacci = [1, 1, 2, 3, 5, 8, 13]"
   ]
  },
  {
   "cell_type": "code",
   "execution_count": 25,
   "id": "d38f1393",
   "metadata": {},
   "outputs": [
    {
     "data": {
      "text/plain": [
       "6-element Vector{Any}:\n",
       " 1\n",
       " 1\n",
       " 2\n",
       " 3\n",
       "  \"Ted\"\n",
       "  \"Robyn\""
      ]
     },
     "execution_count": 25,
     "metadata": {},
     "output_type": "execute_result"
    }
   ],
   "source": [
    "mixture = [1, 1, 2, 3, \"Ted\", \"Robyn\"]"
   ]
  },
  {
   "cell_type": "markdown",
   "id": "fc618f8f",
   "metadata": {},
   "source": [
    "Once we have an array, we can grab individual pieces of data from inside that array by indexing into the array. For example, if we want the third friend listed in ``myfriends``, we write"
   ]
  },
  {
   "cell_type": "code",
   "execution_count": 26,
   "id": "bc28df85",
   "metadata": {},
   "outputs": [
    {
     "data": {
      "text/plain": [
       "\"Barney\""
      ]
     },
     "execution_count": 26,
     "metadata": {},
     "output_type": "execute_result"
    }
   ],
   "source": [
    "myfriends[3]"
   ]
  },
  {
   "cell_type": "markdown",
   "id": "f25589bc",
   "metadata": {},
   "source": [
    "We can use indexing to edit an existing element of an array"
   ]
  },
  {
   "cell_type": "code",
   "execution_count": 27,
   "id": "91ef9b29",
   "metadata": {},
   "outputs": [
    {
     "data": {
      "text/plain": [
       "\"Tilín\""
      ]
     },
     "execution_count": 27,
     "metadata": {},
     "output_type": "execute_result"
    }
   ],
   "source": [
    "myfriends[3] = \"Tilín\""
   ]
  },
  {
   "cell_type": "markdown",
   "id": "38738fb6",
   "metadata": {},
   "source": [
    "Yes, Julia is 1-based indexing, not 0-based like Python. Wars are fought over lesser issues. I have a friend with the wisdom of Solomon who proposes settling this once and for all with ½ 😃\n",
    "\n",
    "We can also edit the array by using the push! and pop! functions. push! adds an element to the end of an array and pop! removes the last element of an array.\n",
    "\n",
    "We can add another number to our fibonnaci sequence"
   ]
  },
  {
   "cell_type": "code",
   "execution_count": 28,
   "id": "c2251628",
   "metadata": {},
   "outputs": [
    {
     "data": {
      "text/plain": [
       "8-element Vector{Int64}:\n",
       "  1\n",
       "  1\n",
       "  2\n",
       "  3\n",
       "  5\n",
       "  8\n",
       " 13\n",
       " 21"
      ]
     },
     "execution_count": 28,
     "metadata": {},
     "output_type": "execute_result"
    }
   ],
   "source": [
    "push!(fibonacci, 21)"
   ]
  },
  {
   "cell_type": "code",
   "execution_count": 29,
   "id": "9ee2f450",
   "metadata": {},
   "outputs": [
    {
     "data": {
      "text/plain": [
       "21"
      ]
     },
     "execution_count": 29,
     "metadata": {},
     "output_type": "execute_result"
    }
   ],
   "source": [
    "pop!(fibonacci)"
   ]
  },
  {
   "cell_type": "code",
   "execution_count": 30,
   "id": "b739a7c2",
   "metadata": {},
   "outputs": [
    {
     "data": {
      "text/plain": [
       "7-element Vector{Int64}:\n",
       "  1\n",
       "  1\n",
       "  2\n",
       "  3\n",
       "  5\n",
       "  8\n",
       " 13"
      ]
     },
     "execution_count": 30,
     "metadata": {},
     "output_type": "execute_result"
    }
   ],
   "source": [
    "fibonacci"
   ]
  },
  {
   "cell_type": "markdown",
   "id": "616dee16",
   "metadata": {},
   "source": [
    "So far I've given examples of only 1D arrays of scalars, but arrays can have an arbitrary number of dimensions and can also store other arrays.\n",
    "\n",
    "For example, the following are arrays of arrays:"
   ]
  },
  {
   "cell_type": "code",
   "execution_count": 31,
   "id": "c51f57c4",
   "metadata": {},
   "outputs": [
    {
     "data": {
      "text/plain": [
       "2-element Vector{Vector{String}}:\n",
       " [\"koobideh\", \"chocolate\", \"eggs\"]\n",
       " [\"penguins\", \"cats\", \"sugargliders\"]"
      ]
     },
     "execution_count": 31,
     "metadata": {},
     "output_type": "execute_result"
    }
   ],
   "source": [
    "favorites = [[\"koobideh\", \"chocolate\", \"eggs\"],[\"penguins\", \"cats\", \"sugargliders\"]]"
   ]
  },
  {
   "cell_type": "code",
   "execution_count": 32,
   "id": "3e4d9146",
   "metadata": {},
   "outputs": [
    {
     "data": {
      "text/plain": [
       "3-element Vector{Vector{Int64}}:\n",
       " [1, 2, 3]\n",
       " [4, 5]\n",
       " [6, 7, 8, 9]"
      ]
     },
     "execution_count": 32,
     "metadata": {},
     "output_type": "execute_result"
    }
   ],
   "source": [
    "numbers = [[1, 2, 3], [4, 5], [6, 7, 8, 9]]"
   ]
  },
  {
   "cell_type": "markdown",
   "id": "899ed9b8",
   "metadata": {},
   "source": [
    "Below are examples of 2D and 3D arrays populated with random values."
   ]
  },
  {
   "cell_type": "code",
   "execution_count": 33,
   "id": "be31f84d",
   "metadata": {},
   "outputs": [
    {
     "data": {
      "text/plain": [
       "4×3 Matrix{Float64}:\n",
       " 0.0347985  0.0491298  0.986817\n",
       " 0.925579   0.228096   0.80856\n",
       " 0.848227   0.412121   0.976583\n",
       " 0.600022   0.107254   0.602815"
      ]
     },
     "execution_count": 33,
     "metadata": {},
     "output_type": "execute_result"
    }
   ],
   "source": [
    "rand(4, 3)"
   ]
  },
  {
   "cell_type": "code",
   "execution_count": 34,
   "id": "c91c5617",
   "metadata": {},
   "outputs": [
    {
     "data": {
      "text/plain": [
       "4×3×2 Array{Float64, 3}:\n",
       "[:, :, 1] =\n",
       " 0.581403  0.282171   0.97678\n",
       " 0.685226  0.0622522  0.501869\n",
       " 0.445765  0.644498   0.4652\n",
       " 0.756095  0.485516   0.467242\n",
       "\n",
       "[:, :, 2] =\n",
       " 0.28863   0.561832  0.341032\n",
       " 0.985111  0.627961  0.345564\n",
       " 0.220386  0.128194  0.0313896\n",
       " 0.559497  0.14122   0.690686"
      ]
     },
     "execution_count": 34,
     "metadata": {},
     "output_type": "execute_result"
    }
   ],
   "source": [
    "rand(4, 3, 2)"
   ]
  },
  {
   "cell_type": "markdown",
   "id": "a81ed1d4",
   "metadata": {},
   "source": [
    "Be careful when you want to copy arrays!"
   ]
  },
  {
   "cell_type": "code",
   "execution_count": 35,
   "id": "c94bff7e",
   "metadata": {},
   "outputs": [
    {
     "data": {
      "text/plain": [
       "7-element Vector{Int64}:\n",
       "  1\n",
       "  1\n",
       "  2\n",
       "  3\n",
       "  5\n",
       "  8\n",
       " 13"
      ]
     },
     "execution_count": 35,
     "metadata": {},
     "output_type": "execute_result"
    }
   ],
   "source": [
    "fibonacci"
   ]
  },
  {
   "cell_type": "code",
   "execution_count": 36,
   "id": "26800992",
   "metadata": {},
   "outputs": [
    {
     "data": {
      "text/plain": [
       "7-element Vector{Int64}:\n",
       "  1\n",
       "  1\n",
       "  2\n",
       "  3\n",
       "  5\n",
       "  8\n",
       " 13"
      ]
     },
     "execution_count": 36,
     "metadata": {},
     "output_type": "execute_result"
    }
   ],
   "source": [
    "some_numbers = fibonacci"
   ]
  },
  {
   "cell_type": "code",
   "execution_count": 38,
   "id": "e56a9c26",
   "metadata": {},
   "outputs": [
    {
     "data": {
      "text/plain": [
       "7-element Vector{Int64}:\n",
       " 404\n",
       "   1\n",
       "   2\n",
       "   3\n",
       "   5\n",
       "   8\n",
       "  13"
      ]
     },
     "execution_count": 38,
     "metadata": {},
     "output_type": "execute_result"
    }
   ],
   "source": [
    "some_numbers[1] = 404\n",
    "fibonacci"
   ]
  },
  {
   "cell_type": "markdown",
   "id": "98bbe217",
   "metadata": {},
   "source": [
    "Editing ``some_numbers`` caused ``fibonacci`` to get updated as well!\n",
    "\n",
    "In the above example, we didn't actually make a copy of ``fibonacci``. We just created a new way to access the entries in the array bound to ``fibonacci``.\n",
    "\n",
    "If we'd like to make a copy of the array bound to ``fibonacci``, we can use the ``copy`` function."
   ]
  },
  {
   "cell_type": "code",
   "execution_count": 39,
   "id": "71f588db",
   "metadata": {},
   "outputs": [
    {
     "data": {
      "text/plain": [
       "7-element Vector{Int64}:\n",
       "  1\n",
       "  1\n",
       "  2\n",
       "  3\n",
       "  5\n",
       "  8\n",
       " 13"
      ]
     },
     "execution_count": 39,
     "metadata": {},
     "output_type": "execute_result"
    }
   ],
   "source": [
    "# First, restore fibonacci\n",
    "fibonacci[1] = 1\n",
    "fibonacci"
   ]
  },
  {
   "cell_type": "code",
   "execution_count": 40,
   "id": "54912ef3",
   "metadata": {},
   "outputs": [
    {
     "data": {
      "text/plain": [
       "7-element Vector{Int64}:\n",
       "  1\n",
       "  1\n",
       "  2\n",
       "  3\n",
       "  5\n",
       "  8\n",
       " 13"
      ]
     },
     "execution_count": 40,
     "metadata": {},
     "output_type": "execute_result"
    }
   ],
   "source": [
    "some_other_numbers = copy(fibonacci)"
   ]
  },
  {
   "cell_type": "code",
   "execution_count": 41,
   "id": "91e769ff",
   "metadata": {},
   "outputs": [
    {
     "data": {
      "text/plain": [
       "7-element Vector{Int64}:\n",
       "  1\n",
       "  1\n",
       "  2\n",
       "  3\n",
       "  5\n",
       "  8\n",
       " 13"
      ]
     },
     "execution_count": 41,
     "metadata": {},
     "output_type": "execute_result"
    }
   ],
   "source": [
    "some_other_numbers[1] = 562\n",
    "fibonacci"
   ]
  },
  {
   "cell_type": "markdown",
   "id": "03d45568",
   "metadata": {},
   "source": [
    "In this last example, ``fibonacci`` was not updated. Therefore we see that the arrays bound to ``some_other_numbers`` and ``fibonacci`` are distinct."
   ]
  },
  {
   "cell_type": "markdown",
   "id": "c2d93674",
   "metadata": {},
   "source": [
    "## Some exercises\n",
    "#### 1. Create an array, a_ray, with the following code:\n",
    "\n",
    "```julia\n",
    "a_ray = [1, 2, 3]\n",
    "```\n",
    "Add the number ``4`` to the end of this array and then remove it."
   ]
  },
  {
   "cell_type": "code",
   "execution_count": 48,
   "id": "2acb6827",
   "metadata": {},
   "outputs": [
    {
     "data": {
      "text/plain": [
       "4"
      ]
     },
     "execution_count": 48,
     "metadata": {},
     "output_type": "execute_result"
    }
   ],
   "source": [
    "a_ray = [1, 2, 3]\n",
    "push!(a_ray, 4)\n",
    "pop!(a_ray)"
   ]
  },
  {
   "cell_type": "markdown",
   "id": "d0aac373",
   "metadata": {},
   "source": [
    "#### 2. Try to add ``\"Emergency\"`` as key to ``myphonebook`` with the value ``string(911)`` with the following code\n",
    "\n",
    "```julia\n",
    "myphonebook[\"Emergency\"] = 911\n",
    "```\n",
    "####         Why doesn't this work? \n",
    "Answer: Because the dictionary was defined like ``Dict{String, String}`` so I can't add an ``{String, Int}`` entry."
   ]
  },
  {
   "cell_type": "code",
   "execution_count": 49,
   "id": "8a12f9ad",
   "metadata": {},
   "outputs": [
    {
     "ename": "LoadError",
     "evalue": "MethodError: \u001b[0mCannot `convert` an object of type \u001b[92mInt64\u001b[39m\u001b[0m to an object of type \u001b[91mString\u001b[39m\n\u001b[0mClosest candidates are:\n\u001b[0m  convert(::Type{String}, \u001b[91m::String\u001b[39m) at essentials.jl:218\n\u001b[0m  convert(::Type{T}, \u001b[91m::T\u001b[39m) where T<:AbstractString at strings/basic.jl:231\n\u001b[0m  convert(::Type{T}, \u001b[91m::AbstractString\u001b[39m) where T<:AbstractString at strings/basic.jl:232\n\u001b[0m  ...",
     "output_type": "error",
     "traceback": [
      "MethodError: \u001b[0mCannot `convert` an object of type \u001b[92mInt64\u001b[39m\u001b[0m to an object of type \u001b[91mString\u001b[39m\n\u001b[0mClosest candidates are:\n\u001b[0m  convert(::Type{String}, \u001b[91m::String\u001b[39m) at essentials.jl:218\n\u001b[0m  convert(::Type{T}, \u001b[91m::T\u001b[39m) where T<:AbstractString at strings/basic.jl:231\n\u001b[0m  convert(::Type{T}, \u001b[91m::AbstractString\u001b[39m) where T<:AbstractString at strings/basic.jl:232\n\u001b[0m  ...",
      "",
      "Stacktrace:",
      " [1] setindex!(h::Dict{String, String}, v0::Int64, key::String)",
      "   @ Base .\\dict.jl:382",
      " [2] top-level scope",
      "   @ In[49]:1"
     ]
    }
   ],
   "source": [
    "myphonebook[\"Emergency\"] = 911"
   ]
  },
  {
   "cell_type": "code",
   "execution_count": 51,
   "id": "eca8337f",
   "metadata": {},
   "outputs": [
    {
     "data": {
      "text/plain": [
       "Dict{String, String} with 3 entries:\n",
       "  \"Emergency\" => \"911\"\n",
       "  \"AMLO\"      => \"555-2368\"\n",
       "  \"Goku\"      => \"555-GOKU\""
      ]
     },
     "execution_count": 51,
     "metadata": {},
     "output_type": "execute_result"
    }
   ],
   "source": [
    "myphonebook[\"Emergency\"] = string(911)\n",
    "myphonebook"
   ]
  },
  {
   "cell_type": "code",
   "execution_count": null,
   "id": "f58fca19",
   "metadata": {},
   "outputs": [],
   "source": []
  }
 ],
 "metadata": {
  "kernelspec": {
   "display_name": "Julia 1.8.5",
   "language": "julia",
   "name": "julia-1.8"
  },
  "language_info": {
   "file_extension": ".jl",
   "mimetype": "application/julia",
   "name": "julia",
   "version": "1.8.5"
  },
  "latex_envs": {
   "LaTeX_envs_menu_present": true,
   "autoclose": false,
   "autocomplete": false,
   "bibliofile": "biblio.bib",
   "cite_by": "apalike",
   "current_citInitial": 1,
   "eqLabelWithNumbers": true,
   "eqNumInitial": 1,
   "hotkeys": {
    "equation": "Ctrl-E",
    "itemize": "Ctrl-I"
   },
   "labels_anchors": false,
   "latex_user_defs": false,
   "report_style_numbering": true,
   "user_envs_cfg": true
  },
  "varInspector": {
   "cols": {
    "lenName": 16,
    "lenType": 16,
    "lenVar": 40
   },
   "kernels_config": {
    "python": {
     "delete_cmd_postfix": "",
     "delete_cmd_prefix": "del ",
     "library": "var_list.py",
     "varRefreshCmd": "print(var_dic_list())"
    },
    "r": {
     "delete_cmd_postfix": ") ",
     "delete_cmd_prefix": "rm(",
     "library": "var_list.r",
     "varRefreshCmd": "cat(var_dic_list()) "
    }
   },
   "types_to_exclude": [
    "module",
    "function",
    "builtin_function_or_method",
    "instance",
    "_Feature"
   ],
   "window_display": false
  }
 },
 "nbformat": 4,
 "nbformat_minor": 5
}
