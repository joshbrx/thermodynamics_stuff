{
 "cells": [
  {
   "cell_type": "markdown",
   "id": "5a9d93dd",
   "metadata": {},
   "source": [
    "# Factorizations and other fun\n",
    "Based on work by Andreas Noack\n",
    "\n",
    "## Outline\n",
    "\n",
    "1. Factorizations\n",
    "2. Special matrix structures\n",
    "3. Generic linear algebra\n",
    "\n",
    "Before we get started, let's set up a linear system and use ``LinearAlgebra`` to bring in the factorizations and special matrix structures."
   ]
  },
  {
   "cell_type": "code",
   "execution_count": 1,
   "id": "db0a4a8e",
   "metadata": {},
   "outputs": [],
   "source": [
    "using LinearAlgebra"
   ]
  },
  {
   "cell_type": "code",
   "execution_count": 2,
   "id": "8d10bf08",
   "metadata": {},
   "outputs": [
    {
     "data": {
      "text/plain": [
       "3-element Vector{Float64}:\n",
       " 1.2790817161497587\n",
       " 1.184752575557391\n",
       " 1.4402080636143266"
      ]
     },
     "execution_count": 2,
     "metadata": {},
     "output_type": "execute_result"
    }
   ],
   "source": [
    "A = rand(3, 3)\n",
    "x = fill(1, (3,))\n",
    "b = A * x"
   ]
  },
  {
   "cell_type": "markdown",
   "id": "f2383087",
   "metadata": {},
   "source": [
    "## Factorizations\n",
    "### LU factorizations\n",
    "In Julia we can perform an LU factorization\n",
    "\n",
    "```julia\n",
    "PA = LU\n",
    "```\n",
    "where ``P`` is a permutation matrix, ``L`` is lower triangular unit diagonal and ``U`` is upper triangular, using ``lufact``.\n",
    "\n",
    "Julia allows computing the LU factorization and defines a composite factorization type for storing it."
   ]
  },
  {
   "cell_type": "code",
   "execution_count": 3,
   "id": "809f790a",
   "metadata": {},
   "outputs": [
    {
     "data": {
      "text/plain": [
       "LU{Float64, Matrix{Float64}, Vector{Int64}}\n",
       "L factor:\n",
       "3×3 Matrix{Float64}:\n",
       " 1.0       0.0        0.0\n",
       " 0.091109  1.0        0.0\n",
       " 0.57154   0.0365229  1.0\n",
       "U factor:\n",
       "3×3 Matrix{Float64}:\n",
       " 0.502902  0.484894  0.452412\n",
       " 0.0       0.325711  0.822155\n",
       " 0.0       0.0       0.319693"
      ]
     },
     "execution_count": 3,
     "metadata": {},
     "output_type": "execute_result"
    }
   ],
   "source": [
    "Alu = lu(A)"
   ]
  },
  {
   "cell_type": "code",
   "execution_count": 4,
   "id": "c80ee52b",
   "metadata": {},
   "outputs": [
    {
     "data": {
      "text/plain": [
       "LU{Float64, Matrix{Float64}, Vector{Int64}}"
      ]
     },
     "execution_count": 4,
     "metadata": {},
     "output_type": "execute_result"
    }
   ],
   "source": [
    "typeof(Alu)"
   ]
  },
  {
   "cell_type": "code",
   "execution_count": 5,
   "id": "7cedfe89",
   "metadata": {},
   "outputs": [
    {
     "data": {
      "text/plain": [
       "3×3 Matrix{Float64}:\n",
       " 0.0  0.0  1.0\n",
       " 1.0  0.0  0.0\n",
       " 0.0  1.0  0.0"
      ]
     },
     "execution_count": 5,
     "metadata": {},
     "output_type": "execute_result"
    }
   ],
   "source": [
    "Alu.P"
   ]
  },
  {
   "cell_type": "code",
   "execution_count": 6,
   "id": "3cb3f9b8",
   "metadata": {},
   "outputs": [
    {
     "data": {
      "text/plain": [
       "3×3 Matrix{Float64}:\n",
       " 1.0       0.0        0.0\n",
       " 0.091109  1.0        0.0\n",
       " 0.57154   0.0365229  1.0"
      ]
     },
     "execution_count": 6,
     "metadata": {},
     "output_type": "execute_result"
    }
   ],
   "source": [
    "Alu.L"
   ]
  },
  {
   "cell_type": "code",
   "execution_count": 7,
   "id": "90c24382",
   "metadata": {},
   "outputs": [
    {
     "data": {
      "text/plain": [
       "3×3 Matrix{Float64}:\n",
       " 0.502902  0.484894  0.452412\n",
       " 0.0       0.325711  0.822155\n",
       " 0.0       0.0       0.319693"
      ]
     },
     "execution_count": 7,
     "metadata": {},
     "output_type": "execute_result"
    }
   ],
   "source": [
    "Alu.U"
   ]
  },
  {
   "cell_type": "markdown",
   "id": "bd9376b7",
   "metadata": {},
   "source": [
    "Julia can dispatch methods on factorization objects.\n",
    "\n",
    "For example, we can solve the linear system using either the original matrix or the factorization object."
   ]
  },
  {
   "cell_type": "code",
   "execution_count": 8,
   "id": "23a8ef29",
   "metadata": {},
   "outputs": [
    {
     "data": {
      "text/plain": [
       "3-element Vector{Float64}:\n",
       " 0.9999999999999996\n",
       " 1.0000000000000004\n",
       " 1.0"
      ]
     },
     "execution_count": 8,
     "metadata": {},
     "output_type": "execute_result"
    }
   ],
   "source": [
    "A\\b"
   ]
  },
  {
   "cell_type": "code",
   "execution_count": 9,
   "id": "7144884f",
   "metadata": {},
   "outputs": [
    {
     "data": {
      "text/plain": [
       "3-element Vector{Float64}:\n",
       " 0.9999999999999996\n",
       " 1.0000000000000004\n",
       " 1.0"
      ]
     },
     "execution_count": 9,
     "metadata": {},
     "output_type": "execute_result"
    }
   ],
   "source": [
    "Alu\\b"
   ]
  },
  {
   "cell_type": "markdown",
   "id": "e5dd007a",
   "metadata": {},
   "source": [
    "Similarly, we can calculate the determinant of ``A`` using either ``A`` or the factorization object"
   ]
  },
  {
   "cell_type": "code",
   "execution_count": 10,
   "id": "7794571e",
   "metadata": {},
   "outputs": [
    {
     "data": {
      "text/plain": [
       "true"
      ]
     },
     "execution_count": 10,
     "metadata": {},
     "output_type": "execute_result"
    }
   ],
   "source": [
    "det(A) ≈ det(Alu)"
   ]
  },
  {
   "cell_type": "markdown",
   "id": "eb5e9322",
   "metadata": {},
   "source": [
    "### QR factorizations\n",
    "In Julia we can perform a QR factorization\n",
    "\n",
    "```julia\n",
    "A=QR\n",
    "```\n",
    "where ``Q`` is unitary/orthogonal and ``R`` is upper triangular, using qrfact."
   ]
  },
  {
   "cell_type": "code",
   "execution_count": 11,
   "id": "25157cf6",
   "metadata": {},
   "outputs": [
    {
     "data": {
      "text/plain": [
       "LinearAlgebra.QRCompactWY{Float64, Matrix{Float64}, Matrix{Float64}}\n",
       "Q factor:\n",
       "3×3 LinearAlgebra.QRCompactWYQ{Float64, Matrix{Float64}, Matrix{Float64}}:\n",
       " -0.0788546   0.996381    0.0317387\n",
       " -0.494666   -0.0114671  -0.869007\n",
       " -0.865498   -0.0842253   0.49378\n",
       "R factor:\n",
       "3×3 Matrix{Float64}:\n",
       " -0.581055  -0.591816  -0.760545\n",
       "  0.0        0.324396   0.815169\n",
       "  0.0        0.0       -0.277816"
      ]
     },
     "execution_count": 11,
     "metadata": {},
     "output_type": "execute_result"
    }
   ],
   "source": [
    "Aqr = qr(A)"
   ]
  },
  {
   "cell_type": "markdown",
   "id": "059e0657",
   "metadata": {},
   "source": [
    "Similarly to the LU factorization, the matrices ``Q`` and ``R`` can be extracted from the QR factorization object via"
   ]
  },
  {
   "cell_type": "code",
   "execution_count": 12,
   "id": "0e4b67e1",
   "metadata": {},
   "outputs": [
    {
     "data": {
      "text/plain": [
       "3×3 LinearAlgebra.QRCompactWYQ{Float64, Matrix{Float64}, Matrix{Float64}}:\n",
       " -0.0788546   0.996381    0.0317387\n",
       " -0.494666   -0.0114671  -0.869007\n",
       " -0.865498   -0.0842253   0.49378"
      ]
     },
     "execution_count": 12,
     "metadata": {},
     "output_type": "execute_result"
    }
   ],
   "source": [
    "Aqr.Q"
   ]
  },
  {
   "cell_type": "code",
   "execution_count": 13,
   "id": "e447ca5b",
   "metadata": {},
   "outputs": [
    {
     "data": {
      "text/plain": [
       "3×3 Matrix{Float64}:\n",
       " -0.581055  -0.591816  -0.760545\n",
       "  0.0        0.324396   0.815169\n",
       "  0.0        0.0       -0.277816"
      ]
     },
     "execution_count": 13,
     "metadata": {},
     "output_type": "execute_result"
    }
   ],
   "source": [
    "Aqr.R"
   ]
  },
  {
   "cell_type": "markdown",
   "id": "94d12017",
   "metadata": {},
   "source": [
    "### Eigendecompositions\n",
    "The results from eigendecompositions, singular value decompositions, Hessenberg factorizations, and Schur decompositions are all stored in Factorization types.\n",
    "\n",
    "The eigendecomposition can be computed"
   ]
  },
  {
   "cell_type": "code",
   "execution_count": 14,
   "id": "caa313e9",
   "metadata": {},
   "outputs": [
    {
     "data": {
      "text/plain": [
       "Eigen{Float64, Float64, Matrix{Float64}, Vector{Float64}}\n",
       "values:\n",
       "3-element Vector{Float64}:\n",
       " -0.9439525465221962\n",
       " -0.17018622399088634\n",
       "  2.688664397624382\n",
       "vectors:\n",
       "3×3 Matrix{Float64}:\n",
       " -0.758898   0.420251  -0.497455\n",
       " -0.130495  -0.846541  -0.516081\n",
       "  0.638      0.326738  -0.697279"
      ]
     },
     "execution_count": 14,
     "metadata": {},
     "output_type": "execute_result"
    }
   ],
   "source": [
    "Asym = A + A'\n",
    "AsymEig = eigen(Asym)"
   ]
  },
  {
   "cell_type": "markdown",
   "id": "f0069409",
   "metadata": {},
   "source": [
    "The values and the vectors can be extracted from the Eigen type by special indexing"
   ]
  },
  {
   "cell_type": "code",
   "execution_count": 16,
   "id": "d617daf1",
   "metadata": {},
   "outputs": [
    {
     "data": {
      "text/plain": [
       "3-element Vector{Float64}:\n",
       " -0.9439525465221962\n",
       " -0.17018622399088634\n",
       "  2.688664397624382"
      ]
     },
     "execution_count": 16,
     "metadata": {},
     "output_type": "execute_result"
    }
   ],
   "source": [
    "AsymEig.values"
   ]
  },
  {
   "cell_type": "code",
   "execution_count": 17,
   "id": "4fa30fe0",
   "metadata": {},
   "outputs": [
    {
     "data": {
      "text/plain": [
       "3×3 Matrix{Float64}:\n",
       " -0.758898   0.420251  -0.497455\n",
       " -0.130495  -0.846541  -0.516081\n",
       "  0.638      0.326738  -0.697279"
      ]
     },
     "execution_count": 17,
     "metadata": {},
     "output_type": "execute_result"
    }
   ],
   "source": [
    "AsymEig.vectors"
   ]
  },
  {
   "cell_type": "markdown",
   "id": "b006c55c",
   "metadata": {},
   "source": [
    "Once again, when the factorization is stored in a type, we can dispatch on it and write specialized methods that exploit the properties of the factorization, e.g. that $A^{-1}=(VAV^{-1})^{-1}=VA^{-1}V^{-1}$.\n",
    "."
   ]
  },
  {
   "cell_type": "code",
   "execution_count": 18,
   "id": "58b386cf",
   "metadata": {},
   "outputs": [
    {
     "data": {
      "text/plain": [
       "3×3 Matrix{Float64}:\n",
       "  1.0          -6.93889e-16  -7.49401e-16\n",
       "  3.9968e-15    1.0           4.88498e-15\n",
       " -4.44089e-16  -5.55112e-16   1.0"
      ]
     },
     "execution_count": 18,
     "metadata": {},
     "output_type": "execute_result"
    }
   ],
   "source": [
    "inv(AsymEig)*Asym"
   ]
  },
  {
   "cell_type": "markdown",
   "id": "52dd9163",
   "metadata": {},
   "source": [
    "## Special matrix structures\n",
    "Matrix structure is very important in linear algebra. To see _how_ important it is, let's work with a larger linear system"
   ]
  },
  {
   "cell_type": "code",
   "execution_count": 19,
   "id": "5ff977bd",
   "metadata": {},
   "outputs": [],
   "source": [
    "n = 1000\n",
    "A = randn(n,n);"
   ]
  },
  {
   "cell_type": "markdown",
   "id": "5fda4c81",
   "metadata": {},
   "source": [
    "Julia can often infer special matrix structure"
   ]
  },
  {
   "cell_type": "code",
   "execution_count": 20,
   "id": "e7b1eb3e",
   "metadata": {},
   "outputs": [
    {
     "data": {
      "text/plain": [
       "true"
      ]
     },
     "execution_count": 20,
     "metadata": {},
     "output_type": "execute_result"
    }
   ],
   "source": [
    "Asym = A + A'\n",
    "issymmetric(Asym)"
   ]
  },
  {
   "cell_type": "markdown",
   "id": "039f9beb",
   "metadata": {},
   "source": [
    "but sometimes floating point error might get in the way."
   ]
  },
  {
   "cell_type": "code",
   "execution_count": 21,
   "id": "aa2f0f47",
   "metadata": {},
   "outputs": [
    {
     "data": {
      "text/plain": [
       "-3.290443024200358"
      ]
     },
     "execution_count": 21,
     "metadata": {},
     "output_type": "execute_result"
    }
   ],
   "source": [
    "Asym_noisy = copy(Asym)\n",
    "Asym_noisy[1,2] += 5eps()"
   ]
  },
  {
   "cell_type": "code",
   "execution_count": 22,
   "id": "3b93a147",
   "metadata": {},
   "outputs": [
    {
     "data": {
      "text/plain": [
       "false"
      ]
     },
     "execution_count": 22,
     "metadata": {},
     "output_type": "execute_result"
    }
   ],
   "source": [
    "issymmetric(Asym_noisy)"
   ]
  },
  {
   "cell_type": "markdown",
   "id": "312f8959",
   "metadata": {},
   "source": [
    "Luckily we can declare structure explicitly with, for example, ``Diagonal``, ``Triangular``, ``Symmetric``, ``Hermitian``, ``Tridiagonal`` and ``SymTridiagonal``."
   ]
  },
  {
   "cell_type": "code",
   "execution_count": 23,
   "id": "5ff4c693",
   "metadata": {},
   "outputs": [],
   "source": [
    "Asym_explicit = Symmetric(Asym_noisy);"
   ]
  },
  {
   "cell_type": "markdown",
   "id": "1ad28941",
   "metadata": {},
   "source": [
    "Let's compare how long it takes Julia to compute the eigenvalues of ``Asym``, ``Asym_noisy``, and ``Asym_explicit``"
   ]
  },
  {
   "cell_type": "code",
   "execution_count": 24,
   "id": "eac0a50d",
   "metadata": {},
   "outputs": [
    {
     "name": "stdout",
     "output_type": "stream",
     "text": [
      "  1.955967 seconds (152.15 k allocations: 15.265 MiB, 3.83% gc time, 53.29% compilation time)\n"
     ]
    }
   ],
   "source": [
    "@time eigvals(Asym);"
   ]
  },
  {
   "cell_type": "code",
   "execution_count": 25,
   "id": "6c04a9a0",
   "metadata": {},
   "outputs": [
    {
     "name": "stdout",
     "output_type": "stream",
     "text": [
      "  3.374570 seconds (13 allocations: 7.920 MiB)\n"
     ]
    }
   ],
   "source": [
    "@time eigvals(Asym_noisy);"
   ]
  },
  {
   "cell_type": "code",
   "execution_count": 26,
   "id": "ca0013c7",
   "metadata": {},
   "outputs": [
    {
     "name": "stdout",
     "output_type": "stream",
     "text": [
      "  0.633818 seconds (13.72 k allocations: 8.710 MiB, 8.33% compilation time)\n"
     ]
    }
   ],
   "source": [
    "@time eigvals(Asym_explicit);"
   ]
  },
  {
   "cell_type": "markdown",
   "id": "a485188c",
   "metadata": {},
   "source": [
    "In this example, using ``Symmetric()`` on ``Asym_noisy`` made our calculations about 5x more efficient :)"
   ]
  },
  {
   "cell_type": "markdown",
   "id": "8f4c8c01",
   "metadata": {},
   "source": [
    "### A big problem\n",
    "Using the ``Tridiagonal`` and ``SymTridiagonal`` types to store tridiagonal matrices makes it possible to work with potentially very large tridiagonal problems. The following problem would not be possible to solve on a laptop if the matrix had to be stored as a (dense) Matrix type.\n",
    "\n"
   ]
  },
  {
   "cell_type": "code",
   "execution_count": 27,
   "id": "6da22cb4",
   "metadata": {},
   "outputs": [
    {
     "name": "stdout",
     "output_type": "stream",
     "text": [
      "  3.740807 seconds (879.42 k allocations: 226.647 MiB, 4.76% gc time, 33.41% compilation time)\n"
     ]
    },
    {
     "data": {
      "text/plain": [
       "7.242959896549037"
      ]
     },
     "execution_count": 27,
     "metadata": {},
     "output_type": "execute_result"
    }
   ],
   "source": [
    "n = 1_000_000;\n",
    "A = SymTridiagonal(randn(n), randn(n-1));\n",
    "@time eigmax(A)"
   ]
  },
  {
   "cell_type": "markdown",
   "id": "42914e0f",
   "metadata": {},
   "source": [
    "## Generic linear algebra\n",
    "The usual way of adding support for numerical linear algebra is by wrapping BLAS and LAPACK subroutines. For matrices with elements of ``Float32``, ``Float64``, ``Complex{Float32}`` or ``Complex{Float64}`` this is also what Julia does.\n",
    "\n",
    "However, Julia also supports generic linear algebra, allowing you to, for example, work with matrices and vectors of rational numbers.\n",
    "\n",
    "### Rational numbers\n",
    "Julia has rational numbers built in. To construct a rational number, use double forward slashes:"
   ]
  },
  {
   "cell_type": "code",
   "execution_count": 28,
   "id": "2bb256a2",
   "metadata": {},
   "outputs": [
    {
     "data": {
      "text/plain": [
       "1//2"
      ]
     },
     "execution_count": 28,
     "metadata": {},
     "output_type": "execute_result"
    }
   ],
   "source": [
    "1//2"
   ]
  },
  {
   "cell_type": "markdown",
   "id": "08716ef3",
   "metadata": {},
   "source": [
    "### Example: Rational linear system of equations\n",
    "The following example shows how linear system of equations with rational elements can be solved without promoting to floating point element types. Overflow can easily become a problem when working with rational numbers so we use ``BigInt``s."
   ]
  },
  {
   "cell_type": "code",
   "execution_count": 29,
   "id": "078e441d",
   "metadata": {},
   "outputs": [
    {
     "data": {
      "text/plain": [
       "3×3 Matrix{Rational{BigInt}}:\n",
       " 7//10  3//5  4//5\n",
       " 7//10  4//5  3//5\n",
       " 1//10  1//2  1//5"
      ]
     },
     "execution_count": 29,
     "metadata": {},
     "output_type": "execute_result"
    }
   ],
   "source": [
    "Arational = Matrix{Rational{BigInt}}(rand(1:10, 3, 3))/10"
   ]
  },
  {
   "cell_type": "code",
   "execution_count": 30,
   "id": "0c8f777d",
   "metadata": {},
   "outputs": [
    {
     "data": {
      "text/plain": [
       "3-element Vector{Rational{BigInt}}:\n",
       " 21//10\n",
       " 21//10\n",
       "  4//5"
      ]
     },
     "execution_count": 30,
     "metadata": {},
     "output_type": "execute_result"
    }
   ],
   "source": [
    "x = fill(1, 3)\n",
    "b = Arational*x"
   ]
  },
  {
   "cell_type": "code",
   "execution_count": 31,
   "id": "c1131205",
   "metadata": {},
   "outputs": [
    {
     "data": {
      "text/plain": [
       "3-element Vector{Rational{BigInt}}:\n",
       " 1//1\n",
       " 1//1\n",
       " 1//1"
      ]
     },
     "execution_count": 31,
     "metadata": {},
     "output_type": "execute_result"
    }
   ],
   "source": [
    "Arational\\b"
   ]
  },
  {
   "cell_type": "code",
   "execution_count": 32,
   "id": "432eee45",
   "metadata": {},
   "outputs": [
    {
     "data": {
      "text/plain": [
       "LU{Rational{BigInt}, Matrix{Rational{BigInt}}, Vector{Int64}}\n",
       "L factor:\n",
       "3×3 Matrix{Rational{BigInt}}:\n",
       " 1//1   0//1   0//1\n",
       " 1//7   1//1   0//1\n",
       " 1//1  14//29  1//1\n",
       "U factor:\n",
       "3×3 Matrix{Rational{BigInt}}:\n",
       " 7//10   3//5    4//5\n",
       " 0//1   29//70   3//35\n",
       " 0//1    0//1   -7//29"
      ]
     },
     "execution_count": 32,
     "metadata": {},
     "output_type": "execute_result"
    }
   ],
   "source": [
    "lu(Arational)"
   ]
  },
  {
   "cell_type": "markdown",
   "id": "af6404df",
   "metadata": {},
   "source": [
    "## Some exercises\n",
    "#### 1. What are the eigenvalues of matrix ``A``?\n",
    "\n",
    "```julia\n",
    "A =\n",
    "    [140   97   74  168  131\n",
    "      97  106   89  131   36\n",
    "      74   89  152  144   71\n",
    "     168  131  144   54  142\n",
    "     131   36   71  142   36]\n",
    "```\n",
    "and assign it a variable ``A_eigv``"
   ]
  },
  {
   "cell_type": "code",
   "execution_count": 33,
   "id": "ab2703c3",
   "metadata": {},
   "outputs": [
    {
     "data": {
      "text/plain": [
       "Eigen{Float64, Float64, Matrix{Float64}, Vector{Float64}}\n",
       "values:\n",
       "5-element Vector{Float64}:\n",
       " -128.49322764802145\n",
       "  -55.887784553057\n",
       "   42.752167279318854\n",
       "   87.16111477514494\n",
       "  542.4677301466137\n",
       "vectors:\n",
       "5×5 Matrix{Float64}:\n",
       " -0.147575  -0.647178  -0.010882    0.548903   -0.507907\n",
       " -0.256795   0.173068  -0.834628   -0.239864   -0.387253\n",
       " -0.185537  -0.239762   0.422161   -0.731925   -0.440631\n",
       "  0.819704   0.247506   0.0273194   0.0366447  -0.514526\n",
       " -0.453805   0.657619   0.352577    0.322668   -0.364928"
      ]
     },
     "execution_count": 33,
     "metadata": {},
     "output_type": "execute_result"
    }
   ],
   "source": [
    "A = [140   97   74  168  131\n",
    "      97  106   89  131   36\n",
    "      74   89  152  144   71\n",
    "     168  131  144   54  142\n",
    "     131   36   71  142   36]\n",
    "eigen(A)"
   ]
  },
  {
   "cell_type": "code",
   "execution_count": 34,
   "id": "8716ef44",
   "metadata": {},
   "outputs": [
    {
     "data": {
      "text/plain": [
       "5-element Vector{Float64}:\n",
       " -128.49322764802145\n",
       "  -55.887784553057\n",
       "   42.752167279318854\n",
       "   87.16111477514494\n",
       "  542.4677301466137"
      ]
     },
     "execution_count": 34,
     "metadata": {},
     "output_type": "execute_result"
    }
   ],
   "source": [
    "A_eigv = eigen(A).values"
   ]
  },
  {
   "cell_type": "markdown",
   "id": "4b1b977f",
   "metadata": {},
   "source": [
    "#### 2. Create a ``Diagonal`` matrix from the eigenvalues of ``A``."
   ]
  },
  {
   "cell_type": "code",
   "execution_count": 37,
   "id": "d2ca576a",
   "metadata": {},
   "outputs": [
    {
     "data": {
      "text/plain": [
       "5×5 Diagonal{Float64, Vector{Float64}}:\n",
       " -128.493     ⋅        ⋅        ⋅         ⋅ \n",
       "     ⋅     -55.8878    ⋅        ⋅         ⋅ \n",
       "     ⋅        ⋅      42.7522    ⋅         ⋅ \n",
       "     ⋅        ⋅        ⋅      87.1611     ⋅ \n",
       "     ⋅        ⋅        ⋅        ⋅      542.468"
      ]
     },
     "execution_count": 37,
     "metadata": {},
     "output_type": "execute_result"
    }
   ],
   "source": [
    "Diagonal(A_eigv)"
   ]
  },
  {
   "cell_type": "markdown",
   "id": "8310faff",
   "metadata": {},
   "source": [
    "#### 3. Create a ``LowerTriangular`` matrix from ``A`` and store it in ``A_lowertri``"
   ]
  },
  {
   "cell_type": "code",
   "execution_count": 38,
   "id": "3604acd0",
   "metadata": {},
   "outputs": [
    {
     "data": {
      "text/plain": [
       "5×5 LowerTriangular{Int64, Matrix{Int64}}:\n",
       " 140    ⋅    ⋅    ⋅   ⋅\n",
       "  97  106    ⋅    ⋅   ⋅\n",
       "  74   89  152    ⋅   ⋅\n",
       " 168  131  144   54   ⋅\n",
       " 131   36   71  142  36"
      ]
     },
     "execution_count": 38,
     "metadata": {},
     "output_type": "execute_result"
    }
   ],
   "source": [
    "A_lowertri = LowerTriangular(A)"
   ]
  },
  {
   "cell_type": "code",
   "execution_count": null,
   "id": "fd9e5226",
   "metadata": {},
   "outputs": [],
   "source": []
  }
 ],
 "metadata": {
  "kernelspec": {
   "display_name": "Julia 1.8.5",
   "language": "julia",
   "name": "julia-1.8"
  },
  "language_info": {
   "file_extension": ".jl",
   "mimetype": "application/julia",
   "name": "julia",
   "version": "1.8.5"
  },
  "latex_envs": {
   "LaTeX_envs_menu_present": true,
   "autoclose": false,
   "autocomplete": false,
   "bibliofile": "biblio.bib",
   "cite_by": "apalike",
   "current_citInitial": 1,
   "eqLabelWithNumbers": true,
   "eqNumInitial": 1,
   "hotkeys": {
    "equation": "Ctrl-E",
    "itemize": "Ctrl-I"
   },
   "labels_anchors": false,
   "latex_user_defs": false,
   "report_style_numbering": true,
   "user_envs_cfg": true
  },
  "varInspector": {
   "cols": {
    "lenName": 16,
    "lenType": 16,
    "lenVar": 40
   },
   "kernels_config": {
    "python": {
     "delete_cmd_postfix": "",
     "delete_cmd_prefix": "del ",
     "library": "var_list.py",
     "varRefreshCmd": "print(var_dic_list())"
    },
    "r": {
     "delete_cmd_postfix": ") ",
     "delete_cmd_prefix": "rm(",
     "library": "var_list.r",
     "varRefreshCmd": "cat(var_dic_list()) "
    }
   },
   "types_to_exclude": [
    "module",
    "function",
    "builtin_function_or_method",
    "instance",
    "_Feature"
   ],
   "window_display": false
  }
 },
 "nbformat": 4,
 "nbformat_minor": 5
}
