{
 "cells": [
  {
   "cell_type": "markdown",
   "id": "31d951e9",
   "metadata": {},
   "source": [
    "# Strings in Julia language\n",
    "Topics covered in this notebook:\n",
    "1. How to get a string\n",
    "2. String interpolation\n",
    "3. String concatenation\n",
    "--------"
   ]
  },
  {
   "cell_type": "markdown",
   "id": "bb1c6c9a",
   "metadata": {},
   "source": [
    "## How to get a string...\n",
    "Write whatever you want as a string betweet this characters, ``\" \"`` or ``\"\"\" \"\"\"``."
   ]
  },
  {
   "cell_type": "code",
   "execution_count": 2,
   "id": "5afcbf22",
   "metadata": {},
   "outputs": [
    {
     "data": {
      "text/plain": [
       "\"meow meow meowww\""
      ]
     },
     "execution_count": 2,
     "metadata": {},
     "output_type": "execute_result"
    }
   ],
   "source": [
    "cat = \"meow meow meowww\""
   ]
  },
  {
   "cell_type": "code",
   "execution_count": 3,
   "id": "7634337e",
   "metadata": {},
   "outputs": [
    {
     "data": {
      "text/plain": [
       "\"squik squik squikkeeen\""
      ]
     },
     "execution_count": 3,
     "metadata": {},
     "output_type": "execute_result"
    }
   ],
   "source": [
    "squirrel = \"squik squik squikkeeen\""
   ]
  },
  {
   "cell_type": "markdown",
   "id": "ef52d17a",
   "metadata": {},
   "source": [
    "### ...and a character\n",
    "In this case, use ``' '`` to enclose the character you refer. This doesn't apply to strings."
   ]
  },
  {
   "cell_type": "code",
   "execution_count": 7,
   "id": "ac6149b0",
   "metadata": {},
   "outputs": [
    {
     "data": {
      "text/plain": [
       "'a': ASCII/Unicode U+0061 (category Ll: Letter, lowercase)"
      ]
     },
     "execution_count": 7,
     "metadata": {},
     "output_type": "execute_result"
    }
   ],
   "source": [
    "'a'\n",
    "# typeof('a')"
   ]
  },
  {
   "cell_type": "markdown",
   "id": "51c104c2",
   "metadata": {},
   "source": [
    "A good thing to remember is that you might encounter some errors if your string contains quotations marks (``\" \"``), but you can fix it if you use triple quotation marks (``\"\"\" \"\"\"``)."
   ]
  },
  {
   "cell_type": "code",
   "execution_count": 9,
   "id": "225e18ed",
   "metadata": {},
   "outputs": [
    {
     "name": "stdout",
     "output_type": "stream",
     "text": [
      "The cat said \"meow meow\" for me \n"
     ]
    }
   ],
   "source": [
    "\"\"\"The cat said \"meow meow\" for me\"\"\")"
   ]
  },
  {
   "cell_type": "code",
   "execution_count": 12,
   "id": "42135656",
   "metadata": {},
   "outputs": [
    {
     "ename": "LoadError",
     "evalue": "syntax: cannot juxtapose string literal",
     "output_type": "error",
     "traceback": [
      "syntax: cannot juxtapose string literal",
      "",
      "Stacktrace:",
      " [1] top-level scope",
      "   @ In[12]:1"
     ]
    }
   ],
   "source": [
    "\"The cat said \"meow meow\" for me\""
   ]
  },
  {
   "cell_type": "markdown",
   "id": "93c5c9b4",
   "metadata": {},
   "source": [
    "## String interpolation\n",
    "To print the value of a variable inside a string, just add ``$`` before the variable (or expression) to evaluate it in the string.\n"
   ]
  },
  {
   "cell_type": "code",
   "execution_count": 13,
   "id": "e0d52d28",
   "metadata": {},
   "outputs": [
    {
     "data": {
      "text/plain": [
       "10"
      ]
     },
     "execution_count": 13,
     "metadata": {},
     "output_type": "execute_result"
    }
   ],
   "source": [
    "name = \"Tilín\"\n",
    "num_fingers = 10\n",
    "num_toes = 10"
   ]
  },
  {
   "cell_type": "code",
   "execution_count": 18,
   "id": "914306e1",
   "metadata": {},
   "outputs": [
    {
     "name": "stdout",
     "output_type": "stream",
     "text": [
      "Hi, my name is Tilín.\n",
      "I have 10 fingers and 10 toes. That sums up to 20 in total! 😲"
     ]
    }
   ],
   "source": [
    "println(\"Hi, my name is $name.\")\n",
    "print(\"I have $num_fingers fingers and $num_toes toes. \")\n",
    "print(\"That sums up to $(num_fingers+num_toes) in total! 😲\")"
   ]
  },
  {
   "cell_type": "markdown",
   "id": "45d23c6e",
   "metadata": {},
   "source": [
    "## String concatenation\n",
    "Below are two ways we can concatenate strings!\n",
    "\n",
    "The first way is to use the ``string()`` function. ``string()`` converts non-string inputs to strings."
   ]
  },
  {
   "cell_type": "code",
   "execution_count": 30,
   "id": "25589ef9",
   "metadata": {},
   "outputs": [],
   "source": [
    "s1 = \"How many cats do you have, Karen? \"\n",
    "s2 = \"I don't know, maybe \"\n",
    "s3 = 15\n",
    "s4 = \" cats.\";"
   ]
  },
  {
   "cell_type": "code",
   "execution_count": 32,
   "id": "ba105dbe",
   "metadata": {},
   "outputs": [
    {
     "data": {
      "text/plain": [
       "\"How many cats do you have, Karen? I don't know, maybe 15 cats.\""
      ]
     },
     "execution_count": 32,
     "metadata": {},
     "output_type": "execute_result"
    }
   ],
   "source": [
    "string(s1,s2,s3,s4)"
   ]
  },
  {
   "cell_type": "markdown",
   "id": "99141f75",
   "metadata": {},
   "source": [
    "You can also use ``*`` to concatenate stings."
   ]
  },
  {
   "cell_type": "code",
   "execution_count": 34,
   "id": "17d2bc17",
   "metadata": {},
   "outputs": [
    {
     "data": {
      "text/plain": [
       "\"How many cats do you have, Karen? I don't know, maybe 15 cats.\""
      ]
     },
     "execution_count": 34,
     "metadata": {},
     "output_type": "execute_result"
    }
   ],
   "source": [
    "s1 * s2 * string(s3) * s4"
   ]
  },
  {
   "cell_type": "markdown",
   "id": "d66b1234",
   "metadata": {},
   "source": [
    "## Some exercises\n",
    "#### 1. Create a string that says \"hi\" 100 times, first with repeat and then with the exponentiation operator, which can call * under the hood. Assign it the variable hi below."
   ]
  },
  {
   "cell_type": "code",
   "execution_count": 43,
   "id": "44d16e32",
   "metadata": {},
   "outputs": [
    {
     "data": {
      "text/plain": [
       "\"hihihihihihihihihihihihihihihihihihihihihihihihihihihihihihihihihihihihihihihihihihihihihihihihihihihihihihihihihihihihihihihihihihihihihihihihihihihihihihihihihihihihihihihihihihihihihihihihihihihihi\""
      ]
     },
     "execution_count": 43,
     "metadata": {},
     "output_type": "execute_result"
    }
   ],
   "source": [
    "repeat(\"hi\", 100)"
   ]
  },
  {
   "cell_type": "code",
   "execution_count": 44,
   "id": "ace14128",
   "metadata": {},
   "outputs": [
    {
     "data": {
      "text/plain": [
       "\"hihihihihihihihihihihihihihihihihihihihihihihihihihihihihihihihihihihihihihihihihihihihihihihihihihihihihihihihihihihihihihihihihihihihihihihihihihihihihihihihihihihihihihihihihihihihihihihihihihihihi\""
      ]
     },
     "execution_count": 44,
     "metadata": {},
     "output_type": "execute_result"
    }
   ],
   "source": [
    "\"hi\"^100"
   ]
  },
  {
   "cell_type": "markdown",
   "id": "63754fdb",
   "metadata": {},
   "source": [
    "#### 2. Declare two variables ``a=3`` and ``b=4`` and use them to create two strings:\n",
    "    \"3 + 4\"\n",
    "    \"7\"\n",
    "#### and store the results in ``c`` and ``d`` respectively"
   ]
  },
  {
   "cell_type": "code",
   "execution_count": 48,
   "id": "e5b51874",
   "metadata": {},
   "outputs": [],
   "source": [
    "a, b = 3, 4\n",
    "c = string(a, \" + \", b)\n",
    "d = string(a+b);"
   ]
  },
  {
   "cell_type": "code",
   "execution_count": 49,
   "id": "e853a304",
   "metadata": {},
   "outputs": [
    {
     "name": "stdout",
     "output_type": "stream",
     "text": [
      "3 + 4\n",
      "7\n"
     ]
    }
   ],
   "source": [
    "println(c)\n",
    "println(d)"
   ]
  }
 ],
 "metadata": {
  "kernelspec": {
   "display_name": "Julia 1.8.5",
   "language": "julia",
   "name": "julia-1.8"
  },
  "language_info": {
   "file_extension": ".jl",
   "mimetype": "application/julia",
   "name": "julia",
   "version": "1.8.5"
  },
  "latex_envs": {
   "LaTeX_envs_menu_present": true,
   "autoclose": false,
   "autocomplete": false,
   "bibliofile": "biblio.bib",
   "cite_by": "apalike",
   "current_citInitial": 1,
   "eqLabelWithNumbers": true,
   "eqNumInitial": 1,
   "hotkeys": {
    "equation": "Ctrl-E",
    "itemize": "Ctrl-I"
   },
   "labels_anchors": false,
   "latex_user_defs": false,
   "report_style_numbering": true,
   "user_envs_cfg": true
  },
  "varInspector": {
   "cols": {
    "lenName": 16,
    "lenType": 16,
    "lenVar": 40
   },
   "kernels_config": {
    "python": {
     "delete_cmd_postfix": "",
     "delete_cmd_prefix": "del ",
     "library": "var_list.py",
     "varRefreshCmd": "print(var_dic_list())"
    },
    "r": {
     "delete_cmd_postfix": ") ",
     "delete_cmd_prefix": "rm(",
     "library": "var_list.r",
     "varRefreshCmd": "cat(var_dic_list()) "
    }
   },
   "types_to_exclude": [
    "module",
    "function",
    "builtin_function_or_method",
    "instance",
    "_Feature"
   ],
   "window_display": false
  }
 },
 "nbformat": 4,
 "nbformat_minor": 5
}
