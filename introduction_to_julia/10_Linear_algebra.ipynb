{
 "cells": [
  {
   "cell_type": "markdown",
   "id": "fd0cb6d3",
   "metadata": {},
   "source": [
    "# Basic linear algebra in Julia\n",
    "Author: Andreas Noack Jensen (MIT & JuliaComputing) (https://twitter.com/anoackjensen?lang=en) (with edits from Jane Herriman)\n",
    "\n",
    "First let's define a random matrix"
   ]
  },
  {
   "cell_type": "code",
   "execution_count": 2,
   "id": "5d1dbef2",
   "metadata": {},
   "outputs": [
    {
     "data": {
      "text/plain": [
       "3×3 Matrix{Int64}:\n",
       " 2  2  4\n",
       " 2  4  3\n",
       " 3  3  2"
      ]
     },
     "execution_count": 2,
     "metadata": {},
     "output_type": "execute_result"
    }
   ],
   "source": [
    "A = rand(1:4,3,3)"
   ]
  },
  {
   "cell_type": "markdown",
   "id": "e07ec3de",
   "metadata": {},
   "source": [
    "Define a vector of ones"
   ]
  },
  {
   "cell_type": "code",
   "execution_count": 3,
   "id": "3cecad9e",
   "metadata": {},
   "outputs": [
    {
     "data": {
      "text/plain": [
       "3-element Vector{Float64}:\n",
       " 1.0\n",
       " 1.0\n",
       " 1.0"
      ]
     },
     "execution_count": 3,
     "metadata": {},
     "output_type": "execute_result"
    }
   ],
   "source": [
    "x = fill(1.0, (3,)) # = fill(1.0, 3)"
   ]
  },
  {
   "cell_type": "markdown",
   "id": "d0c513d9",
   "metadata": {},
   "source": [
    "Notice that $A$ has type ``Array{Int64,2}`` but $x$ has type ``Array{Float64,1}``. Julia defines the aliases ``Vector{Type}=Array{Type,1}`` and ``Matrix{Type}=Array{Type,2}``.\n",
    "\n",
    "Many of the basic operations are the same as in other languages\n",
    "\n",
    "## Multiplication"
   ]
  },
  {
   "cell_type": "code",
   "execution_count": 4,
   "id": "a8444164",
   "metadata": {},
   "outputs": [
    {
     "data": {
      "text/plain": [
       "3-element Vector{Float64}:\n",
       " 8.0\n",
       " 9.0\n",
       " 8.0"
      ]
     },
     "execution_count": 4,
     "metadata": {},
     "output_type": "execute_result"
    }
   ],
   "source": [
    "b = A*x"
   ]
  },
  {
   "cell_type": "markdown",
   "id": "9b888337",
   "metadata": {},
   "source": [
    "## Transposition\n",
    "As in other languages ``A'`` is the conjugate transpose, or adjoint"
   ]
  },
  {
   "cell_type": "code",
   "execution_count": 5,
   "id": "228db389",
   "metadata": {},
   "outputs": [
    {
     "data": {
      "text/plain": [
       "3×3 adjoint(::Matrix{Int64}) with eltype Int64:\n",
       " 2  2  3\n",
       " 2  4  3\n",
       " 4  3  2"
      ]
     },
     "execution_count": 5,
     "metadata": {},
     "output_type": "execute_result"
    }
   ],
   "source": [
    "A'"
   ]
  },
  {
   "cell_type": "markdown",
   "id": "acd75e03",
   "metadata": {},
   "source": [
    "and we can get the transpose with\n",
    "\n"
   ]
  },
  {
   "cell_type": "code",
   "execution_count": 11,
   "id": "e4016293",
   "metadata": {},
   "outputs": [
    {
     "data": {
      "text/plain": [
       "3×3 transpose(::Matrix{Int64}) with eltype Int64:\n",
       " 2  2  3\n",
       " 2  4  3\n",
       " 4  3  2"
      ]
     },
     "execution_count": 11,
     "metadata": {},
     "output_type": "execute_result"
    }
   ],
   "source": [
    "transpose(A)"
   ]
  },
  {
   "cell_type": "markdown",
   "id": "0fbce097",
   "metadata": {},
   "source": [
    "## Transposed multiplication\n",
    "Julia allows us to write this without ``*``"
   ]
  },
  {
   "cell_type": "code",
   "execution_count": 12,
   "id": "8ea8ae53",
   "metadata": {},
   "outputs": [
    {
     "data": {
      "text/plain": [
       "3×3 Matrix{Int64}:\n",
       " 17  21  20\n",
       " 21  29  26\n",
       " 20  26  29"
      ]
     },
     "execution_count": 12,
     "metadata": {},
     "output_type": "execute_result"
    }
   ],
   "source": [
    "A'A"
   ]
  },
  {
   "cell_type": "markdown",
   "id": "4396237c",
   "metadata": {},
   "source": [
    "## Solving linear systems\n",
    "The problem $Ax = b$ for ***square*** $A$ is solved by the ``\\`` function."
   ]
  },
  {
   "cell_type": "code",
   "execution_count": 14,
   "id": "f7bb188a",
   "metadata": {},
   "outputs": [
    {
     "data": {
      "text/plain": [
       "3-element Vector{Float64}:\n",
       " 1.0\n",
       " 1.0\n",
       " 1.0"
      ]
     },
     "execution_count": 14,
     "metadata": {},
     "output_type": "execute_result"
    }
   ],
   "source": [
    "A\\b"
   ]
  },
  {
   "cell_type": "markdown",
   "id": "53bc6b20",
   "metadata": {},
   "source": [
    "``A\\b`` gives us the least squares solution if we have an overdetermined linear system (a \"tall\" matrix)"
   ]
  },
  {
   "cell_type": "code",
   "execution_count": 15,
   "id": "8b8a62a1",
   "metadata": {},
   "outputs": [
    {
     "data": {
      "text/plain": [
       "3×2 Matrix{Float64}:\n",
       " 0.732775  0.581616\n",
       " 0.262695  0.983897\n",
       " 0.617455  0.0832401"
      ]
     },
     "execution_count": 15,
     "metadata": {},
     "output_type": "execute_result"
    }
   ],
   "source": [
    "Atall = rand(3, 2)"
   ]
  },
  {
   "cell_type": "code",
   "execution_count": 16,
   "id": "7951e71a",
   "metadata": {},
   "outputs": [
    {
     "data": {
      "text/plain": [
       "2-element Vector{Float64}:\n",
       " 9.086701570252515\n",
       " 5.700017381930793"
      ]
     },
     "execution_count": 16,
     "metadata": {},
     "output_type": "execute_result"
    }
   ],
   "source": [
    "Atall\\b"
   ]
  },
  {
   "cell_type": "markdown",
   "id": "2d1fc811",
   "metadata": {},
   "source": [
    "and the minimum norm least squares solution if we have a rank-deficient least squares problem"
   ]
  },
  {
   "cell_type": "code",
   "execution_count": 17,
   "id": "e37c0ff1",
   "metadata": {},
   "outputs": [
    {
     "data": {
      "text/plain": [
       "3×2 Matrix{Float64}:\n",
       " 0.818037    0.818037\n",
       " 0.00749767  0.00749767\n",
       " 0.702744    0.702744"
      ]
     },
     "execution_count": 17,
     "metadata": {},
     "output_type": "execute_result"
    }
   ],
   "source": [
    "v = rand(3)\n",
    "rankdef = hcat(v, v)"
   ]
  },
  {
   "cell_type": "code",
   "execution_count": 18,
   "id": "86b3dfe3",
   "metadata": {},
   "outputs": [
    {
     "data": {
      "text/plain": [
       "2-element Vector{Float64}:\n",
       " 5.259149710825498\n",
       " 5.259149710825498"
      ]
     },
     "execution_count": 18,
     "metadata": {},
     "output_type": "execute_result"
    }
   ],
   "source": [
    "rankdef\\b"
   ]
  },
  {
   "cell_type": "markdown",
   "id": "b6132ade",
   "metadata": {},
   "source": [
    "Julia also gives us the minimum norm solution when we have an underdetermined solution (a \"short\" matrix)"
   ]
  },
  {
   "cell_type": "code",
   "execution_count": 19,
   "id": "861c0797",
   "metadata": {},
   "outputs": [
    {
     "data": {
      "text/plain": [
       "2×3 Matrix{Float64}:\n",
       " 0.96862   0.588243  0.72572\n",
       " 0.707164  0.908844  0.438312"
      ]
     },
     "execution_count": 19,
     "metadata": {},
     "output_type": "execute_result"
    }
   ],
   "source": [
    "bshort = rand(2)\n",
    "Ashort = rand(2, 3)"
   ]
  },
  {
   "cell_type": "code",
   "execution_count": 20,
   "id": "80d1b599",
   "metadata": {},
   "outputs": [
    {
     "data": {
      "text/plain": [
       "3-element Vector{Float64}:\n",
       "  0.5440846847218924\n",
       " -0.35868908533592514\n",
       "  0.5392005811150699"
      ]
     },
     "execution_count": 20,
     "metadata": {},
     "output_type": "execute_result"
    }
   ],
   "source": [
    "Ashort\\bshort"
   ]
  },
  {
   "cell_type": "markdown",
   "id": "52132ce3",
   "metadata": {},
   "source": [
    "## The LinearAlgebra library\n",
    "While much of linear algebra is available in Julia by default (as shown above), there's a standard library named ``LinearAlgebra`` that brings in many more relevant names and functions. In particular, it provides factorizations and some structured matrix types. As with all packages, you can bring these additional features into your session with a ``using LinearAlgebra``."
   ]
  },
  {
   "cell_type": "code",
   "execution_count": 24,
   "id": "682c6931",
   "metadata": {},
   "outputs": [],
   "source": [
    "using LinearAlgebra"
   ]
  },
  {
   "cell_type": "markdown",
   "id": "09ff6d23",
   "metadata": {},
   "source": [
    "## Some exercises\n",
    "#### 1. Take the inner product (or \"dot\" product) of a vector ``v`` with itself and assign it to variable ``dot_v``.\n",
    "\n"
   ]
  },
  {
   "cell_type": "code",
   "execution_count": 25,
   "id": "291c4e9d",
   "metadata": {},
   "outputs": [
    {
     "data": {
      "text/plain": [
       "3-element Vector{Int64}:\n",
       " 1\n",
       " 2\n",
       " 3"
      ]
     },
     "execution_count": 25,
     "metadata": {},
     "output_type": "execute_result"
    }
   ],
   "source": [
    "v = [1,2,3]"
   ]
  },
  {
   "cell_type": "code",
   "execution_count": 36,
   "id": "6ada0f54",
   "metadata": {},
   "outputs": [
    {
     "data": {
      "text/plain": [
       "14"
      ]
     },
     "execution_count": 36,
     "metadata": {},
     "output_type": "execute_result"
    }
   ],
   "source": [
    "dot(v,v)   #transpose(v)*v"
   ]
  },
  {
   "cell_type": "markdown",
   "id": "cf035492",
   "metadata": {},
   "source": [
    "#### 2. Take the outer product of a vector ``v`` with itself and assign it to variable ``outer_v``"
   ]
  },
  {
   "cell_type": "code",
   "execution_count": 37,
   "id": "0f678571",
   "metadata": {},
   "outputs": [
    {
     "data": {
      "text/plain": [
       "3×3 Matrix{Int64}:\n",
       " 1  2  3\n",
       " 2  4  6\n",
       " 3  6  9"
      ]
     },
     "execution_count": 37,
     "metadata": {},
     "output_type": "execute_result"
    }
   ],
   "source": [
    "outer_v = v*transpose(v)"
   ]
  },
  {
   "cell_type": "markdown",
   "id": "7d5b85f1",
   "metadata": {},
   "source": [
    "#### 3. Use ``LinearAlgebra.cross`` to compute the cross product of a vector ``v`` with itself and assign it to variable ``cross_v``"
   ]
  },
  {
   "cell_type": "code",
   "execution_count": 38,
   "id": "677f2f31",
   "metadata": {},
   "outputs": [
    {
     "data": {
      "text/plain": [
       "3-element Vector{Int64}:\n",
       " 0\n",
       " 0\n",
       " 0"
      ]
     },
     "execution_count": 38,
     "metadata": {},
     "output_type": "execute_result"
    }
   ],
   "source": [
    "cross(v,v)"
   ]
  },
  {
   "cell_type": "code",
   "execution_count": 39,
   "id": "adf2abcf",
   "metadata": {},
   "outputs": [
    {
     "name": "stdout",
     "output_type": "stream",
     "text": [
      "search: \u001b[0m\u001b[1mc\u001b[22m\u001b[0m\u001b[1mr\u001b[22m\u001b[0m\u001b[1mo\u001b[22m\u001b[0m\u001b[1ms\u001b[22m\u001b[0m\u001b[1ms\u001b[22m \u001b[0m\u001b[1mc\u001b[22mount_ze\u001b[0m\u001b[1mr\u001b[22m\u001b[0m\u001b[1mo\u001b[22m\u001b[0m\u001b[1ms\u001b[22m \u001b[0m\u001b[1mc\u001b[22mopy_t\u001b[0m\u001b[1mr\u001b[22mansp\u001b[0m\u001b[1mo\u001b[22m\u001b[0m\u001b[1ms\u001b[22me! \u001b[0m\u001b[1mc\u001b[22mu\u001b[0m\u001b[1mr\u001b[22mrent_excepti\u001b[0m\u001b[1mo\u001b[22mn\u001b[0m\u001b[1ms\u001b[22m\n",
      "\n"
     ]
    },
    {
     "data": {
      "text/latex": [
       "\\begin{verbatim}\n",
       "cross(x, y)\n",
       "×(x,y)\n",
       "\\end{verbatim}\n",
       "Compute the cross product of two 3-vectors.\n",
       "\n",
       "\\section{Examples}\n",
       "\\begin{verbatim}\n",
       "julia> a = [0;1;0]\n",
       "3-element Vector{Int64}:\n",
       " 0\n",
       " 1\n",
       " 0\n",
       "\n",
       "julia> b = [0;0;1]\n",
       "3-element Vector{Int64}:\n",
       " 0\n",
       " 0\n",
       " 1\n",
       "\n",
       "julia> cross(a,b)\n",
       "3-element Vector{Int64}:\n",
       " 1\n",
       " 0\n",
       " 0\n",
       "\\end{verbatim}\n"
      ],
      "text/markdown": [
       "```\n",
       "cross(x, y)\n",
       "×(x,y)\n",
       "```\n",
       "\n",
       "Compute the cross product of two 3-vectors.\n",
       "\n",
       "# Examples\n",
       "\n",
       "```jldoctest\n",
       "julia> a = [0;1;0]\n",
       "3-element Vector{Int64}:\n",
       " 0\n",
       " 1\n",
       " 0\n",
       "\n",
       "julia> b = [0;0;1]\n",
       "3-element Vector{Int64}:\n",
       " 0\n",
       " 0\n",
       " 1\n",
       "\n",
       "julia> cross(a,b)\n",
       "3-element Vector{Int64}:\n",
       " 1\n",
       " 0\n",
       " 0\n",
       "```\n"
      ],
      "text/plain": [
       "\u001b[36m  cross(x, y)\u001b[39m\n",
       "\u001b[36m  ×(x,y)\u001b[39m\n",
       "\n",
       "  Compute the cross product of two 3-vectors.\n",
       "\n",
       "\u001b[1m  Examples\u001b[22m\n",
       "\u001b[1m  ≡≡≡≡≡≡≡≡≡≡\u001b[22m\n",
       "\n",
       "\u001b[36m  julia> a = [0;1;0]\u001b[39m\n",
       "\u001b[36m  3-element Vector{Int64}:\u001b[39m\n",
       "\u001b[36m   0\u001b[39m\n",
       "\u001b[36m   1\u001b[39m\n",
       "\u001b[36m   0\u001b[39m\n",
       "\u001b[36m  \u001b[39m\n",
       "\u001b[36m  julia> b = [0;0;1]\u001b[39m\n",
       "\u001b[36m  3-element Vector{Int64}:\u001b[39m\n",
       "\u001b[36m   0\u001b[39m\n",
       "\u001b[36m   0\u001b[39m\n",
       "\u001b[36m   1\u001b[39m\n",
       "\u001b[36m  \u001b[39m\n",
       "\u001b[36m  julia> cross(a,b)\u001b[39m\n",
       "\u001b[36m  3-element Vector{Int64}:\u001b[39m\n",
       "\u001b[36m   1\u001b[39m\n",
       "\u001b[36m   0\u001b[39m\n",
       "\u001b[36m   0\u001b[39m"
      ]
     },
     "execution_count": 39,
     "metadata": {},
     "output_type": "execute_result"
    }
   ],
   "source": [
    "?cross"
   ]
  },
  {
   "cell_type": "code",
   "execution_count": null,
   "id": "b9340b0d",
   "metadata": {},
   "outputs": [],
   "source": []
  }
 ],
 "metadata": {
  "kernelspec": {
   "display_name": "Julia 1.8.5",
   "language": "julia",
   "name": "julia-1.8"
  },
  "language_info": {
   "file_extension": ".jl",
   "mimetype": "application/julia",
   "name": "julia",
   "version": "1.8.5"
  },
  "latex_envs": {
   "LaTeX_envs_menu_present": true,
   "autoclose": false,
   "autocomplete": false,
   "bibliofile": "biblio.bib",
   "cite_by": "apalike",
   "current_citInitial": 1,
   "eqLabelWithNumbers": true,
   "eqNumInitial": 1,
   "hotkeys": {
    "equation": "Ctrl-E",
    "itemize": "Ctrl-I"
   },
   "labels_anchors": false,
   "latex_user_defs": false,
   "report_style_numbering": true,
   "user_envs_cfg": true
  },
  "varInspector": {
   "cols": {
    "lenName": 16,
    "lenType": 16,
    "lenVar": 40
   },
   "kernels_config": {
    "python": {
     "delete_cmd_postfix": "",
     "delete_cmd_prefix": "del ",
     "library": "var_list.py",
     "varRefreshCmd": "print(var_dic_list())"
    },
    "r": {
     "delete_cmd_postfix": ") ",
     "delete_cmd_prefix": "rm(",
     "library": "var_list.r",
     "varRefreshCmd": "cat(var_dic_list()) "
    }
   },
   "types_to_exclude": [
    "module",
    "function",
    "builtin_function_or_method",
    "instance",
    "_Feature"
   ],
   "window_display": false
  }
 },
 "nbformat": 4,
 "nbformat_minor": 5
}
