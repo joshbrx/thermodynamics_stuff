{
 "cells": [
  {
   "cell_type": "markdown",
   "id": "960666db",
   "metadata": {},
   "source": [
    "# Functions in Julia language\n",
    "Topics covered in the notebook:\n",
    "1. How to declare a function\n",
    "2. Duck-typing in Julia\n",
    "3. Mutating vs. non-mutating functions\n",
    "4. Some higher order functions\n",
    "\n",
    "- Some exercises\n",
    "----------------"
   ]
  },
  {
   "cell_type": "markdown",
   "id": "f5e073e8",
   "metadata": {},
   "source": [
    "## How to declare a function\n",
    "Julia gives us a few different ways to write a function. The first requires the ``function`` and ``end`` keywords."
   ]
  },
  {
   "cell_type": "code",
   "execution_count": 1,
   "id": "1474c24f",
   "metadata": {},
   "outputs": [
    {
     "data": {
      "text/plain": [
       "sayhi (generic function with 1 method)"
      ]
     },
     "execution_count": 1,
     "metadata": {},
     "output_type": "execute_result"
    }
   ],
   "source": [
    "function sayhi(name)\n",
    "    println(\"Hi $name, it's great to see you!\")\n",
    "end"
   ]
  },
  {
   "cell_type": "code",
   "execution_count": 3,
   "id": "54bb4669",
   "metadata": {},
   "outputs": [
    {
     "name": "stdout",
     "output_type": "stream",
     "text": [
      "Hi Timmy, it's great to see you!\n"
     ]
    }
   ],
   "source": [
    "sayhi(\"Timmy\")"
   ]
  },
  {
   "cell_type": "code",
   "execution_count": 4,
   "id": "f71f2456",
   "metadata": {},
   "outputs": [
    {
     "data": {
      "text/plain": [
       "f (generic function with 1 method)"
      ]
     },
     "execution_count": 4,
     "metadata": {},
     "output_type": "execute_result"
    }
   ],
   "source": [
    "function f(x)\n",
    "    x^2\n",
    "end"
   ]
  },
  {
   "cell_type": "code",
   "execution_count": 5,
   "id": "56a3bd4e",
   "metadata": {},
   "outputs": [
    {
     "data": {
      "text/plain": [
       "49"
      ]
     },
     "execution_count": 5,
     "metadata": {},
     "output_type": "execute_result"
    }
   ],
   "source": [
    "f(7)"
   ]
  },
  {
   "cell_type": "markdown",
   "id": "58d9394b",
   "metadata": {},
   "source": [
    "Alternatively, we could have declared either of these functions in a single line"
   ]
  },
  {
   "cell_type": "code",
   "execution_count": 6,
   "id": "a2615787",
   "metadata": {},
   "outputs": [
    {
     "data": {
      "text/plain": [
       "sayhi2 (generic function with 1 method)"
      ]
     },
     "execution_count": 6,
     "metadata": {},
     "output_type": "execute_result"
    }
   ],
   "source": [
    "sayhi2(name) = println(\"Hi $name, it's great to see you!\")"
   ]
  },
  {
   "cell_type": "code",
   "execution_count": 7,
   "id": "c8cd8d07",
   "metadata": {},
   "outputs": [
    {
     "name": "stdout",
     "output_type": "stream",
     "text": [
      "Hi Mariano, it's great to see you!\n"
     ]
    }
   ],
   "source": [
    "sayhi2(\"Mariano\")"
   ]
  },
  {
   "cell_type": "markdown",
   "id": "6fe13a9f",
   "metadata": {},
   "source": [
    "## Duck-typing in Julia\n",
    "\n",
    "    \"If it quacks like a duck, it's a duck.\"\n",
    "\n",
    "Julia functions will just work on whatever inputs make sense.\n",
    "\n",
    "For example, ``sayhi`` works on the name of this minor tv character, written as an integer..."
   ]
  },
  {
   "cell_type": "code",
   "execution_count": 8,
   "id": "c01af129",
   "metadata": {},
   "outputs": [
    {
     "name": "stdout",
     "output_type": "stream",
     "text": [
      "Hi 123456, it's great to see you!\n"
     ]
    }
   ],
   "source": [
    "sayhi(123456)"
   ]
  },
  {
   "cell_type": "markdown",
   "id": "cf6739ac",
   "metadata": {},
   "source": [
    "And ``f`` will work on a matrix."
   ]
  },
  {
   "cell_type": "code",
   "execution_count": 9,
   "id": "c704465b",
   "metadata": {},
   "outputs": [
    {
     "data": {
      "text/plain": [
       "3×3 Matrix{Float64}:\n",
       " 0.854296  0.000617746  0.889024\n",
       " 0.620962  0.500582     0.702337\n",
       " 0.573142  0.250592     0.429259"
      ]
     },
     "execution_count": 9,
     "metadata": {},
     "output_type": "execute_result"
    }
   ],
   "source": [
    "A = rand(3, 3)\n",
    "A"
   ]
  },
  {
   "cell_type": "code",
   "execution_count": 10,
   "id": "ce9d7061",
   "metadata": {},
   "outputs": [
    {
     "data": {
      "text/plain": [
       "3×3 Matrix{Float64}:\n",
       " 1.23974   0.22362   1.14155\n",
       " 1.24387   0.426966  1.20511\n",
       " 0.891268  0.233365  0.869801"
      ]
     },
     "execution_count": 10,
     "metadata": {},
     "output_type": "execute_result"
    }
   ],
   "source": [
    "f(A)"
   ]
  },
  {
   "cell_type": "markdown",
   "id": "26c410bf",
   "metadata": {},
   "source": [
    "``f`` will also work on a string like \"hi\" because ``*`` is defined for string inputs as string concatenation."
   ]
  },
  {
   "cell_type": "code",
   "execution_count": 11,
   "id": "32197812",
   "metadata": {},
   "outputs": [
    {
     "data": {
      "text/plain": [
       "\"hihi\""
      ]
     },
     "execution_count": 11,
     "metadata": {},
     "output_type": "execute_result"
    }
   ],
   "source": [
    "f(\"hi\")"
   ]
  },
  {
   "cell_type": "markdown",
   "id": "b690a4cd",
   "metadata": {},
   "source": [
    "On the other hand, ``f`` will not work on a vector. Unlike ``A^2``, which is well-defined, the meaning of ``v^2`` for a vector, ``v``, is not a well-defined algebraic operation."
   ]
  },
  {
   "cell_type": "code",
   "execution_count": 12,
   "id": "df421956",
   "metadata": {},
   "outputs": [
    {
     "data": {
      "text/plain": [
       "3-element Vector{Float64}:\n",
       " 0.24323478234691376\n",
       " 0.3514281385504132\n",
       " 0.9948299165435074"
      ]
     },
     "execution_count": 12,
     "metadata": {},
     "output_type": "execute_result"
    }
   ],
   "source": [
    "v = rand(3)"
   ]
  },
  {
   "cell_type": "code",
   "execution_count": 13,
   "id": "08eb6e00",
   "metadata": {},
   "outputs": [
    {
     "ename": "LoadError",
     "evalue": "MethodError: no method matching ^(::Vector{Float64}, ::Int64)\n\u001b[0mClosest candidates are:\n\u001b[0m  ^(\u001b[91m::Union{AbstractChar, AbstractString}\u001b[39m, ::Integer) at strings/basic.jl:730\n\u001b[0m  ^(\u001b[91m::LinearAlgebra.UniformScaling\u001b[39m, ::Number) at C:\\Users\\Joshu\\AppData\\Local\\Programs\\Julia-1.8.5\\share\\julia\\stdlib\\v1.8\\LinearAlgebra\\src\\uniformscaling.jl:317\n\u001b[0m  ^(\u001b[91m::LinearAlgebra.Diagonal\u001b[39m, ::Integer) at C:\\Users\\Joshu\\AppData\\Local\\Programs\\Julia-1.8.5\\share\\julia\\stdlib\\v1.8\\LinearAlgebra\\src\\diagonal.jl:208\n\u001b[0m  ...",
     "output_type": "error",
     "traceback": [
      "MethodError: no method matching ^(::Vector{Float64}, ::Int64)\n\u001b[0mClosest candidates are:\n\u001b[0m  ^(\u001b[91m::Union{AbstractChar, AbstractString}\u001b[39m, ::Integer) at strings/basic.jl:730\n\u001b[0m  ^(\u001b[91m::LinearAlgebra.UniformScaling\u001b[39m, ::Number) at C:\\Users\\Joshu\\AppData\\Local\\Programs\\Julia-1.8.5\\share\\julia\\stdlib\\v1.8\\LinearAlgebra\\src\\uniformscaling.jl:317\n\u001b[0m  ^(\u001b[91m::LinearAlgebra.Diagonal\u001b[39m, ::Integer) at C:\\Users\\Joshu\\AppData\\Local\\Programs\\Julia-1.8.5\\share\\julia\\stdlib\\v1.8\\LinearAlgebra\\src\\diagonal.jl:208\n\u001b[0m  ...",
      "",
      "Stacktrace:",
      " [1] literal_pow",
      "   @ .\\intfuncs.jl:340 [inlined]",
      " [2] f(x::Vector{Float64})",
      "   @ Main .\\In[4]:2",
      " [3] top-level scope",
      "   @ In[13]:1"
     ]
    }
   ],
   "source": [
    "f(v)"
   ]
  },
  {
   "cell_type": "markdown",
   "id": "93788289",
   "metadata": {},
   "source": [
    "## Mutating vs. non-mutating functions\n",
    "By convention, functions followed by ``!`` alter their contents and functions lacking ``!`` do not.\n",
    "\n",
    "For example, let's look at the difference between ``sort`` and ``sort!``."
   ]
  },
  {
   "cell_type": "code",
   "execution_count": 14,
   "id": "588d20d8",
   "metadata": {},
   "outputs": [
    {
     "data": {
      "text/plain": [
       "3-element Vector{Int64}:\n",
       " 3\n",
       " 5\n",
       " 2"
      ]
     },
     "execution_count": 14,
     "metadata": {},
     "output_type": "execute_result"
    }
   ],
   "source": [
    "v = [3, 5, 2]"
   ]
  },
  {
   "cell_type": "code",
   "execution_count": 16,
   "id": "b5ad73e0",
   "metadata": {},
   "outputs": [
    {
     "data": {
      "text/plain": [
       "3-element Vector{Int64}:\n",
       " 3\n",
       " 5\n",
       " 2"
      ]
     },
     "execution_count": 16,
     "metadata": {},
     "output_type": "execute_result"
    }
   ],
   "source": [
    "sort(v);\n",
    "v"
   ]
  },
  {
   "cell_type": "markdown",
   "id": "8b1eac62",
   "metadata": {},
   "source": [
    "``sort(v)`` returns a sorted array that contains the same elements as ``v``, but ``v`` is left unchanged.\n",
    "\n",
    "\n",
    "On the other hand, when we run ``sort!(v)``, the contents of ``v`` are sorted within the array ``v``."
   ]
  },
  {
   "cell_type": "code",
   "execution_count": 17,
   "id": "29e68503",
   "metadata": {},
   "outputs": [
    {
     "data": {
      "text/plain": [
       "3-element Vector{Int64}:\n",
       " 2\n",
       " 3\n",
       " 5"
      ]
     },
     "execution_count": 17,
     "metadata": {},
     "output_type": "execute_result"
    }
   ],
   "source": [
    "sort!(v);\n",
    "v"
   ]
  },
  {
   "cell_type": "markdown",
   "id": "da1490d9",
   "metadata": {},
   "source": [
    "## Some higher order functions\n",
    "### map\n",
    "``map`` is a \"higher-order\" function in Julia that takes a function as one of its input arguments. map then applies that function to every element of the data structure you pass it. For example, executing\n",
    "\n",
    "```julia\n",
    "map(f, [1, 2, 3])\n",
    "```\n",
    "\n",
    "will give you an output array where the function ``f`` has been applied to all elements of ``[1, 2, 3]``\n",
    "\n",
    "\n",
    "```julia\n",
    "[f(1), f(2), f(3)]\n",
    "```"
   ]
  },
  {
   "cell_type": "code",
   "execution_count": 18,
   "id": "ac770ae2",
   "metadata": {},
   "outputs": [
    {
     "data": {
      "text/plain": [
       "3-element Vector{Int64}:\n",
       " 1\n",
       " 4\n",
       " 9"
      ]
     },
     "execution_count": 18,
     "metadata": {},
     "output_type": "execute_result"
    }
   ],
   "source": [
    "map(f, [1, 2, 3])"
   ]
  },
  {
   "cell_type": "markdown",
   "id": "f2a5f9dc",
   "metadata": {},
   "source": [
    "Here we've squared all the elements of the vector ``[1, 2, 3]``, rather than squaring the vector ``[1, 2, 3]``.\n",
    "\n",
    "To do this, we could have passed to map an anonymous function rather than a named function, such as"
   ]
  },
  {
   "cell_type": "code",
   "execution_count": 19,
   "id": "9d27576b",
   "metadata": {},
   "outputs": [
    {
     "data": {
      "text/plain": [
       "#1 (generic function with 1 method)"
      ]
     },
     "execution_count": 19,
     "metadata": {},
     "output_type": "execute_result"
    }
   ],
   "source": [
    "x -> x^3"
   ]
  },
  {
   "cell_type": "code",
   "execution_count": 20,
   "id": "e7d914d3",
   "metadata": {},
   "outputs": [
    {
     "data": {
      "text/plain": [
       "3-element Vector{Int64}:\n",
       "  1\n",
       "  8\n",
       " 27"
      ]
     },
     "execution_count": 20,
     "metadata": {},
     "output_type": "execute_result"
    }
   ],
   "source": [
    "map(x->x^3, [1,2,3])"
   ]
  },
  {
   "cell_type": "markdown",
   "id": "8e6415b5",
   "metadata": {},
   "source": [
    "and now we've cubed all the elements of ``[1, 2, 3]``."
   ]
  },
  {
   "cell_type": "markdown",
   "id": "f0649ec5",
   "metadata": {},
   "source": [
    "## broadcast\n",
    "``broadcast`` is another higher-order function like ``map``. ``broadcast`` is a generalization of ``map``, so it can do every thing ``map`` can do and more. The syntax for calling ``broadcast`` is the same as for calling ``map``."
   ]
  },
  {
   "cell_type": "code",
   "execution_count": 21,
   "id": "df90926e",
   "metadata": {},
   "outputs": [
    {
     "data": {
      "text/plain": [
       "3-element Vector{Int64}:\n",
       " 1\n",
       " 4\n",
       " 9"
      ]
     },
     "execution_count": 21,
     "metadata": {},
     "output_type": "execute_result"
    }
   ],
   "source": [
    "broadcast(f, [1, 2, 3])"
   ]
  },
  {
   "cell_type": "markdown",
   "id": "472456f4",
   "metadata": {},
   "source": [
    "and again, we've applied ``f`` (squared) to all the elements of ``[1, 2, 3]`` - this time by \"broadcasting\" ``f``!\n",
    "\n",
    "Some syntactic sugar for calling ``broadcast`` is to place a ``.`` between the name of the function you want to broadcast and its input arguments. For example,\n",
    "\n",
    "```julia\n",
    "broadcast(f, [1, 2, 3])\n",
    "```\n",
    "\n",
    "is the same as\n",
    "\n",
    "```julia\n",
    "f.([1, 2, 3])\n",
    "```"
   ]
  },
  {
   "cell_type": "code",
   "execution_count": 23,
   "id": "a077e334",
   "metadata": {},
   "outputs": [
    {
     "data": {
      "text/plain": [
       "3-element Vector{Int64}:\n",
       " 1\n",
       " 4\n",
       " 9"
      ]
     },
     "execution_count": 23,
     "metadata": {},
     "output_type": "execute_result"
    }
   ],
   "source": [
    "f.([1,2,3])"
   ]
  },
  {
   "cell_type": "markdown",
   "id": "adcdf73f",
   "metadata": {},
   "source": [
    "Notice again how different this is from calling\n",
    "\n",
    "```julia\n",
    "f([1, 2, 3])\n",
    "```\n",
    "We can square every element of a vector, but we can't square a vector!\n",
    "\n",
    "To drive home the point, let's look at the difference between ``f(A)`` and ``f.(A)`` for a matrix ``A``:\n",
    "\n"
   ]
  },
  {
   "cell_type": "code",
   "execution_count": 24,
   "id": "3e667426",
   "metadata": {},
   "outputs": [
    {
     "data": {
      "text/plain": [
       "3×3 Matrix{Int64}:\n",
       " 1  2  3\n",
       " 4  5  6\n",
       " 7  8  9"
      ]
     },
     "execution_count": 24,
     "metadata": {},
     "output_type": "execute_result"
    }
   ],
   "source": [
    "A = [i + 3*j for j in 0:2, i in 1:3]"
   ]
  },
  {
   "cell_type": "code",
   "execution_count": 25,
   "id": "604f7287",
   "metadata": {},
   "outputs": [
    {
     "data": {
      "text/plain": [
       "3×3 Matrix{Int64}:\n",
       "  30   36   42\n",
       "  66   81   96\n",
       " 102  126  150"
      ]
     },
     "execution_count": 25,
     "metadata": {},
     "output_type": "execute_result"
    }
   ],
   "source": [
    "f(A)"
   ]
  },
  {
   "cell_type": "markdown",
   "id": "0af2d89b",
   "metadata": {},
   "source": [
    "As before we see that for a matrix, A,\n",
    "\n",
    "$$f(A) = A^2 = A * A$$\n",
    "On the other hand,"
   ]
  },
  {
   "cell_type": "code",
   "execution_count": 26,
   "id": "064332b3",
   "metadata": {},
   "outputs": [
    {
     "data": {
      "text/plain": [
       "3×3 Matrix{Int64}:\n",
       "  1   4   9\n",
       " 16  25  36\n",
       " 49  64  81"
      ]
     },
     "execution_count": 26,
     "metadata": {},
     "output_type": "execute_result"
    }
   ],
   "source": [
    "f.(A)"
   ]
  },
  {
   "cell_type": "markdown",
   "id": "b19fdb3e",
   "metadata": {},
   "source": [
    "contains the squares of all the entries of ``A``.\n",
    "\n",
    "This dot syntax for broadcasting allows us to write relatively complex compound elementwise expressions in a way that looks natural/closer to mathematical notation. For example, we can write"
   ]
  },
  {
   "cell_type": "code",
   "execution_count": 27,
   "id": "ed1fecd8",
   "metadata": {},
   "outputs": [
    {
     "data": {
      "text/plain": [
       "3×3 Matrix{Float64}:\n",
       "  3.0   6.0   9.0\n",
       " 12.0  15.0  18.0\n",
       " 21.0  24.0  27.0"
      ]
     },
     "execution_count": 27,
     "metadata": {},
     "output_type": "execute_result"
    }
   ],
   "source": [
    "A .+ 2 .* f.(A) ./ A"
   ]
  },
  {
   "cell_type": "markdown",
   "id": "f0db41b1",
   "metadata": {},
   "source": [
    "instead of"
   ]
  },
  {
   "cell_type": "code",
   "execution_count": 29,
   "id": "465b7292",
   "metadata": {},
   "outputs": [
    {
     "data": {
      "text/plain": [
       "3×3 Matrix{Float64}:\n",
       "  3.0   6.0   9.0\n",
       " 12.0  15.0  18.0\n",
       " 21.0  24.0  27.0"
      ]
     },
     "execution_count": 29,
     "metadata": {},
     "output_type": "execute_result"
    }
   ],
   "source": [
    "broadcast(x -> x+2*f(x)/x, A)"
   ]
  },
  {
   "cell_type": "markdown",
   "id": "7ae7251e",
   "metadata": {},
   "source": [
    "and the two will perform exactly the same."
   ]
  },
  {
   "cell_type": "markdown",
   "id": "897d251c",
   "metadata": {},
   "source": [
    "## Some exercises\n",
    "#### 1. Write a function ``add_one`` that adds 1 to its input."
   ]
  },
  {
   "cell_type": "code",
   "execution_count": 30,
   "id": "716edb14",
   "metadata": {},
   "outputs": [
    {
     "data": {
      "text/plain": [
       "add_one (generic function with 1 method)"
      ]
     },
     "execution_count": 30,
     "metadata": {},
     "output_type": "execute_result"
    }
   ],
   "source": [
    "function add_one(x)\n",
    "    x + 1\n",
    "end "
   ]
  },
  {
   "cell_type": "code",
   "execution_count": 31,
   "id": "35423bf0",
   "metadata": {},
   "outputs": [
    {
     "data": {
      "text/plain": [
       "4"
      ]
     },
     "execution_count": 31,
     "metadata": {},
     "output_type": "execute_result"
    }
   ],
   "source": [
    "add_one(3)"
   ]
  },
  {
   "cell_type": "markdown",
   "id": "ee482ebe",
   "metadata": {},
   "source": [
    "#### 2. Use map or broadcast to increment every element of matrix ``A`` by 1 and assign it to a variable ``A1``."
   ]
  },
  {
   "cell_type": "code",
   "execution_count": 33,
   "id": "cb59a5d7",
   "metadata": {},
   "outputs": [
    {
     "data": {
      "text/plain": [
       "3×3 Matrix{Int64}:\n",
       " 2  3   4\n",
       " 5  6   7\n",
       " 8  9  10"
      ]
     },
     "execution_count": 33,
     "metadata": {},
     "output_type": "execute_result"
    }
   ],
   "source": [
    "A1 = broadcast(x -> x+1, A)"
   ]
  },
  {
   "cell_type": "markdown",
   "id": "4ec9e801",
   "metadata": {},
   "source": [
    "#### 3. Use the broadcast dot syntax to increment every element of matrix ``A1`` by 1 and store it in variable ``A2``.\n"
   ]
  },
  {
   "cell_type": "code",
   "execution_count": 35,
   "id": "6cde3324",
   "metadata": {},
   "outputs": [
    {
     "data": {
      "text/plain": [
       "3×3 Matrix{Int64}:\n",
       " 3   4   5\n",
       " 6   7   8\n",
       " 9  10  11"
      ]
     },
     "execution_count": 35,
     "metadata": {},
     "output_type": "execute_result"
    }
   ],
   "source": [
    "A2 = A1.+1"
   ]
  },
  {
   "cell_type": "code",
   "execution_count": null,
   "id": "d719a8b0",
   "metadata": {},
   "outputs": [],
   "source": []
  }
 ],
 "metadata": {
  "kernelspec": {
   "display_name": "Julia 1.8.5",
   "language": "julia",
   "name": "julia-1.8"
  },
  "language_info": {
   "file_extension": ".jl",
   "mimetype": "application/julia",
   "name": "julia",
   "version": "1.8.5"
  },
  "latex_envs": {
   "LaTeX_envs_menu_present": true,
   "autoclose": false,
   "autocomplete": false,
   "bibliofile": "biblio.bib",
   "cite_by": "apalike",
   "current_citInitial": 1,
   "eqLabelWithNumbers": true,
   "eqNumInitial": 1,
   "hotkeys": {
    "equation": "Ctrl-E",
    "itemize": "Ctrl-I"
   },
   "labels_anchors": false,
   "latex_user_defs": false,
   "report_style_numbering": true,
   "user_envs_cfg": true
  },
  "varInspector": {
   "cols": {
    "lenName": 16,
    "lenType": 16,
    "lenVar": 40
   },
   "kernels_config": {
    "python": {
     "delete_cmd_postfix": "",
     "delete_cmd_prefix": "del ",
     "library": "var_list.py",
     "varRefreshCmd": "print(var_dic_list())"
    },
    "r": {
     "delete_cmd_postfix": ") ",
     "delete_cmd_prefix": "rm(",
     "library": "var_list.r",
     "varRefreshCmd": "cat(var_dic_list()) "
    }
   },
   "types_to_exclude": [
    "module",
    "function",
    "builtin_function_or_method",
    "instance",
    "_Feature"
   ],
   "window_display": false
  }
 },
 "nbformat": 4,
 "nbformat_minor": 5
}
